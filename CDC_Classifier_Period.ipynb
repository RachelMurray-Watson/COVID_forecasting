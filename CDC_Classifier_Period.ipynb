{
 "cells": [
  {
   "attachments": {},
   "cell_type": "markdown",
   "metadata": {},
   "source": [
    "# Look at specific waves of the pandemic"
   ]
  },
  {
   "cell_type": "code",
   "execution_count": 87,
   "metadata": {},
   "outputs": [],
   "source": [
    "#%reset\n",
    "import matplotlib.pyplot as plt\n",
    "import pandas as pd\n",
    "import numpy as np\n",
    "from sklearn import tree\n",
    "from sklearn.tree import DecisionTreeClassifier, plot_tree\n",
    "from sklearn.metrics import accuracy_score, confusion_matrix,roc_curve\n",
    "from num2words import num2words\n",
    "from sklearn.model_selection import RandomizedSearchCV, cross_val_score, KFold, RepeatedStratifiedKFold\n",
    "from sklearn.metrics import f1_score, matthews_corrcoef, roc_auc_score\n",
    "import word2number\n",
    "from word2number import w2n\n",
    "from sklearn.tree import DecisionTreeClassifier\n",
    "from Functions import calculate_maximum_reget, add_labels_to_subplots, merge_and_rename_data, pivot_data_by_HSA, create_column_names, create_collated_weekly_data, add_changes_by_week, calculate_metrics, merge_and_rename_data, add_changes_by_week, determine_covid_outcome_indicator, prep_training_test_data_period, prep_training_test_data, prep_training_test_data_shifted, cross_validation_leave_geo_out\n",
    "import random\n",
    "import sklearn.metrics \n",
    "from matplotlib.patches import Polygon\n",
    "\n",
    "#from Functions import add_labels_to_subplots, merge_and_rename_data, pivot_data_by_HSA, create_column_names, \n",
    "# create_collated_weekly_data, add_changes_by_week, prep_training_test_data_period, prep_training_test_data, \n",
    "# calculate_ppv_npv, merge_and_rename_data, add_changes_by_week, determine_covid_outcome_indicator\n",
    "hfont = {'fontname':'Helvetica'}\n",
    "\n",
    "#oversample = RandomOverSampler(sampling_strategy = 0.5,random_state=10) #need for neural network and random forest\n",
    "import pickle\n",
    "palette = ['#66c2a5', '#fc8d62', '#8da0cb', '#e78ac3', '#a6d854', '#e5c494']\n"
   ]
  },
  {
   "cell_type": "code",
   "execution_count": 2,
   "metadata": {},
   "outputs": [],
   "source": [
    "def determine_covid_outcome_indicator(\n",
    "    new_cases_per_100k, new_admits_per_100k, percent_beds_100k\n",
    "):\n",
    "    if new_cases_per_100k < 200:\n",
    "        if (new_admits_per_100k >= 10) | (percent_beds_100k > 0.10):\n",
    "            if (new_admits_per_100k >= 20) | (percent_beds_100k >= 15):\n",
    "                return 'High'\n",
    "            else:\n",
    "                return 'Medium'\n",
    "        else:\n",
    "            return 'Low'\n",
    "    elif new_cases_per_100k >= 200:\n",
    "        if (new_admits_per_100k >= 10) | (percent_beds_100k >= 0.10):\n",
    "            return 'High'\n",
    "        elif (new_admits_per_100k < 10) | (percent_beds_100k < 10):\n",
    "            return 'High'"
   ]
  },
  {
   "cell_type": "code",
   "execution_count": 92,
   "metadata": {},
   "outputs": [
    {
     "name": "stderr",
     "output_type": "stream",
     "text": [
      "/var/folders/d4/chxwf4hs5kq7ttsp56s64z65mjk3qj/T/ipykernel_18192/3243275868.py:1: DtypeWarning: Columns (41,43,44,45,46,50,51) have mixed types. Specify dtype option on import or set low_memory=False.\n",
      "  data_by_HSA = pd.read_csv('/Users/rem76/Documents/COVID_projections/hsa_time_data_all_dates.csv')\n"
     ]
    }
   ],
   "source": [
    "data_by_HSA = pd.read_csv('/Users/rem76/Documents/COVID_projections/hsa_time_data_all_dates.csv')\n",
    "data_by_HSA['health_service_area_number']\n",
    "data_by_HSA['health_service_area']\n",
    "#data_by_HSA['HSA_ID'] = data_by_HSA['health_service_area_number'].astype(str) + '' + data_by_HSA['health_service_area'].apply(lambda x: x.split()[0])\n",
    "data_by_HSA.rename(columns={'health_service_area_number': 'HSA_ID'}, inplace=True)\n",
    "\n",
    "data_by_HSA['beds_over_15_100k'] = (data_by_HSA['beds_weekly'] > 15)*1\n",
    "\n",
    "# remove HSAs that have missing data in specific columns\n",
    "\n",
    "#data_by_HSA = data_by_HSA.dropna(subset=['admits_weekly', 'deaths_weekly', 'cases_weekly', 'icu_weekly', 'beds_weekly', 'perc_covid'])\n",
    "\n",
    "data_by_HSA['date'] = pd.to_datetime(data_by_HSA['date'])\n"
   ]
  },
  {
   "attachments": {},
   "cell_type": "markdown",
   "metadata": {},
   "source": [
    "# Polygons for mapping onto waves"
   ]
  },
  {
   "cell_type": "code",
   "execution_count": 81,
   "metadata": {},
   "outputs": [
    {
     "name": "stderr",
     "output_type": "stream",
     "text": [
      "/var/folders/d4/chxwf4hs5kq7ttsp56s64z65mjk3qj/T/ipykernel_16671/4200828156.py:4: DtypeWarning: Columns (47,48,49,50,51,55,56) have mixed types. Specify dtype option on import or set low_memory=False.\n",
      "  data_by_county = pd.read_csv('/Users/rem76/Documents/COVID_projections/county_time_data_all_dates.csv')\n"
     ]
    }
   ],
   "source": [
    "## County Data \n",
    "\n",
    "\n",
    "data_by_county = pd.read_csv('/Users/rem76/Documents/COVID_projections/county_time_data_all_dates.csv')\n",
    "\n",
    "data_by_county = data_by_county.dropna(subset=['admits_weekly', 'deaths_weekly', 'cases_weekly', 'icu_weekly', 'beds_weekly', 'perc_covid'])\n",
    "data_by_county['CTYNAME'] = data_by_county['CTYNAME'].apply(lambda x: x.split()[0])\n",
    "data_by_county['CTYNAME'] = data_by_county['fips'].astype(str) + '' + data_by_county['CTYNAME']\n",
    "data_by_county['beds_over_15_100k'] = (data_by_county['beds_weekly'] > 15) * 1\n",
    "\n",
    "# Redo dates\n",
    "for i, week in enumerate(data_by_county['date'].unique()):\n",
    "    data_by_county.loc[data_by_county['date'] == week, 'week'] = i\n",
    "\n",
    "## DELTA POLYGON \n",
    "\n",
    "start_date = pd.to_datetime('2021-06-30')\n",
    "end_date = pd.to_datetime('2021-10-26')\n",
    "data_by_county['date'] = pd.to_datetime(data_by_county['date'])\n",
    "for i, week in enumerate(data_by_county['date'].unique()):\n",
    "    data_by_county.loc[data_by_county['date'] == week, 'week'] = i\n",
    "# Find the indices of rows that match the exact start and end dates\n",
    "matching_indices_start = data_by_county.loc[data_by_county['date'] <= start_date].index.max()\n",
    "matching_indices_end = data_by_county.loc[data_by_county['date'] <= end_date].index.max()\n",
    "first_week_delta = data_by_county.loc[matching_indices_start, 'week']\n",
    "last_week_delta = data_by_county.loc[matching_indices_end, 'week']\n",
    "start_date = pd.to_datetime('2021-10-26')\n",
    "end_date = pd.to_datetime('2022-09-27')\n",
    "data_by_county['date'] = pd.to_datetime(data_by_county['date'])\n",
    "for i, week in enumerate(data_by_county['date'].unique()):\n",
    "    data_by_county.loc[data_by_county['date'] == week, 'week'] = i\n",
    "# Find the indices of rows that match the exact start and end dates\n",
    "matching_indices_start = data_by_county.loc[data_by_county['date'] <= start_date].index.max()\n",
    "matching_indices_end = data_by_county.loc[data_by_county['date'] <= end_date].index.max()\n",
    "first_week_omricon = data_by_county.loc[matching_indices_start, 'week']\n",
    "last_week_omricon = data_by_county.loc[matching_indices_end, 'week']\n",
    "\n",
    "## CDC POLYGON \n",
    "start_date = pd.to_datetime('2021-03-01')\n",
    "end_date = pd.to_datetime('2022-01-24')\n",
    "data_by_county['date'] = pd.to_datetime(data_by_county['date'])\n",
    "for i, week in enumerate(data_by_county['date'].unique()):\n",
    "    data_by_county.loc[data_by_county['date'] == week, 'week'] = i\n",
    "# Find the indices of rows that match the exact start and end dates\n",
    "matching_indices_start = data_by_county.loc[data_by_county['date'] <= start_date].index.max()\n",
    "matching_indices_end = data_by_county.loc[data_by_county['date'] <= end_date].index.max()\n",
    "first_week_CDC = data_by_county.loc[matching_indices_start, 'week']\n",
    "last_week_CDC = data_by_county.loc[matching_indices_end, 'week']"
   ]
  },
  {
   "attachments": {},
   "cell_type": "markdown",
   "metadata": {},
   "source": [
    "# Percent exceed capacity"
   ]
  },
  {
   "cell_type": "code",
   "execution_count": 4,
   "metadata": {},
   "outputs": [],
   "source": [
    "percent_exceed_capacity = []\n",
    "\n",
    "# Iterate through the columns of the DataFrame\n",
    "for column_name in data_by_HSA.columns:\n",
    "    if 'beds_over_15_100k' in column_name:\n",
    "        # Calculate the sum of the column and append it to the list\n",
    "        column_sum = data_by_HSA[column_name].sum()/len(data_by_HSA[column_name])\n",
    "        percent_exceed_capacity.append(column_sum)"
   ]
  },
  {
   "attachments": {},
   "cell_type": "markdown",
   "metadata": {},
   "source": [
    "# CDC classifier period \n",
    "March 1st 2021 - Jan 24th 2022"
   ]
  },
  {
   "attachments": {},
   "cell_type": "markdown",
   "metadata": {},
   "source": [
    "Jan 31st 2022 - March 14th 2022 is 6 week period after"
   ]
  },
  {
   "attachments": {},
   "cell_type": "markdown",
   "metadata": {},
   "source": [
    "Only using the CDC classifier features"
   ]
  },
  {
   "cell_type": "code",
   "execution_count": 65,
   "metadata": {},
   "outputs": [],
   "source": [
    "start_date = pd.to_datetime('2021-03-01') # full CDC period\n",
    "end_date = pd.to_datetime('2022-01-24') # full CDC period\n",
    "start_date = pd.to_datetime('2022-01-31')\n",
    "end_date = pd.to_datetime('2022-03-14')\n",
    "data_by_HSA_CDC_dates = data_by_HSA[(data_by_HSA['date'] >= start_date) & (data_by_HSA['date'] <= end_date)]\n",
    "\n"
   ]
  },
  {
   "cell_type": "code",
   "execution_count": 96,
   "metadata": {},
   "outputs": [],
   "source": [
    "data_by_HSA_CDC_dates = data_by_HSA"
   ]
  },
  {
   "cell_type": "code",
   "execution_count": 97,
   "metadata": {},
   "outputs": [],
   "source": [
    "for i, week in enumerate(data_by_HSA_CDC_dates['date'].unique()):\n",
    "    data_by_HSA_CDC_dates.loc[data_by_HSA_CDC_dates['date'] == week, 'week'] = i"
   ]
  },
  {
   "cell_type": "code",
   "execution_count": 98,
   "metadata": {},
   "outputs": [],
   "source": [
    "## pivot\n",
    "data_by_HSA_CDC_dates_cases = pivot_data_by_HSA(data_by_HSA_CDC_dates, 'week', 'HSA_ID', 'cases_weekly')\n",
    "data_by_HSA_CDC_dates_admissions = pivot_data_by_HSA(data_by_HSA_CDC_dates, 'week', 'HSA_ID', 'admits_weekly')\n",
    "data_by_HSA_CDC_dates_percent_beds = pivot_data_by_HSA(data_by_HSA_CDC_dates, 'week', 'HSA_ID', 'perc_covid')\n",
    "data_by_HSA_CDC_dates_over_15_100k = pivot_data_by_HSA(data_by_HSA_CDC_dates, 'week', 'HSA_ID', 'beds_over_15_100k')\n",
    "\n",
    "## merge (incl outcome)\n",
    "data_by_HSA_CDC_dates_cases_admits = merge_and_rename_data(data_by_HSA_CDC_dates_cases, data_by_HSA_CDC_dates_admissions,'week','cases', 'admits')\n",
    "\n",
    "data_by_HSA_CDC_dates_admits_perc_outcome = merge_and_rename_data(data_by_HSA_CDC_dates_percent_beds, data_by_HSA_CDC_dates_over_15_100k,'week','perc_covid', 'beds_over_15_100k')\n",
    "data_by_HSA_CDC_dates_cases_admits_perc_outcome= pd.merge(data_by_HSA_CDC_dates_cases_admits, data_by_HSA_CDC_dates_admits_perc_outcome, on='week')\n",
    "\n",
    "data_by_HSA_CDC_dates_cases_admits_perc_outcome = data_by_HSA_CDC_dates_cases_admits_perc_outcome.reset_index()\n",
    "data_by_HSA_CDC_dates_cases_admits_perc_outcome.columns = data_by_HSA_CDC_dates_cases_admits_perc_outcome.columns.str.replace(',', '')\n",
    "\n",
    "## collate weekly data\n",
    "categories_for_subsetting = ['cases', 'admits','perc_covid', 'beds_over_15_100k']\n",
    "num_of_weeks = len(data_by_HSA_CDC_dates_cases_admits_perc_outcome)\n",
    "column_names = create_column_names(categories_for_subsetting, num_of_weeks)\n",
    "\n",
    "all_HSA_ID_weekly_data = create_collated_weekly_data(data_by_HSA_CDC_dates_cases_admits_perc_outcome, data_by_HSA_CDC_dates, categories_for_subsetting, 'HSA_ID', column_names)\n",
    "\n",
    "weights_df = data_by_HSA[data_by_HSA['HSA_ID'].isin(all_HSA_ID_weekly_data['HSA_ID'])][['HSA_ID','weight_alt']]\n",
    "weights_df = weights_df.rename(columns={'HSA_ID': 'HSA_ID', 'weight_alt':'weight'})\n",
    "weights_df = weights_df.drop_duplicates()\n",
    "weights_df['weight'].unique()\n",
    "all_HSA_ID_weekly_data = all_HSA_ID_weekly_data.join(weights_df['weight'])"
   ]
  },
  {
   "cell_type": "code",
   "execution_count": 100,
   "metadata": {},
   "outputs": [],
   "source": [
    "#all_HSA_ID_weekly_data.to_csv(\"hsa_time_data_all_dates_CDC_features_only_incl_NA.csv\")"
   ]
  },
  {
   "cell_type": "code",
   "execution_count": 127,
   "metadata": {},
   "outputs": [],
   "source": [
    "# Full classifier \n",
    "X_train, y_train, weights, missing_data_train_HSA = prep_training_test_data(all_HSA_ID_weekly_data,   no_weeks = range(1, int(num_of_weeks*2/3) + 1), weeks_in_future = 3,  geography = 'HSA_ID', weight_col = 'weight', keep_output = False)\n",
    "\n",
    "X_test, y_test, weights_test, missing_data_test_HSA = prep_training_test_data(all_HSA_ID_weekly_data,   no_weeks = range(int(num_of_weeks*2/3) + 1, num_of_weeks-2), weeks_in_future = 3,  geography = 'HSA_ID',  weight_col = 'weight', keep_output = False)\n",
    "weights = weights[0].to_numpy()"
   ]
  },
  {
   "cell_type": "code",
   "execution_count": 104,
   "metadata": {},
   "outputs": [],
   "source": [
    "# 6 weeks after \n",
    "X_test, y_test, weights_test, missing_data_test_HSA = prep_training_test_data(all_HSA_ID_weekly_data,   no_weeks = range(1, 4), weeks_in_future = 3,  geography = 'HSA_ID',  weight_col = 'weight', keep_output = False)\n"
   ]
  },
  {
   "attachments": {},
   "cell_type": "markdown",
   "metadata": {},
   "source": [
    "# CDC Classifier A"
   ]
  },
  {
   "cell_type": "code",
   "execution_count": 97,
   "metadata": {},
   "outputs": [],
   "source": [
    "# Only retrain if using full development period"
   ]
  },
  {
   "cell_type": "code",
   "execution_count": 53,
   "metadata": {},
   "outputs": [],
   "source": [
    "no_iterations = 10  \n",
    "geography_column = 'HSA_ID'  \n",
    "geo_split = 0.9  \n",
    "time_period = 'exact'  # Choose 'period', 'exact', or 'shifted'\n",
    "no_weeks_train =  range(1, int(num_of_weeks*2/3) + 1)  # First 6 months initially \n",
    "no_weeks_test = range(int(num_of_weeks*2/3) + 1, num_of_weeks -2)  # Next three months\n",
    "weeks_in_future = 3 \n",
    "weight_col = 'weight'  \n",
    "keep_output = False  \n",
    "no_iterations_param = 100  # Replace with the number of iterations for RandomizedSearchCV\n",
    "param_grid = {\n",
    "    'criterion': ['gini', 'entropy'],\n",
    "    'max_depth': np.arange(2, 5, 1),\n",
    "    'min_samples_split': np.arange(200, 2000, 50), #[100, 200, 300, 400, 500], #np.arange(50, 200),\n",
    "    'min_samples_leaf':  np.arange(200, 2000, 50)} #100, 200, 300, 400, 500], #np.arange(500, 200)\n",
    "    #'ccp_alpha': np.arange(0.0001, 0.0035, 0.0001) }\n",
    "\n",
    "# Create the Decision Tree classifier\n",
    "cv = RepeatedStratifiedKFold(n_splits=10,  n_repeats=10,random_state=1) ## 10-fold cross validations"
   ]
  },
  {
   "cell_type": "code",
   "execution_count": 88,
   "metadata": {},
   "outputs": [
    {
     "name": "stdout",
     "output_type": "stream",
     "text": [
      "0\n"
     ]
    },
    {
     "ename": "IndexError",
     "evalue": "single positional indexer is out-of-bounds",
     "output_type": "error",
     "traceback": [
      "\u001b[0;31m---------------------------------------------------------------------------\u001b[0m",
      "\u001b[0;31mIndexError\u001b[0m                                Traceback (most recent call last)",
      "Cell \u001b[0;32mIn[88], line 8\u001b[0m\n\u001b[1;32m      4\u001b[0m clf \u001b[39m=\u001b[39m DecisionTreeClassifier(random_state\u001b[39m=\u001b[39m\u001b[39m10\u001b[39m, class_weight\u001b[39m=\u001b[39m\u001b[39m'\u001b[39m\u001b[39mbalanced\u001b[39m\u001b[39m'\u001b[39m)\n\u001b[1;32m      6\u001b[0m \u001b[39m# Perform Randomized Search with 10-fold cross-validation\u001b[39;00m\n\u001b[0;32m----> 8\u001b[0m best_params \u001b[39m=\u001b[39m cross_validation_leave_geo_out(all_HSA_ID_weekly_data, geography_column \u001b[39m=\u001b[39m geography_column, geo_split \u001b[39m=\u001b[39m geo_split, no_iterations \u001b[39m=\u001b[39m no_iterations, cv \u001b[39m=\u001b[39m cv, classifier \u001b[39m=\u001b[39m clf, param_grid \u001b[39m=\u001b[39m param_grid, no_iterations_param \u001b[39m=\u001b[39m no_iterations_param, no_weeks_train \u001b[39m=\u001b[39m no_weeks_train,no_weeks_test \u001b[39m=\u001b[39m no_weeks_test, weeks_in_future \u001b[39m=\u001b[39m weeks_in_future, weight_col \u001b[39m=\u001b[39m weight_col, keep_output \u001b[39m=\u001b[39m keep_output, time_period \u001b[39m=\u001b[39m time_period)\n\u001b[1;32m      9\u001b[0m \u001b[39m# Create the Decision Tree classifier with the best hyperparameters\u001b[39;00m\n\u001b[1;32m     10\u001b[0m clf \u001b[39m=\u001b[39m DecisionTreeClassifier(\u001b[39m*\u001b[39m\u001b[39m*\u001b[39mbest_params, random_state\u001b[39m=\u001b[39m\u001b[39m10\u001b[39m, class_weight\u001b[39m=\u001b[39m\u001b[39m'\u001b[39m\u001b[39mbalanced\u001b[39m\u001b[39m'\u001b[39m)\n",
      "File \u001b[0;32m~/Documents/COVID_projections/COVID_forecasting/Functions.py:544\u001b[0m, in \u001b[0;36mcross_validation_leave_geo_out\u001b[0;34m(data, geography_column, geo_split, no_iterations, cv, classifier, param_grid, no_iterations_param, no_weeks_train, no_weeks_test, weeks_in_future, weight_col, keep_output, time_period)\u001b[0m\n\u001b[1;32m    541\u001b[0m     weights_train \u001b[39m=\u001b[39m weights_train[\u001b[39m0\u001b[39m]\n\u001b[1;32m    543\u001b[0m \u001b[39m# Check if y_sample_test contains only 1's\u001b[39;00m\n\u001b[0;32m--> 544\u001b[0m \u001b[39mwhile\u001b[39;00m (\u001b[39mint\u001b[39m(y_sample_test\u001b[39m.\u001b[39msum()\u001b[39m.\u001b[39miloc[\u001b[39m0\u001b[39m]) \u001b[39m/\u001b[39m \u001b[39mlen\u001b[39m(y_sample_test)) \u001b[39m==\u001b[39m \u001b[39m1\u001b[39m:\n\u001b[1;32m    545\u001b[0m     \u001b[39mprint\u001b[39m(\u001b[39m\"\u001b[39m\u001b[39mAll 1\u001b[39m\u001b[39m\"\u001b[39m)\n\u001b[1;32m    546\u001b[0m     \u001b[39m# Subset the HSAs from the full dataset\u001b[39;00m\n",
      "File \u001b[0;32m~/miniconda3/envs/COVID_forecasting/lib/python3.11/site-packages/pandas/core/indexing.py:1103\u001b[0m, in \u001b[0;36m_LocationIndexer.__getitem__\u001b[0;34m(self, key)\u001b[0m\n\u001b[1;32m   1100\u001b[0m axis \u001b[39m=\u001b[39m \u001b[39mself\u001b[39m\u001b[39m.\u001b[39maxis \u001b[39mor\u001b[39;00m \u001b[39m0\u001b[39m\n\u001b[1;32m   1102\u001b[0m maybe_callable \u001b[39m=\u001b[39m com\u001b[39m.\u001b[39mapply_if_callable(key, \u001b[39mself\u001b[39m\u001b[39m.\u001b[39mobj)\n\u001b[0;32m-> 1103\u001b[0m \u001b[39mreturn\u001b[39;00m \u001b[39mself\u001b[39m\u001b[39m.\u001b[39m_getitem_axis(maybe_callable, axis\u001b[39m=\u001b[39maxis)\n",
      "File \u001b[0;32m~/miniconda3/envs/COVID_forecasting/lib/python3.11/site-packages/pandas/core/indexing.py:1656\u001b[0m, in \u001b[0;36m_iLocIndexer._getitem_axis\u001b[0;34m(self, key, axis)\u001b[0m\n\u001b[1;32m   1653\u001b[0m     \u001b[39mraise\u001b[39;00m \u001b[39mTypeError\u001b[39;00m(\u001b[39m\"\u001b[39m\u001b[39mCannot index by location index with a non-integer key\u001b[39m\u001b[39m\"\u001b[39m)\n\u001b[1;32m   1655\u001b[0m \u001b[39m# validate the location\u001b[39;00m\n\u001b[0;32m-> 1656\u001b[0m \u001b[39mself\u001b[39m\u001b[39m.\u001b[39m_validate_integer(key, axis)\n\u001b[1;32m   1658\u001b[0m \u001b[39mreturn\u001b[39;00m \u001b[39mself\u001b[39m\u001b[39m.\u001b[39mobj\u001b[39m.\u001b[39m_ixs(key, axis\u001b[39m=\u001b[39maxis)\n",
      "File \u001b[0;32m~/miniconda3/envs/COVID_forecasting/lib/python3.11/site-packages/pandas/core/indexing.py:1589\u001b[0m, in \u001b[0;36m_iLocIndexer._validate_integer\u001b[0;34m(self, key, axis)\u001b[0m\n\u001b[1;32m   1587\u001b[0m len_axis \u001b[39m=\u001b[39m \u001b[39mlen\u001b[39m(\u001b[39mself\u001b[39m\u001b[39m.\u001b[39mobj\u001b[39m.\u001b[39m_get_axis(axis))\n\u001b[1;32m   1588\u001b[0m \u001b[39mif\u001b[39;00m key \u001b[39m>\u001b[39m\u001b[39m=\u001b[39m len_axis \u001b[39mor\u001b[39;00m key \u001b[39m<\u001b[39m \u001b[39m-\u001b[39mlen_axis:\n\u001b[0;32m-> 1589\u001b[0m     \u001b[39mraise\u001b[39;00m \u001b[39mIndexError\u001b[39;00m(\u001b[39m\"\u001b[39m\u001b[39msingle positional indexer is out-of-bounds\u001b[39m\u001b[39m\"\u001b[39m)\n",
      "\u001b[0;31mIndexError\u001b[0m: single positional indexer is out-of-bounds"
     ]
    }
   ],
   "source": [
    "\n",
    "# Create the Decision Tree classifier\n",
    "cv = RepeatedStratifiedKFold(n_splits=10,  n_repeats=10,random_state=1) ## 10-fold cross validations\n",
    "\n",
    "clf = DecisionTreeClassifier(random_state=10, class_weight='balanced')\n",
    "\n",
    "# Perform Randomized Search with 10-fold cross-validation\n",
    "\n",
    "best_params = cross_validation_leave_geo_out(all_HSA_ID_weekly_data, geography_column = geography_column, geo_split = geo_split, no_iterations = no_iterations, cv = cv, classifier = clf, param_grid = param_grid, no_iterations_param = no_iterations_param, no_weeks_train = no_weeks_train,no_weeks_test = no_weeks_test, weeks_in_future = weeks_in_future, weight_col = weight_col, keep_output = keep_output, time_period = time_period)\n",
    "# Create the Decision Tree classifier with the best hyperparameters\n",
    "clf = DecisionTreeClassifier(**best_params, random_state=10, class_weight='balanced')\n",
    "\n",
    "# Train the decision tree classifier\n",
    "clf.fit(X_train, y_train[0],  sample_weight = weights)\n",
    "\n",
    "# Make predictions on the test set\n",
    "y_pred = clf.predict(X_test)\n",
    "y_pred_proba = clf.predict_proba(X_test)\n",
    "\n",
    "# Evaluate the accuracy of the model\n",
    "accuracy = accuracy_score(y_test, y_pred)\n",
    "ROC = roc_auc_score(y_test[0], y_pred_proba[:,1])\n",
    "MCC = (matthews_corrcoef(y_test, y_pred) + 1)/2\n",
    "\n",
    "print(\"Accuracy:\", accuracy)\n",
    "print(\"auROC:\", ROC)\n",
    "\n",
    "print(confusion_matrix(y_test, y_pred))\n",
    "plot_tree(clf,feature_names=['Cases', 'Admits','Percent Covid'], class_names=['Below', 'Above'], filled=True, impurity=False, proportion=False, rounded=True, precision=3)\n"
   ]
  },
  {
   "cell_type": "code",
   "execution_count": 106,
   "metadata": {},
   "outputs": [],
   "source": [
    "#model_name = f\"CDC_classifier_auroc_{ROC:.4f}_CDC_period.sav\"\n",
    "#pickle.dump(clf, open(model_name, 'wb'))\n",
    "CDC_Classifier_A = pickle.load(open('/Users/rem76/Documents/COVID_projections/COVID_forecasting/Best_models_123_classifier/CDC_classifier_auroc_0.7603_CDC_period.sav', 'rb'))"
   ]
  },
  {
   "cell_type": "code",
   "execution_count": 102,
   "metadata": {},
   "outputs": [
    {
     "data": {
      "text/html": [
       "<div>\n",
       "<style scoped>\n",
       "    .dataframe tbody tr th:only-of-type {\n",
       "        vertical-align: middle;\n",
       "    }\n",
       "\n",
       "    .dataframe tbody tr th {\n",
       "        vertical-align: top;\n",
       "    }\n",
       "\n",
       "    .dataframe thead th {\n",
       "        text-align: right;\n",
       "    }\n",
       "</style>\n",
       "<table border=\"1\" class=\"dataframe\">\n",
       "  <thead>\n",
       "    <tr style=\"text-align: right;\">\n",
       "      <th></th>\n",
       "    </tr>\n",
       "  </thead>\n",
       "  <tbody>\n",
       "  </tbody>\n",
       "</table>\n",
       "</div>"
      ],
      "text/plain": [
       "Empty DataFrame\n",
       "Columns: []\n",
       "Index: []"
      ]
     },
     "execution_count": 102,
     "metadata": {},
     "output_type": "execute_result"
    }
   ],
   "source": [
    "X_test"
   ]
  },
  {
   "cell_type": "code",
   "execution_count": 107,
   "metadata": {},
   "outputs": [
    {
     "name": "stdout",
     "output_type": "stream",
     "text": [
      "Accuracy: 0.8821087588210876\n",
      "auROC: 0.6162817123704039\n",
      "MCC: 0.7006008110226845\n",
      "[[  85  263]\n",
      " [  21 2040]]\n"
     ]
    }
   ],
   "source": [
    "\n",
    "# Make predictions on the test set\n",
    "y_pred_Classifier_A = CDC_Classifier_A.predict(X_test)\n",
    "y_pred_proba_Classifier_A = CDC_Classifier_A.predict_proba(X_test)\n",
    "\n",
    "# Evaluate the accuracy of the model\n",
    "accuracy = accuracy_score(y_test, y_pred_Classifier_A)\n",
    "ROC = roc_auc_score(y_test[0], y_pred_proba_Classifier_A[:,1])\n",
    "MCC = (matthews_corrcoef(y_test, y_pred_Classifier_A) + 1)/2\n",
    "\n",
    "print(\"Accuracy:\", accuracy)\n",
    "print(\"auROC:\", ROC)\n",
    "print(\"MCC:\", MCC)\n",
    "print(confusion_matrix(y_test, y_pred_Classifier_A))"
   ]
  },
  {
   "attachments": {},
   "cell_type": "markdown",
   "metadata": {},
   "source": [
    "# CDC outcomes"
   ]
  },
  {
   "cell_type": "code",
   "execution_count": 113,
   "metadata": {},
   "outputs": [],
   "source": [
    "CDC_predictions_levels = pd.DataFrame(index=data_by_HSA_CDC_dates_cases_admits_perc_outcome['week'])\n",
    "indicators, actual_outcome, weights, missing_data_train_HSA = prep_training_test_data(all_HSA_ID_weekly_data,  no_weeks = range(1, 4), weeks_in_future = 3,  geography = 'HSA_ID', weight_col = 'weight', keep_output = False)\n",
    "weights = weights[0].to_numpy()\n",
    "for idx, row in indicators.iterrows():\n",
    "    outcome = determine_covid_outcome_indicator(row[1], row[2], row[3])\n",
    "    CDC_predictions_levels.at[idx, 0] = outcome"
   ]
  },
  {
   "cell_type": "code",
   "execution_count": 114,
   "metadata": {},
   "outputs": [
    {
     "name": "stdout",
     "output_type": "stream",
     "text": [
      "Percentage High and 1: 86.12%\n",
      "Percentage Medium and 1: 84.16%\n",
      "Percentage Low and 1: 60.87%\n"
     ]
    },
    {
     "name": "stderr",
     "output_type": "stream",
     "text": [
      "/var/folders/d4/chxwf4hs5kq7ttsp56s64z65mjk3qj/T/ipykernel_16671/1410080619.py:6: FutureWarning: Calling float on a single element Series is deprecated and will raise a TypeError in the future. Use float(ser.iloc[0]) instead\n",
      "  print(\"Percentage High and 1: {:.2f}%\".format(float(percentage_high_and_1)))\n",
      "/var/folders/d4/chxwf4hs5kq7ttsp56s64z65mjk3qj/T/ipykernel_16671/1410080619.py:14: FutureWarning: Calling float on a single element Series is deprecated and will raise a TypeError in the future. Use float(ser.iloc[0]) instead\n",
      "  print(\"Percentage Medium and 1: {:.2f}%\".format(float(percentage_med_and_1)))\n",
      "/var/folders/d4/chxwf4hs5kq7ttsp56s64z65mjk3qj/T/ipykernel_16671/1410080619.py:21: FutureWarning: Calling float on a single element Series is deprecated and will raise a TypeError in the future. Use float(ser.iloc[0]) instead\n",
      "  print(\"Percentage Low and 1: {:.2f}%\".format(float(percentage_low_and_1)))\n"
     ]
    }
   ],
   "source": [
    "\n",
    "# Calculate the percentage of cases where the predicted CDC risk level is 'High' and actual outcome is 1\n",
    "sum_high_and_1 = np.sum((CDC_predictions_levels == 'High') & (actual_outcome == 1))\n",
    "sum_high_and_0 = np.sum((CDC_predictions_levels == 'High') & (actual_outcome == 0))\n",
    "total_high_predictions = np.sum(CDC_predictions_levels == 'High')\n",
    "percentage_high_and_1 = (sum_high_and_1 / total_high_predictions) * 100\n",
    "print(\"Percentage High and 1: {:.2f}%\".format(float(percentage_high_and_1)))\n",
    "\n",
    "# Calculate the percentage of cases where the predicted CDC risk level is 'Medium' and actual outcome is 1\n",
    "sum_med_and_1 = np.sum((CDC_predictions_levels == 'Medium') & (actual_outcome == 1))\n",
    "sum_med_and_0 = np.sum((CDC_predictions_levels == 'Medium') & (actual_outcome == 0))\n",
    "\n",
    "total_med_predictions = np.sum(CDC_predictions_levels == 'Medium')\n",
    "percentage_med_and_1 = (sum_med_and_1 / total_med_predictions) * 100\n",
    "print(\"Percentage Medium and 1: {:.2f}%\".format(float(percentage_med_and_1)))\n",
    "\n",
    "# Calculate the percentage of cases where the predicted CDC risk level is 'Low' and actual outcome is 1\n",
    "sum_low_and_1 = np.sum((CDC_predictions_levels == 'Low') & (actual_outcome == 1))\n",
    "sum_low_and_0 = np.sum((CDC_predictions_levels == 'Low') & (actual_outcome == 0))\n",
    "total_low_predictions = np.sum(CDC_predictions_levels == 'Low')\n",
    "percentage_low_and_1 = (sum_low_and_1 / total_low_predictions) * 100\n",
    "print(\"Percentage Low and 1: {:.2f}%\".format(float(percentage_low_and_1)))"
   ]
  },
  {
   "cell_type": "code",
   "execution_count": 115,
   "metadata": {},
   "outputs": [],
   "source": [
    "replacement_map = {'Low': 0, 'Medium': 0, 'High': 1}\n",
    "\n",
    "# Replace values in the 'CDC_predictions_levels' column\n",
    "CDC_predictions_levels_binary = CDC_predictions_levels[0].replace(replacement_map)\n"
   ]
  },
  {
   "cell_type": "code",
   "execution_count": 116,
   "metadata": {},
   "outputs": [],
   "source": [
    "# Calculate the True Positive Rate (Sensitivity) and False Positive Rate for different levels\n",
    "tpr_high = sum_high_and_1 / total_high_predictions\n",
    "fpr_high = (total_high_predictions - sum_high_and_1) / total_high_predictions\n",
    "\n",
    "tpr_med = (total_med_predictions - sum_med_and_1) / total_med_predictions\n",
    "fpr_med = sum_med_and_1 / total_med_predictions\n",
    "\n",
    "tpr_low = (total_low_predictions - sum_low_and_1) / total_low_predictions\n",
    "fpr_low = sum_low_and_1 / total_low_predictions\n",
    "\n",
    "# Create ROC curve points\n",
    "roc_points = [(fpr_low, tpr_low), (fpr_med, tpr_med), (fpr_high, tpr_high)]\n",
    "\n",
    "# Calculate AUROC score\n",
    "auroc_score = roc_auc_score(actual_outcome, CDC_predictions_levels_binary)\n"
   ]
  },
  {
   "cell_type": "code",
   "execution_count": 118,
   "metadata": {},
   "outputs": [],
   "source": [
    "accuracy_Community_levels = accuracy_score(actual_outcome, CDC_predictions_levels_binary)\n",
    "MCC_Community_levels = (matthews_corrcoef(actual_outcome, CDC_predictions_levels_binary) + 1)/2\n"
   ]
  },
  {
   "attachments": {},
   "cell_type": "markdown",
   "metadata": {},
   "source": [
    "# Naive classifier for this period"
   ]
  },
  {
   "cell_type": "code",
   "execution_count": 139,
   "metadata": {},
   "outputs": [],
   "source": [
    "selected_columns = [col for col in all_HSA_ID_weekly_data.columns if 'beds_over_15_100k' in col]\n",
    "naive_data = all_HSA_ID_weekly_data[selected_columns + ['HSA_ID'] + ['weight']]"
   ]
  },
  {
   "cell_type": "code",
   "execution_count": 140,
   "metadata": {},
   "outputs": [],
   "source": [
    "X_train, y_train, weights, missing_data_train_HSA = prep_training_test_data(naive_data,   no_weeks = range(1, int(num_of_weeks*2/3) + 1), weeks_in_future = 3,  geography = 'HSA_ID', weight_col = 'weight', keep_output = True)\n",
    "\n",
    "X_test, y_test, weights_test, missing_data_test_HSA = prep_training_test_data(naive_data,   no_weeks = range(int(num_of_weeks*2/3) + 1, num_of_weeks-2), weeks_in_future = 3,  geography = 'HSA_ID',  weight_col = 'weight', keep_output = True)\n",
    "weights = weights[0].to_numpy()\n",
    "X_train_naive = X_train.iloc[:, -1].values.reshape(-1, 1)\n",
    "X_test_naive = X_test.iloc[:, -1].values.reshape(-1, 1)"
   ]
  },
  {
   "cell_type": "code",
   "execution_count": 141,
   "metadata": {},
   "outputs": [
    {
     "name": "stdout",
     "output_type": "stream",
     "text": [
      "MCC: 0.7178190674698501\n",
      "Accuracy: 0.9323690008621516\n",
      "auROC: 0.7233578506486873\n"
     ]
    }
   ],
   "source": [
    "# Create the Decision Tree classifier\n",
    "cv = RepeatedStratifiedKFold(n_splits=10,  n_repeats=10,random_state=1) ## 10-fold cross validations\n",
    "\n",
    "clf = DecisionTreeClassifier(random_state=10, class_weight='balanced')\n",
    "\n",
    "# Perform Randomized Search with 10-fold cross-validation\n",
    "random_search = RandomizedSearchCV(clf, param_grid, n_iter=50, cv=cv, random_state=10)\n",
    "random_search.fit(X_train_naive, y_train, sample_weight = weights)\n",
    "\n",
    "best_params = random_search.best_params_\n",
    "\n",
    "# Create the Decision Tree classifier with the best hyperparameters\n",
    "clf = DecisionTreeClassifier(**best_params, random_state=10, class_weight='balanced')\n",
    "\n",
    "# Train the decision tree classifier\n",
    "clf.fit(X_train_naive, y_train[0],  sample_weight = weights)\n",
    "\n",
    "# Make predictions on the test set\n",
    "y_pred = clf.predict(X_test_naive)\n",
    "y_pred_proba_naive = clf.predict_proba(X_test_naive)\n",
    "\n",
    "# Evaluate the accuracy of the model\n",
    "accuracy = accuracy_score(y_test, y_pred)\n",
    "ROC = roc_auc_score(y_test[0], y_pred_proba_naive[:,1])\n",
    "MCC = (matthews_corrcoef(y_test, y_pred) + 1)/2\n",
    "\n",
    "print(\"MCC:\", MCC)\n",
    "print(\"Accuracy:\", accuracy)\n",
    "print(\"auROC:\", ROC)\n"
   ]
  },
  {
   "cell_type": "code",
   "execution_count": 142,
   "metadata": {},
   "outputs": [],
   "source": [
    "model_name = f\"CDC_classifier_auroc_{ROC:.4f}_CDC_period_naive.sav\"\n",
    "pickle.dump(clf, open(model_name, 'wb'))"
   ]
  },
  {
   "attachments": {},
   "cell_type": "markdown",
   "metadata": {},
   "source": [
    "# Classifier B"
   ]
  },
  {
   "cell_type": "code",
   "execution_count": null,
   "metadata": {},
   "outputs": [],
   "source": [
    "#Training model \n",
    "X_train, y_train, weights, missing_data_train_HSA = prep_training_test_data(all_HSA_ID_weekly_data,   no_weeks = range(1, int(num_of_weeks*2/3) + 1), weeks_in_future = 3,  geography = 'HSA_ID', weight_col = 'weight', keep_output = True)\n",
    "\n",
    "X_test, y_test, weights_test, missing_data_test_HSA = prep_training_test_data(all_HSA_ID_weekly_data,   no_weeks = range(int(num_of_weeks*2/3) + 1, num_of_weeks-2), weeks_in_future = 3,  geography = 'HSA_ID',  weight_col = 'weight', keep_output = True)\n",
    "weights = weights[0]"
   ]
  },
  {
   "cell_type": "code",
   "execution_count": 123,
   "metadata": {},
   "outputs": [],
   "source": [
    "# Evaluating \n",
    "X_test, y_test, weights_test, missing_data_test_HSA = prep_training_test_data(all_HSA_ID_weekly_data,   no_weeks = range(1, 4), weeks_in_future = 3,  geography = 'HSA_ID',  weight_col = 'weight', keep_output = True)\n"
   ]
  },
  {
   "cell_type": "code",
   "execution_count": null,
   "metadata": {},
   "outputs": [
    {
     "name": "stdout",
     "output_type": "stream",
     "text": [
      "MCC: 0.7014956343380194\n",
      "Accuracy: 0.9221153846153847\n",
      "auROC: 0.8208185789156028\n",
      "[[ 320  324]\n",
      " [ 486 9270]]\n"
     ]
    },
    {
     "ename": "IndexError",
     "evalue": "list index out of range",
     "output_type": "error",
     "traceback": [
      "\u001b[0;31m---------------------------------------------------------------------------\u001b[0m",
      "\u001b[0;31mIndexError\u001b[0m                                Traceback (most recent call last)",
      "Cell \u001b[0;32mIn[207], line 29\u001b[0m\n\u001b[1;32m     26\u001b[0m \u001b[39mprint\u001b[39m(\u001b[39m\"\u001b[39m\u001b[39mauROC:\u001b[39m\u001b[39m\"\u001b[39m, ROC)\n\u001b[1;32m     28\u001b[0m \u001b[39mprint\u001b[39m(confusion_matrix(y_test, y_pred))\n\u001b[0;32m---> 29\u001b[0m plot_tree(clf,feature_names\u001b[39m=\u001b[39m[\u001b[39m'\u001b[39m\u001b[39mCases\u001b[39m\u001b[39m'\u001b[39m, \u001b[39m'\u001b[39m\u001b[39mAdmits\u001b[39m\u001b[39m'\u001b[39m,\u001b[39m'\u001b[39m\u001b[39mPercent Covid\u001b[39m\u001b[39m'\u001b[39m], class_names\u001b[39m=\u001b[39m[\u001b[39m'\u001b[39m\u001b[39mBelow\u001b[39m\u001b[39m'\u001b[39m, \u001b[39m'\u001b[39m\u001b[39mAbove\u001b[39m\u001b[39m'\u001b[39m], filled\u001b[39m=\u001b[39m\u001b[39mTrue\u001b[39;00m, impurity\u001b[39m=\u001b[39m\u001b[39mFalse\u001b[39;00m, proportion\u001b[39m=\u001b[39m\u001b[39mFalse\u001b[39;00m, rounded\u001b[39m=\u001b[39m\u001b[39mTrue\u001b[39;00m, precision\u001b[39m=\u001b[39m\u001b[39m3\u001b[39m)\n",
      "File \u001b[0;32m~/miniconda3/envs/COVID_forecasting/lib/python3.11/site-packages/sklearn/utils/_param_validation.py:211\u001b[0m, in \u001b[0;36mvalidate_params.<locals>.decorator.<locals>.wrapper\u001b[0;34m(*args, **kwargs)\u001b[0m\n\u001b[1;32m    205\u001b[0m \u001b[39mtry\u001b[39;00m:\n\u001b[1;32m    206\u001b[0m     \u001b[39mwith\u001b[39;00m config_context(\n\u001b[1;32m    207\u001b[0m         skip_parameter_validation\u001b[39m=\u001b[39m(\n\u001b[1;32m    208\u001b[0m             prefer_skip_nested_validation \u001b[39mor\u001b[39;00m global_skip_validation\n\u001b[1;32m    209\u001b[0m         )\n\u001b[1;32m    210\u001b[0m     ):\n\u001b[0;32m--> 211\u001b[0m         \u001b[39mreturn\u001b[39;00m func(\u001b[39m*\u001b[39margs, \u001b[39m*\u001b[39m\u001b[39m*\u001b[39mkwargs)\n\u001b[1;32m    212\u001b[0m \u001b[39mexcept\u001b[39;00m InvalidParameterError \u001b[39mas\u001b[39;00m e:\n\u001b[1;32m    213\u001b[0m     \u001b[39m# When the function is just a wrapper around an estimator, we allow\u001b[39;00m\n\u001b[1;32m    214\u001b[0m     \u001b[39m# the function to delegate validation to the estimator, but we replace\u001b[39;00m\n\u001b[1;32m    215\u001b[0m     \u001b[39m# the name of the estimator by the name of the function in the error\u001b[39;00m\n\u001b[1;32m    216\u001b[0m     \u001b[39m# message to avoid confusion.\u001b[39;00m\n\u001b[1;32m    217\u001b[0m     msg \u001b[39m=\u001b[39m re\u001b[39m.\u001b[39msub(\n\u001b[1;32m    218\u001b[0m         \u001b[39mr\u001b[39m\u001b[39m\"\u001b[39m\u001b[39mparameter of \u001b[39m\u001b[39m\\\u001b[39m\u001b[39mw+ must be\u001b[39m\u001b[39m\"\u001b[39m,\n\u001b[1;32m    219\u001b[0m         \u001b[39mf\u001b[39m\u001b[39m\"\u001b[39m\u001b[39mparameter of \u001b[39m\u001b[39m{\u001b[39;00mfunc\u001b[39m.\u001b[39m\u001b[39m__qualname__\u001b[39m\u001b[39m}\u001b[39;00m\u001b[39m must be\u001b[39m\u001b[39m\"\u001b[39m,\n\u001b[1;32m    220\u001b[0m         \u001b[39mstr\u001b[39m(e),\n\u001b[1;32m    221\u001b[0m     )\n",
      "File \u001b[0;32m~/miniconda3/envs/COVID_forecasting/lib/python3.11/site-packages/sklearn/tree/_export.py:211\u001b[0m, in \u001b[0;36mplot_tree\u001b[0;34m(decision_tree, max_depth, feature_names, class_names, label, filled, impurity, node_ids, proportion, rounded, precision, ax, fontsize)\u001b[0m\n\u001b[1;32m    196\u001b[0m check_is_fitted(decision_tree)\n\u001b[1;32m    198\u001b[0m exporter \u001b[39m=\u001b[39m _MPLTreeExporter(\n\u001b[1;32m    199\u001b[0m     max_depth\u001b[39m=\u001b[39mmax_depth,\n\u001b[1;32m    200\u001b[0m     feature_names\u001b[39m=\u001b[39mfeature_names,\n\u001b[0;32m   (...)\u001b[0m\n\u001b[1;32m    209\u001b[0m     fontsize\u001b[39m=\u001b[39mfontsize,\n\u001b[1;32m    210\u001b[0m )\n\u001b[0;32m--> 211\u001b[0m \u001b[39mreturn\u001b[39;00m exporter\u001b[39m.\u001b[39mexport(decision_tree, ax\u001b[39m=\u001b[39max)\n",
      "File \u001b[0;32m~/miniconda3/envs/COVID_forecasting/lib/python3.11/site-packages/sklearn/tree/_export.py:643\u001b[0m, in \u001b[0;36m_MPLTreeExporter.export\u001b[0;34m(self, decision_tree, ax)\u001b[0m\n\u001b[1;32m    641\u001b[0m ax\u001b[39m.\u001b[39mclear()\n\u001b[1;32m    642\u001b[0m ax\u001b[39m.\u001b[39mset_axis_off()\n\u001b[0;32m--> 643\u001b[0m my_tree \u001b[39m=\u001b[39m \u001b[39mself\u001b[39m\u001b[39m.\u001b[39m_make_tree(\u001b[39m0\u001b[39m, decision_tree\u001b[39m.\u001b[39mtree_, decision_tree\u001b[39m.\u001b[39mcriterion)\n\u001b[1;32m    644\u001b[0m draw_tree \u001b[39m=\u001b[39m buchheim(my_tree)\n\u001b[1;32m    646\u001b[0m \u001b[39m# important to make sure we're still\u001b[39;00m\n\u001b[1;32m    647\u001b[0m \u001b[39m# inside the axis after drawing the box\u001b[39;00m\n\u001b[1;32m    648\u001b[0m \u001b[39m# this makes sense because the width of a box\u001b[39;00m\n\u001b[1;32m    649\u001b[0m \u001b[39m# is about the same as the distance between boxes\u001b[39;00m\n",
      "File \u001b[0;32m~/miniconda3/envs/COVID_forecasting/lib/python3.11/site-packages/sklearn/tree/_export.py:619\u001b[0m, in \u001b[0;36m_MPLTreeExporter._make_tree\u001b[0;34m(self, node_id, et, criterion, depth)\u001b[0m\n\u001b[1;32m    616\u001b[0m \u001b[39mdef\u001b[39;00m \u001b[39m_make_tree\u001b[39m(\u001b[39mself\u001b[39m, node_id, et, criterion, depth\u001b[39m=\u001b[39m\u001b[39m0\u001b[39m):\n\u001b[1;32m    617\u001b[0m     \u001b[39m# traverses _tree.Tree recursively, builds intermediate\u001b[39;00m\n\u001b[1;32m    618\u001b[0m     \u001b[39m# \"_reingold_tilford.Tree\" object\u001b[39;00m\n\u001b[0;32m--> 619\u001b[0m     name \u001b[39m=\u001b[39m \u001b[39mself\u001b[39m\u001b[39m.\u001b[39mnode_to_str(et, node_id, criterion\u001b[39m=\u001b[39mcriterion)\n\u001b[1;32m    620\u001b[0m     \u001b[39mif\u001b[39;00m et\u001b[39m.\u001b[39mchildren_left[node_id] \u001b[39m!=\u001b[39m _tree\u001b[39m.\u001b[39mTREE_LEAF \u001b[39mand\u001b[39;00m (\n\u001b[1;32m    621\u001b[0m         \u001b[39mself\u001b[39m\u001b[39m.\u001b[39mmax_depth \u001b[39mis\u001b[39;00m \u001b[39mNone\u001b[39;00m \u001b[39mor\u001b[39;00m depth \u001b[39m<\u001b[39m\u001b[39m=\u001b[39m \u001b[39mself\u001b[39m\u001b[39m.\u001b[39mmax_depth\n\u001b[1;32m    622\u001b[0m     ):\n\u001b[1;32m    623\u001b[0m         children \u001b[39m=\u001b[39m [\n\u001b[1;32m    624\u001b[0m             \u001b[39mself\u001b[39m\u001b[39m.\u001b[39m_make_tree(\n\u001b[1;32m    625\u001b[0m                 et\u001b[39m.\u001b[39mchildren_left[node_id], et, criterion, depth\u001b[39m=\u001b[39mdepth \u001b[39m+\u001b[39m \u001b[39m1\u001b[39m\n\u001b[0;32m   (...)\u001b[0m\n\u001b[1;32m    629\u001b[0m             ),\n\u001b[1;32m    630\u001b[0m         ]\n",
      "File \u001b[0;32m~/miniconda3/envs/COVID_forecasting/lib/python3.11/site-packages/sklearn/tree/_export.py:310\u001b[0m, in \u001b[0;36m_BaseTreeExporter.node_to_str\u001b[0;34m(self, tree, node_id, criterion)\u001b[0m\n\u001b[1;32m    307\u001b[0m \u001b[39mif\u001b[39;00m tree\u001b[39m.\u001b[39mchildren_left[node_id] \u001b[39m!=\u001b[39m _tree\u001b[39m.\u001b[39mTREE_LEAF:\n\u001b[1;32m    308\u001b[0m     \u001b[39m# Always write node decision criteria, except for leaves\u001b[39;00m\n\u001b[1;32m    309\u001b[0m     \u001b[39mif\u001b[39;00m \u001b[39mself\u001b[39m\u001b[39m.\u001b[39mfeature_names \u001b[39mis\u001b[39;00m \u001b[39mnot\u001b[39;00m \u001b[39mNone\u001b[39;00m:\n\u001b[0;32m--> 310\u001b[0m         feature \u001b[39m=\u001b[39m \u001b[39mself\u001b[39m\u001b[39m.\u001b[39mfeature_names[tree\u001b[39m.\u001b[39mfeature[node_id]]\n\u001b[1;32m    311\u001b[0m     \u001b[39melse\u001b[39;00m:\n\u001b[1;32m    312\u001b[0m         feature \u001b[39m=\u001b[39m \u001b[39m\"\u001b[39m\u001b[39mx\u001b[39m\u001b[39m%s\u001b[39;00m\u001b[39m%s\u001b[39;00m\u001b[39m%s\u001b[39;00m\u001b[39m\"\u001b[39m \u001b[39m%\u001b[39m (\n\u001b[1;32m    313\u001b[0m             characters[\u001b[39m1\u001b[39m],\n\u001b[1;32m    314\u001b[0m             tree\u001b[39m.\u001b[39mfeature[node_id],\n\u001b[1;32m    315\u001b[0m             characters[\u001b[39m2\u001b[39m],\n\u001b[1;32m    316\u001b[0m         )\n",
      "\u001b[0;31mIndexError\u001b[0m: list index out of range"
     ]
    },
    {
     "data": {
      "image/png": "[encoded data removed]",
      "text/plain": [
       "<Figure size 640x480 with 1 Axes>"
      ]
     },
     "metadata": {},
     "output_type": "display_data"
    }
   ],
   "source": [
    "# Create the Decision Tree classifier\n",
    "cv = RepeatedStratifiedKFold(n_splits=10,  n_repeats=10,random_state=1) ## 10-fold cross validations\n",
    "\n",
    "clf = DecisionTreeClassifier(random_state=10, class_weight='balanced')\n",
    "\n",
    "# Perform Randomized Search with 10-fold cross-validation\n",
    "\n",
    "best_params = cross_validation_leave_geo_out(all_HSA_ID_weekly_data, geography_column = geography_column, geo_split = geo_split, no_iterations = no_iterations, cv = cv, classifier = clf, param_grid = param_grid, no_iterations_param = no_iterations_param, no_weeks_train = no_weeks_train,no_weeks_test = no_weeks_test, weeks_in_future = weeks_in_future, weight_col = weight_col, keep_output = keep_output, time_period = time_period)\n",
    "# Create the Decision Tree classifier with the best hyperparameters\n",
    "clf = DecisionTreeClassifier(**best_params, random_state=10, class_weight='balanced')\n",
    "\n",
    "# Train the decision tree classifier\n",
    "clf.fit(X_train, y_train[0],  sample_weight = weights)\n",
    "\n",
    "# Make predictions on the test set\n",
    "y_pred = clf.predict(X_test)\n",
    "y_pred_proba = clf.predict_proba(X_test)\n",
    "\n",
    "# Evaluate the accuracy of the model\n",
    "accuracy = accuracy_score(y_test, y_pred)\n",
    "ROC = roc_auc_score(y_test[0], y_pred_proba[:,1])\n",
    "MCC = (matthews_corrcoef(y_test, y_pred) + 1)/2\n",
    "\n",
    "print(\"MCC:\", MCC)\n",
    "print(\"Accuracy:\", accuracy)\n",
    "print(\"auROC:\", ROC)\n",
    "\n",
    "print(confusion_matrix(y_test, y_pred))\n",
    "plot_tree(clf,feature_names=['Cases', 'Admits','Percent Covid'], class_names=['Below', 'Above'], filled=True, impurity=False, proportion=False, rounded=True, precision=3)"
   ]
  },
  {
   "cell_type": "code",
   "execution_count": null,
   "metadata": {},
   "outputs": [],
   "source": [
    "model_name = f\"CDC_classifier_auroc_{ROC:.4f}_CDC_period_B.sav\"\n",
    "pickle.dump(clf, open(model_name, 'wb'))"
   ]
  },
  {
   "cell_type": "code",
   "execution_count": 124,
   "metadata": {},
   "outputs": [
    {
     "name": "stdout",
     "output_type": "stream",
     "text": [
      "MCC: 0.6845376736735236\n",
      "Accuracy: 0.8783727687837277\n",
      "auROC: 0.6577385433920594\n"
     ]
    }
   ],
   "source": [
    "CDC_Classifier_B = pickle.load(open('/Users/rem76/Documents/COVID_projections/COVID_forecasting/Best_models_123_classifier/CDC_classifier_auroc_0.7975_CDC_period_B.sav', 'rb'))\n",
    "# Train the decision tree classifier\n",
    "#CDC_Classifier_B.fit(X_train, y_train[0],  sample_weight = weights)\n",
    "\n",
    "# Make predictions on the test set\n",
    "y_pred = CDC_Classifier_B.predict(X_test)\n",
    "y_pred_proba_Classifier_B = CDC_Classifier_B.predict_proba(X_test)\n",
    "\n",
    "# Evaluate the accuracy of the model\n",
    "accuracy = accuracy_score(y_test, y_pred)\n",
    "ROC = roc_auc_score(y_test[0], y_pred_proba_Classifier_B[:,1])\n",
    "MCC = (matthews_corrcoef(y_test, y_pred) + 1)/2\n",
    "\n",
    "print(\"MCC:\", MCC)\n",
    "print(\"Accuracy:\", accuracy)\n",
    "print(\"auROC:\", ROC)"
   ]
  },
  {
   "attachments": {},
   "cell_type": "markdown",
   "metadata": {},
   "source": [
    "# Full classifier"
   ]
  },
  {
   "cell_type": "code",
   "execution_count": 48,
   "metadata": {},
   "outputs": [],
   "source": [
    "# Training \n",
    "HSA_weekly_data_all = pd.read_csv(\"/Users/rem76/Documents/COVID_projections/hsa_time_data_all_dates_weekly_incl_NA.csv\")\n",
    "\n",
    "selected_columns_1 = [col for col in HSA_weekly_data_all.columns if 'week_thirty' in col]\n",
    "selected_columns_2 = [col for col in HSA_weekly_data_all.columns if 'week_forty' in col]\n",
    "selected_columns_3 = [col for col in HSA_weekly_data_all.columns if 'week_fifty' in col]\n",
    "selected_columns_4 = [col for col in HSA_weekly_data_all.columns if 'week_sixty' in col]\n",
    "selected_columns_5 = [col for col in HSA_weekly_data_all.columns if 'week_seventy' in col]\n",
    "selected_columns_5 = [col for col in HSA_weekly_data_all.columns if 'week_eighty' in col]\n",
    "\n",
    "\n",
    "all_HSA_ID_weekly_data_full = HSA_weekly_data_all[selected_columns_1 + selected_columns_2 + selected_columns_3 + selected_columns_4 + selected_columns_5 + ['HSA_ID'] + ['weight']]"
   ]
  },
  {
   "cell_type": "code",
   "execution_count": 54,
   "metadata": {},
   "outputs": [],
   "source": [
    "no_iterations = 10\n",
    "geography_column = 'HSA_ID'  \n",
    "geo_split = 0.9  \n",
    "time_period = 'period'  # Choose 'period', 'exact', or 'shifted'\n",
    "size_of_test_dataset = 1\n",
    "train_weeks_for_initial_model = 1\n",
    "weeks_in_future = 3 \n",
    "weight_col = 'weight'  \n",
    "keep_output = True  \n",
    "no_weeks_train =  range(1, int(num_of_weeks*2/3) + 1)  # First 6 months initially \n",
    "no_weeks_test = range(int(num_of_weeks*2/3) + 1, num_of_weeks -2)  # Next three months\n",
    "no_iterations_param = 100  # Replace with the number of iterations for RandomizedSearchCV\n",
    "param_grid = {\n",
    "    'criterion': ['gini', 'entropy'],\n",
    "    'max_depth': np.arange(2, 5, 1),\n",
    "    'min_samples_split': np.arange(200, 2000, 50), #[100, 200, 300, 400, 500], #np.arange(50, 200),\n",
    "    'min_samples_leaf':  np.arange(200, 2000, 50)} #100, 200, 300, 400, 500], #np.arange(500, 200)\n",
    "    #'ccp_alpha': np.arange(0.0001, 0.0035, 0.0001) }\n",
    "weeks_to_predict = range(1, 123 - size_of_test_dataset - 3 - train_weeks_for_initial_model)\n",
    "\n",
    "# Create the Decision Tree classifier\n",
    "cv = RepeatedStratifiedKFold(n_splits=10,  n_repeats=10,random_state=1) ## 10-fold cross validations"
   ]
  },
  {
   "cell_type": "code",
   "execution_count": 55,
   "metadata": {},
   "outputs": [],
   "source": [
    "# Training \n",
    "X_train_full, y_train_full, weights_full, missing_data_train_HSA = prep_training_test_data(all_HSA_ID_weekly_data_full,   no_weeks = range(1, int(num_of_weeks*2/3) + 1), weeks_in_future = 3,  geography = 'HSA_ID', weight_col = 'weight', keep_output = True)\n",
    "\n",
    "X_test_full, y_test_full, weights_test, missing_data_test_HSA = prep_training_test_data(all_HSA_ID_weekly_data_full,   no_weeks = range(int(num_of_weeks*2/3) + 1, num_of_weeks-2), weeks_in_future = 3,  geography = 'HSA_ID',  weight_col = 'weight', keep_output = True)\n",
    "weights = weights_full[0]"
   ]
  },
  {
   "cell_type": "code",
   "execution_count": 80,
   "metadata": {},
   "outputs": [],
   "source": [
    "# Evaluating \n",
    "HSA_weekly_data_all = pd.read_csv(\"/Users/rem76/Documents/COVID_projections/hsa_time_data_all_dates_weekly_incl_NA.csv\")\n",
    "\n",
    "selected_columns_1 = [col for col in HSA_weekly_data_all.columns if 'week_seventy-one' in col]\n",
    "selected_columns_2 = [col for col in HSA_weekly_data_all.columns if 'week_seventy-two' in col]\n",
    "selected_columns_3 = [col for col in HSA_weekly_data_all.columns if 'week_seventy-three' in col]\n",
    "selected_columns_4 = [col for col in HSA_weekly_data_all.columns if 'week_seventy-four' in col]\n",
    "\n",
    "\n",
    "all_HSA_ID_weekly_data_full = HSA_weekly_data_all[selected_columns_1 + selected_columns_2 + selected_columns_3  + selected_columns_4 + ['HSA_ID'] + ['weight']]"
   ]
  },
  {
   "cell_type": "code",
   "execution_count": 82,
   "metadata": {},
   "outputs": [],
   "source": [
    "# Evaluating \n",
    "X_test, y_test, weights_test, missing_data_test_HSA = prep_training_test_data(all_HSA_ID_weekly_data_full,   no_weeks = range(71, 74), weeks_in_future = 3,  geography = 'HSA_ID',  weight_col = 'weight', keep_output = True)\n"
   ]
  },
  {
   "cell_type": "code",
   "execution_count": null,
   "metadata": {},
   "outputs": [],
   "source": [
    "# Create the Decision Tree classifier\n",
    "cv = RepeatedStratifiedKFold(n_splits=10,  n_repeats=10,random_state=1) ## 10-fold cross validations\n",
    "\n",
    "clf = DecisionTreeClassifier(random_state=10, class_weight='balanced')\n",
    "\n",
    "# Perform Randomized Search with 10-fold cross-validation\n",
    "\n",
    "best_params = cross_validation_leave_geo_out(all_HSA_ID_weekly_data, geography_column = geography_column, geo_split = geo_split, no_iterations = no_iterations, cv = cv, classifier = clf, param_grid = param_grid, no_iterations_param = no_iterations_param, no_weeks_train = no_weeks_train,no_weeks_test = no_weeks_test, weeks_in_future = weeks_in_future, weight_col = weight_col, keep_output = keep_output, time_period = time_period)\n",
    "# Create the Decision Tree classifier with the best hyperparameters\n",
    "clf = DecisionTreeClassifier(**best_params, random_state=10, class_weight='balanced')\n",
    "\n",
    "# Train the decision tree classifier\n",
    "clf.fit(X_train_full, y_train_full[0],  sample_weight = weights)\n",
    "\n",
    "# Make predictions on the test set\n",
    "y_pred = clf.predict(X_test_full)\n",
    "y_pred_proba = clf.predict_proba(X_test_full)\n",
    "\n",
    "# Evaluate the accuracy of the model\n",
    "accuracy = accuracy_score(y_test_full, y_pred)\n",
    "ROC = roc_auc_score(y_test_full, y_pred_proba[:,1])\n",
    "MCC = (matthews_corrcoef(y_test_full, y_pred) + 1)/2\n",
    "\n",
    "print(\"MCC:\", MCC)\n",
    "print(\"Accuracy:\", accuracy)\n",
    "print(\"auROC:\", ROC)\n",
    "MCC = (matthews_corrcoef(y_test, y_pred) + 1)/2\n",
    "\n",
    "print(confusion_matrix(y_test, y_pred))"
   ]
  },
  {
   "cell_type": "code",
   "execution_count": null,
   "metadata": {},
   "outputs": [],
   "source": [
    "#model_name = f\"CDC_classifier_auroc_{ROC:.4f}_CDC_period_full.sav\"\n",
    "#pickle.dump(clf, open(model_name, 'wb'))"
   ]
  },
  {
   "cell_type": "code",
   "execution_count": 83,
   "metadata": {},
   "outputs": [
    {
     "ename": "ValueError",
     "evalue": "X has 9 features, but DecisionTreeClassifier is expecting 13 features as input.",
     "output_type": "error",
     "traceback": [
      "\u001b[0;31m---------------------------------------------------------------------------\u001b[0m",
      "\u001b[0;31mValueError\u001b[0m                                Traceback (most recent call last)",
      "Cell \u001b[0;32mIn[83], line 6\u001b[0m\n\u001b[1;32m      1\u001b[0m full_model \u001b[39m=\u001b[39m pickle\u001b[39m.\u001b[39mload(\u001b[39mopen\u001b[39m(\u001b[39m'\u001b[39m\u001b[39m/Users/rem76/Documents/COVID_projections/COVID_forecasting/CDC_classifier_auroc_0.9091_CDC_period_full.sav\u001b[39m\u001b[39m'\u001b[39m, \u001b[39m'\u001b[39m\u001b[39mrb\u001b[39m\u001b[39m'\u001b[39m))\n\u001b[1;32m      2\u001b[0m \u001b[39m# Train the decision tree classifier\u001b[39;00m\n\u001b[1;32m      3\u001b[0m \u001b[39m#full_model.fit(X_train_full, y_train_full[0],  sample_weight = weights)\u001b[39;00m\n\u001b[1;32m      4\u001b[0m \n\u001b[1;32m      5\u001b[0m \u001b[39m# Make predictions on the test set\u001b[39;00m\n\u001b[0;32m----> 6\u001b[0m y_pred \u001b[39m=\u001b[39m full_model\u001b[39m.\u001b[39mpredict(X_test_full)\n\u001b[1;32m      7\u001b[0m y_pred_proba_full \u001b[39m=\u001b[39m full_model\u001b[39m.\u001b[39mpredict_proba(X_test_full)\n",
      "File \u001b[0;32m~/miniconda3/envs/COVID_forecasting/lib/python3.11/site-packages/sklearn/tree/_classes.py:500\u001b[0m, in \u001b[0;36mBaseDecisionTree.predict\u001b[0;34m(self, X, check_input)\u001b[0m\n\u001b[1;32m    477\u001b[0m \u001b[39m\u001b[39m\u001b[39m\"\"\"Predict class or regression value for X.\u001b[39;00m\n\u001b[1;32m    478\u001b[0m \n\u001b[1;32m    479\u001b[0m \u001b[39mFor a classification model, the predicted class for each sample in X is\u001b[39;00m\n\u001b[0;32m   (...)\u001b[0m\n\u001b[1;32m    497\u001b[0m \u001b[39m    The predicted classes, or the predict values.\u001b[39;00m\n\u001b[1;32m    498\u001b[0m \u001b[39m\"\"\"\u001b[39;00m\n\u001b[1;32m    499\u001b[0m check_is_fitted(\u001b[39mself\u001b[39m)\n\u001b[0;32m--> 500\u001b[0m X \u001b[39m=\u001b[39m \u001b[39mself\u001b[39m\u001b[39m.\u001b[39m_validate_X_predict(X, check_input)\n\u001b[1;32m    501\u001b[0m proba \u001b[39m=\u001b[39m \u001b[39mself\u001b[39m\u001b[39m.\u001b[39mtree_\u001b[39m.\u001b[39mpredict(X)\n\u001b[1;32m    502\u001b[0m n_samples \u001b[39m=\u001b[39m X\u001b[39m.\u001b[39mshape[\u001b[39m0\u001b[39m]\n",
      "File \u001b[0;32m~/miniconda3/envs/COVID_forecasting/lib/python3.11/site-packages/sklearn/tree/_classes.py:460\u001b[0m, in \u001b[0;36mBaseDecisionTree._validate_X_predict\u001b[0;34m(self, X, check_input)\u001b[0m\n\u001b[1;32m    458\u001b[0m \u001b[39melse\u001b[39;00m:\n\u001b[1;32m    459\u001b[0m     force_all_finite \u001b[39m=\u001b[39m \u001b[39mTrue\u001b[39;00m\n\u001b[0;32m--> 460\u001b[0m X \u001b[39m=\u001b[39m \u001b[39mself\u001b[39m\u001b[39m.\u001b[39m_validate_data(\n\u001b[1;32m    461\u001b[0m     X,\n\u001b[1;32m    462\u001b[0m     dtype\u001b[39m=\u001b[39mDTYPE,\n\u001b[1;32m    463\u001b[0m     accept_sparse\u001b[39m=\u001b[39m\u001b[39m\"\u001b[39m\u001b[39mcsr\u001b[39m\u001b[39m\"\u001b[39m,\n\u001b[1;32m    464\u001b[0m     reset\u001b[39m=\u001b[39m\u001b[39mFalse\u001b[39;00m,\n\u001b[1;32m    465\u001b[0m     force_all_finite\u001b[39m=\u001b[39mforce_all_finite,\n\u001b[1;32m    466\u001b[0m )\n\u001b[1;32m    467\u001b[0m \u001b[39mif\u001b[39;00m issparse(X) \u001b[39mand\u001b[39;00m (\n\u001b[1;32m    468\u001b[0m     X\u001b[39m.\u001b[39mindices\u001b[39m.\u001b[39mdtype \u001b[39m!=\u001b[39m np\u001b[39m.\u001b[39mintc \u001b[39mor\u001b[39;00m X\u001b[39m.\u001b[39mindptr\u001b[39m.\u001b[39mdtype \u001b[39m!=\u001b[39m np\u001b[39m.\u001b[39mintc\n\u001b[1;32m    469\u001b[0m ):\n\u001b[1;32m    470\u001b[0m     \u001b[39mraise\u001b[39;00m \u001b[39mValueError\u001b[39;00m(\u001b[39m\"\u001b[39m\u001b[39mNo support for np.int64 index based sparse matrices\u001b[39m\u001b[39m\"\u001b[39m)\n",
      "File \u001b[0;32m~/miniconda3/envs/COVID_forecasting/lib/python3.11/site-packages/sklearn/base.py:625\u001b[0m, in \u001b[0;36mBaseEstimator._validate_data\u001b[0;34m(self, X, y, reset, validate_separately, cast_to_ndarray, **check_params)\u001b[0m\n\u001b[1;32m    622\u001b[0m     out \u001b[39m=\u001b[39m X, y\n\u001b[1;32m    624\u001b[0m \u001b[39mif\u001b[39;00m \u001b[39mnot\u001b[39;00m no_val_X \u001b[39mand\u001b[39;00m check_params\u001b[39m.\u001b[39mget(\u001b[39m\"\u001b[39m\u001b[39mensure_2d\u001b[39m\u001b[39m\"\u001b[39m, \u001b[39mTrue\u001b[39;00m):\n\u001b[0;32m--> 625\u001b[0m     \u001b[39mself\u001b[39m\u001b[39m.\u001b[39m_check_n_features(X, reset\u001b[39m=\u001b[39mreset)\n\u001b[1;32m    627\u001b[0m \u001b[39mreturn\u001b[39;00m out\n",
      "File \u001b[0;32m~/miniconda3/envs/COVID_forecasting/lib/python3.11/site-packages/sklearn/base.py:414\u001b[0m, in \u001b[0;36mBaseEstimator._check_n_features\u001b[0;34m(self, X, reset)\u001b[0m\n\u001b[1;32m    411\u001b[0m     \u001b[39mreturn\u001b[39;00m\n\u001b[1;32m    413\u001b[0m \u001b[39mif\u001b[39;00m n_features \u001b[39m!=\u001b[39m \u001b[39mself\u001b[39m\u001b[39m.\u001b[39mn_features_in_:\n\u001b[0;32m--> 414\u001b[0m     \u001b[39mraise\u001b[39;00m \u001b[39mValueError\u001b[39;00m(\n\u001b[1;32m    415\u001b[0m         \u001b[39mf\u001b[39m\u001b[39m\"\u001b[39m\u001b[39mX has \u001b[39m\u001b[39m{\u001b[39;00mn_features\u001b[39m}\u001b[39;00m\u001b[39m features, but \u001b[39m\u001b[39m{\u001b[39;00m\u001b[39mself\u001b[39m\u001b[39m.\u001b[39m\u001b[39m__class__\u001b[39m\u001b[39m.\u001b[39m\u001b[39m__name__\u001b[39m\u001b[39m}\u001b[39;00m\u001b[39m \u001b[39m\u001b[39m\"\u001b[39m\n\u001b[1;32m    416\u001b[0m         \u001b[39mf\u001b[39m\u001b[39m\"\u001b[39m\u001b[39mis expecting \u001b[39m\u001b[39m{\u001b[39;00m\u001b[39mself\u001b[39m\u001b[39m.\u001b[39mn_features_in_\u001b[39m}\u001b[39;00m\u001b[39m features as input.\u001b[39m\u001b[39m\"\u001b[39m\n\u001b[1;32m    417\u001b[0m     )\n",
      "\u001b[0;31mValueError\u001b[0m: X has 9 features, but DecisionTreeClassifier is expecting 13 features as input."
     ]
    }
   ],
   "source": [
    "full_model = pickle.load(open('/Users/rem76/Documents/COVID_projections/COVID_forecasting/CDC_classifier_auroc_0.9091_CDC_period_full.sav', 'rb'))\n",
    "# Train the decision tree classifier\n",
    "#full_model.fit(X_train_full, y_train_full[0],  sample_weight = weights)\n",
    "\n",
    "# Make predictions on the test set\n",
    "y_pred = full_model.predict(X_test_full)\n",
    "y_pred_proba_full = full_model.predict_proba(X_test_full)\n"
   ]
  },
  {
   "attachments": {},
   "cell_type": "markdown",
   "metadata": {},
   "source": [
    "# Net Benefit for CDC Classifier"
   ]
  },
  {
   "cell_type": "code",
   "execution_count": null,
   "metadata": {},
   "outputs": [],
   "source": [
    "def find_net_benefit(y_probabilities, y_true, omega_sequences):   \n",
    "    net_benefit_by_omega = {}\n",
    "    for omega in omega_sequences:\n",
    "        p = omega/(1 + omega)        \n",
    "        y_predict_test = np.where(y_probabilities[:, 1] > p, 1, 0)\n",
    "\n",
    "        tn, fp, fn, tp = confusion_matrix(y_true=y_true, y_pred=y_predict_test).ravel()\n",
    "\n",
    "\n",
    "        net_benefit = tp/(len(y_true)) - (fp/(len(y_true)) * omega)\n",
    "\n",
    "        net_benefit_by_omega[omega] =  net_benefit\n",
    "    return net_benefit_by_omega\n",
    "\n",
    "def get_heatmap_data_for_omega_optimal_threshold(NB_data, weeks_to_predict):\n",
    "        heatmap_data_omega = pd.DataFrame()\n",
    "        \n",
    "        for week in range(1, weeks_to_predict[-1]):\n",
    "                weekly_data = NB_data[week].values()\n",
    "                #weekly_data = list(reversed(weekly_data))\n",
    "                heatmap_data_omega[week] = weekly_data\n",
    "        return heatmap_data_omega\n",
    "def calculate_gain_data(net_benefit_naive, net_benefit_full, threshold_sequences, weeks_to_predict):\n",
    "    # Get heatmap data for the naive and full periods\n",
    "    heatmap_data_naive = get_heatmap_data_for_omega_optimal_threshold(net_benefit_naive, weeks_to_predict)\n",
    "    heatmap_data_full = get_heatmap_data_for_omega_optimal_threshold(net_benefit_full, weeks_to_predict)\n",
    "    \n",
    "    # Calculate gain data\n",
    "    gain_data = heatmap_data_full.subtract(heatmap_data_naive)\n",
    "    \n",
    "    # Add the threshold sequences as an index\n",
    "    gain_data['threshold_sequences'] = threshold_sequences\n",
    "    gain_data.set_index('threshold_sequences', inplace=True)\n",
    "    \n",
    "    return gain_data\n",
    "\n",
    "def find_net_benefit_min_negatives(y_probabilities, y_true, omega_sequences):   \n",
    "    net_benefit_by_omega = {}\n",
    "    for omega in omega_sequences:\n",
    "        p = 1/(1 + omega)        \n",
    "        y_predict_test = np.where(y_probabilities[:, 1] > p, 1, 0)\n",
    "\n",
    "        tn, fp, fn, tp = confusion_matrix(y_true=y_true, y_pred=y_predict_test).ravel()\n",
    "\n",
    "\n",
    "        net_benefit = tn/(len(y_true)) - (fn/(len(y_true)) * omega)\n",
    "\n",
    "        net_benefit_by_omega[omega] =  net_benefit\n",
    "    return net_benefit_by_omega"
   ]
  },
  {
   "cell_type": "code",
   "execution_count": null,
   "metadata": {},
   "outputs": [],
   "source": [
    "omega_sequences = np.arange(0, 4, 0.01)\n",
    "NB_positives_Classifier_A = find_net_benefit(y_pred_proba_Classifier_A, y_test, omega_sequences)\n",
    "#print(NB_positives_Classifier_A)\n",
    "NB_negatives_Classifier_A = find_net_benefit_min_negatives(y_pred_proba_Classifier_A, y_test, omega_sequences)\n",
    "\n",
    "NB_positives_naive = find_net_benefit(y_pred_proba_naive, y_test, omega_sequences)\n",
    "NB_negatives_naive = find_net_benefit_min_negatives(y_pred_proba_naive, y_test, omega_sequences)\n",
    "#print(NB_positives_naive)\n",
    "\n",
    "NB_positives_Classifier_B = find_net_benefit(y_pred_proba_Classifier_B, y_test, omega_sequences)\n",
    "NB_negatives_Classifier_B = find_net_benefit_min_negatives(y_pred_proba_Classifier_B, y_test, omega_sequences)\n",
    "#print(NB_positives_Classifier_B)\n",
    "\n",
    "NB_positives_full = find_net_benefit(y_pred_proba_full, y_test_full, omega_sequences)\n",
    "NB_negatives_full = find_net_benefit_min_negatives(y_pred_proba_full, y_test_full, omega_sequences)\n",
    "#print(NB_positives_full)\n",
    "\n",
    "\n",
    "\n"
   ]
  },
  {
   "attachments": {},
   "cell_type": "markdown",
   "metadata": {},
   "source": [
    "Net benefit of CDC community levels"
   ]
  },
  {
   "cell_type": "code",
   "execution_count": null,
   "metadata": {},
   "outputs": [],
   "source": [
    "TP_CDC_Classifier = sum_high_and_1\n",
    "FP_CDC_Classifier = sum_med_and_1 + sum_low_and_1\n",
    "TN_CDC_Classifier = sum_med_and_0 + sum_low_and_0\n",
    "FN_CDC_Classifier  = sum_high_and_0\n",
    "total_obs = TP_CDC_Classifier + FP_CDC_Classifier + TN_CDC_Classifier + FN_CDC_Classifier\n"
   ]
  },
  {
   "cell_type": "code",
   "execution_count": null,
   "metadata": {},
   "outputs": [],
   "source": [
    "NB_positives_CDC_Community = {}\n",
    "NB_negatives_CDC_Community = {}\n",
    "\n",
    "for omega in omega_sequences:\n",
    "    NB_positives_CDC_Community[omega] =  TP_CDC_Classifier/(total_obs) - (FP_CDC_Classifier/(total_obs) * omega)\n",
    "    NB_negatives_CDC_Community[omega] =  TN_CDC_Classifier/(total_obs) - (FN_CDC_Classifier/(total_obs) * omega)"
   ]
  },
  {
   "attachments": {},
   "cell_type": "markdown",
   "metadata": {},
   "source": [
    "# Plot net benefit "
   ]
  },
  {
   "cell_type": "code",
   "execution_count": null,
   "metadata": {},
   "outputs": [
    {
     "data": {
      "text/plain": [
       "<matplotlib.patches.Polygon at 0x28548aed0>"
      ]
     },
     "execution_count": 166,
     "metadata": {},
     "output_type": "execute_result"
    },
    {
     "data": {
      "image/png": "[encoded data removed]",
      "text/plain": [
       "<Figure size 1500x750 with 1 Axes>"
      ]
     },
     "metadata": {},
     "output_type": "display_data"
    }
   ],
   "source": [
    "# Create a figure and subplots\n",
    "fig, axs = plt.subplots(nrows=1, ncols=2, figsize=(15, 7.5), sharey = 'all')\n",
    "# Plot data on the same plot\n",
    "axs[0].plot(omega_sequences, NB_positives_Classifier_A.values(), label='Classifier A', linewidth = 3, color = palette[0])\n",
    "axs[0].plot(omega_sequences, NB_positives_naive.values(), label='Naive', linewidth = 3, color = palette[2])\n",
    "axs[0].plot(omega_sequences, NB_positives_Classifier_B.values(), label='Classifier B', linewidth = 3, color = palette[3])\n",
    "axs[0].plot(omega_sequences, NB_positives_full.values(), label='Full', linewidth=3, color=palette[4])\n",
    "axs[0].plot(omega_sequences, NB_positives_CDC_Community.values(), label='Community levels', linewidth=3, color=palette[5])\n",
    "axs[0].plot(range(0, len(percent_exceed_capacity)), percent_exceed_capacity, linewidth=1, color='#A0AABA', linestyle='--')\n",
    "\n",
    "\n",
    "axs[0].set_ylim(-5,1)\n",
    "# Add labels and legend\n",
    "axs[0].set_xlabel('Weeks after 2020-07-15',**hfont,  fontsize = 18 )\n",
    "axs[0].set_ylabel('Performance score',**hfont,  fontsize = 18)\n",
    "axs[0].tick_params(axis='both', which='major', labelsize=12)\n",
    "\n",
    "#dd_labels_to_subplots(axs, hfont, 1.01, 24)\n",
    "axs.legend(ncol = 2, loc='lower left')\n",
    "\n",
    "polygon_delta = Polygon([(first_week_delta, 0), (first_week_delta, 100000), (last_week_delta, 100000), (last_week_delta, 0)],\n",
    "                    alpha=0.3, color = '#cdb4db')\n",
    "axs.add_patch(polygon_delta)\n",
    "polygon_omricon = Polygon([(first_week_omricon, 0), (first_week_omricon, 100000), (last_week_omricon, 100000), (last_week_omricon, 0)],\n",
    "                    alpha=0.3)\n",
    "axs.add_patch(polygon_omricon)"
   ]
  },
  {
   "cell_type": "code",
   "execution_count": null,
   "metadata": {},
   "outputs": [
    {
     "data": {
      "text/plain": [
       "<matplotlib.patches.Polygon at 0x2856a91d0>"
      ]
     },
     "execution_count": 169,
     "metadata": {},
     "output_type": "execute_result"
    },
    {
     "data": {
      "image/png": "[encoded data removed]",
      "text/plain": [
       "<Figure size 1500x750 with 1 Axes>"
      ]
     },
     "metadata": {},
     "output_type": "display_data"
    }
   ],
   "source": [
    "# Create a figure and subplots\n",
    "fig, axs = plt.subplots(nrows=1, ncols=1, figsize=(15, 7.5), sharey = 'all')\n",
    "# Plot data on the same plot\n",
    "axs.plot(omega_sequences, NB_negatives_Classifier_A.values(), label='Classifier A', linewidth = 3, color = palette[0])\n",
    "axs.plot(omega_sequences, NB_negatives_naive.values(), label='Naive', linewidth = 3, color = palette[2])\n",
    "axs.plot(omega_sequences, NB_negatives_Classifier_B.values(), label='Classifier B', linewidth = 3, color = palette[3])\n",
    "axs.plot(omega_sequences, NB_negatives_full.values(), label='Full', linewidth=3, color=palette[4])\n",
    "axs.plot(omega_sequences, NB_negatives_CDC_Community.values(), label='Community levels', linewidth=3, color=palette[5])\n",
    "#axs.plot(omega_sequences, NB_negatives_CDC_Community.values(), label='MCC', linewidth=3, color=palette[6])\n",
    "\n",
    "axs.plot(range(0, len(percent_exceed_capacity)), percent_exceed_capacity, linewidth=1, color='#A0AABA', linestyle='--')\n",
    "\n",
    "\n",
    "axs.set_ylim(-.4,.2)\n",
    "# Add labels and legend\n",
    "axs.set_xlabel('Weeks after 2020-07-15',**hfont,  fontsize = 18 )\n",
    "axs.set_ylabel('Performance score',**hfont,  fontsize = 18)\n",
    "axs.tick_params(axis='both', which='major', labelsize=12)\n",
    "\n",
    "#dd_labels_to_subplots(axs, hfont, 1.01, 24)\n",
    "axs.legend(ncol = 2, loc='lower left')\n",
    "\n",
    "polygon_delta = Polygon([(first_week_delta, 0), (first_week_delta, 100000), (last_week_delta, 100000), (last_week_delta, 0)],\n",
    "                    alpha=0.3, color = '#cdb4db')\n",
    "axs.add_patch(polygon_delta)\n",
    "polygon_omricon = Polygon([(first_week_omricon, 0), (first_week_omricon, 100000), (last_week_omricon, 100000), (last_week_omricon, 0)],\n",
    "                    alpha=0.3)\n",
    "axs.add_patch(polygon_omricon)"
   ]
  },
  {
   "attachments": {},
   "cell_type": "markdown",
   "metadata": {},
   "source": [
    "# Maximum regret"
   ]
  },
  {
   "cell_type": "code",
   "execution_count": null,
   "metadata": {},
   "outputs": [],
   "source": [
    "def calculate_maximum_reget(metric, metrics_by_model, models, time_period, weeks_to_predict):\n",
    "    metric_data = metrics_by_model[metric]\n",
    "\n",
    "    maximum_regret_by_model = {model: [] for model in models}\n",
    "    for j, prediction_week in enumerate(weeks_to_predict):\n",
    "        best_metric = float('-inf') \n",
    "\n",
    "        for i, m in enumerate(metric_data): \n",
    "            m = list(metric_data.values())[i]\n",
    "            model_metric = m[prediction_week]\n",
    "            if model_metric >= best_metric:\n",
    "                        best_metric = model_metric\n",
    "\n",
    "        \n",
    "        for i, m  in enumerate(metric_data): \n",
    "            m = list(metric_data.values())[i]\n",
    "            model_metric = m[prediction_week]            \n",
    "            model = models[i]\n",
    "            if model_metric >= best_metric:\n",
    "                    maximum_regret_by_model[model].append(0)\n",
    "            else:\n",
    "                    maximum_regret_by_model[model].append(best_metric - model_metric)   \n",
    "\n",
    "    return maximum_regret_by_model"
   ]
  },
  {
   "cell_type": "code",
   "execution_count": null,
   "metadata": {},
   "outputs": [],
   "source": [
    "all_metrics = {}\n",
    "all_metrics['MCC'] = {'CDC_Community': [0.629], 'CDC_A': [0.682],'CDC_B': [0.715], 'Naive':[0.715], 'Full': [0.694]}\n",
    "all_metrics['ROC'] = {'CDC_Community':[0.663], 'CDC_A': [0.760],'CDC_B': [0.798], 'Naive': [0.720], 'Full':[0.909]}\n",
    "all_metrics['accuracy'] = {'CDC_Community':[0.499], 'CDC_A': [.90], 'CDC_B': [0.932], 'Naive': [0.931], 'Full':[0.831]}\n",
    "\n",
    "models = ['CDC_Community', 'CDC_A', 'CDC_B', 'Naive', 'Full']"
   ]
  },
  {
   "cell_type": "code",
   "execution_count": null,
   "metadata": {},
   "outputs": [],
   "source": [
    "maximum_regret_by_model_MCC =calculate_maximum_reget('MCC', all_metrics, models, time_period, [0])\n",
    "maximum_regret_by_model_ROC =calculate_maximum_reget('ROC', all_metrics, models, time_period,[ 0])\n",
    "maximum_regret_by_model_accuracy =calculate_maximum_reget('accuracy', all_metrics, models, time_period, [0])"
   ]
  },
  {
   "cell_type": "code",
   "execution_count": null,
   "metadata": {},
   "outputs": [
    {
     "data": {
      "text/plain": [
       "{'CDC_Community': [0.246],\n",
       " 'CDC_A': [0.14900000000000002],\n",
       " 'CDC_B': [0.11099999999999999],\n",
       " 'Naive': [0.18900000000000006],\n",
       " 'Full': [0]}"
      ]
     },
     "execution_count": 228,
     "metadata": {},
     "output_type": "execute_result"
    }
   ],
   "source": [
    "maximum_regret_by_model_ROC"
   ]
  }
 ],
 "metadata": {
  "kernelspec": {
   "display_name": "COVID_forecasting",
   "language": "python",
   "name": "python3"
  },
  "language_info": {
   "codemirror_mode": {
    "name": "ipython",
    "version": 3
   },
   "file_extension": ".py",
   "mimetype": "text/x-python",
   "name": "python",
   "nbconvert_exporter": "python",
   "pygments_lexer": "ipython3",
   "version": "3.11.3"
  },
  "orig_nbformat": 4,
  "vscode": {
   "interpreter": {
    "hash": "a72d884e172d11118bfdfb578e108fb6b63a679c74d3d7d2f9d493a9a72737c0"
   }
  }
 },
 "nbformat": 4,
 "nbformat_minor": 2
}
