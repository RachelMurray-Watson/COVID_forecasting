{
 "cells": [
  {
   "cell_type": "code",
   "execution_count": 38,
   "metadata": {},
   "outputs": [],
   "source": [
    "#%reset\n",
    "import matplotlib.pyplot as plt\n",
    "import pandas as pd\n",
    "import numpy as np\n",
    "from sklearn import tree\n",
    "from sklearn.tree import DecisionTreeClassifier, plot_tree\n",
    "from sklearn.metrics import accuracy_score, confusion_matrix, auc \n",
    "from sklearn.preprocessing import OneHotEncoder\n",
    "from num2words import num2words\n",
    "from sklearn.model_selection import RandomizedSearchCV, cross_val_score, KFold, RepeatedStratifiedKFold\n",
    "from sklearn.metrics import f1_score, matthews_corrcoef, roc_auc_score\n",
    "import word2number\n",
    "from word2number import w2n\n",
    "from sklearn.tree import DecisionTreeClassifier\n",
    "import pickle\n",
    "from matplotlib.font_manager import FontProperties\n",
    "\n"
   ]
  },
  {
   "cell_type": "code",
   "execution_count": 16,
   "metadata": {},
   "outputs": [],
   "source": [
    "def determine_covid_outcome_indicator(new_cases_per_100k, new_admits_per_100k, percent_beds_100k):\n",
    "    if new_cases_per_100k < 200:\n",
    "        if (new_admits_per_100k >= 10) | (percent_beds_100k > 0.10): \n",
    "            if (new_admits_per_100k >= 20) | (percent_beds_100k >= 15):\n",
    "                return 1\n",
    "            else:\n",
    "                return 0\n",
    "        else:\n",
    "            return 0\n",
    "    elif new_cases_per_100k >= 200:\n",
    "        if (new_admits_per_100k >= 10) | (percent_beds_100k >= 0.10):  \n",
    "                return 1\n",
    "        elif (new_admits_per_100k < 10) | (percent_beds_100k < 10):\n",
    "                return 1\n"
   ]
  },
  {
   "cell_type": "code",
   "execution_count": 17,
   "metadata": {},
   "outputs": [],
   "source": [
    "def merge_and_rename_data(data1, data2, on_column, suffix1, suffix2):\n",
    "    merged_data = pd.merge(data1, data2, on=on_column, suffixes=('_'+suffix1, '_'+suffix2))\n",
    "\n",
    "    new_column_names = [col.replace(f'_{on_column}_{suffix1}', f'_{suffix1}').replace(f'_{on_column}_{suffix2}', f'_{suffix2}') for col in merged_data.columns]\n",
    "    merged_data.rename(columns=dict(zip(merged_data.columns, new_column_names)), inplace=True)\n",
    "\n",
    "    return merged_data\n",
    "\n",
    "def pivot_data_by_HSA(data, index_column, columns_column, values_column):\n",
    "    data_by_HSA = data[[index_column, columns_column, values_column]]\n",
    "    pivot_table = data_by_HSA.pivot_table(index=index_column, columns=columns_column, values=values_column)\n",
    "    return pivot_table\n",
    "\n",
    "def create_column_names(categories_for_subsetting, num_of_weeks):\n",
    "    column_names = ['HSA_ID']\n",
    "\n",
    "    for week in range(1, num_of_weeks + 1):\n",
    "        week = num2words(week)\n",
    "        for category in categories_for_subsetting:\n",
    "            column_name = f'week_{week}_{category}'\n",
    "            column_names.append(column_name)\n",
    "\n",
    "    return column_names\n",
    "    \n",
    "def create_collated_weekly_data(pivoted_table, original_data, categories_for_subsetting, geography, column_names):\n",
    "    collated_data = pd.DataFrame(index=range(51), columns=column_names)\n",
    "\n",
    "    x = 0\n",
    "    for geo in original_data[geography].unique():\n",
    "        #matching_indices = [i for i, geo_col in enumerate(pivoted_table) if geo_col == geo]\n",
    "        collated_data.loc[x, geography] = geo\n",
    "        columns_to_subset = [f'{geo}_{category}' for category in categories_for_subsetting]\n",
    "        j = 1\n",
    "        try:\n",
    "            for row in range(len(pivoted_table.loc[:, columns_to_subset])):\n",
    "                collated_data.iloc[x, j:j + len(categories_for_subsetting)] = pivoted_table.loc[row, columns_to_subset]\n",
    "                j += len(categories_for_subsetting)\n",
    "        except:\n",
    "            pass\n",
    "        x += 1\n",
    "\n",
    "    return collated_data\n",
    "\n",
    "\n",
    "def add_changes_by_week(weekly_data_frame, outcome_column):\n",
    "\n",
    "    for column in weekly_data_frame.columns[1:]:\n",
    "        # Calculate the difference between each row and the previous row\n",
    "        if outcome_column not in column.lower(): #want to leave out the outcome column\n",
    "            diff = weekly_data_frame[column].diff()\n",
    "            \n",
    "            # Create a new column with the original column name and \"delta\"\n",
    "            new_column_name = column + \"_delta\"\n",
    "            \n",
    "            column_index = weekly_data_frame.columns.get_loc(column)\n",
    "            \n",
    "            # Insert the new column just after the original column\n",
    "            weekly_data_frame.insert(column_index + 1, new_column_name, diff)\n",
    "            weekly_data_frame[new_column_name] = diff\n",
    "    return weekly_data_frame\n",
    "\n",
    "\n",
    "def prep_training_test_data_period(data, no_weeks, weeks_in_futre, if_train, geography, weight_col, keep_output):\n",
    "## Get the weeks for the x and y datasets   \n",
    "    x_weeks = []  \n",
    "    y_weeks = []\n",
    "    y_weeks_to_check = [] #check these weeks to see if any of them are equal to 1\n",
    "    for week in no_weeks:\n",
    "        test_week = int(week) + weeks_in_futre\n",
    "        x_weeks.append('_' + num2words(week) + '_')\n",
    "        for week_y in range(week+1, test_week+1):\n",
    "                y_weeks_to_check.append('_' + num2words(week_y) + '_')\n",
    "        y_weeks.append('_' + num2words(test_week) + '_')\n",
    "    \n",
    "## Divide up the test/train split\n",
    "    #if is_geographic:\n",
    "        # Calculate the index to start slicing from\n",
    "    #    start_index = len(data['county']) // proportion[0] * proportion[1]\n",
    "        # Divide up the dataset based on this proportion\n",
    "    #    first_two_thirds = data['county'][:start_index]\n",
    "    #    last_third = data['county'][start_index:]\n",
    "    X_data = pd.DataFrame()\n",
    "    y_data = pd.DataFrame()\n",
    "    weights_all =  pd.DataFrame()\n",
    "    missing_data = []\n",
    "    ## Now get the training data \n",
    "    k = 0\n",
    "    for x_week in x_weeks:\n",
    "            y_week = y_weeks[k]\n",
    "            k +=1\n",
    "\n",
    "            weeks_x = [col for col in data.columns if x_week in col]\n",
    "            columns_x  = [geography] + weeks_x + [weight_col]\n",
    "            data_x = data[columns_x]\n",
    "\n",
    "            weeks_y = [col for col in data.columns if y_week in col]\n",
    "            columns_y  = [geography] + weeks_y\n",
    "            data_y = data[columns_y]\n",
    "            ### now add the final column to the y data that has it so that it's if any week in the trhee week perdiod exceeded 15\n",
    "            train_week = w2n.word_to_num(x_week.replace(\"_\", \"\"))\n",
    "            target_week =  w2n.word_to_num(y_week.replace(\"_\", \"\"))\n",
    "            y_weeks_to_check = []\n",
    "            for week_to_check in range(train_week + 1, target_week + 1):\n",
    "                y_weeks_to_check.append('_' + num2words(week_to_check) + '_')\n",
    "\n",
    "            y_weeks_to_check = [week + 'beds_over_15_100k' for week in y_weeks_to_check]\n",
    "            columns_to_check = [col for col in data.columns if any(week in col for week in y_weeks_to_check)]\n",
    "            y_over_in_period = data[columns_to_check].apply(max, axis=1)\n",
    "            data_y = pd.concat([data_y, y_over_in_period], axis=1)\n",
    "            # ensure they have the same amount of data\n",
    "            #remove rows in test_data1 with NA in test_data2\n",
    "            data_x = data_x.dropna()\n",
    "            data_x = data_x[data_x[geography].isin(data_y[geography])]\n",
    "            # remove rows in test_data2 with NA in test_data1\n",
    "            data_y = data_y.dropna()\n",
    "            data_y = data_y[data_y[geography].isin(data_x[geography])]\n",
    "            data_x = data_x[data_x[geography].isin(data_y[geography])]\n",
    "            data_x_no_HSA = len(data_x[geography].unique())\n",
    "\n",
    "            missing_data.append(((len(data[geography].unique()) - data_x_no_HSA)/len(data[geography].unique())) * 100)\n",
    "            # get weights \n",
    "            #weights = weight_data[weight_data[geography].isin(data_x[geography])][[geography, weight_col]]\n",
    "\n",
    "            X_week = data_x.iloc[:, 1:len(columns_x)]  # take away y, leave weights for mo\n",
    "            y_week = data_y.iloc[:, -1] \n",
    "            \n",
    "            y_week = y_week.astype(int)\n",
    "            if if_train:\n",
    "\n",
    "                 X_week, y_week = oversample.fit_resample(X_week, y_week)\n",
    "            weights = X_week.iloc[:, -1] \n",
    "            if keep_output:\n",
    "                X_week = X_week.iloc[:, :len(X_week.columns)-1] # remove the weights and  \"target\" for that week\n",
    "\n",
    "                #rename columns for concatenation \n",
    "                X_week.columns = range(1, len(data_x.columns) -1)\n",
    "            else:\n",
    "                X_week = X_week.iloc[:, :len(X_week.columns)-2] # remove the weights and  \"target\" for that week\n",
    "            y_week.columns = range(1, len(data_y.columns) -2)\n",
    "            X_data = pd.concat([X_data, X_week])\n",
    "            y_data = pd.concat([y_data, y_week]) \n",
    "        \n",
    "            weights_all =  pd.concat([weights_all, weights]) \n",
    "\n",
    "\n",
    "    X_data.reset_index(drop=True, inplace=True)\n",
    "    y_data.reset_index(drop=True, inplace=True)\n",
    "    weights_all.reset_index(drop=True, inplace=True)\n",
    "\n",
    "    return(X_data, y_data, weights_all, missing_data)\n",
    "\n",
    "\n",
    "def prep_training_test_data(data, no_weeks, weeks_in_futre, if_train, geography, weight_col, keep_output):\n",
    "## Get the weeks for the x and y datasets   \n",
    "    x_weeks = []  \n",
    "    y_weeks = []\n",
    "    for week in no_weeks:\n",
    "        test_week = int(week) + weeks_in_futre\n",
    "        x_weeks.append('_' + num2words(week) + '_')\n",
    "        y_weeks.append('_' + num2words(test_week) + '_')\n",
    "    \n",
    "## Divide up the test/train split\n",
    "    #if is_geographic:\n",
    "        # Calculate the index to start slicing from\n",
    "    #    start_index = len(data['county']) // proportion[0] * proportion[1]\n",
    "        # Divide up the dataset based on this proportion\n",
    "    #    first_two_thirds = data['county'][:start_index]\n",
    "    #    last_third = data['county'][start_index:]\n",
    "    X_data = pd.DataFrame()\n",
    "    y_data = pd.DataFrame()\n",
    "    weights_all =  pd.DataFrame()\n",
    "    missing_data = []\n",
    "    ## Now get the training data \n",
    "    for x_week in x_weeks:\n",
    "            y_week = y_weeks[0]\n",
    "            weeks_x = [col for col in data.columns if x_week in col]\n",
    "            columns_x  = [geography] + weeks_x + [weight_col]\n",
    "            data_x = data[columns_x]\n",
    "\n",
    "            weeks_y = [col for col in data.columns if y_week in col]\n",
    "            columns_y  = [geography] + weeks_y\n",
    "            data_y = data[columns_y]\n",
    "            # ensure they have the same amount of data\n",
    "            #remove rows in test_data1 with NA in test_data2\n",
    "            data_x = data_x.dropna()\n",
    "            data_x = data_x[data_x[geography].isin(data_y[geography])]\n",
    "            # remove rows in test_data2 with NA in test_data1\n",
    "            data_y = data_y.dropna()\n",
    "            data_y = data_y[data_y[geography].isin(data_x[geography])]\n",
    "            data_x = data_x[data_x[geography].isin(data_y[geography])]\n",
    "            data_x_no_HSA = len(data_x[geography].unique())\n",
    "\n",
    "            missing_data.append(((len(data[geography].unique()) - data_x_no_HSA)/len(data[geography].unique())) * 100)\n",
    "            # get weights \n",
    "            #weights = weight_data[weight_data[geography].isin(data_x[geography])][[geography, weight_col]]\n",
    "\n",
    "            X_week = data_x.iloc[:, 1:len(columns_x)]  # take away y, leave weights for mo\n",
    "            y_week = data_y.iloc[:, -1] \n",
    "            \n",
    "            y_week = y_week.astype(int)\n",
    "            if if_train:\n",
    "\n",
    "                 X_week, y_week = oversample.fit_resample(X_week, y_week)\n",
    "            weights = X_week.iloc[:, -1] \n",
    "            if keep_output:\n",
    "                X_week = X_week.iloc[:, :len(X_week.columns)-1] # remove the weights and leave \"target\" for that week\n",
    "\n",
    "                #rename columns for concatenation \n",
    "                X_week.columns = range(1, len(data_x.columns) -1)\n",
    "            else:\n",
    "                X_week = X_week.iloc[:, :len(X_week.columns)-2] # remove the weights and  \"target\" for that week\n",
    "\n",
    "                X_week.columns = range(1, len(data_x.columns) -2)# remove the weights and  \"target\" for that week\n",
    "\n",
    "                #rename columns for concatenation \n",
    "            y_week.columns = range(1, len(data_y.columns) -1)\n",
    "            X_data = pd.concat([X_data, X_week])\n",
    "            y_data = pd.concat([y_data, y_week]) \n",
    "        \n",
    "            weights_all =  pd.concat([weights_all, weights]) \n",
    "\n",
    "\n",
    "    X_data.reset_index(drop=True, inplace=True)\n",
    "    y_data.reset_index(drop=True, inplace=True)\n",
    "    weights_all.reset_index(drop=True, inplace=True)\n",
    "\n",
    "    return(X_data, y_data, weights_all, missing_data)\n",
    "\n",
    "def calculate_ppv_npv(confusion_matrix):\n",
    "    # Extract values from the confusion matrix\n",
    "    TP = confusion_matrix[1, 1]\n",
    "    FP = confusion_matrix[0, 1]\n",
    "    TN = confusion_matrix[0, 0]\n",
    "    FN = confusion_matrix[1, 0]\n",
    "\n",
    "    # Calculate PPV (Precision) and NPV\n",
    "    ppv = TP / (TP + FP) if (TP + FP) > 0 else 0.0\n",
    "    npv = TN / (TN + FN) if (TN + FN) > 0 else 0.0\n",
    "\n",
    "    return ppv, npv"
   ]
  },
  {
   "attachments": {},
   "cell_type": "markdown",
   "metadata": {},
   "source": [
    "Data prep\n",
    "For the CDC, they only use three metrics: new_cases_per_100k, new_admits_per_100k, percent_beds_100k"
   ]
  },
  {
   "cell_type": "code",
   "execution_count": 18,
   "metadata": {},
   "outputs": [
    {
     "name": "stderr",
     "output_type": "stream",
     "text": [
      "/var/folders/d4/chxwf4hs5kq7ttsp56s64z65mjk3qj/T/ipykernel_51666/3165355871.py:1: DtypeWarning: Columns (41,43,44,45,46,50,51) have mixed types. Specify dtype option on import or set low_memory=False.\n",
      "  data_by_HSA = pd.read_csv('/Users/rem76/Documents/COVID_projections/hsa_time_data_all_dates.csv')\n"
     ]
    }
   ],
   "source": [
    "data_by_HSA = pd.read_csv('/Users/rem76/Documents/COVID_projections/hsa_time_data_all_dates.csv')\n",
    "data_by_HSA['health_service_area_number']\n",
    "data_by_HSA['health_service_area']\n",
    "#data_by_HSA['HSA_ID'] = data_by_HSA['health_service_area_number'].astype(str) + '' + data_by_HSA['health_service_area'].apply(lambda x: x.split()[0])\n",
    "data_by_HSA.rename(columns={'health_service_area_number': 'HSA_ID'}, inplace=True)\n",
    "\n",
    "data_by_HSA['beds_over_15_100k'] = (data_by_HSA['beds_weekly'] > 15)*1\n",
    "\n",
    "# remove HSAs that have missing data in specific columns\n",
    "\n",
    "data_by_HSA = data_by_HSA.dropna(subset=['admits_weekly', 'deaths_weekly', 'cases_weekly', 'icu_weekly', 'beds_weekly', 'perc_covid'])"
   ]
  },
  {
   "cell_type": "code",
   "execution_count": 19,
   "metadata": {},
   "outputs": [],
   "source": [
    "\n",
    "for i, week in enumerate(data_by_HSA['date'].unique()):\n",
    "    data_by_HSA.loc[data_by_HSA['date'] == week, 'week'] = i"
   ]
  },
  {
   "cell_type": "code",
   "execution_count": 20,
   "metadata": {},
   "outputs": [],
   "source": [
    "## pivot \n",
    "data_by_HSA_cases = pivot_data_by_HSA(data_by_HSA, 'week', 'HSA_ID', 'cases_weekly')\n",
    "data_by_HSA_admissions = pivot_data_by_HSA(data_by_HSA, 'week', 'HSA_ID', 'admits_weekly')\n",
    "data_by_HSA_percent_beds = pivot_data_by_HSA(data_by_HSA, 'week', 'HSA_ID', 'perc_covid')\n",
    "data_by_HSA_over_15_100k = pivot_data_by_HSA(data_by_HSA, 'week', 'HSA_ID', 'beds_over_15_100k')\n",
    "\n",
    "## merge \n",
    "data_by_HSA_cases_admits = merge_and_rename_data(data_by_HSA_cases, data_by_HSA_admissions,'week','cases', 'admits')\n",
    "data_by_HSA_admits_perc_outcome = merge_and_rename_data(data_by_HSA_percent_beds, data_by_HSA_over_15_100k,'week','perc_covid', 'beds_over_15_100k')\n",
    "data_by_HSA_cases_admits_perc_outcome= pd.merge(data_by_HSA_cases_admits, data_by_HSA_admits_perc_outcome, on='week')\n",
    "\n",
    "\n",
    "data_by_HSA_cases_admits_perc_outcome = data_by_HSA_cases_admits_perc_outcome.reset_index()\n",
    "data_by_HSA_cases_admits_perc_outcome.columns = data_by_HSA_cases_admits_perc_outcome.columns.str.replace(',', '')"
   ]
  },
  {
   "cell_type": "code",
   "execution_count": 21,
   "metadata": {},
   "outputs": [],
   "source": [
    "categories_for_subsetting = ['cases', 'admits','perc_covid', 'beds_over_15_100k']\n",
    "num_of_weeks = len(data_by_HSA_cases_admits_perc_outcome)\n",
    "column_names = create_column_names(categories_for_subsetting, num_of_weeks)"
   ]
  },
  {
   "cell_type": "code",
   "execution_count": 22,
   "metadata": {},
   "outputs": [],
   "source": [
    "all_HSA_ID_weekly_data = create_collated_weekly_data(data_by_HSA_cases_admits_perc_outcome, data_by_HSA, categories_for_subsetting, 'HSA_ID', column_names)"
   ]
  },
  {
   "cell_type": "code",
   "execution_count": 23,
   "metadata": {},
   "outputs": [],
   "source": [
    "weights_df = data_by_HSA[data_by_HSA['HSA_ID'].isin(all_HSA_ID_weekly_data['HSA_ID'])][['HSA_ID','weight_alt']]\n",
    "weights_df = weights_df.rename(columns = {'HSA_ID': 'HSA_ID', 'weight_alt':'weight'})\n",
    "weights_df = weights_df.drop_duplicates()\n",
    "weights_df['weight'].unique()\n",
    "all_HSA_ID_weekly_data = all_HSA_ID_weekly_data.join(weights_df['weight'])"
   ]
  },
  {
   "attachments": {},
   "cell_type": "markdown",
   "metadata": {},
   "source": [
    "Looking at all weeks"
   ]
  },
  {
   "cell_type": "code",
   "execution_count": 24,
   "metadata": {},
   "outputs": [],
   "source": [
    "indicators, actual_outcome, weights, missing_data_train_HSA = prep_training_test_data(all_HSA_ID_weekly_data,  no_weeks = range(1, 123), weeks_in_futre = 3, if_train = False, geography = 'HSA_ID', weight_col = 'weight', keep_output = False)\n",
    "weights = weights[0].to_numpy()"
   ]
  },
  {
   "attachments": {},
   "cell_type": "markdown",
   "metadata": {},
   "source": [
    "Just compare the High vs >15 per 100k in the week of interest (no time lag)"
   ]
  },
  {
   "attachments": {},
   "cell_type": "markdown",
   "metadata": {},
   "source": [
    "# Get CDC predictions from the X data\n",
    " y data is the actual outcome"
   ]
  },
  {
   "cell_type": "code",
   "execution_count": 26,
   "metadata": {},
   "outputs": [],
   "source": [
    "CDC_predictions = pd.DataFrame(index=data_by_HSA_cases_admits_perc_outcome['week'])\n",
    "\n",
    "for idx, row in indicators.iterrows():\n",
    "    outcome = determine_covid_outcome_indicator(row[1], row[2], row[3])\n",
    "    CDC_predictions.at[idx, 0] = outcome"
   ]
  },
  {
   "cell_type": "code",
   "execution_count": 27,
   "metadata": {},
   "outputs": [
    {
     "name": "stdout",
     "output_type": "stream",
     "text": [
      "0.48180921255472653\n",
      "0.5092631616895577\n"
     ]
    }
   ],
   "source": [
    "comparison_result = actual_outcome.values == CDC_predictions.values\n",
    "correct_predictions = comparison_result.sum()\n",
    "\n",
    "# Calculate the total number of predictions (total number of elements in the DataFrames)\n",
    "total_predictions = actual_outcome.size\n",
    "accuracy = correct_predictions / total_predictions\n",
    "print(accuracy)\n",
    "\n",
    "auroc = roc_auc_score(actual_outcome,CDC_predictions)\n",
    "print(auroc)"
   ]
  },
  {
   "cell_type": "code",
   "execution_count": 28,
   "metadata": {},
   "outputs": [
    {
     "name": "stdout",
     "output_type": "stream",
     "text": [
      "0.5934736200060994\n",
      "0.42505270337301587\n",
      "0.6728914627861893\n",
      "0.34411416243744586\n"
     ]
    }
   ],
   "source": [
    "# Convert predicted probabilities to binary predictions using a threshold (e.g., 0.5)\n",
    "conf_matrix = confusion_matrix(actual_outcome,CDC_predictions)\n",
    "\n",
    "TN = conf_matrix[0, 0]\n",
    "FP = conf_matrix[0, 1]\n",
    "FN = conf_matrix[1, 0]\n",
    "TP = conf_matrix[1, 1]\n",
    "\n",
    "# Calculate specificity (true negative rate)\n",
    "specificity = TN / (TN + FP)\n",
    "print(specificity)\n",
    "# Calculate sensitivity (true positive rate)\n",
    "sensitivity = TP / (TP + FN)\n",
    "print(sensitivity)\n",
    "\n",
    "ppv, npv = calculate_ppv_npv(conf_matrix)\n",
    "print(ppv)\n",
    "print(npv)"
   ]
  },
  {
   "attachments": {},
   "cell_type": "markdown",
   "metadata": {},
   "source": [
    "# Directly compare probability that it will be \"high\" and >15 per 100k"
   ]
  },
  {
   "cell_type": "code",
   "execution_count": 29,
   "metadata": {},
   "outputs": [],
   "source": [
    "def determine_covid_outcome_indicator(new_cases_per_100k, new_admits_per_100k, percent_beds_100k):\n",
    "    if new_cases_per_100k < 200:\n",
    "        if (new_admits_per_100k >= 10) | (percent_beds_100k > 0.10):  # Changed .10 to 0.10\n",
    "            if (new_admits_per_100k >= 20) | (percent_beds_100k >= 15):\n",
    "                return \"High\"\n",
    "            else:\n",
    "                return \"Medium\"\n",
    "        else:\n",
    "            return \"Low\" \n",
    "    elif new_cases_per_100k >= 200:\n",
    "        if (new_admits_per_100k >= 10) | (percent_beds_100k >= 0.10):  # Changed .10 to 0.10\n",
    "                return \"High\"\n",
    "        elif (new_admits_per_100k < 10) | (percent_beds_100k < 10):\n",
    "                return  \"Medium\"\n"
   ]
  },
  {
   "attachments": {},
   "cell_type": "markdown",
   "metadata": {},
   "source": [
    "For all weeks"
   ]
  },
  {
   "cell_type": "code",
   "execution_count": 30,
   "metadata": {},
   "outputs": [],
   "source": [
    "CDC_predictions_levels = pd.DataFrame(index=data_by_HSA_cases_admits_perc_outcome['week'])\n",
    "\n",
    "for idx, row in indicators.iterrows():\n",
    "    outcome = determine_covid_outcome_indicator(row[1], row[2], row[3])\n",
    "    CDC_predictions_levels.at[idx, 0] = outcome"
   ]
  },
  {
   "attachments": {},
   "cell_type": "markdown",
   "metadata": {},
   "source": [
    "How many were predicted low/medium/high that ended up like that "
   ]
  },
  {
   "cell_type": "code",
   "execution_count": 31,
   "metadata": {},
   "outputs": [
    {
     "name": "stdout",
     "output_type": "stream",
     "text": [
      "Percentage High and 1: 69.67%\n",
      "Percentage Medium and 1: 66.08%\n",
      "Percentage Low and 1: 63.76%\n"
     ]
    },
    {
     "name": "stderr",
     "output_type": "stream",
     "text": [
      "/var/folders/d4/chxwf4hs5kq7ttsp56s64z65mjk3qj/T/ipykernel_51666/831232160.py:5: FutureWarning: Calling float on a single element Series is deprecated and will raise a TypeError in the future. Use float(ser.iloc[0]) instead\n",
      "  print(\"Percentage High and 1: {:.2f}%\".format(float(percentage_high_and_1)))\n",
      "/var/folders/d4/chxwf4hs5kq7ttsp56s64z65mjk3qj/T/ipykernel_51666/831232160.py:11: FutureWarning: Calling float on a single element Series is deprecated and will raise a TypeError in the future. Use float(ser.iloc[0]) instead\n",
      "  print(\"Percentage Medium and 1: {:.2f}%\".format(float(percentage_med_and_1)))\n",
      "/var/folders/d4/chxwf4hs5kq7ttsp56s64z65mjk3qj/T/ipykernel_51666/831232160.py:17: FutureWarning: Calling float on a single element Series is deprecated and will raise a TypeError in the future. Use float(ser.iloc[0]) instead\n",
      "  print(\"Percentage Low and 1: {:.2f}%\".format(float(percentage_low_and_1)))\n"
     ]
    }
   ],
   "source": [
    "\n",
    "# Calculate the percentage of cases where the predicted CDC risk level is 'High' and actual outcome is 1\n",
    "sum_high_and_1 = np.sum((CDC_predictions_levels == 'High') & (actual_outcome == 1))\n",
    "total_high_predictions = np.sum(CDC_predictions_levels == 'High')\n",
    "percentage_high_and_1 = (sum_high_and_1 / total_high_predictions) * 100\n",
    "print(\"Percentage High and 1: {:.2f}%\".format(float(percentage_high_and_1)))\n",
    "\n",
    "# Calculate the percentage of cases where the predicted CDC risk level is 'Medium' and actual outcome is 1\n",
    "sum_med_and_1 = np.sum((CDC_predictions_levels == 'Medium') & (actual_outcome == 1))\n",
    "total_med_predictions = np.sum(CDC_predictions_levels == 'Medium')\n",
    "percentage_med_and_1 = (sum_med_and_1 / total_med_predictions) * 100\n",
    "print(\"Percentage Medium and 1: {:.2f}%\".format(float(percentage_med_and_1)))\n",
    "\n",
    "# Calculate the percentage of cases where the predicted CDC risk level is 'Low' and actual outcome is 1\n",
    "sum_low_and_1 = np.sum((CDC_predictions_levels == 'Low') & (actual_outcome == 1))\n",
    "total_low_predictions = np.sum(CDC_predictions_levels == 'Low')\n",
    "percentage_low_and_1 = (sum_low_and_1 / total_low_predictions) * 100\n",
    "print(\"Percentage Low and 1: {:.2f}%\".format(float(percentage_low_and_1)))"
   ]
  },
  {
   "cell_type": "code",
   "execution_count": 33,
   "metadata": {},
   "outputs": [],
   "source": [
    "replacement_map = {'Low': 0, 'Medium': 0, 'High': 1}\n",
    "\n",
    "# Replace values in the 'CDC_predictions_levels' column\n",
    "CDC_predictions_levels_binary = CDC_predictions_levels[0].replace(replacement_map)\n",
    "# Calculate the True Positive Rate (Sensitivity) and False Positive Rate for different levels\n",
    "tpr_high = sum_high_and_1 / total_high_predictions\n",
    "fpr_high = (total_high_predictions - sum_high_and_1) / total_high_predictions\n",
    "\n",
    "tpr_med = (total_med_predictions - sum_med_and_1) / total_med_predictions\n",
    "fpr_med = sum_med_and_1 / total_med_predictions\n",
    "\n",
    "tpr_low = (total_low_predictions - sum_low_and_1) / total_low_predictions\n",
    "fpr_low = sum_low_and_1 / total_low_predictions\n",
    "\n",
    "# Create ROC curve points\n",
    "roc_points = [(fpr_low, tpr_low), (fpr_med, tpr_med), (fpr_high, tpr_high)]\n",
    "\n",
    "# Calculate AUROC score\n",
    "auroc_score = roc_auc_score(actual_outcome, CDC_predictions_levels_binary)"
   ]
  },
  {
   "cell_type": "code",
   "execution_count": 34,
   "metadata": {},
   "outputs": [
    {
     "data": {
      "text/plain": [
       "0.5267445721283711"
      ]
     },
     "execution_count": 34,
     "metadata": {},
     "output_type": "execute_result"
    }
   ],
   "source": [
    "auroc_score"
   ]
  },
  {
   "attachments": {},
   "cell_type": "markdown",
   "metadata": {},
   "source": [
    "For each week "
   ]
  },
  {
   "cell_type": "code",
   "execution_count": 239,
   "metadata": {},
   "outputs": [],
   "source": [
    "weeks = range(1, 120)\n",
    "sum_high_and_1_list = []\n",
    "sum_med_and_1_list = []\n",
    "sum_low_and_1_list = []\n",
    "actual_1_list = []\n",
    "\n",
    "for week in weeks:\n",
    "    indicators, actual_outcome, weights, missing_data_train_HSA = prep_training_test_data(all_HSA_ID_weekly_data,  no_weeks=[week], weeks_in_futre = 3, if_train = False, geography = 'HSA_ID', weight_col = 'weight', keep_output = False)\n",
    "    CDC_predictions_levels = pd.DataFrame(index=data_by_HSA_cases_admits_perc_outcome['week'])\n",
    "\n",
    "    for idx, row in indicators.iterrows():\n",
    "        outcome = determine_covid_outcome_indicator(row[1], row[2], row[3])\n",
    "        CDC_predictions_levels.at[idx, 0] = outcome\n",
    "    \n",
    "    # Calculate the percentage of cases where the predicted CDC risk level is 'High' and actual outcome is 1\n",
    "    sum_high_and_1 = np.sum((CDC_predictions_levels == 'High') & (actual_outcome == 1))\n",
    "    total_high_predictions = np.sum(CDC_predictions_levels == 'High')\n",
    "    sum_high_and_1_list.append((sum_high_and_1 / total_high_predictions) * 100)\n",
    "    # Calculate the percentage of cases where the predicted CDC risk level is 'Medium' and actual outcome is 1\n",
    "    sum_medium_and_1 = np.sum((CDC_predictions_levels == 'Medium') & (actual_outcome == 1))\n",
    "    total_medium_predictions = np.sum(CDC_predictions_levels == 'Medium')\n",
    "    sum_med_and_1_list.append((sum_medium_and_1 / total_medium_predictions) * 100)    \n",
    "    # Calculate the percentage of cases where the predicted CDC risk level is 'Medium' and actual outcome is 1\n",
    "    sum_low_and_1 = np.sum((CDC_predictions_levels == 'Low') & (actual_outcome == 1))\n",
    "    total_low_predictions = np.sum(CDC_predictions_levels == 'Low')\n",
    "    sum_low_and_1_list.append((sum_low_and_1 / total_low_predictions) * 100)    \n",
    "    \n",
    "    # Calculate the percentage of cases where the actual outcome is 1\n",
    "    actual_1_list.append(actual_outcome.sum() / len(actual_outcome) * 100)\n"
   ]
  },
  {
   "cell_type": "code",
   "execution_count": 216,
   "metadata": {},
   "outputs": [],
   "source": [
    "sum_high_med_and_1 = [x + y for x,y in zip(sum_high_and_1, sum_med_and_1)]"
   ]
  },
  {
   "cell_type": "code",
   "execution_count": 246,
   "metadata": {},
   "outputs": [
    {
     "data": {
      "image/png": "[encoded data removed]",
      "text/plain": [
       "<Figure size 750x750 with 1 Axes>"
      ]
     },
     "metadata": {},
     "output_type": "display_data"
    }
   ],
   "source": [
    "fig, axs = plt.subplots(figsize=(7.5, 7.5), facecolor='w', edgecolor='k', sharex = 'all', sharey = 'all')\n",
    "colors = ['#264653', '#2a9d8f', '#e9c46a', '#f4a261', '#e76f51', '#865e9c']\n",
    "axs.tick_params(axis='both', which='major', labelsize=18)\n",
    "hfont = {'fontname':'Helvetica'}\n",
    "\n",
    "axs.plot(weeks, sum_high_and_1_list, color = colors[0], linewidth=2, label = 'Predicted high')\n",
    "axs.plot(weeks, sum_med_and_1_list, color = colors[2], linewidth=2, label = 'Predicted medium')\n",
    "axs.plot(weeks, sum_low_and_1_list, color = colors[4], linewidth=2, label = 'Predicted low')\n",
    "axs.plot(weeks, actual_1_list, color = colors[5],  linewidth=2, label = 'Actual')\n",
    "axs.legend()\n",
    "axs.set_xlabel(\"Weeks\",  fontsize = 18, **hfont)\n",
    "axs.set_ylabel(\"Probability over 15 per 100k\",  fontsize = 18, **hfont)\n",
    "hfont = FontProperties(family='Helvetica', size=12, weight='normal')\n",
    "axs.legend(prop=hfont)\n",
    "plt.tight_layout()\n",
    "plt.savefig('Graphs/CDC_predicted_vs_actual.png', dpi = 300)"
   ]
  },
  {
   "attachments": {},
   "cell_type": "markdown",
   "metadata": {},
   "source": [
    "Convert X data to 0 and 1 (0 = low/medium, 1 = high) and get confusion matrix  "
   ]
  },
  {
   "cell_type": "code",
   "execution_count": 247,
   "metadata": {},
   "outputs": [
    {
     "name": "stdout",
     "output_type": "stream",
     "text": [
      "accuracy:  0.33705254791673034\n",
      "sensitivity:  0.36236669146825395\n",
      "specificity:  0.6925892040256175\n",
      "ppv:  0.6987177571210808\n",
      "npv:  0.3557052235883781\n"
     ]
    }
   ],
   "source": [
    "X_train_converted = np.where(X_train[1] == \"High\", 1, 0)\n",
    "confusion_matrix(X_train_converted, y_train)\n",
    "\n",
    "#accuracy \n",
    "print(\"accuracy: \", accuracy_score(X_train_converted, y_train))\n",
    "\n",
    "# Calculate sensitivity (True Positive Rate)\n",
    "sensitivity = conf_matrix[1, 1] / (conf_matrix[1, 0] + conf_matrix[1, 1])\n",
    "print(\"sensitivity: \", sensitivity)\n",
    "# Calculate specificity (True Negative Rate)\n",
    "specificity = conf_matrix[0, 0] / (conf_matrix[0, 0] + conf_matrix[0, 1])\n",
    "print(\"specificity: \", specificity)\n",
    "\n",
    "# Calculate PPV (Positive Predictive Value)\n",
    "ppv = conf_matrix[1, 1] / (conf_matrix[0, 1] + conf_matrix[1, 1])\n",
    "print(\"ppv: \", ppv)\n",
    "\n",
    "# Calculate NPV (Negative Predictive Value)\n",
    "npv = conf_matrix[0, 0] / (conf_matrix[0, 0] + conf_matrix[1, 0])\n",
    "print(\"npv: \", npv)"
   ]
  },
  {
   "attachments": {},
   "cell_type": "markdown",
   "metadata": {},
   "source": [
    "# Using the CDC Method of calculating auROC \n",
    "- \"Value reects the likelihood that for two counties with di erent levels, the county with the higher severity has the most severe outcome 3 weeks later.\"\n",
    "- chrome-extension://efaidnbmnnnibpcajpcglclefindmkaj/https://www.ncbi.nlm.nih.gov/books/NBK578921/pdf/Bookshelf_NBK578921.pdf"
   ]
  },
  {
   "cell_type": "code",
   "execution_count": 45,
   "metadata": {},
   "outputs": [
    {
     "data": {
      "text/plain": [
       "0"
      ]
     },
     "execution_count": 45,
     "metadata": {},
     "output_type": "execute_result"
    }
   ],
   "source": [
    "(true_positives + false_positives)"
   ]
  },
  {
   "cell_type": "code",
   "execution_count": 47,
   "metadata": {},
   "outputs": [
    {
     "data": {
      "text/html": [
       "<div>\n",
       "<style scoped>\n",
       "    .dataframe tbody tr th:only-of-type {\n",
       "        vertical-align: middle;\n",
       "    }\n",
       "\n",
       "    .dataframe tbody tr th {\n",
       "        vertical-align: top;\n",
       "    }\n",
       "\n",
       "    .dataframe thead th {\n",
       "        text-align: right;\n",
       "    }\n",
       "</style>\n",
       "<table border=\"1\" class=\"dataframe\">\n",
       "  <thead>\n",
       "    <tr style=\"text-align: right;\">\n",
       "      <th></th>\n",
       "      <th>level</th>\n",
       "      <th>outcome</th>\n",
       "    </tr>\n",
       "  </thead>\n",
       "  <tbody>\n",
       "    <tr>\n",
       "      <th>0</th>\n",
       "      <td>0</td>\n",
       "      <td>1.0</td>\n",
       "    </tr>\n",
       "    <tr>\n",
       "      <th>1</th>\n",
       "      <td>0</td>\n",
       "      <td>1.0</td>\n",
       "    </tr>\n",
       "    <tr>\n",
       "      <th>2</th>\n",
       "      <td>0</td>\n",
       "      <td>1.0</td>\n",
       "    </tr>\n",
       "    <tr>\n",
       "      <th>3</th>\n",
       "      <td>0</td>\n",
       "      <td>0.0</td>\n",
       "    </tr>\n",
       "    <tr>\n",
       "      <th>4</th>\n",
       "      <td>0</td>\n",
       "      <td>1.0</td>\n",
       "    </tr>\n",
       "    <tr>\n",
       "      <th>...</th>\n",
       "      <td>...</td>\n",
       "      <td>...</td>\n",
       "    </tr>\n",
       "    <tr>\n",
       "      <th>97297</th>\n",
       "      <td>0</td>\n",
       "      <td>0.0</td>\n",
       "    </tr>\n",
       "    <tr>\n",
       "      <th>97298</th>\n",
       "      <td>0</td>\n",
       "      <td>1.0</td>\n",
       "    </tr>\n",
       "    <tr>\n",
       "      <th>97299</th>\n",
       "      <td>0</td>\n",
       "      <td>0.0</td>\n",
       "    </tr>\n",
       "    <tr>\n",
       "      <th>97300</th>\n",
       "      <td>0</td>\n",
       "      <td>0.0</td>\n",
       "    </tr>\n",
       "    <tr>\n",
       "      <th>97301</th>\n",
       "      <td>0</td>\n",
       "      <td>0.0</td>\n",
       "    </tr>\n",
       "  </tbody>\n",
       "</table>\n",
       "<p>97302 rows × 2 columns</p>\n",
       "</div>"
      ],
      "text/plain": [
       "       level  outcome\n",
       "0          0      1.0\n",
       "1          0      1.0\n",
       "2          0      1.0\n",
       "3          0      0.0\n",
       "4          0      1.0\n",
       "...      ...      ...\n",
       "97297      0      0.0\n",
       "97298      0      1.0\n",
       "97299      0      0.0\n",
       "97300      0      0.0\n",
       "97301      0      0.0\n",
       "\n",
       "[97302 rows x 2 columns]"
      ]
     },
     "execution_count": 47,
     "metadata": {},
     "output_type": "execute_result"
    }
   ],
   "source": [
    "df"
   ]
  },
  {
   "cell_type": "code",
   "execution_count": 51,
   "metadata": {},
   "outputs": [
    {
     "name": "stdout",
     "output_type": "stream",
     "text": [
      "True Positives: 536589900\n",
      "False Positives: 423441720\n",
      "True Positive Rate (TPR): 0.5589294027627965\n",
      "False Positive Rate (FPR): 0.4410705972372035\n",
      "AUROC Score: 0.5589294027627965\n"
     ]
    }
   ],
   "source": [
    "\n",
    "# Example dataframe\n",
    "data = {'level': CDC_predictions_levels_binary,\n",
    "        'outcome': actual_outcome[0]}\n",
    "df = pd.DataFrame(data)\n",
    "\n",
    "\n",
    "# Initialize variables for true positives and false positives\n",
    "true_positives = 0\n",
    "false_positives = 0\n",
    "\n",
    "# Iterate through rows and compare outcomes\n",
    "for index, row in df.iterrows():\n",
    "    if row['level'] == 1:\n",
    "        other_rows = df[(df['level'] != 1) & (df.index != index)]\n",
    "        for index, row_alt in other_rows.iterrows():\n",
    "            if row['outcome'] == 1 and row_alt['outcome'] == 0:\n",
    "                true_positives += 1\n",
    "            elif row['outcome'] == 0 and row_alt['outcome'] == 1:\n",
    "                false_positives += 1\n",
    "\n",
    "# Calculate true positive rate (TPR) and false positive rate (FPR)\n",
    "tpr = true_positives / (true_positives + false_positives)\n",
    "fpr = false_positives / (true_positives + false_positives)\n",
    "\n",
    "# Calculate AUROC score\n",
    "auroc_score = auc([0, fpr, 1], [0, tpr, 1])\n",
    "\n",
    "print(\"True Positives:\", true_positives)\n",
    "print(\"False Positives:\", false_positives)\n",
    "print(\"True Positive Rate (TPR):\", tpr)\n",
    "print(\"False Positive Rate (FPR):\", fpr)\n",
    "print(\"AUROC Score:\", auroc_score)"
   ]
  }
 ],
 "metadata": {
  "kernelspec": {
   "display_name": "COVID_forecasting",
   "language": "python",
   "name": "python3"
  },
  "language_info": {
   "codemirror_mode": {
    "name": "ipython",
    "version": 3
   },
   "file_extension": ".py",
   "mimetype": "text/x-python",
   "name": "python",
   "nbconvert_exporter": "python",
   "pygments_lexer": "ipython3",
   "version": "3.11.3"
  },
  "orig_nbformat": 4,
  "vscode": {
   "interpreter": {
    "hash": "a72d884e172d11118bfdfb578e108fb6b63a679c74d3d7d2f9d493a9a72737c0"
   }
  }
 },
 "nbformat": 4,
 "nbformat_minor": 2
}
