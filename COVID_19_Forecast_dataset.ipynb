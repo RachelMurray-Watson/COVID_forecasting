{
 "cells": [
  {
   "cell_type": "code",
   "execution_count": 94,
   "metadata": {},
   "outputs": [],
   "source": [
    "import matplotlib.pyplot as plt\n",
    "import pandas as pd\n",
    "import numpy as np\n",
    "from sklearn import datasets\n",
    "from sklearn.tree import DecisionTreeClassifier\n",
    "from sklearn.model_selection import train_test_split\n",
    "from sklearn.metrics import accuracy_score "
   ]
  },
  {
   "cell_type": "code",
   "execution_count": 95,
   "metadata": {},
   "outputs": [],
   "source": [
    "all_state_weekly_data = pd.read_csv(\"all_state_weekly_data_cases_deaths_admissions_hospital.csv\")\n",
    "all_state_weekly_data = all_state_weekly_data.loc[:, all_state_weekly_data.columns != 'Unnamed: 0']\n",
    "all_state_weekly_data = all_state_weekly_data.fillna(0)"
   ]
  },
  {
   "cell_type": "code",
   "execution_count": 96,
   "metadata": {},
   "outputs": [
    {
     "data": {
      "text/plain": [
       "Index(['date', 'AK_cases', 'AL_cases', 'AR_cases', 'AZ_cases', 'CA_cases',\n",
       "       'CO_cases', 'CT_cases', 'DC_cases', 'DE_cases',\n",
       "       ...\n",
       "       'CA_admissions', 'CA_admissions_delta_100k', 'NC_admissions',\n",
       "       'NC_admissions_delta_100k', 'FL_admissions', 'FL_admissions_delta_100k',\n",
       "       'OR_admissions', 'OR_admissions_delta_100k', 'NY_admissions',\n",
       "       'NY_admissions_delta_100k'],\n",
       "      dtype='object', length=358)"
      ]
     },
     "execution_count": 96,
     "metadata": {},
     "output_type": "execute_result"
    }
   ],
   "source": [
    "all_state_weekly_data.columns"
   ]
  },
  {
   "cell_type": "code",
   "execution_count": 115,
   "metadata": {},
   "outputs": [],
   "source": [
    "column_names = ['state']\n",
    "categories_for_subsetting = ['deaths', 'cases', 'hospitalizations', 'hospitalizations_delta_100k', 'admissions','admissions_delta_100k', 'over_15_100k']\n",
    "\n",
    "for week in range(1, len(all_state_weekly_data) + 1):\n",
    "    for category in categories_for_subsetting:\n",
    "        column_name = f'week_{week}_{category}'\n",
    "        column_names.append(column_name)\n",
    "\n",
    "\n",
    "state_abb = []\n",
    "for column in all_state_weekly_data.columns:\n",
    "    state_abb.append(column[:2])\n",
    "state_abb = set(state_abb[1:])\n"
   ]
  },
  {
   "cell_type": "code",
   "execution_count": 117,
   "metadata": {},
   "outputs": [
    {
     "data": {
      "text/plain": [
       "['deaths',\n",
       " 'cases',\n",
       " 'hospitalizations',\n",
       " 'hospitalizations_delta_100k',\n",
       " 'admissions',\n",
       " 'admissions_delta_100k',\n",
       " 'over_15_100k']"
      ]
     },
     "execution_count": 117,
     "metadata": {},
     "output_type": "execute_result"
    }
   ],
   "source": [
    "categories_for_subsetting"
   ]
  },
  {
   "cell_type": "code",
   "execution_count": 119,
   "metadata": {},
   "outputs": [],
   "source": [
    "all_state_weekly_data_by_state = pd.DataFrame(index=range(51), columns=column_names)\n",
    "\n",
    "x = 0\n",
    "\n",
    "categories_for_subsetting = ['deaths', 'cases', 'hospitalizations', 'hospitalizations_delta_100k', 'admissions','admissions_delta_100k', 'over_15_100k']\n",
    "for abb in state_abb:\n",
    "    matching_indices = [i for i, state in enumerate(all_state_weekly_data) if state == abb]\n",
    "    all_state_weekly_data_by_state.loc[x, 'state'] = abb\n",
    "    columns_to_subset =  [f'{abb}_{category}' for category in categories_for_subsetting]\n",
    "    j = 1\n",
    "    for row in range(len(all_state_weekly_data.loc[:, columns_to_subset])):\n",
    "        all_state_weekly_data_by_state.iloc[x, j:j + len(categories_for_subsetting)] = all_state_weekly_data.loc[row,columns_to_subset]\n",
    "        j += 7\n",
    "    x += 1\n",
    "\n",
    "#all_state_weekly_data_by_state.set_index('state', inplace = True)"
   ]
  },
  {
   "cell_type": "code",
   "execution_count": 153,
   "metadata": {},
   "outputs": [
    {
     "data": {
      "text/plain": [
       "range(0, 4)"
      ]
     },
     "execution_count": 153,
     "metadata": {},
     "output_type": "execute_result"
    }
   ],
   "source": [
    "range(len(X_train.columns))"
   ]
  },
  {
   "cell_type": "code",
   "execution_count": 160,
   "metadata": {},
   "outputs": [],
   "source": [
    "X_train = all_state_weekly_data_by_state.iloc[:,1:7]\n",
    "X_train.columns = range(1, len(X_train.columns) + 1)\n",
    "\n",
    "y_train = all_state_weekly_data_by_state.iloc[:,7].astype(int)\n",
    "\n",
    "X_test = all_state_weekly_data_by_state.iloc[:,8:14]\n",
    "X_test.columns = range(1, len(X_train.columns) + 1)\n",
    "\n",
    "y_test = all_state_weekly_data_by_state.iloc[:,14].astype(int)"
   ]
  },
  {
   "cell_type": "code",
   "execution_count": 161,
   "metadata": {},
   "outputs": [
    {
     "name": "stdout",
     "output_type": "stream",
     "text": [
      "Accuracy: 1.0\n"
     ]
    }
   ],
   "source": [
    "\n",
    "# Create a decision tree classifier\n",
    "clf = DecisionTreeClassifier()\n",
    "\n",
    "# Train the decision tree classifier\n",
    "clf.fit(X_train, y_train)\n",
    "\n",
    "# Make predictions on the test set\n",
    "y_pred = clf.predict(X_test)\n",
    "# Evaluate the accuracy of the model\n",
    "accuracy = accuracy_score(y_test, y_pred)\n",
    "print(\"Accuracy:\", accuracy)"
   ]
  }
 ],
 "metadata": {
  "kernelspec": {
   "display_name": "COVID_forecasting",
   "language": "python",
   "name": "python3"
  },
  "language_info": {
   "codemirror_mode": {
    "name": "ipython",
    "version": 3
   },
   "file_extension": ".py",
   "mimetype": "text/x-python",
   "name": "python",
   "nbconvert_exporter": "python",
   "pygments_lexer": "ipython3",
   "version": "3.11.3"
  },
  "orig_nbformat": 4,
  "vscode": {
   "interpreter": {
    "hash": "a72d884e172d11118bfdfb578e108fb6b63a679c74d3d7d2f9d493a9a72737c0"
   }
  }
 },
 "nbformat": 4,
 "nbformat_minor": 2
}
