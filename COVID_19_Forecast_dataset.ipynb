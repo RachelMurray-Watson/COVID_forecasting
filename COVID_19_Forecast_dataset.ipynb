{
 "cells": [
  {
   "cell_type": "code",
   "execution_count": 160,
   "metadata": {},
   "outputs": [],
   "source": [
    "import matplotlib.pyplot as plt\n",
    "import pandas as pd\n",
    "import numpy as np\n",
    "from sklearn import datasets\n",
    "from sklearn.tree import DecisionTreeClassifier\n",
    "from sklearn.model_selection import train_test_split\n",
    "from sklearn.metrics import accuracy_score "
   ]
  },
  {
   "cell_type": "code",
   "execution_count": 161,
   "metadata": {},
   "outputs": [],
   "source": [
    "all_state_weekly_data = pd.read_csv(\"all_state_weekly_data_cases_deaths_admissions_hospital.csv\")\n",
    "all_state_weekly_data = all_state_weekly_data.loc[:, all_state_weekly_data.columns != 'Unnamed: 0']"
   ]
  },
  {
   "cell_type": "code",
   "execution_count": 164,
   "metadata": {},
   "outputs": [],
   "source": [
    "column_names = ['state']\n",
    "categories = ['death', 'cases', 'hospital', 'change', 'above_15k']\n",
    "\n",
    "for week in range(1, len(all_state_weekly_data) + 1):\n",
    "    for category in categories:\n",
    "        column_name = f'week_{week}_{category}'\n",
    "        column_names.append(column_name)\n",
    "\n",
    "\n",
    "state_abb = []\n",
    "for column in all_state_weekly_data.columns:\n",
    "    state_abb.append(column[:2])\n",
    "state_abb = set(state_abb[1:])\n"
   ]
  },
  {
   "cell_type": "code",
   "execution_count": 192,
   "metadata": {},
   "outputs": [],
   "source": [
    "all_state_weekly_data_by_state = pd.DataFrame(index=range(51), columns=column_names)\n",
    "\n",
    "x = 0\n",
    "categories = ['death', 'cases', 'hospital', 'change', 'above_15k']\n",
    "\n",
    "categories_for_subsetting = ['deaths', 'cases', '100k','delta_100k', 'over_15_100k']\n",
    "for abb in state_abb:\n",
    "    matching_indices = [i for i, state in enumerate(all_state_weekly_data) if state == abb]\n",
    "    all_state_weekly_data_by_state.loc[x, 'state'] = abb\n",
    "    columns_to_subset =  [f'{abb}_{category}' for category in categories_for_subsetting]\n",
    "    j = 1\n",
    "    for row in range(len(all_state_weekly_data.loc[:, columns_to_subset])):\n",
    "        all_state_weekly_data_by_state.iloc[x, j:j + len(categories_for_subsetting)] = all_state_weekly_data.loc[row,columns_to_subset]\n",
    "        j += 5\n",
    "    x += 1"
   ]
  }
 ],
 "metadata": {
  "kernelspec": {
   "display_name": "COVID_forecasting",
   "language": "python",
   "name": "python3"
  },
  "language_info": {
   "codemirror_mode": {
    "name": "ipython",
    "version": 3
   },
   "file_extension": ".py",
   "mimetype": "text/x-python",
   "name": "python",
   "nbconvert_exporter": "python",
   "pygments_lexer": "ipython3",
   "version": "3.11.3 (main, May 15 2023, 18:01:31) [Clang 14.0.6 ]"
  },
  "orig_nbformat": 4,
  "vscode": {
   "interpreter": {
    "hash": "a72d884e172d11118bfdfb578e108fb6b63a679c74d3d7d2f9d493a9a72737c0"
   }
  }
 },
 "nbformat": 4,
 "nbformat_minor": 2
}
