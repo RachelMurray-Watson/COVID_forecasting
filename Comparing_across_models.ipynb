{
 "cells": [
  {
   "cell_type": "code",
   "execution_count": 1,
   "metadata": {},
   "outputs": [],
   "source": [
    "#%reset\n",
    "import os\n",
    "import matplotlib.pyplot as plt\n",
    "import pandas as pd\n",
    "import numpy as np\n",
    "from sklearn import tree\n",
    "from sklearn import metrics\n",
    "\n",
    "from sklearn.tree import DecisionTreeClassifier, plot_tree\n",
    "from sklearn.metrics import accuracy_score, confusion_matrix, matthews_corrcoef\n",
    "from num2words import num2words\n",
    "from sklearn.model_selection import RandomizedSearchCV, cross_val_score, KFold, RepeatedStratifiedKFold\n",
    "from sklearn.metrics import f1_score, matthews_corrcoef, roc_auc_score\n",
    "import word2number\n",
    "from word2number import w2n\n",
    "from sklearn.tree import DecisionTreeClassifier\n",
    "import pickle\n",
    "from sklearn.metrics import roc_curve, auc\n",
    "from sklearn.metrics import RocCurveDisplay\n",
    "import random\n",
    "from matplotlib.patches import Polygon\n",
    "\n",
    "from Functions import prep_training_test_data_period, prep_training_test_data, calculate_metrics,cross_validation_leave_geo_out, prep_training_test_data_shifted, add_labels_to_subplots, LOOCV_by_HSA_dataset, save_in_HSA_dictionary\n",
    "hfont = {'fontname':'Helvetica'}\n",
    "palette = ['#66c2a5', '#fc8d62', '#8da0cb', '#e78ac3', '#a6d854', '#e5c494']\n"
   ]
  },
  {
   "attachments": {},
   "cell_type": "markdown",
   "metadata": {},
   "source": [
    "# Load data"
   ]
  },
  {
   "cell_type": "code",
   "execution_count": 2,
   "metadata": {},
   "outputs": [],
   "source": [
    "HSA_weekly_data_all = pd.read_csv(\"/Users/rem76/Documents/COVID_projections/hsa_time_data_all_dates_weekly.csv\")"
   ]
  },
  {
   "attachments": {},
   "cell_type": "markdown",
   "metadata": {},
   "source": [
    "# Polygons for mapping onto waves"
   ]
  },
  {
   "cell_type": "code",
   "execution_count": 3,
   "metadata": {},
   "outputs": [
    {
     "name": "stderr",
     "output_type": "stream",
     "text": [
      "/var/folders/d4/chxwf4hs5kq7ttsp56s64z65mjk3qj/T/ipykernel_92713/4200828156.py:4: DtypeWarning: Columns (47,48,49,50,51,55,56) have mixed types. Specify dtype option on import or set low_memory=False.\n",
      "  data_by_county = pd.read_csv('/Users/rem76/Documents/COVID_projections/county_time_data_all_dates.csv')\n"
     ]
    }
   ],
   "source": [
    "## County Data \n",
    "\n",
    "\n",
    "data_by_county = pd.read_csv('/Users/rem76/Documents/COVID_projections/county_time_data_all_dates.csv')\n",
    "\n",
    "data_by_county = data_by_county.dropna(subset=['admits_weekly', 'deaths_weekly', 'cases_weekly', 'icu_weekly', 'beds_weekly', 'perc_covid'])\n",
    "data_by_county['CTYNAME'] = data_by_county['CTYNAME'].apply(lambda x: x.split()[0])\n",
    "data_by_county['CTYNAME'] = data_by_county['fips'].astype(str) + '' + data_by_county['CTYNAME']\n",
    "data_by_county['beds_over_15_100k'] = (data_by_county['beds_weekly'] > 15) * 1\n",
    "\n",
    "# Redo dates\n",
    "for i, week in enumerate(data_by_county['date'].unique()):\n",
    "    data_by_county.loc[data_by_county['date'] == week, 'week'] = i\n",
    "\n",
    "## DELTA POLYGON \n",
    "\n",
    "start_date = pd.to_datetime('2021-06-30')\n",
    "end_date = pd.to_datetime('2021-10-26')\n",
    "data_by_county['date'] = pd.to_datetime(data_by_county['date'])\n",
    "for i, week in enumerate(data_by_county['date'].unique()):\n",
    "    data_by_county.loc[data_by_county['date'] == week, 'week'] = i\n",
    "# Find the indices of rows that match the exact start and end dates\n",
    "matching_indices_start = data_by_county.loc[data_by_county['date'] <= start_date].index.max()\n",
    "matching_indices_end = data_by_county.loc[data_by_county['date'] <= end_date].index.max()\n",
    "first_week_delta = data_by_county.loc[matching_indices_start, 'week']\n",
    "last_week_delta = data_by_county.loc[matching_indices_end, 'week']\n",
    "start_date = pd.to_datetime('2021-10-26')\n",
    "end_date = pd.to_datetime('2022-09-27')\n",
    "data_by_county['date'] = pd.to_datetime(data_by_county['date'])\n",
    "for i, week in enumerate(data_by_county['date'].unique()):\n",
    "    data_by_county.loc[data_by_county['date'] == week, 'week'] = i\n",
    "# Find the indices of rows that match the exact start and end dates\n",
    "matching_indices_start = data_by_county.loc[data_by_county['date'] <= start_date].index.max()\n",
    "matching_indices_end = data_by_county.loc[data_by_county['date'] <= end_date].index.max()\n",
    "first_week_omricon = data_by_county.loc[matching_indices_start, 'week']\n",
    "last_week_omricon = data_by_county.loc[matching_indices_end, 'week']\n",
    "\n",
    "## CDC POLYGON \n",
    "start_date = pd.to_datetime('2021-03-01')\n",
    "end_date = pd.to_datetime('2022-01-24')\n",
    "data_by_county['date'] = pd.to_datetime(data_by_county['date'])\n",
    "for i, week in enumerate(data_by_county['date'].unique()):\n",
    "    data_by_county.loc[data_by_county['date'] == week, 'week'] = i\n",
    "# Find the indices of rows that match the exact start and end dates\n",
    "matching_indices_start = data_by_county.loc[data_by_county['date'] <= start_date].index.max()\n",
    "matching_indices_end = data_by_county.loc[data_by_county['date'] <= end_date].index.max()\n",
    "first_week_CDC = data_by_county.loc[matching_indices_start, 'week']\n",
    "last_week_CDC = data_by_county.loc[matching_indices_end, 'week']"
   ]
  }
 ],
 "metadata": {
  "kernelspec": {
   "display_name": "COVID_forecasting",
   "language": "python",
   "name": "python3"
  },
  "language_info": {
   "codemirror_mode": {
    "name": "ipython",
    "version": 3
   },
   "file_extension": ".py",
   "mimetype": "text/x-python",
   "name": "python",
   "nbconvert_exporter": "python",
   "pygments_lexer": "ipython3",
   "version": "3.11.3"
  },
  "orig_nbformat": 4,
  "vscode": {
   "interpreter": {
    "hash": "a72d884e172d11118bfdfb578e108fb6b63a679c74d3d7d2f9d493a9a72737c0"
   }
  }
 },
 "nbformat": 4,
 "nbformat_minor": 2
}
