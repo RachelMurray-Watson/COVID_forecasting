{
 "cells": [
  {
   "cell_type": "code",
   "execution_count": 1,
   "metadata": {},
   "outputs": [
    {
     "name": "stdout",
     "output_type": "stream",
     "text": [
      "Index(['Unnamed: 0', 'date', 'health_service_area_number',\n",
      "       'health_service_area', 'health_service_area_population', 'cases_avg',\n",
      "       'deaths_avg', 'cases_avg_per_100k', 'deaths_avg_per_100k',\n",
      "       'POPESTIMATE2019', 'ymd', 'year', 'week', 'year_wk',\n",
      "       'admits_confirmed_avg', 'perc_covid', 'admits_confirmed_100K',\n",
      "       'icu_confirmed_avg', 'icu_100K', 'cdc_flag_1', 'cdc_flag_2', 'cdc_flag',\n",
      "       'deaths_21_lag_100k', 'icu_21_lag_100K', 'cases_lag_21_100K',\n",
      "       'admits_7_lag', 'admits_7d_ago', 'admits_21d_ago', 'admits_28d_ago',\n",
      "       'dotw', 'chk', 'county_rank', 'deaths_21_lag_100k_14d', 'deaths_weekly',\n",
      "       'admits_weekly', 'cases_weekly', 'icu_weekly', 'perc_covid_100', 'cfr',\n",
      "       'half_zeke_time_3', 'chk2', 'zeke_time_3', 'two_zeke_time_3',\n",
      "       'icu_2_time_3', 'perc_covid_10_time_3', 'change_admits', 'change_perc',\n",
      "       'change_cases', 'zeke_time_3_14d', 'two_zeke_time_3_14d', 'state',\n",
      "       'weight', 'weight_alt'],\n",
      "      dtype='object')\n"
     ]
    },
    {
     "name": "stderr",
     "output_type": "stream",
     "text": [
      "/var/folders/d4/chxwf4hs5kq7ttsp56s64z65mjk3qj/T/ipykernel_5391/602598507.py:10: DtypeWarning: Columns (39,41,42,44,48,49) have mixed types. Specify dtype option on import or set low_memory=False.\n",
      "  HSA_data = pd.read_csv(\"Cleaned/hsa_time_data.csv\")\n"
     ]
    }
   ],
   "source": [
    "#%reset\n",
    "import matplotlib.pyplot as plt\n",
    "import pandas as pd\n",
    "import numpy as np\n",
    "\n",
    "\n",
    "hfont = {'fontname':'Helvetica'}\n",
    "\n",
    "## read data \n",
    "HSA_data = pd.read_csv(\"Cleaned/hsa_time_data.csv\")\n",
    "print(HSA_data.columns)"
   ]
  }
 ],
 "metadata": {
  "kernelspec": {
   "display_name": "COVID_forecasting",
   "language": "python",
   "name": "python3"
  },
  "language_info": {
   "codemirror_mode": {
    "name": "ipython",
    "version": 3
   },
   "file_extension": ".py",
   "mimetype": "text/x-python",
   "name": "python",
   "nbconvert_exporter": "python",
   "pygments_lexer": "ipython3",
   "version": "3.11.3 (main, May 15 2023, 18:01:31) [Clang 14.0.6 ]"
  },
  "orig_nbformat": 4,
  "vscode": {
   "interpreter": {
    "hash": "a72d884e172d11118bfdfb578e108fb6b63a679c74d3d7d2f9d493a9a72737c0"
   }
  }
 },
 "nbformat": 4,
 "nbformat_minor": 2
}
