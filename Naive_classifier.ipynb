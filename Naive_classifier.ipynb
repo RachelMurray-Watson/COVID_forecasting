{
 "cells": [
  {
   "attachments": {},
   "cell_type": "markdown",
   "metadata": {},
   "source": [
    "# Naive classifier"
   ]
  },
  {
   "cell_type": "code",
   "execution_count": 1,
   "metadata": {},
   "outputs": [],
   "source": [
    "#%reset\n",
    "import matplotlib.pyplot as plt\n",
    "import pandas as pd\n",
    "import numpy as np\n",
    "from sklearn import tree\n",
    "from sklearn.tree import DecisionTreeClassifier, plot_tree\n",
    "from sklearn.metrics import accuracy_score, confusion_matrix\n",
    "from imblearn.over_sampling import RandomOverSampler\n",
    "from num2words import num2words\n",
    "from sklearn.model_selection import RandomizedSearchCV, cross_val_score, KFold, RepeatedStratifiedKFold\n",
    "from sklearn.metrics import f1_score, matthews_corrcoef, roc_auc_score\n",
    "import word2number\n",
    "from word2number import w2n\n",
    "from sklearn.tree import DecisionTreeClassifier"
   ]
  },
  {
   "cell_type": "code",
   "execution_count": 2,
   "metadata": {},
   "outputs": [
    {
     "name": "stderr",
     "output_type": "stream",
     "text": [
      "/var/folders/d4/chxwf4hs5kq7ttsp56s64z65mjk3qj/T/ipykernel_52466/2716140240.py:1: DtypeWarning: Columns (41,43,44,45,46,50,51) have mixed types. Specify dtype option on import or set low_memory=False.\n",
      "  data_by_HSA = pd.read_csv('/Users/rem76/Documents/COVID_projections/hsa_time_data_all_dates.csv')\n"
     ]
    }
   ],
   "source": [
    "data_by_HSA = pd.read_csv('/Users/rem76/Documents/COVID_projections/hsa_time_data_all_dates.csv')\n",
    "data_by_HSA['health_service_area_number']\n",
    "data_by_HSA['health_service_area']\n",
    "#data_by_HSA['HSA_ID'] = data_by_HSA['health_service_area_number'].astype(str) + '' + data_by_HSA['health_service_area'].apply(lambda x: x.split()[0])\n",
    "data_by_HSA.rename(columns={'health_service_area_number': 'HSA_ID'}, inplace=True)\n",
    "\n",
    "data_by_HSA['beds_over_15_100k'] = (data_by_HSA['beds_weekly'] > 15)*1\n",
    "\n",
    "# remove HSAs that have missing data in specific columns\n",
    "\n",
    "data_by_HSA = data_by_HSA.dropna(subset=['admits_weekly', 'deaths_weekly', 'cases_weekly', 'icu_weekly', 'beds_weekly'])"
   ]
  },
  {
   "cell_type": "code",
   "execution_count": 26,
   "metadata": {},
   "outputs": [],
   "source": [
    "### this code it's exactly in  x weeks \n",
    "def prep_training_test_data(data, proportion, no_weeks, weeks_in_futre, if_train, geography, weight_col):\n",
    "## Get the weeks for the x and y datasets   \n",
    "    x_weeks = []  \n",
    "    y_weeks = []\n",
    "    y_weeks_to_check = [] #check these weeks to see if any of them are equal to 1\n",
    "    for week in no_weeks:\n",
    "        test_week = int(week) + weeks_in_futre\n",
    "        x_weeks.append('_' + num2words(week) + '_')\n",
    "        y_weeks.append('_' + num2words(test_week) + '_')\n",
    "    \n",
    "## Divide up the test/train split\n",
    "    #if is_geographic:\n",
    "        # Calculate the index to start slicing from\n",
    "    #    start_index = len(data['county']) // proportion[0] * proportion[1]\n",
    "        # Divide up the dataset based on this proportion\n",
    "    #    first_two_thirds = data['county'][:start_index]\n",
    "    #    last_third = data['county'][start_index:]\n",
    "    X_data = pd.DataFrame()\n",
    "    y_data = pd.DataFrame()\n",
    "    weights_all =  pd.DataFrame()\n",
    "    missing_data = []\n",
    "    ## Now get the training data \n",
    "    k = 0\n",
    "    for x_week in x_weeks:\n",
    "            y_week = y_weeks[k]\n",
    "            k +=1\n",
    "\n",
    "            weeks_x = [col for col in data.columns if x_week in col]\n",
    "            columns_x  = [geography] + weeks_x + [weight_col]\n",
    "            data_x = data[columns_x]\n",
    "\n",
    "            weeks_y = [col for col in data.columns if y_week in col]\n",
    "            columns_y  = [geography] + weeks_y\n",
    "            data_y = data[columns_y]\n",
    "            ### now add the final column to the y data that has it so that it's if any week in the trhee week perdiod exceeded 15\n",
    "\n",
    "            # ensure they have the same amount of data\n",
    "            #remove rows in test_data1 with NA in test_data2\n",
    "            data_x = data_x.dropna()\n",
    "            data_x = data_x[data_x[geography].isin(data_y[geography])]\n",
    "            # remove rows in test_data2 with NA in test_data1\n",
    "            data_y = data_y.dropna()\n",
    "            data_y = data_y[data_y[geography].isin(data_x[geography])]\n",
    "            data_x = data_x[data_x[geography].isin(data_y[geography])]\n",
    "            data_x_no_HSA = len(data_x[geography].unique())\n",
    "\n",
    "            missing_data.append(((len(data[geography].unique()) - data_x_no_HSA)/len(data[geography].unique())) * 100)\n",
    "            # get weights \n",
    "            #weights = weight_data[weight_data[geography].isin(data_x[geography])][[geography, weight_col]]\n",
    "\n",
    "            X_week = data_x.iloc[:, 1:len(columns_x)]  # take away y, leave weights for mo\n",
    "            y_week = data_y.iloc[:, -1] \n",
    "            \n",
    "            y_week = y_week.astype(int)\n",
    "            if if_train:\n",
    "\n",
    "                 X_week, y_week = oversample.fit_resample(X_week, y_week)\n",
    "            weights = X_week.iloc[:, -1] \n",
    "            X_week = X_week.iloc[:, :len(X_week.columns)-1] # remove the weights and leave \"target\" for that week, inlcuding it as a feature\n",
    "\n",
    "            #rename columns for concatenation \n",
    "            X_week.columns = range(1, len(data_x.columns) -1)\n",
    "            y_week.columns = range(1, len(data_y.columns) -1)\n",
    "            X_data = pd.concat([X_data, X_week])\n",
    "            y_data = pd.concat([y_data, y_week]) \n",
    "        \n",
    "            weights_all =  pd.concat([weights_all, weights]) \n",
    "\n",
    "\n",
    "    X_data.reset_index(drop=True, inplace=True)\n",
    "    y_data.reset_index(drop=True, inplace=True)\n",
    "    weights_all.reset_index(drop=True, inplace=True)\n",
    "\n",
    "    return(X_data, y_data, weights_all, missing_data)\n"
   ]
  },
  {
   "cell_type": "code",
   "execution_count": 4,
   "metadata": {},
   "outputs": [],
   "source": [
    "### this code it's ANY in the x week period \n",
    "\n",
    "def prep_training_test_data_period(data, proportion, no_weeks, weeks_in_futre, if_train, geography, weight_col):\n",
    "## Get the weeks for the x and y datasets   \n",
    "    x_weeks = []  \n",
    "    y_weeks = []\n",
    "    y_weeks_to_check = [] #check these weeks to see if any of them are equal to 1\n",
    "    for week in no_weeks:\n",
    "        test_week = int(week) + weeks_in_futre\n",
    "        x_weeks.append('_' + num2words(week) + '_')\n",
    "        for week_y in range(week+1, test_week+1):\n",
    "                y_weeks_to_check.append('_' + num2words(week_y) + '_')\n",
    "        y_weeks.append('_' + num2words(test_week) + '_')\n",
    "    \n",
    "## Divide up the test/train split\n",
    "    #if is_geographic:\n",
    "        # Calculate the index to start slicing from\n",
    "    #    start_index = len(data['county']) // proportion[0] * proportion[1]\n",
    "        # Divide up the dataset based on this proportion\n",
    "    #    first_two_thirds = data['county'][:start_index]\n",
    "    #    last_third = data['county'][start_index:]\n",
    "    X_data = pd.DataFrame()\n",
    "    y_data = pd.DataFrame()\n",
    "    weights_all =  pd.DataFrame()\n",
    "    missing_data = []\n",
    "    ## Now get the training data \n",
    "    k = 0\n",
    "    for x_week in x_weeks:\n",
    "            y_week = y_weeks[k]\n",
    "            k +=1\n",
    "\n",
    "            weeks_x = [col for col in data.columns if x_week in col]\n",
    "            columns_x  = [geography] + weeks_x + [weight_col]\n",
    "            data_x = data[columns_x]\n",
    "\n",
    "            weeks_y = [col for col in data.columns if y_week in col]\n",
    "            columns_y  = [geography] + weeks_y\n",
    "            data_y = data[columns_y]\n",
    "            ### now add the final column to the y data that has it so that it's if any week in the trhee week perdiod exceeded 15\n",
    "            train_week = w2n.word_to_num(x_week.replace(\"_\", \"\"))\n",
    "            target_week =  w2n.word_to_num(y_week.replace(\"_\", \"\"))\n",
    "            y_weeks_to_check = []\n",
    "            for week_to_check in range(train_week + 1, target_week + 1):\n",
    "                y_weeks_to_check.append('_' + num2words(week_to_check) + '_')\n",
    "\n",
    "            y_weeks_to_check = [week + 'beds_over_15_100k' for week in y_weeks_to_check]\n",
    "            columns_to_check = [col for col in data.columns if any(week in col for week in y_weeks_to_check)]\n",
    "            y_over_in_period = data[columns_to_check].apply(max, axis=1)\n",
    "            data_y = pd.concat([data_y, y_over_in_period], axis=1)\n",
    "            # ensure they have the same amount of data\n",
    "            #remove rows in test_data1 with NA in test_data2\n",
    "            data_x = data_x.dropna()\n",
    "            data_x = data_x[data_x[geography].isin(data_y[geography])]\n",
    "            # remove rows in test_data2 with NA in test_data1\n",
    "            data_y = data_y.dropna()\n",
    "            data_y = data_y[data_y[geography].isin(data_x[geography])]\n",
    "            data_x = data_x[data_x[geography].isin(data_y[geography])]\n",
    "            data_x_no_HSA = len(data_x[geography].unique())\n",
    "\n",
    "            missing_data.append(((len(data[geography].unique()) - data_x_no_HSA)/len(data[geography].unique())) * 100)\n",
    "            # get weights \n",
    "            #weights = weight_data[weight_data[geography].isin(data_x[geography])][[geography, weight_col]]\n",
    "\n",
    "            X_week = data_x.iloc[:, 1:len(columns_x)]  # take away y, leave weights for mo\n",
    "            y_week = data_y.iloc[:, -1] \n",
    "            \n",
    "            y_week = y_week.astype(int)\n",
    "            if if_train:\n",
    "\n",
    "                 X_week, y_week = oversample.fit_resample(X_week, y_week)\n",
    "            weights = X_week.iloc[:, -1] \n",
    "            X_week = X_week.iloc[:, :len(X_week.columns)-1] # remove the weights and leave \"target\" for that week, inlcuding it as a feature\n",
    "\n",
    "            #rename columns for concatenation \n",
    "            X_week.columns = range(1, len(data_x.columns) -1)\n",
    "            y_week.columns = range(1, len(data_y.columns) -1)\n",
    "            X_data = pd.concat([X_data, X_week])\n",
    "            y_data = pd.concat([y_data, y_week]) \n",
    "        \n",
    "            weights_all =  pd.concat([weights_all, weights]) \n",
    "\n",
    "\n",
    "    X_data.reset_index(drop=True, inplace=True)\n",
    "    y_data.reset_index(drop=True, inplace=True)\n",
    "    weights_all.reset_index(drop=True, inplace=True)\n",
    "\n",
    "    return(X_data, y_data, weights_all, missing_data)"
   ]
  },
  {
   "cell_type": "code",
   "execution_count": 63,
   "metadata": {},
   "outputs": [],
   "source": [
    "def calculate_ppv_npv(confusion_matrix):\n",
    "    # Extract values from the confusion matrix\n",
    "    TP = confusion_matrix[1, 1]\n",
    "    FP = confusion_matrix[0, 1]\n",
    "    TN = confusion_matrix[0, 0]\n",
    "    FN = confusion_matrix[1, 0]\n",
    "\n",
    "    # Calculate PPV (Precision) and NPV\n",
    "    ppv = TP / (TP + FP) if (TP + FP) > 0 else 0.0\n",
    "    npv = TN / (TN + FN) if (TN + FN) > 0 else 0.0\n",
    "\n",
    "    return ppv, npv\n",
    "\n"
   ]
  },
  {
   "cell_type": "code",
   "execution_count": 5,
   "metadata": {},
   "outputs": [],
   "source": [
    "\n",
    "for i, week in enumerate(data_by_HSA['date'].unique()):\n",
    "    data_by_HSA.loc[data_by_HSA['date'] == week, 'week'] = i"
   ]
  },
  {
   "cell_type": "code",
   "execution_count": 6,
   "metadata": {},
   "outputs": [],
   "source": [
    "## naive with only above/belwo 15 per 199k in current week \n",
    "\n",
    "data_by_HSA_over_15_100k = data_by_HSA[['HSA_ID', 'week', 'beds_over_15_100k']]\n",
    "data_by_HSA_over_15_100k = data_by_HSA_over_15_100k.pivot_table(index= 'week', columns='HSA_ID', values='beds_over_15_100k')\n",
    "\n",
    "old_column_names = data_by_HSA_over_15_100k.columns\n",
    "new_column_names = [str(col) + '_beds_over_15_100k' for col in old_column_names]\n",
    "new_column_names = dict(zip(old_column_names, new_column_names))\n",
    "data_by_HSA_over_15_100k.rename(columns=new_column_names, inplace=True)\n",
    "data_by_HSA_over_15_100k = data_by_HSA_over_15_100k.reset_index()\n"
   ]
  },
  {
   "cell_type": "code",
   "execution_count": 7,
   "metadata": {},
   "outputs": [],
   "source": [
    "column_names = ['HSA_ID']\n",
    "categories_for_subsetting = ['beds_over_15_100k']\n",
    "\n",
    "for week in range(1, len(data_by_HSA_over_15_100k) + 1):\n",
    "    week = num2words(week)\n",
    "    for category in categories_for_subsetting:\n",
    "        column_name = f'week_{week}_{category}'\n",
    "        column_names.append(column_name)\n",
    "\n",
    "all_HSA_ID_weekly_data = pd.DataFrame(index=range(len(data_by_HSA['HSA_ID'].unique())), columns=column_names)\n",
    "\n",
    "x = 0\n",
    "\n",
    "categories_for_subsetting = ['beds_over_15_100k']\n",
    "for HSA in data_by_HSA['HSA_ID'].unique():\n",
    "    matching_indices = [i for i, HSA_col in enumerate(data_by_HSA_over_15_100k) if HSA_col == HSA]\n",
    "    all_HSA_ID_weekly_data.loc[x, 'HSA_ID'] = HSA\n",
    "    columns_to_subset =  tuple([f'{HSA}_{category}' for category in categories_for_subsetting]) \n",
    "    #columns_to_subset =  [f'{HSA}_{category}' for category in categories_for_subsetting]\n",
    " \n",
    "    j = 1\n",
    "    try:\n",
    "        for row in range(len(data_by_HSA_over_15_100k.loc[:, columns_to_subset])):\n",
    "            all_HSA_ID_weekly_data.iloc[x, j:j + len(categories_for_subsetting)] = data_by_HSA_over_15_100k.loc[row,columns_to_subset]\n",
    "            j += 1\n",
    "    except:\n",
    "        pass\n",
    "    x += 1\n",
    "\n",
    "for column in all_HSA_ID_weekly_data.columns[1:]:\n",
    "    # Calculate the difference between each row and the previous row\n",
    "    if \"over\" not in column.lower():\n",
    "        diff = all_HSA_ID_weekly_data[column].diff()\n",
    "        \n",
    "        # Create a new column with the original column name and \"delta\"\n",
    "        new_column_name = column + \"_delta\"\n",
    "        \n",
    "        column_index = all_HSA_ID_weekly_data.columns.get_loc(column)\n",
    "        \n",
    "        # Insert the new column just after the original column\n",
    "        all_HSA_ID_weekly_data.insert(column_index + 1, new_column_name, diff)\n",
    "        all_HSA_ID_weekly_data[new_column_name] = diff"
   ]
  },
  {
   "cell_type": "code",
   "execution_count": 8,
   "metadata": {},
   "outputs": [],
   "source": [
    "weights_df = data_by_HSA[data_by_HSA['HSA_ID'].isin(all_HSA_ID_weekly_data['HSA_ID'])][['HSA_ID','weight_alt']]\n",
    "weights_df = weights_df.rename(columns = {'HSA_ID': 'HSA_ID', 'weight_alt':'weight'})\n",
    "weights_df = weights_df.drop_duplicates()\n",
    "weights_df['weight'].unique()\n",
    "all_HSA_ID_weekly_data = all_HSA_ID_weekly_data.join(weights_df['weight'])"
   ]
  },
  {
   "attachments": {},
   "cell_type": "markdown",
   "metadata": {},
   "source": [
    "# Period"
   ]
  },
  {
   "cell_type": "code",
   "execution_count": 10,
   "metadata": {},
   "outputs": [],
   "source": [
    "X_train, y_train, weights, missing_data_train_HSA = prep_training_test_data_period(all_HSA_ID_weekly_data, [3,2], no_weeks = range(1, int(123*2/3) + 1), weeks_in_futre = 3, if_train = False, geography = 'HSA_ID', weight_col = 'weight')\n",
    "\n",
    "X_test, y_test, weights_test, missing_data_test_HSA = prep_training_test_data_period(all_HSA_ID_weekly_data, [3,2], no_weeks = range(int(123*2/3) + 1, 122), weeks_in_futre = 3, if_train = False, geography = 'HSA_ID',  weight_col = 'weight')\n",
    "weights = weights[0]"
   ]
  },
  {
   "cell_type": "code",
   "execution_count": 16,
   "metadata": {},
   "outputs": [
    {
     "name": "stdout",
     "output_type": "stream",
     "text": [
      "Accuracy: 0.8315819917092452\n",
      "auROC: 0.8315819917092452\n",
      "[[ 5246  1466]\n",
      " [ 3775 20632]]\n"
     ]
    },
    {
     "data": {
      "image/png": "[encoded data removed]",
      "text/plain": [
       "<Figure size 640x480 with 1 Axes>"
      ]
     },
     "metadata": {},
     "output_type": "display_data"
    }
   ],
   "source": [
    "# Create a decision tree classifier\n",
    "param_grid = {\n",
    "    'criterion': ['gini'],#, 'entropy'],\n",
    "    'max_depth': np.arange(1, 10),\n",
    "    'min_samples_split': np.arange(50, 200),\n",
    "    'min_samples_leaf': np.arange(50, 200)\n",
    "}\n",
    "\n",
    "param_grid = {\n",
    "    'criterion': ['gini'],#, 'entropy'],\n",
    "    'max_depth': np.arange(1, 10),\n",
    "    'min_samples_split':  np.arange(2, 100), #[100, 200, 300, 400, 500], #np.arange(50, 200),\n",
    "    'min_samples_leaf':  np.arange(2, 100) #100, 200, 300, 400, 500], #np.arange(500, 200)\n",
    "}\n",
    "\n",
    "# Create the Decision Tree classifier\n",
    "cv = RepeatedStratifiedKFold(n_splits=10,  n_repeats=10,random_state=1) ## 10-fold cross validations\n",
    "\n",
    "clf = DecisionTreeClassifier(random_state=10, class_weight='balanced')\n",
    "\n",
    "# Perform Randomized Search with 10-fold cross-validation\n",
    "random_search = RandomizedSearchCV(clf, param_grid, n_iter=100, cv=cv, random_state=10)\n",
    "random_search.fit(X_train, y_train, sample_weight = weights)\n",
    "\n",
    "best_params = random_search.best_params_\n",
    "\n",
    "# Create the Decision Tree classifier with the best hyperparameters\n",
    "clf = DecisionTreeClassifier(**best_params, random_state=10, class_weight='balanced')\n",
    "\n",
    "# Train the decision tree classifier\n",
    "clf.fit(X_train, y_train[0],  sample_weight = weights)\n",
    "\n",
    "# Make predictions on the test set\n",
    "y_pred = clf.predict(X_test)\n",
    "# Evaluate the accuracy of the model\n",
    "accuracy = accuracy_score(y_test[0], y_pred)\n",
    "probabilities = clf.predict_proba(X_test)[:, 1]\n",
    "auroc = roc_auc_score(y_test, probabilities)\n",
    "print(\"Accuracy:\", accuracy)\n",
    "print(\"auROC:\", accuracy)\n",
    "\n",
    "print(confusion_matrix(y_test, y_pred))\n",
    "plot_tree(clf, feature_names=['Currently status'], filled=True)\n",
    "plt.savefig('Graphs/Naive_classifier_3_week_period.png', dpi = 300)\n"
   ]
  },
  {
   "cell_type": "code",
   "execution_count": 64,
   "metadata": {},
   "outputs": [
    {
     "name": "stdout",
     "output_type": "stream",
     "text": [
      "0.6310210935040403\n",
      "0.8726219603535228\n",
      "0.8325076219512195\n",
      "0.7021251751517982\n"
     ]
    }
   ],
   "source": [
    "conf_matrix = confusion_matrix(y_test, y_pred)\n",
    "\n",
    "TN = conf_matrix[0, 0]\n",
    "FP = conf_matrix[0, 1]\n",
    "FN = conf_matrix[1, 0]\n",
    "TP = conf_matrix[1, 1]\n",
    "\n",
    "# Calculate specificity (true negative rate)\n",
    "specificity = TN / (TN + FP)\n",
    "print(specificity)\n",
    "# Calculate sensitivity (true positive rate)\n",
    "sensitivity = TP / (TP + FN)\n",
    "print(sensitivity)\n",
    "\n",
    "ppv, npv = calculate_ppv_npv(conf_matrix)\n",
    "print(ppv)\n",
    "print(npv)\n"
   ]
  },
  {
   "cell_type": "code",
   "execution_count": 70,
   "metadata": {},
   "outputs": [
    {
     "ename": "AttributeError",
     "evalue": "'DecisionTreeClassifier' object has no attribute 'decision_function'",
     "output_type": "error",
     "traceback": [
      "\u001b[0;31m---------------------------------------------------------------------------\u001b[0m",
      "\u001b[0;31mAttributeError\u001b[0m                            Traceback (most recent call last)",
      "Cell \u001b[0;32mIn[70], line 5\u001b[0m\n\u001b[1;32m      1\u001b[0m accuracy \u001b[39m=\u001b[39m accuracy_score(y_test, y_pred)\n\u001b[1;32m      3\u001b[0m \u001b[39m# Calculate AUROC\u001b[39;00m\n\u001b[1;32m      4\u001b[0m \u001b[39m# Note: Decision Trees inherently don't provide probability estimates, so we need to use decision function or predict_proba\u001b[39;00m\n\u001b[0;32m----> 5\u001b[0m decision_function_scores \u001b[39m=\u001b[39m clf\u001b[39m.\u001b[39mdecision_function(X_test)\n\u001b[1;32m      6\u001b[0m auroc \u001b[39m=\u001b[39m roc_auc_score(y_test, decision_function_scores)\n",
      "\u001b[0;31mAttributeError\u001b[0m: 'DecisionTreeClassifier' object has no attribute 'decision_function'"
     ]
    }
   ],
   "source": [
    "auroc = roc_auc_score(y_test, decision_function_scores)"
   ]
  },
  {
   "cell_type": "code",
   "execution_count": 68,
   "metadata": {},
   "outputs": [
    {
     "data": {
      "text/plain": [
       "0.794728650696982"
      ]
     },
     "execution_count": 68,
     "metadata": {},
     "output_type": "execute_result"
    }
   ],
   "source": [
    "accuracy"
   ]
  },
  {
   "attachments": {},
   "cell_type": "markdown",
   "metadata": {},
   "source": [
    "# Exact date"
   ]
  },
  {
   "cell_type": "code",
   "execution_count": 49,
   "metadata": {},
   "outputs": [],
   "source": [
    "X_train, y_train, weights, missing_data_train_HSA = prep_training_test_data(all_HSA_ID_weekly_data, [3,2], no_weeks = range(1, int(123*2/3) + 1), weeks_in_futre = 3, if_train = False, geography = 'HSA_ID', weight_col = 'weight')\n",
    "\n",
    "X_test, y_test, weights_test, missing_data_test_HSA = prep_training_test_data(all_HSA_ID_weekly_data, [3,2], no_weeks = range(int(123*2/3) + 1, 120), weeks_in_futre = 3, if_train = False, geography = 'HSA_ID',  weight_col = 'weight') #only goes to 120 as it's weeks in the future\n",
    "weights = weights[0]"
   ]
  },
  {
   "cell_type": "code",
   "execution_count": 65,
   "metadata": {},
   "outputs": [
    {
     "name": "stdout",
     "output_type": "stream",
     "text": [
      "Accuracy: 0.794728650696982\n",
      "auROC: 0.794728650696982\n",
      "[[ 6013  3516]\n",
      " [ 2551 17476]]\n"
     ]
    },
    {
     "data": {
      "image/png": "[encoded data removed]",
      "text/plain": [
       "<Figure size 640x480 with 1 Axes>"
      ]
     },
     "metadata": {},
     "output_type": "display_data"
    }
   ],
   "source": [
    "# Create a decision tree classifier\n",
    "param_grid = {\n",
    "    'criterion': ['gini'],#, 'entropy'],\n",
    "    'max_depth': np.arange(1, 10),\n",
    "    'min_samples_split': np.arange(50, 200),\n",
    "    'min_samples_leaf': np.arange(50, 200)\n",
    "}\n",
    "\n",
    "param_grid = {\n",
    "    'criterion': ['gini'],#, 'entropy'],\n",
    "    'max_depth': np.arange(1, 10),\n",
    "    'min_samples_split':  np.arange(2, 100), #[100, 200, 300, 400, 500], #np.arange(50, 200),\n",
    "    'min_samples_leaf':  np.arange(2, 100) #100, 200, 300, 400, 500], #np.arange(500, 200)\n",
    "}\n",
    "\n",
    "# Create the Decision Tree classifier\n",
    "cv = RepeatedStratifiedKFold(n_splits=10,  n_repeats=10,random_state=1) ## 10-fold cross validations\n",
    "\n",
    "clf = DecisionTreeClassifier(random_state=10, class_weight='balanced')\n",
    "\n",
    "# Perform Randomized Search with 10-fold cross-validation\n",
    "random_search = RandomizedSearchCV(clf, param_grid, n_iter=100, cv=cv, random_state=10)\n",
    "random_search.fit(X_train, y_train, sample_weight = weights)\n",
    "\n",
    "best_params = random_search.best_params_\n",
    "\n",
    "# Create the Decision Tree classifier with the best hyperparameters\n",
    "clf = DecisionTreeClassifier(**best_params, random_state=10, class_weight='balanced')\n",
    "\n",
    "# Train the decision tree classifier\n",
    "clf.fit(X_train, y_train[0],  sample_weight = weights)\n",
    "\n",
    "# Make predictions on the test set\n",
    "y_pred = clf.predict(X_test)\n",
    "# Evaluate the accuracy of the model\n",
    "accuracy = accuracy_score(y_test[0], y_pred)\n",
    "ROC = roc_auc_score(y_test[0], y_pred)\n",
    "\n",
    "print(\"Accuracy:\", accuracy)\n",
    "print(\"auROC:\", accuracy)\n",
    "\n",
    "print(confusion_matrix(y_test, y_pred))\n",
    "plot_tree(clf, feature_names=['above'], filled=True)\n",
    "plt.savefig('Graphs/Naive_classifier_3_week_exact.png', dpi = 300)\n"
   ]
  },
  {
   "cell_type": "code",
   "execution_count": 60,
   "metadata": {},
   "outputs": [
    {
     "name": "stdout",
     "output_type": "stream",
     "text": [
      "0.6310210935040403\n",
      "0.8726219603535228\n"
     ]
    }
   ],
   "source": [
    "conf_matrix = confusion_matrix(y_test, y_pred)\n",
    "\n",
    "TN = conf_matrix[0, 0]\n",
    "FP = conf_matrix[0, 1]\n",
    "FN = conf_matrix[1, 0]\n",
    "TP = conf_matrix[1, 1]\n",
    "\n",
    "# Calculate specificity (true negative rate)\n",
    "specificity = TN / (TN + FP)\n",
    "print(specificity)\n",
    "# Calculate sensitivity (true positive rate)\n",
    "sensitivity = TP / (TP + FN)\n",
    "print(sensitivity)\n",
    "\n",
    "ppv, npv = calculate_ppv_npv(conf_matrix)\n",
    "print(ppv)\n"
   ]
  },
  {
   "cell_type": "code",
   "execution_count": null,
   "metadata": {},
   "outputs": [],
   "source": [
    "def calculate_ppv_npv(true_labels, predicted_labels):\n",
    "    # Make sure the inputs have the same length\n",
    "    if len(true_labels) != len(predicted_labels):\n",
    "        raise ValueError(\"The true_labels and predicted_labels should have the same length.\")\n",
    "\n",
    "    true_positives = sum(1 for true_label, predicted_label in zip(true_labels, predicted_labels) if true_label == 1 and predicted_label == 1)\n",
    "    false_positives = sum(1 for true_label, predicted_label in zip(true_labels, predicted_labels) if true_label == 0 and predicted_label == 1)\n",
    "    true_negatives = sum(1 for true_label, predicted_label in zip(true_labels, predicted_labels) if true_label == 0 and predicted_label == 0)\n",
    "    false_negatives = sum(1 for true_label, predicted_label in zip(true_labels, predicted_labels) if true_label == 1 and predicted_label == 0)\n",
    "\n",
    "    ppv = true_positives / (true_positives + false_positives) if (true_positives + false_positives) > 0 else 0.0\n",
    "    npv = true_negatives / (true_negatives + false_negatives) if (true_negatives + false_negatives) > 0 else 0.0\n",
    "\n",
    "    return ppv, npv\n"
   ]
  }
 ],
 "metadata": {
  "kernelspec": {
   "display_name": "COVID_forecasting",
   "language": "python",
   "name": "python3"
  },
  "language_info": {
   "codemirror_mode": {
    "name": "ipython",
    "version": 3
   },
   "file_extension": ".py",
   "mimetype": "text/x-python",
   "name": "python",
   "nbconvert_exporter": "python",
   "pygments_lexer": "ipython3",
   "version": "3.11.3 (main, May 15 2023, 18:01:31) [Clang 14.0.6 ]"
  },
  "orig_nbformat": 4,
  "vscode": {
   "interpreter": {
    "hash": "a72d884e172d11118bfdfb578e108fb6b63a679c74d3d7d2f9d493a9a72737c0"
   }
  }
 },
 "nbformat": 4,
 "nbformat_minor": 2
}
