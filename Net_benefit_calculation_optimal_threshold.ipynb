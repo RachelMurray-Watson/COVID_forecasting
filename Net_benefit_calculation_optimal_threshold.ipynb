{
 "cells": [
  {
   "cell_type": "code",
   "execution_count": 2,
   "metadata": {},
   "outputs": [],
   "source": [
    "#%reset\n",
    "import os\n",
    "import matplotlib.pyplot as plt\n",
    "import pandas as pd\n",
    "import numpy as np\n",
    "from sklearn import tree\n",
    "from sklearn import metrics\n",
    "\n",
    "from sklearn.tree import DecisionTreeClassifier, plot_tree\n",
    "from sklearn.metrics import accuracy_score, confusion_matrix, matthews_corrcoef\n",
    "from num2words import num2words\n",
    "from sklearn.model_selection import RandomizedSearchCV, cross_val_score, KFold, RepeatedStratifiedKFold\n",
    "from sklearn.metrics import f1_score, matthews_corrcoef, roc_auc_score\n",
    "import word2number\n",
    "from word2number import w2n\n",
    "from sklearn.tree import DecisionTreeClassifier\n",
    "import pickle\n",
    "from sklearn.metrics import roc_curve, auc\n",
    "from sklearn.metrics import RocCurveDisplay\n",
    "import random\n",
    "import seaborn as sns\n",
    "\n",
    "from Functions import prep_training_test_data, prep_training_test_data, calculate_metrics,cross_validation_leave_geo_out, prep_training_test_data, add_labels_to_subplots\n",
    "hfont = {'fontname':'Helvetica'}\n",
    "palette = ['#66c2a5', '#fc8d62', '#8da0cb', '#a6d854', '#e78ac3','#e5c494']\n"
   ]
  },
  {
   "attachments": {},
   "cell_type": "markdown",
   "metadata": {},
   "source": [
    "# Set directory "
   ]
  },
  {
   "cell_type": "code",
   "execution_count": 16,
   "metadata": {},
   "outputs": [],
   "source": [
    "os.chdir('/Users/rem76/Documents/COVID_projections/Exact_analysis_smaller_hyperparameters/No_cases_no_deaths/Exact_expanding ')"
   ]
  },
  {
   "attachments": {},
   "cell_type": "markdown",
   "metadata": {},
   "source": [
    "# Load data"
   ]
  },
  {
   "cell_type": "code",
   "execution_count": 15,
   "metadata": {},
   "outputs": [],
   "source": [
    "HSA_weekly_data_all = pd.read_csv(\"/Users/rem76/Documents/COVID_projections/hsa_time_data_all_dates_weekly_incl_NA.csv\")\n",
    "\n",
    "columns_to_remove = [col for col in HSA_weekly_data_all.columns if 'cases' in col]\n",
    "HSA_weekly_data_no_cases_no_deaths = HSA_weekly_data_all.drop(columns=columns_to_remove)\n",
    "\n",
    "columns_to_remove = [col for col in HSA_weekly_data_no_cases_no_deaths.columns if 'deaths' in col]\n",
    "HSA_weekly_data_no_cases_no_deaths = HSA_weekly_data_no_cases_no_deaths.drop(columns=columns_to_remove)\n"
   ]
  },
  {
   "attachments": {},
   "cell_type": "markdown",
   "metadata": {},
   "source": [
    "Naive dataset"
   ]
  },
  {
   "cell_type": "code",
   "execution_count": 4,
   "metadata": {},
   "outputs": [],
   "source": [
    "columns_to_select = HSA_weekly_data_all.filter(regex=\"HSA|beds_over_15_100k|weight\").columns.tolist()\n",
    "naive_data = HSA_weekly_data_all[columns_to_select]"
   ]
  },
  {
   "attachments": {},
   "cell_type": "markdown",
   "metadata": {},
   "source": [
    "# Parameters needed for cross validation"
   ]
  },
  {
   "cell_type": "code",
   "execution_count": 5,
   "metadata": {},
   "outputs": [],
   "source": [
    "no_iterations = 10\n",
    "geography_column = 'HSA_ID'  \n",
    "geo_split = 0.9  \n",
    "time_period = 'exact'  # Choose 'period', 'exact', or 'shifted'\n",
    "size_of_test_dataset = 1\n",
    "train_weeks_for_initial_model = 1\n",
    "weeks_in_future = 3 \n",
    "weight_col = 'weight'  \n",
    "keep_output = True  \n",
    "\n",
    "no_iterations_param = 100  # Replace with the number of iterations for RandomizedSearchCV\n",
    "param_grid = {\n",
    "    'criterion': ['gini', 'entropy'],\n",
    "    'max_depth': np.arange(2, 5, 1)} #100, 200, 300, 400, 500], #np.arange(500, 200)\n",
    "    #'ccp_alpha': np.arange(0.0001, 0.0035, 0.0001) }\n",
    "\n",
    "# Create the Decision Tree classifier\n",
    "cv = RepeatedStratifiedKFold(n_splits=10,  n_repeats=10,random_state=1) ## 10-fold cross validations"
   ]
  },
  {
   "cell_type": "code",
   "execution_count": 27,
   "metadata": {},
   "outputs": [],
   "source": [
    "percent_exceed_capacity = []\n",
    "\n",
    "# Iterate through the columns of the DataFrame\n",
    "for column_name in HSA_weekly_data_all.columns:\n",
    "    if 'beds_over_15_100k' in column_name:\n",
    "        # Calculate the sum of the column and append it to the list\n",
    "        column_sum = HSA_weekly_data_all[column_name].sum()/len(HSA_weekly_data_all[column_name])\n",
    "        percent_exceed_capacity.append(column_sum)"
   ]
  },
  {
   "attachments": {},
   "cell_type": "markdown",
   "metadata": {},
   "source": [
    "# Calculate NB - both minimise negatives, and balance all outcomes"
   ]
  },
  {
   "cell_type": "code",
   "execution_count": 17,
   "metadata": {},
   "outputs": [],
   "source": [
    "omega_sequences = np.linspace(0,10,401)\n",
    "threshold_sequence = np.linspace(0,1,101)\n"
   ]
  },
  {
   "cell_type": "code",
   "execution_count": 10,
   "metadata": {},
   "outputs": [],
   "source": [
    "def find_net_benefit_min_negatives(y_probabilities, y_true, omega_sequences, threshold_sequence):   \n",
    "    net_benefit_by_omega = {}\n",
    "    optimal_threshold_by_omega = {}\n",
    "\n",
    "    for omega in omega_sequences:\n",
    "        best_threshold = None\n",
    "        max_net_benefit = -np.inf\n",
    "\n",
    "        for threshold in threshold_sequence:  # You can adjust the number of threshold values\n",
    "            y_predict_test = np.where(y_probabilities[:, 1] > threshold, 1, 0)\n",
    "\n",
    "            tn, fp, fn, tp = confusion_matrix(y_true=y_true, y_pred=y_predict_test).ravel()\n",
    "\n",
    "\n",
    "            net_benefit = tn/(len(y_true)) - (fn/(len(y_true)) * omega)\n",
    "\n",
    "            if net_benefit > max_net_benefit:\n",
    "                max_net_benefit = net_benefit\n",
    "                best_threshold = threshold\n",
    "\n",
    "\n",
    "        net_benefit_by_omega[omega] =  max_net_benefit\n",
    "        optimal_threshold_by_omega[omega] =  best_threshold\n",
    "\n",
    "    return net_benefit_by_omega, optimal_threshold_by_omega\n"
   ]
  },
  {
   "cell_type": "code",
   "execution_count": 11,
   "metadata": {},
   "outputs": [],
   "source": [
    "def find_net_benefit(y_probabilities, y_true, omega_sequences, threshold_sequence):   \n",
    "    net_benefit_by_omega = {}\n",
    "    optimal_threshold_by_omega = {}\n",
    "\n",
    "    for omega in omega_sequences:\n",
    "        best_threshold = None\n",
    "        max_net_benefit = -np.inf\n",
    "\n",
    "        for threshold in threshold_sequence:  # You can adjust the number of threshold values\n",
    "            y_predict_test = np.where(y_probabilities[:, 1] > threshold, 1, 0)\n",
    "\n",
    "            tn, fp, fn, tp = confusion_matrix(y_true=y_true, y_pred=y_predict_test).ravel()\n",
    "\n",
    "\n",
    "            net_benefit = tp/(len(y_true)) - (fp/(len(y_true)) * omega)\n",
    "\n",
    "            if net_benefit > max_net_benefit:\n",
    "                max_net_benefit = net_benefit\n",
    "                best_threshold = threshold\n",
    "\n",
    "\n",
    "        net_benefit_by_omega[omega] =  max_net_benefit\n",
    "        optimal_threshold_by_omega[omega] =  best_threshold\n",
    "\n",
    "    return net_benefit_by_omega, optimal_threshold_by_omega"
   ]
  },
  {
   "cell_type": "code",
   "execution_count": 12,
   "metadata": {},
   "outputs": [],
   "source": [
    "def find_net_benefit_balance_all(y_probabilities, y_true, omega_sequences, threshold_sequence):   \n",
    "    net_benefit_by_omega = {}\n",
    "    optimal_threshold_by_omega = {}\n",
    "    tp_by_omega = {}\n",
    "    fp_by_omega = {}\n",
    "    tn_by_omega = {}\n",
    "    fn_by_omega = {}\n",
    "    for omega in omega_sequences:\n",
    "        best_threshold = None\n",
    "        max_net_benefit = -np.inf\n",
    "\n",
    "        for threshold in threshold_sequence:  # You can adjust the number of threshold values\n",
    "            y_predict_test = np.where(y_probabilities[:, 1] > threshold, 1, 0)\n",
    "\n",
    "            tn, fp, fn, tp = confusion_matrix(y_true=y_true, y_pred=y_predict_test).ravel()\n",
    "\n",
    "\n",
    "            net_benefit = ((tp/(len(y_true))) - (fn/(len(y_true)))) -  omega*((fp/(len(y_true))) - (tn/(len(y_true))))\n",
    "\n",
    "            if net_benefit > max_net_benefit:\n",
    "                max_net_benefit = net_benefit\n",
    "                best_threshold = threshold\n",
    "                final_tp = tp \n",
    "                final_fp = fp \n",
    "                final_tn = tn\n",
    "                final_fn = fn\n",
    "\n",
    "        tp_by_omega[omega] = final_tp\n",
    "        fp_by_omega[omega] = final_fp\n",
    "        tn_by_omega[omega] = final_tn\n",
    "        fn_by_omega[omega] = final_fn\n",
    "        net_benefit_by_omega[omega] =  max_net_benefit\n",
    "        optimal_threshold_by_omega[omega] =  best_threshold\n",
    "\n",
    "    return net_benefit_by_omega, optimal_threshold_by_omega, tp_by_omega, fp_by_omega, tn_by_omega, fn_by_omega"
   ]
  },
  {
   "cell_type": "code",
   "execution_count": 20,
   "metadata": {},
   "outputs": [
    {
     "name": "stdout",
     "output_type": "stream",
     "text": [
      "1\n"
     ]
    },
    {
     "name": "stderr",
     "output_type": "stream",
     "text": [
      "/var/folders/d4/chxwf4hs5kq7ttsp56s64z65mjk3qj/T/ipykernel_77408/1954518231.py:52: RuntimeWarning: divide by zero encountered in divide\n",
      "  net_benefit_by_omega_week_period, optimal_threshold_by_omega = find_net_benefit_min_negatives(y_pred_proba, y_test_full, 1/omega_sequences, threshold_sequence)\n",
      "/var/folders/d4/chxwf4hs5kq7ttsp56s64z65mjk3qj/T/ipykernel_77408/1058678223.py:15: RuntimeWarning: invalid value encountered in scalar multiply\n",
      "  net_benefit = tn/(len(y_true)) - (fn/(len(y_true)) * omega)\n"
     ]
    },
    {
     "name": "stdout",
     "output_type": "stream",
     "text": [
      "2\n"
     ]
    },
    {
     "name": "stderr",
     "output_type": "stream",
     "text": [
      "/var/folders/d4/chxwf4hs5kq7ttsp56s64z65mjk3qj/T/ipykernel_77408/1954518231.py:52: RuntimeWarning: divide by zero encountered in divide\n",
      "  net_benefit_by_omega_week_period, optimal_threshold_by_omega = find_net_benefit_min_negatives(y_pred_proba, y_test_full, 1/omega_sequences, threshold_sequence)\n",
      "/var/folders/d4/chxwf4hs5kq7ttsp56s64z65mjk3qj/T/ipykernel_77408/1058678223.py:15: RuntimeWarning: invalid value encountered in scalar multiply\n",
      "  net_benefit = tn/(len(y_true)) - (fn/(len(y_true)) * omega)\n",
      "/var/folders/d4/chxwf4hs5kq7ttsp56s64z65mjk3qj/T/ipykernel_77408/1058678223.py:15: RuntimeWarning: invalid value encountered in scalar multiply\n",
      "  net_benefit = tn/(len(y_true)) - (fn/(len(y_true)) * omega)\n",
      "/var/folders/d4/chxwf4hs5kq7ttsp56s64z65mjk3qj/T/ipykernel_77408/1058678223.py:15: RuntimeWarning: invalid value encountered in scalar multiply\n",
      "  net_benefit = tn/(len(y_true)) - (fn/(len(y_true)) * omega)\n",
      "/var/folders/d4/chxwf4hs5kq7ttsp56s64z65mjk3qj/T/ipykernel_77408/1058678223.py:15: RuntimeWarning: invalid value encountered in scalar multiply\n",
      "  net_benefit = tn/(len(y_true)) - (fn/(len(y_true)) * omega)\n",
      "/var/folders/d4/chxwf4hs5kq7ttsp56s64z65mjk3qj/T/ipykernel_77408/1058678223.py:15: RuntimeWarning: invalid value encountered in scalar multiply\n",
      "  net_benefit = tn/(len(y_true)) - (fn/(len(y_true)) * omega)\n",
      "/var/folders/d4/chxwf4hs5kq7ttsp56s64z65mjk3qj/T/ipykernel_77408/1058678223.py:15: RuntimeWarning: invalid value encountered in scalar multiply\n",
      "  net_benefit = tn/(len(y_true)) - (fn/(len(y_true)) * omega)\n",
      "/var/folders/d4/chxwf4hs5kq7ttsp56s64z65mjk3qj/T/ipykernel_77408/1058678223.py:15: RuntimeWarning: invalid value encountered in scalar multiply\n",
      "  net_benefit = tn/(len(y_true)) - (fn/(len(y_true)) * omega)\n",
      "/var/folders/d4/chxwf4hs5kq7ttsp56s64z65mjk3qj/T/ipykernel_77408/1058678223.py:15: RuntimeWarning: invalid value encountered in scalar multiply\n",
      "  net_benefit = tn/(len(y_true)) - (fn/(len(y_true)) * omega)\n",
      "/var/folders/d4/chxwf4hs5kq7ttsp56s64z65mjk3qj/T/ipykernel_77408/1058678223.py:15: RuntimeWarning: invalid value encountered in scalar multiply\n",
      "  net_benefit = tn/(len(y_true)) - (fn/(len(y_true)) * omega)\n",
      "/var/folders/d4/chxwf4hs5kq7ttsp56s64z65mjk3qj/T/ipykernel_77408/1058678223.py:15: RuntimeWarning: invalid value encountered in scalar multiply\n",
      "  net_benefit = tn/(len(y_true)) - (fn/(len(y_true)) * omega)\n",
      "/var/folders/d4/chxwf4hs5kq7ttsp56s64z65mjk3qj/T/ipykernel_77408/1058678223.py:15: RuntimeWarning: invalid value encountered in scalar multiply\n",
      "  net_benefit = tn/(len(y_true)) - (fn/(len(y_true)) * omega)\n",
      "/var/folders/d4/chxwf4hs5kq7ttsp56s64z65mjk3qj/T/ipykernel_77408/1058678223.py:15: RuntimeWarning: invalid value encountered in scalar multiply\n",
      "  net_benefit = tn/(len(y_true)) - (fn/(len(y_true)) * omega)\n",
      "/var/folders/d4/chxwf4hs5kq7ttsp56s64z65mjk3qj/T/ipykernel_77408/1058678223.py:15: RuntimeWarning: invalid value encountered in scalar multiply\n",
      "  net_benefit = tn/(len(y_true)) - (fn/(len(y_true)) * omega)\n",
      "/var/folders/d4/chxwf4hs5kq7ttsp56s64z65mjk3qj/T/ipykernel_77408/1058678223.py:15: RuntimeWarning: invalid value encountered in scalar multiply\n",
      "  net_benefit = tn/(len(y_true)) - (fn/(len(y_true)) * omega)\n"
     ]
    },
    {
     "name": "stdout",
     "output_type": "stream",
     "text": [
      "3\n"
     ]
    },
    {
     "name": "stderr",
     "output_type": "stream",
     "text": [
      "/var/folders/d4/chxwf4hs5kq7ttsp56s64z65mjk3qj/T/ipykernel_77408/1954518231.py:52: RuntimeWarning: divide by zero encountered in divide\n",
      "  net_benefit_by_omega_week_period, optimal_threshold_by_omega = find_net_benefit_min_negatives(y_pred_proba, y_test_full, 1/omega_sequences, threshold_sequence)\n",
      "/var/folders/d4/chxwf4hs5kq7ttsp56s64z65mjk3qj/T/ipykernel_77408/1058678223.py:15: RuntimeWarning: invalid value encountered in scalar multiply\n",
      "  net_benefit = tn/(len(y_true)) - (fn/(len(y_true)) * omega)\n",
      "/var/folders/d4/chxwf4hs5kq7ttsp56s64z65mjk3qj/T/ipykernel_77408/1058678223.py:15: RuntimeWarning: invalid value encountered in scalar multiply\n",
      "  net_benefit = tn/(len(y_true)) - (fn/(len(y_true)) * omega)\n",
      "/var/folders/d4/chxwf4hs5kq7ttsp56s64z65mjk3qj/T/ipykernel_77408/1058678223.py:15: RuntimeWarning: invalid value encountered in scalar multiply\n",
      "  net_benefit = tn/(len(y_true)) - (fn/(len(y_true)) * omega)\n",
      "/var/folders/d4/chxwf4hs5kq7ttsp56s64z65mjk3qj/T/ipykernel_77408/1058678223.py:15: RuntimeWarning: invalid value encountered in scalar multiply\n",
      "  net_benefit = tn/(len(y_true)) - (fn/(len(y_true)) * omega)\n",
      "/var/folders/d4/chxwf4hs5kq7ttsp56s64z65mjk3qj/T/ipykernel_77408/1058678223.py:15: RuntimeWarning: invalid value encountered in scalar multiply\n",
      "  net_benefit = tn/(len(y_true)) - (fn/(len(y_true)) * omega)\n",
      "/var/folders/d4/chxwf4hs5kq7ttsp56s64z65mjk3qj/T/ipykernel_77408/1058678223.py:15: RuntimeWarning: invalid value encountered in scalar multiply\n",
      "  net_benefit = tn/(len(y_true)) - (fn/(len(y_true)) * omega)\n",
      "/var/folders/d4/chxwf4hs5kq7ttsp56s64z65mjk3qj/T/ipykernel_77408/1058678223.py:15: RuntimeWarning: invalid value encountered in scalar multiply\n",
      "  net_benefit = tn/(len(y_true)) - (fn/(len(y_true)) * omega)\n",
      "/var/folders/d4/chxwf4hs5kq7ttsp56s64z65mjk3qj/T/ipykernel_77408/1058678223.py:15: RuntimeWarning: invalid value encountered in scalar multiply\n",
      "  net_benefit = tn/(len(y_true)) - (fn/(len(y_true)) * omega)\n",
      "/var/folders/d4/chxwf4hs5kq7ttsp56s64z65mjk3qj/T/ipykernel_77408/1058678223.py:15: RuntimeWarning: invalid value encountered in scalar multiply\n",
      "  net_benefit = tn/(len(y_true)) - (fn/(len(y_true)) * omega)\n",
      "/var/folders/d4/chxwf4hs5kq7ttsp56s64z65mjk3qj/T/ipykernel_77408/1058678223.py:15: RuntimeWarning: invalid value encountered in scalar multiply\n",
      "  net_benefit = tn/(len(y_true)) - (fn/(len(y_true)) * omega)\n",
      "/var/folders/d4/chxwf4hs5kq7ttsp56s64z65mjk3qj/T/ipykernel_77408/1058678223.py:15: RuntimeWarning: invalid value encountered in scalar multiply\n",
      "  net_benefit = tn/(len(y_true)) - (fn/(len(y_true)) * omega)\n",
      "/var/folders/d4/chxwf4hs5kq7ttsp56s64z65mjk3qj/T/ipykernel_77408/1058678223.py:15: RuntimeWarning: invalid value encountered in scalar multiply\n",
      "  net_benefit = tn/(len(y_true)) - (fn/(len(y_true)) * omega)\n",
      "/var/folders/d4/chxwf4hs5kq7ttsp56s64z65mjk3qj/T/ipykernel_77408/1058678223.py:15: RuntimeWarning: invalid value encountered in scalar multiply\n",
      "  net_benefit = tn/(len(y_true)) - (fn/(len(y_true)) * omega)\n"
     ]
    },
    {
     "name": "stdout",
     "output_type": "stream",
     "text": [
      "4\n"
     ]
    },
    {
     "name": "stderr",
     "output_type": "stream",
     "text": [
      "/var/folders/d4/chxwf4hs5kq7ttsp56s64z65mjk3qj/T/ipykernel_77408/1954518231.py:52: RuntimeWarning: divide by zero encountered in divide\n",
      "  net_benefit_by_omega_week_period, optimal_threshold_by_omega = find_net_benefit_min_negatives(y_pred_proba, y_test_full, 1/omega_sequences, threshold_sequence)\n",
      "/var/folders/d4/chxwf4hs5kq7ttsp56s64z65mjk3qj/T/ipykernel_77408/1058678223.py:15: RuntimeWarning: invalid value encountered in scalar multiply\n",
      "  net_benefit = tn/(len(y_true)) - (fn/(len(y_true)) * omega)\n",
      "/var/folders/d4/chxwf4hs5kq7ttsp56s64z65mjk3qj/T/ipykernel_77408/1058678223.py:15: RuntimeWarning: invalid value encountered in scalar multiply\n",
      "  net_benefit = tn/(len(y_true)) - (fn/(len(y_true)) * omega)\n",
      "/var/folders/d4/chxwf4hs5kq7ttsp56s64z65mjk3qj/T/ipykernel_77408/1058678223.py:15: RuntimeWarning: invalid value encountered in scalar multiply\n",
      "  net_benefit = tn/(len(y_true)) - (fn/(len(y_true)) * omega)\n",
      "/var/folders/d4/chxwf4hs5kq7ttsp56s64z65mjk3qj/T/ipykernel_77408/1058678223.py:15: RuntimeWarning: invalid value encountered in scalar multiply\n",
      "  net_benefit = tn/(len(y_true)) - (fn/(len(y_true)) * omega)\n",
      "/var/folders/d4/chxwf4hs5kq7ttsp56s64z65mjk3qj/T/ipykernel_77408/1058678223.py:15: RuntimeWarning: invalid value encountered in scalar multiply\n",
      "  net_benefit = tn/(len(y_true)) - (fn/(len(y_true)) * omega)\n",
      "/var/folders/d4/chxwf4hs5kq7ttsp56s64z65mjk3qj/T/ipykernel_77408/1058678223.py:15: RuntimeWarning: invalid value encountered in scalar multiply\n",
      "  net_benefit = tn/(len(y_true)) - (fn/(len(y_true)) * omega)\n",
      "/var/folders/d4/chxwf4hs5kq7ttsp56s64z65mjk3qj/T/ipykernel_77408/1058678223.py:15: RuntimeWarning: invalid value encountered in scalar multiply\n",
      "  net_benefit = tn/(len(y_true)) - (fn/(len(y_true)) * omega)\n",
      "/var/folders/d4/chxwf4hs5kq7ttsp56s64z65mjk3qj/T/ipykernel_77408/1058678223.py:15: RuntimeWarning: invalid value encountered in scalar multiply\n",
      "  net_benefit = tn/(len(y_true)) - (fn/(len(y_true)) * omega)\n",
      "/var/folders/d4/chxwf4hs5kq7ttsp56s64z65mjk3qj/T/ipykernel_77408/1058678223.py:15: RuntimeWarning: invalid value encountered in scalar multiply\n",
      "  net_benefit = tn/(len(y_true)) - (fn/(len(y_true)) * omega)\n",
      "/var/folders/d4/chxwf4hs5kq7ttsp56s64z65mjk3qj/T/ipykernel_77408/1058678223.py:15: RuntimeWarning: invalid value encountered in scalar multiply\n",
      "  net_benefit = tn/(len(y_true)) - (fn/(len(y_true)) * omega)\n",
      "/var/folders/d4/chxwf4hs5kq7ttsp56s64z65mjk3qj/T/ipykernel_77408/1058678223.py:15: RuntimeWarning: invalid value encountered in scalar multiply\n",
      "  net_benefit = tn/(len(y_true)) - (fn/(len(y_true)) * omega)\n",
      "/var/folders/d4/chxwf4hs5kq7ttsp56s64z65mjk3qj/T/ipykernel_77408/1058678223.py:15: RuntimeWarning: invalid value encountered in scalar multiply\n",
      "  net_benefit = tn/(len(y_true)) - (fn/(len(y_true)) * omega)\n",
      "/var/folders/d4/chxwf4hs5kq7ttsp56s64z65mjk3qj/T/ipykernel_77408/1058678223.py:15: RuntimeWarning: invalid value encountered in scalar multiply\n",
      "  net_benefit = tn/(len(y_true)) - (fn/(len(y_true)) * omega)\n",
      "/var/folders/d4/chxwf4hs5kq7ttsp56s64z65mjk3qj/T/ipykernel_77408/1058678223.py:15: RuntimeWarning: invalid value encountered in scalar multiply\n",
      "  net_benefit = tn/(len(y_true)) - (fn/(len(y_true)) * omega)\n",
      "/var/folders/d4/chxwf4hs5kq7ttsp56s64z65mjk3qj/T/ipykernel_77408/1058678223.py:15: RuntimeWarning: invalid value encountered in scalar multiply\n",
      "  net_benefit = tn/(len(y_true)) - (fn/(len(y_true)) * omega)\n",
      "/var/folders/d4/chxwf4hs5kq7ttsp56s64z65mjk3qj/T/ipykernel_77408/1058678223.py:15: RuntimeWarning: invalid value encountered in scalar multiply\n",
      "  net_benefit = tn/(len(y_true)) - (fn/(len(y_true)) * omega)\n",
      "/var/folders/d4/chxwf4hs5kq7ttsp56s64z65mjk3qj/T/ipykernel_77408/1058678223.py:15: RuntimeWarning: invalid value encountered in scalar multiply\n",
      "  net_benefit = tn/(len(y_true)) - (fn/(len(y_true)) * omega)\n"
     ]
    },
    {
     "name": "stdout",
     "output_type": "stream",
     "text": [
      "5\n"
     ]
    },
    {
     "name": "stderr",
     "output_type": "stream",
     "text": [
      "/var/folders/d4/chxwf4hs5kq7ttsp56s64z65mjk3qj/T/ipykernel_77408/1954518231.py:52: RuntimeWarning: divide by zero encountered in divide\n",
      "  net_benefit_by_omega_week_period, optimal_threshold_by_omega = find_net_benefit_min_negatives(y_pred_proba, y_test_full, 1/omega_sequences, threshold_sequence)\n",
      "/var/folders/d4/chxwf4hs5kq7ttsp56s64z65mjk3qj/T/ipykernel_77408/1058678223.py:15: RuntimeWarning: invalid value encountered in scalar multiply\n",
      "  net_benefit = tn/(len(y_true)) - (fn/(len(y_true)) * omega)\n",
      "/var/folders/d4/chxwf4hs5kq7ttsp56s64z65mjk3qj/T/ipykernel_77408/1058678223.py:15: RuntimeWarning: invalid value encountered in scalar multiply\n",
      "  net_benefit = tn/(len(y_true)) - (fn/(len(y_true)) * omega)\n",
      "/var/folders/d4/chxwf4hs5kq7ttsp56s64z65mjk3qj/T/ipykernel_77408/1058678223.py:15: RuntimeWarning: invalid value encountered in scalar multiply\n",
      "  net_benefit = tn/(len(y_true)) - (fn/(len(y_true)) * omega)\n",
      "/var/folders/d4/chxwf4hs5kq7ttsp56s64z65mjk3qj/T/ipykernel_77408/1058678223.py:15: RuntimeWarning: invalid value encountered in scalar multiply\n",
      "  net_benefit = tn/(len(y_true)) - (fn/(len(y_true)) * omega)\n"
     ]
    },
    {
     "name": "stdout",
     "output_type": "stream",
     "text": [
      "6\n"
     ]
    },
    {
     "name": "stderr",
     "output_type": "stream",
     "text": [
      "/var/folders/d4/chxwf4hs5kq7ttsp56s64z65mjk3qj/T/ipykernel_77408/1954518231.py:52: RuntimeWarning: divide by zero encountered in divide\n",
      "  net_benefit_by_omega_week_period, optimal_threshold_by_omega = find_net_benefit_min_negatives(y_pred_proba, y_test_full, 1/omega_sequences, threshold_sequence)\n",
      "/var/folders/d4/chxwf4hs5kq7ttsp56s64z65mjk3qj/T/ipykernel_77408/1058678223.py:15: RuntimeWarning: invalid value encountered in scalar multiply\n",
      "  net_benefit = tn/(len(y_true)) - (fn/(len(y_true)) * omega)\n",
      "/var/folders/d4/chxwf4hs5kq7ttsp56s64z65mjk3qj/T/ipykernel_77408/1058678223.py:15: RuntimeWarning: invalid value encountered in scalar multiply\n",
      "  net_benefit = tn/(len(y_true)) - (fn/(len(y_true)) * omega)\n",
      "/var/folders/d4/chxwf4hs5kq7ttsp56s64z65mjk3qj/T/ipykernel_77408/1058678223.py:15: RuntimeWarning: invalid value encountered in scalar multiply\n",
      "  net_benefit = tn/(len(y_true)) - (fn/(len(y_true)) * omega)\n",
      "/var/folders/d4/chxwf4hs5kq7ttsp56s64z65mjk3qj/T/ipykernel_77408/1058678223.py:15: RuntimeWarning: invalid value encountered in scalar multiply\n",
      "  net_benefit = tn/(len(y_true)) - (fn/(len(y_true)) * omega)\n"
     ]
    },
    {
     "name": "stdout",
     "output_type": "stream",
     "text": [
      "7\n"
     ]
    },
    {
     "name": "stderr",
     "output_type": "stream",
     "text": [
      "/var/folders/d4/chxwf4hs5kq7ttsp56s64z65mjk3qj/T/ipykernel_77408/1954518231.py:52: RuntimeWarning: divide by zero encountered in divide\n",
      "  net_benefit_by_omega_week_period, optimal_threshold_by_omega = find_net_benefit_min_negatives(y_pred_proba, y_test_full, 1/omega_sequences, threshold_sequence)\n",
      "/var/folders/d4/chxwf4hs5kq7ttsp56s64z65mjk3qj/T/ipykernel_77408/1058678223.py:15: RuntimeWarning: invalid value encountered in scalar multiply\n",
      "  net_benefit = tn/(len(y_true)) - (fn/(len(y_true)) * omega)\n",
      "/var/folders/d4/chxwf4hs5kq7ttsp56s64z65mjk3qj/T/ipykernel_77408/1058678223.py:15: RuntimeWarning: invalid value encountered in scalar multiply\n",
      "  net_benefit = tn/(len(y_true)) - (fn/(len(y_true)) * omega)\n",
      "/var/folders/d4/chxwf4hs5kq7ttsp56s64z65mjk3qj/T/ipykernel_77408/1058678223.py:15: RuntimeWarning: invalid value encountered in scalar multiply\n",
      "  net_benefit = tn/(len(y_true)) - (fn/(len(y_true)) * omega)\n",
      "/var/folders/d4/chxwf4hs5kq7ttsp56s64z65mjk3qj/T/ipykernel_77408/1058678223.py:15: RuntimeWarning: invalid value encountered in scalar multiply\n",
      "  net_benefit = tn/(len(y_true)) - (fn/(len(y_true)) * omega)\n",
      "/var/folders/d4/chxwf4hs5kq7ttsp56s64z65mjk3qj/T/ipykernel_77408/1058678223.py:15: RuntimeWarning: invalid value encountered in scalar multiply\n",
      "  net_benefit = tn/(len(y_true)) - (fn/(len(y_true)) * omega)\n",
      "/var/folders/d4/chxwf4hs5kq7ttsp56s64z65mjk3qj/T/ipykernel_77408/1058678223.py:15: RuntimeWarning: invalid value encountered in scalar multiply\n",
      "  net_benefit = tn/(len(y_true)) - (fn/(len(y_true)) * omega)\n",
      "/var/folders/d4/chxwf4hs5kq7ttsp56s64z65mjk3qj/T/ipykernel_77408/1058678223.py:15: RuntimeWarning: invalid value encountered in scalar multiply\n",
      "  net_benefit = tn/(len(y_true)) - (fn/(len(y_true)) * omega)\n",
      "/var/folders/d4/chxwf4hs5kq7ttsp56s64z65mjk3qj/T/ipykernel_77408/1058678223.py:15: RuntimeWarning: invalid value encountered in scalar multiply\n",
      "  net_benefit = tn/(len(y_true)) - (fn/(len(y_true)) * omega)\n",
      "/var/folders/d4/chxwf4hs5kq7ttsp56s64z65mjk3qj/T/ipykernel_77408/1058678223.py:15: RuntimeWarning: invalid value encountered in scalar multiply\n",
      "  net_benefit = tn/(len(y_true)) - (fn/(len(y_true)) * omega)\n",
      "/var/folders/d4/chxwf4hs5kq7ttsp56s64z65mjk3qj/T/ipykernel_77408/1058678223.py:15: RuntimeWarning: invalid value encountered in scalar multiply\n",
      "  net_benefit = tn/(len(y_true)) - (fn/(len(y_true)) * omega)\n",
      "/var/folders/d4/chxwf4hs5kq7ttsp56s64z65mjk3qj/T/ipykernel_77408/1058678223.py:15: RuntimeWarning: invalid value encountered in scalar multiply\n",
      "  net_benefit = tn/(len(y_true)) - (fn/(len(y_true)) * omega)\n",
      "/var/folders/d4/chxwf4hs5kq7ttsp56s64z65mjk3qj/T/ipykernel_77408/1058678223.py:15: RuntimeWarning: invalid value encountered in scalar multiply\n",
      "  net_benefit = tn/(len(y_true)) - (fn/(len(y_true)) * omega)\n",
      "/var/folders/d4/chxwf4hs5kq7ttsp56s64z65mjk3qj/T/ipykernel_77408/1058678223.py:15: RuntimeWarning: invalid value encountered in scalar multiply\n",
      "  net_benefit = tn/(len(y_true)) - (fn/(len(y_true)) * omega)\n",
      "/var/folders/d4/chxwf4hs5kq7ttsp56s64z65mjk3qj/T/ipykernel_77408/1058678223.py:15: RuntimeWarning: invalid value encountered in scalar multiply\n",
      "  net_benefit = tn/(len(y_true)) - (fn/(len(y_true)) * omega)\n",
      "/var/folders/d4/chxwf4hs5kq7ttsp56s64z65mjk3qj/T/ipykernel_77408/1058678223.py:15: RuntimeWarning: invalid value encountered in scalar multiply\n",
      "  net_benefit = tn/(len(y_true)) - (fn/(len(y_true)) * omega)\n"
     ]
    },
    {
     "name": "stdout",
     "output_type": "stream",
     "text": [
      "8\n"
     ]
    },
    {
     "name": "stderr",
     "output_type": "stream",
     "text": [
      "/var/folders/d4/chxwf4hs5kq7ttsp56s64z65mjk3qj/T/ipykernel_77408/1954518231.py:52: RuntimeWarning: divide by zero encountered in divide\n",
      "  net_benefit_by_omega_week_period, optimal_threshold_by_omega = find_net_benefit_min_negatives(y_pred_proba, y_test_full, 1/omega_sequences, threshold_sequence)\n",
      "/var/folders/d4/chxwf4hs5kq7ttsp56s64z65mjk3qj/T/ipykernel_77408/1058678223.py:15: RuntimeWarning: invalid value encountered in scalar multiply\n",
      "  net_benefit = tn/(len(y_true)) - (fn/(len(y_true)) * omega)\n",
      "/var/folders/d4/chxwf4hs5kq7ttsp56s64z65mjk3qj/T/ipykernel_77408/1058678223.py:15: RuntimeWarning: invalid value encountered in scalar multiply\n",
      "  net_benefit = tn/(len(y_true)) - (fn/(len(y_true)) * omega)\n",
      "/var/folders/d4/chxwf4hs5kq7ttsp56s64z65mjk3qj/T/ipykernel_77408/1058678223.py:15: RuntimeWarning: invalid value encountered in scalar multiply\n",
      "  net_benefit = tn/(len(y_true)) - (fn/(len(y_true)) * omega)\n",
      "/var/folders/d4/chxwf4hs5kq7ttsp56s64z65mjk3qj/T/ipykernel_77408/1058678223.py:15: RuntimeWarning: invalid value encountered in scalar multiply\n",
      "  net_benefit = tn/(len(y_true)) - (fn/(len(y_true)) * omega)\n",
      "/var/folders/d4/chxwf4hs5kq7ttsp56s64z65mjk3qj/T/ipykernel_77408/1058678223.py:15: RuntimeWarning: invalid value encountered in scalar multiply\n",
      "  net_benefit = tn/(len(y_true)) - (fn/(len(y_true)) * omega)\n",
      "/var/folders/d4/chxwf4hs5kq7ttsp56s64z65mjk3qj/T/ipykernel_77408/1058678223.py:15: RuntimeWarning: invalid value encountered in scalar multiply\n",
      "  net_benefit = tn/(len(y_true)) - (fn/(len(y_true)) * omega)\n",
      "/var/folders/d4/chxwf4hs5kq7ttsp56s64z65mjk3qj/T/ipykernel_77408/1058678223.py:15: RuntimeWarning: invalid value encountered in scalar multiply\n",
      "  net_benefit = tn/(len(y_true)) - (fn/(len(y_true)) * omega)\n",
      "/var/folders/d4/chxwf4hs5kq7ttsp56s64z65mjk3qj/T/ipykernel_77408/1058678223.py:15: RuntimeWarning: invalid value encountered in scalar multiply\n",
      "  net_benefit = tn/(len(y_true)) - (fn/(len(y_true)) * omega)\n",
      "/var/folders/d4/chxwf4hs5kq7ttsp56s64z65mjk3qj/T/ipykernel_77408/1058678223.py:15: RuntimeWarning: invalid value encountered in scalar multiply\n",
      "  net_benefit = tn/(len(y_true)) - (fn/(len(y_true)) * omega)\n"
     ]
    },
    {
     "name": "stdout",
     "output_type": "stream",
     "text": [
      "9\n"
     ]
    },
    {
     "name": "stderr",
     "output_type": "stream",
     "text": [
      "/var/folders/d4/chxwf4hs5kq7ttsp56s64z65mjk3qj/T/ipykernel_77408/1954518231.py:52: RuntimeWarning: divide by zero encountered in divide\n",
      "  net_benefit_by_omega_week_period, optimal_threshold_by_omega = find_net_benefit_min_negatives(y_pred_proba, y_test_full, 1/omega_sequences, threshold_sequence)\n",
      "/var/folders/d4/chxwf4hs5kq7ttsp56s64z65mjk3qj/T/ipykernel_77408/1058678223.py:15: RuntimeWarning: invalid value encountered in scalar multiply\n",
      "  net_benefit = tn/(len(y_true)) - (fn/(len(y_true)) * omega)\n",
      "/var/folders/d4/chxwf4hs5kq7ttsp56s64z65mjk3qj/T/ipykernel_77408/1058678223.py:15: RuntimeWarning: invalid value encountered in scalar multiply\n",
      "  net_benefit = tn/(len(y_true)) - (fn/(len(y_true)) * omega)\n",
      "/var/folders/d4/chxwf4hs5kq7ttsp56s64z65mjk3qj/T/ipykernel_77408/1058678223.py:15: RuntimeWarning: invalid value encountered in scalar multiply\n",
      "  net_benefit = tn/(len(y_true)) - (fn/(len(y_true)) * omega)\n",
      "/var/folders/d4/chxwf4hs5kq7ttsp56s64z65mjk3qj/T/ipykernel_77408/1058678223.py:15: RuntimeWarning: invalid value encountered in scalar multiply\n",
      "  net_benefit = tn/(len(y_true)) - (fn/(len(y_true)) * omega)\n",
      "/var/folders/d4/chxwf4hs5kq7ttsp56s64z65mjk3qj/T/ipykernel_77408/1058678223.py:15: RuntimeWarning: invalid value encountered in scalar multiply\n",
      "  net_benefit = tn/(len(y_true)) - (fn/(len(y_true)) * omega)\n",
      "/var/folders/d4/chxwf4hs5kq7ttsp56s64z65mjk3qj/T/ipykernel_77408/1058678223.py:15: RuntimeWarning: invalid value encountered in scalar multiply\n",
      "  net_benefit = tn/(len(y_true)) - (fn/(len(y_true)) * omega)\n",
      "/var/folders/d4/chxwf4hs5kq7ttsp56s64z65mjk3qj/T/ipykernel_77408/1058678223.py:15: RuntimeWarning: invalid value encountered in scalar multiply\n",
      "  net_benefit = tn/(len(y_true)) - (fn/(len(y_true)) * omega)\n",
      "/var/folders/d4/chxwf4hs5kq7ttsp56s64z65mjk3qj/T/ipykernel_77408/1058678223.py:15: RuntimeWarning: invalid value encountered in scalar multiply\n",
      "  net_benefit = tn/(len(y_true)) - (fn/(len(y_true)) * omega)\n",
      "/var/folders/d4/chxwf4hs5kq7ttsp56s64z65mjk3qj/T/ipykernel_77408/1058678223.py:15: RuntimeWarning: invalid value encountered in scalar multiply\n",
      "  net_benefit = tn/(len(y_true)) - (fn/(len(y_true)) * omega)\n",
      "/var/folders/d4/chxwf4hs5kq7ttsp56s64z65mjk3qj/T/ipykernel_77408/1058678223.py:15: RuntimeWarning: invalid value encountered in scalar multiply\n",
      "  net_benefit = tn/(len(y_true)) - (fn/(len(y_true)) * omega)\n",
      "/var/folders/d4/chxwf4hs5kq7ttsp56s64z65mjk3qj/T/ipykernel_77408/1058678223.py:15: RuntimeWarning: invalid value encountered in scalar multiply\n",
      "  net_benefit = tn/(len(y_true)) - (fn/(len(y_true)) * omega)\n",
      "/var/folders/d4/chxwf4hs5kq7ttsp56s64z65mjk3qj/T/ipykernel_77408/1058678223.py:15: RuntimeWarning: invalid value encountered in scalar multiply\n",
      "  net_benefit = tn/(len(y_true)) - (fn/(len(y_true)) * omega)\n",
      "/var/folders/d4/chxwf4hs5kq7ttsp56s64z65mjk3qj/T/ipykernel_77408/1058678223.py:15: RuntimeWarning: invalid value encountered in scalar multiply\n",
      "  net_benefit = tn/(len(y_true)) - (fn/(len(y_true)) * omega)\n",
      "/var/folders/d4/chxwf4hs5kq7ttsp56s64z65mjk3qj/T/ipykernel_77408/1058678223.py:15: RuntimeWarning: invalid value encountered in scalar multiply\n",
      "  net_benefit = tn/(len(y_true)) - (fn/(len(y_true)) * omega)\n"
     ]
    },
    {
     "name": "stdout",
     "output_type": "stream",
     "text": [
      "10\n"
     ]
    },
    {
     "name": "stderr",
     "output_type": "stream",
     "text": [
      "/var/folders/d4/chxwf4hs5kq7ttsp56s64z65mjk3qj/T/ipykernel_77408/1954518231.py:52: RuntimeWarning: divide by zero encountered in divide\n",
      "  net_benefit_by_omega_week_period, optimal_threshold_by_omega = find_net_benefit_min_negatives(y_pred_proba, y_test_full, 1/omega_sequences, threshold_sequence)\n",
      "/var/folders/d4/chxwf4hs5kq7ttsp56s64z65mjk3qj/T/ipykernel_77408/1058678223.py:15: RuntimeWarning: invalid value encountered in scalar multiply\n",
      "  net_benefit = tn/(len(y_true)) - (fn/(len(y_true)) * omega)\n",
      "/var/folders/d4/chxwf4hs5kq7ttsp56s64z65mjk3qj/T/ipykernel_77408/1058678223.py:15: RuntimeWarning: invalid value encountered in scalar multiply\n",
      "  net_benefit = tn/(len(y_true)) - (fn/(len(y_true)) * omega)\n",
      "/var/folders/d4/chxwf4hs5kq7ttsp56s64z65mjk3qj/T/ipykernel_77408/1058678223.py:15: RuntimeWarning: invalid value encountered in scalar multiply\n",
      "  net_benefit = tn/(len(y_true)) - (fn/(len(y_true)) * omega)\n",
      "/var/folders/d4/chxwf4hs5kq7ttsp56s64z65mjk3qj/T/ipykernel_77408/1058678223.py:15: RuntimeWarning: invalid value encountered in scalar multiply\n",
      "  net_benefit = tn/(len(y_true)) - (fn/(len(y_true)) * omega)\n",
      "/var/folders/d4/chxwf4hs5kq7ttsp56s64z65mjk3qj/T/ipykernel_77408/1058678223.py:15: RuntimeWarning: invalid value encountered in scalar multiply\n",
      "  net_benefit = tn/(len(y_true)) - (fn/(len(y_true)) * omega)\n",
      "/var/folders/d4/chxwf4hs5kq7ttsp56s64z65mjk3qj/T/ipykernel_77408/1058678223.py:15: RuntimeWarning: invalid value encountered in scalar multiply\n",
      "  net_benefit = tn/(len(y_true)) - (fn/(len(y_true)) * omega)\n",
      "/var/folders/d4/chxwf4hs5kq7ttsp56s64z65mjk3qj/T/ipykernel_77408/1058678223.py:15: RuntimeWarning: invalid value encountered in scalar multiply\n",
      "  net_benefit = tn/(len(y_true)) - (fn/(len(y_true)) * omega)\n",
      "/var/folders/d4/chxwf4hs5kq7ttsp56s64z65mjk3qj/T/ipykernel_77408/1058678223.py:15: RuntimeWarning: invalid value encountered in scalar multiply\n",
      "  net_benefit = tn/(len(y_true)) - (fn/(len(y_true)) * omega)\n",
      "/var/folders/d4/chxwf4hs5kq7ttsp56s64z65mjk3qj/T/ipykernel_77408/1058678223.py:15: RuntimeWarning: invalid value encountered in scalar multiply\n",
      "  net_benefit = tn/(len(y_true)) - (fn/(len(y_true)) * omega)\n",
      "/var/folders/d4/chxwf4hs5kq7ttsp56s64z65mjk3qj/T/ipykernel_77408/1058678223.py:15: RuntimeWarning: invalid value encountered in scalar multiply\n",
      "  net_benefit = tn/(len(y_true)) - (fn/(len(y_true)) * omega)\n"
     ]
    },
    {
     "name": "stdout",
     "output_type": "stream",
     "text": [
      "11\n"
     ]
    },
    {
     "name": "stderr",
     "output_type": "stream",
     "text": [
      "/var/folders/d4/chxwf4hs5kq7ttsp56s64z65mjk3qj/T/ipykernel_77408/1954518231.py:52: RuntimeWarning: divide by zero encountered in divide\n",
      "  net_benefit_by_omega_week_period, optimal_threshold_by_omega = find_net_benefit_min_negatives(y_pred_proba, y_test_full, 1/omega_sequences, threshold_sequence)\n",
      "/var/folders/d4/chxwf4hs5kq7ttsp56s64z65mjk3qj/T/ipykernel_77408/1058678223.py:15: RuntimeWarning: invalid value encountered in scalar multiply\n",
      "  net_benefit = tn/(len(y_true)) - (fn/(len(y_true)) * omega)\n",
      "/var/folders/d4/chxwf4hs5kq7ttsp56s64z65mjk3qj/T/ipykernel_77408/1058678223.py:15: RuntimeWarning: invalid value encountered in scalar multiply\n",
      "  net_benefit = tn/(len(y_true)) - (fn/(len(y_true)) * omega)\n",
      "/var/folders/d4/chxwf4hs5kq7ttsp56s64z65mjk3qj/T/ipykernel_77408/1058678223.py:15: RuntimeWarning: invalid value encountered in scalar multiply\n",
      "  net_benefit = tn/(len(y_true)) - (fn/(len(y_true)) * omega)\n",
      "/var/folders/d4/chxwf4hs5kq7ttsp56s64z65mjk3qj/T/ipykernel_77408/1058678223.py:15: RuntimeWarning: invalid value encountered in scalar multiply\n",
      "  net_benefit = tn/(len(y_true)) - (fn/(len(y_true)) * omega)\n",
      "/var/folders/d4/chxwf4hs5kq7ttsp56s64z65mjk3qj/T/ipykernel_77408/1058678223.py:15: RuntimeWarning: invalid value encountered in scalar multiply\n",
      "  net_benefit = tn/(len(y_true)) - (fn/(len(y_true)) * omega)\n",
      "/var/folders/d4/chxwf4hs5kq7ttsp56s64z65mjk3qj/T/ipykernel_77408/1058678223.py:15: RuntimeWarning: invalid value encountered in scalar multiply\n",
      "  net_benefit = tn/(len(y_true)) - (fn/(len(y_true)) * omega)\n",
      "/var/folders/d4/chxwf4hs5kq7ttsp56s64z65mjk3qj/T/ipykernel_77408/1058678223.py:15: RuntimeWarning: invalid value encountered in scalar multiply\n",
      "  net_benefit = tn/(len(y_true)) - (fn/(len(y_true)) * omega)\n",
      "/var/folders/d4/chxwf4hs5kq7ttsp56s64z65mjk3qj/T/ipykernel_77408/1058678223.py:15: RuntimeWarning: invalid value encountered in scalar multiply\n",
      "  net_benefit = tn/(len(y_true)) - (fn/(len(y_true)) * omega)\n",
      "/var/folders/d4/chxwf4hs5kq7ttsp56s64z65mjk3qj/T/ipykernel_77408/1058678223.py:15: RuntimeWarning: invalid value encountered in scalar multiply\n",
      "  net_benefit = tn/(len(y_true)) - (fn/(len(y_true)) * omega)\n",
      "/var/folders/d4/chxwf4hs5kq7ttsp56s64z65mjk3qj/T/ipykernel_77408/1058678223.py:15: RuntimeWarning: invalid value encountered in scalar multiply\n",
      "  net_benefit = tn/(len(y_true)) - (fn/(len(y_true)) * omega)\n"
     ]
    },
    {
     "name": "stdout",
     "output_type": "stream",
     "text": [
      "12\n"
     ]
    },
    {
     "name": "stderr",
     "output_type": "stream",
     "text": [
      "/var/folders/d4/chxwf4hs5kq7ttsp56s64z65mjk3qj/T/ipykernel_77408/1954518231.py:52: RuntimeWarning: divide by zero encountered in divide\n",
      "  net_benefit_by_omega_week_period, optimal_threshold_by_omega = find_net_benefit_min_negatives(y_pred_proba, y_test_full, 1/omega_sequences, threshold_sequence)\n",
      "/var/folders/d4/chxwf4hs5kq7ttsp56s64z65mjk3qj/T/ipykernel_77408/1058678223.py:15: RuntimeWarning: invalid value encountered in scalar multiply\n",
      "  net_benefit = tn/(len(y_true)) - (fn/(len(y_true)) * omega)\n",
      "/var/folders/d4/chxwf4hs5kq7ttsp56s64z65mjk3qj/T/ipykernel_77408/1058678223.py:15: RuntimeWarning: invalid value encountered in scalar multiply\n",
      "  net_benefit = tn/(len(y_true)) - (fn/(len(y_true)) * omega)\n",
      "/var/folders/d4/chxwf4hs5kq7ttsp56s64z65mjk3qj/T/ipykernel_77408/1058678223.py:15: RuntimeWarning: invalid value encountered in scalar multiply\n",
      "  net_benefit = tn/(len(y_true)) - (fn/(len(y_true)) * omega)\n",
      "/var/folders/d4/chxwf4hs5kq7ttsp56s64z65mjk3qj/T/ipykernel_77408/1058678223.py:15: RuntimeWarning: invalid value encountered in scalar multiply\n",
      "  net_benefit = tn/(len(y_true)) - (fn/(len(y_true)) * omega)\n",
      "/var/folders/d4/chxwf4hs5kq7ttsp56s64z65mjk3qj/T/ipykernel_77408/1058678223.py:15: RuntimeWarning: invalid value encountered in scalar multiply\n",
      "  net_benefit = tn/(len(y_true)) - (fn/(len(y_true)) * omega)\n",
      "/var/folders/d4/chxwf4hs5kq7ttsp56s64z65mjk3qj/T/ipykernel_77408/1058678223.py:15: RuntimeWarning: invalid value encountered in scalar multiply\n",
      "  net_benefit = tn/(len(y_true)) - (fn/(len(y_true)) * omega)\n",
      "/var/folders/d4/chxwf4hs5kq7ttsp56s64z65mjk3qj/T/ipykernel_77408/1058678223.py:15: RuntimeWarning: invalid value encountered in scalar multiply\n",
      "  net_benefit = tn/(len(y_true)) - (fn/(len(y_true)) * omega)\n",
      "/var/folders/d4/chxwf4hs5kq7ttsp56s64z65mjk3qj/T/ipykernel_77408/1058678223.py:15: RuntimeWarning: invalid value encountered in scalar multiply\n",
      "  net_benefit = tn/(len(y_true)) - (fn/(len(y_true)) * omega)\n",
      "/var/folders/d4/chxwf4hs5kq7ttsp56s64z65mjk3qj/T/ipykernel_77408/1058678223.py:15: RuntimeWarning: invalid value encountered in scalar multiply\n",
      "  net_benefit = tn/(len(y_true)) - (fn/(len(y_true)) * omega)\n",
      "/var/folders/d4/chxwf4hs5kq7ttsp56s64z65mjk3qj/T/ipykernel_77408/1058678223.py:15: RuntimeWarning: invalid value encountered in scalar multiply\n",
      "  net_benefit = tn/(len(y_true)) - (fn/(len(y_true)) * omega)\n",
      "/var/folders/d4/chxwf4hs5kq7ttsp56s64z65mjk3qj/T/ipykernel_77408/1058678223.py:15: RuntimeWarning: invalid value encountered in scalar multiply\n",
      "  net_benefit = tn/(len(y_true)) - (fn/(len(y_true)) * omega)\n"
     ]
    },
    {
     "name": "stdout",
     "output_type": "stream",
     "text": [
      "13\n"
     ]
    },
    {
     "name": "stderr",
     "output_type": "stream",
     "text": [
      "/var/folders/d4/chxwf4hs5kq7ttsp56s64z65mjk3qj/T/ipykernel_77408/1954518231.py:52: RuntimeWarning: divide by zero encountered in divide\n",
      "  net_benefit_by_omega_week_period, optimal_threshold_by_omega = find_net_benefit_min_negatives(y_pred_proba, y_test_full, 1/omega_sequences, threshold_sequence)\n",
      "/var/folders/d4/chxwf4hs5kq7ttsp56s64z65mjk3qj/T/ipykernel_77408/1058678223.py:15: RuntimeWarning: invalid value encountered in scalar multiply\n",
      "  net_benefit = tn/(len(y_true)) - (fn/(len(y_true)) * omega)\n",
      "/var/folders/d4/chxwf4hs5kq7ttsp56s64z65mjk3qj/T/ipykernel_77408/1058678223.py:15: RuntimeWarning: invalid value encountered in scalar multiply\n",
      "  net_benefit = tn/(len(y_true)) - (fn/(len(y_true)) * omega)\n",
      "/var/folders/d4/chxwf4hs5kq7ttsp56s64z65mjk3qj/T/ipykernel_77408/1058678223.py:15: RuntimeWarning: invalid value encountered in scalar multiply\n",
      "  net_benefit = tn/(len(y_true)) - (fn/(len(y_true)) * omega)\n",
      "/var/folders/d4/chxwf4hs5kq7ttsp56s64z65mjk3qj/T/ipykernel_77408/1058678223.py:15: RuntimeWarning: invalid value encountered in scalar multiply\n",
      "  net_benefit = tn/(len(y_true)) - (fn/(len(y_true)) * omega)\n",
      "/var/folders/d4/chxwf4hs5kq7ttsp56s64z65mjk3qj/T/ipykernel_77408/1058678223.py:15: RuntimeWarning: invalid value encountered in scalar multiply\n",
      "  net_benefit = tn/(len(y_true)) - (fn/(len(y_true)) * omega)\n",
      "/var/folders/d4/chxwf4hs5kq7ttsp56s64z65mjk3qj/T/ipykernel_77408/1058678223.py:15: RuntimeWarning: invalid value encountered in scalar multiply\n",
      "  net_benefit = tn/(len(y_true)) - (fn/(len(y_true)) * omega)\n",
      "/var/folders/d4/chxwf4hs5kq7ttsp56s64z65mjk3qj/T/ipykernel_77408/1058678223.py:15: RuntimeWarning: invalid value encountered in scalar multiply\n",
      "  net_benefit = tn/(len(y_true)) - (fn/(len(y_true)) * omega)\n",
      "/var/folders/d4/chxwf4hs5kq7ttsp56s64z65mjk3qj/T/ipykernel_77408/1058678223.py:15: RuntimeWarning: invalid value encountered in scalar multiply\n",
      "  net_benefit = tn/(len(y_true)) - (fn/(len(y_true)) * omega)\n",
      "/var/folders/d4/chxwf4hs5kq7ttsp56s64z65mjk3qj/T/ipykernel_77408/1058678223.py:15: RuntimeWarning: invalid value encountered in scalar multiply\n",
      "  net_benefit = tn/(len(y_true)) - (fn/(len(y_true)) * omega)\n",
      "/var/folders/d4/chxwf4hs5kq7ttsp56s64z65mjk3qj/T/ipykernel_77408/1058678223.py:15: RuntimeWarning: invalid value encountered in scalar multiply\n",
      "  net_benefit = tn/(len(y_true)) - (fn/(len(y_true)) * omega)\n"
     ]
    },
    {
     "name": "stdout",
     "output_type": "stream",
     "text": [
      "14\n"
     ]
    },
    {
     "name": "stderr",
     "output_type": "stream",
     "text": [
      "/var/folders/d4/chxwf4hs5kq7ttsp56s64z65mjk3qj/T/ipykernel_77408/1954518231.py:52: RuntimeWarning: divide by zero encountered in divide\n",
      "  net_benefit_by_omega_week_period, optimal_threshold_by_omega = find_net_benefit_min_negatives(y_pred_proba, y_test_full, 1/omega_sequences, threshold_sequence)\n",
      "/var/folders/d4/chxwf4hs5kq7ttsp56s64z65mjk3qj/T/ipykernel_77408/1058678223.py:15: RuntimeWarning: invalid value encountered in scalar multiply\n",
      "  net_benefit = tn/(len(y_true)) - (fn/(len(y_true)) * omega)\n",
      "/var/folders/d4/chxwf4hs5kq7ttsp56s64z65mjk3qj/T/ipykernel_77408/1058678223.py:15: RuntimeWarning: invalid value encountered in scalar multiply\n",
      "  net_benefit = tn/(len(y_true)) - (fn/(len(y_true)) * omega)\n",
      "/var/folders/d4/chxwf4hs5kq7ttsp56s64z65mjk3qj/T/ipykernel_77408/1058678223.py:15: RuntimeWarning: invalid value encountered in scalar multiply\n",
      "  net_benefit = tn/(len(y_true)) - (fn/(len(y_true)) * omega)\n",
      "/var/folders/d4/chxwf4hs5kq7ttsp56s64z65mjk3qj/T/ipykernel_77408/1058678223.py:15: RuntimeWarning: invalid value encountered in scalar multiply\n",
      "  net_benefit = tn/(len(y_true)) - (fn/(len(y_true)) * omega)\n",
      "/var/folders/d4/chxwf4hs5kq7ttsp56s64z65mjk3qj/T/ipykernel_77408/1058678223.py:15: RuntimeWarning: invalid value encountered in scalar multiply\n",
      "  net_benefit = tn/(len(y_true)) - (fn/(len(y_true)) * omega)\n",
      "/var/folders/d4/chxwf4hs5kq7ttsp56s64z65mjk3qj/T/ipykernel_77408/1058678223.py:15: RuntimeWarning: invalid value encountered in scalar multiply\n",
      "  net_benefit = tn/(len(y_true)) - (fn/(len(y_true)) * omega)\n",
      "/var/folders/d4/chxwf4hs5kq7ttsp56s64z65mjk3qj/T/ipykernel_77408/1058678223.py:15: RuntimeWarning: invalid value encountered in scalar multiply\n",
      "  net_benefit = tn/(len(y_true)) - (fn/(len(y_true)) * omega)\n",
      "/var/folders/d4/chxwf4hs5kq7ttsp56s64z65mjk3qj/T/ipykernel_77408/1058678223.py:15: RuntimeWarning: invalid value encountered in scalar multiply\n",
      "  net_benefit = tn/(len(y_true)) - (fn/(len(y_true)) * omega)\n",
      "/var/folders/d4/chxwf4hs5kq7ttsp56s64z65mjk3qj/T/ipykernel_77408/1058678223.py:15: RuntimeWarning: invalid value encountered in scalar multiply\n",
      "  net_benefit = tn/(len(y_true)) - (fn/(len(y_true)) * omega)\n",
      "/var/folders/d4/chxwf4hs5kq7ttsp56s64z65mjk3qj/T/ipykernel_77408/1058678223.py:15: RuntimeWarning: invalid value encountered in scalar multiply\n",
      "  net_benefit = tn/(len(y_true)) - (fn/(len(y_true)) * omega)\n"
     ]
    },
    {
     "name": "stdout",
     "output_type": "stream",
     "text": [
      "15\n"
     ]
    },
    {
     "name": "stderr",
     "output_type": "stream",
     "text": [
      "/var/folders/d4/chxwf4hs5kq7ttsp56s64z65mjk3qj/T/ipykernel_77408/1954518231.py:52: RuntimeWarning: divide by zero encountered in divide\n",
      "  net_benefit_by_omega_week_period, optimal_threshold_by_omega = find_net_benefit_min_negatives(y_pred_proba, y_test_full, 1/omega_sequences, threshold_sequence)\n",
      "/var/folders/d4/chxwf4hs5kq7ttsp56s64z65mjk3qj/T/ipykernel_77408/1058678223.py:15: RuntimeWarning: invalid value encountered in scalar multiply\n",
      "  net_benefit = tn/(len(y_true)) - (fn/(len(y_true)) * omega)\n",
      "/var/folders/d4/chxwf4hs5kq7ttsp56s64z65mjk3qj/T/ipykernel_77408/1058678223.py:15: RuntimeWarning: invalid value encountered in scalar multiply\n",
      "  net_benefit = tn/(len(y_true)) - (fn/(len(y_true)) * omega)\n",
      "/var/folders/d4/chxwf4hs5kq7ttsp56s64z65mjk3qj/T/ipykernel_77408/1058678223.py:15: RuntimeWarning: invalid value encountered in scalar multiply\n",
      "  net_benefit = tn/(len(y_true)) - (fn/(len(y_true)) * omega)\n",
      "/var/folders/d4/chxwf4hs5kq7ttsp56s64z65mjk3qj/T/ipykernel_77408/1058678223.py:15: RuntimeWarning: invalid value encountered in scalar multiply\n",
      "  net_benefit = tn/(len(y_true)) - (fn/(len(y_true)) * omega)\n",
      "/var/folders/d4/chxwf4hs5kq7ttsp56s64z65mjk3qj/T/ipykernel_77408/1058678223.py:15: RuntimeWarning: invalid value encountered in scalar multiply\n",
      "  net_benefit = tn/(len(y_true)) - (fn/(len(y_true)) * omega)\n",
      "/var/folders/d4/chxwf4hs5kq7ttsp56s64z65mjk3qj/T/ipykernel_77408/1058678223.py:15: RuntimeWarning: invalid value encountered in scalar multiply\n",
      "  net_benefit = tn/(len(y_true)) - (fn/(len(y_true)) * omega)\n",
      "/var/folders/d4/chxwf4hs5kq7ttsp56s64z65mjk3qj/T/ipykernel_77408/1058678223.py:15: RuntimeWarning: invalid value encountered in scalar multiply\n",
      "  net_benefit = tn/(len(y_true)) - (fn/(len(y_true)) * omega)\n",
      "/var/folders/d4/chxwf4hs5kq7ttsp56s64z65mjk3qj/T/ipykernel_77408/1058678223.py:15: RuntimeWarning: invalid value encountered in scalar multiply\n",
      "  net_benefit = tn/(len(y_true)) - (fn/(len(y_true)) * omega)\n",
      "/var/folders/d4/chxwf4hs5kq7ttsp56s64z65mjk3qj/T/ipykernel_77408/1058678223.py:15: RuntimeWarning: invalid value encountered in scalar multiply\n",
      "  net_benefit = tn/(len(y_true)) - (fn/(len(y_true)) * omega)\n",
      "/var/folders/d4/chxwf4hs5kq7ttsp56s64z65mjk3qj/T/ipykernel_77408/1058678223.py:15: RuntimeWarning: invalid value encountered in scalar multiply\n",
      "  net_benefit = tn/(len(y_true)) - (fn/(len(y_true)) * omega)\n"
     ]
    },
    {
     "name": "stdout",
     "output_type": "stream",
     "text": [
      "16\n"
     ]
    },
    {
     "name": "stderr",
     "output_type": "stream",
     "text": [
      "/var/folders/d4/chxwf4hs5kq7ttsp56s64z65mjk3qj/T/ipykernel_77408/1954518231.py:52: RuntimeWarning: divide by zero encountered in divide\n",
      "  net_benefit_by_omega_week_period, optimal_threshold_by_omega = find_net_benefit_min_negatives(y_pred_proba, y_test_full, 1/omega_sequences, threshold_sequence)\n",
      "/var/folders/d4/chxwf4hs5kq7ttsp56s64z65mjk3qj/T/ipykernel_77408/1058678223.py:15: RuntimeWarning: invalid value encountered in scalar multiply\n",
      "  net_benefit = tn/(len(y_true)) - (fn/(len(y_true)) * omega)\n",
      "/var/folders/d4/chxwf4hs5kq7ttsp56s64z65mjk3qj/T/ipykernel_77408/1058678223.py:15: RuntimeWarning: invalid value encountered in scalar multiply\n",
      "  net_benefit = tn/(len(y_true)) - (fn/(len(y_true)) * omega)\n",
      "/var/folders/d4/chxwf4hs5kq7ttsp56s64z65mjk3qj/T/ipykernel_77408/1058678223.py:15: RuntimeWarning: invalid value encountered in scalar multiply\n",
      "  net_benefit = tn/(len(y_true)) - (fn/(len(y_true)) * omega)\n",
      "/var/folders/d4/chxwf4hs5kq7ttsp56s64z65mjk3qj/T/ipykernel_77408/1058678223.py:15: RuntimeWarning: invalid value encountered in scalar multiply\n",
      "  net_benefit = tn/(len(y_true)) - (fn/(len(y_true)) * omega)\n",
      "/var/folders/d4/chxwf4hs5kq7ttsp56s64z65mjk3qj/T/ipykernel_77408/1058678223.py:15: RuntimeWarning: invalid value encountered in scalar multiply\n",
      "  net_benefit = tn/(len(y_true)) - (fn/(len(y_true)) * omega)\n",
      "/var/folders/d4/chxwf4hs5kq7ttsp56s64z65mjk3qj/T/ipykernel_77408/1058678223.py:15: RuntimeWarning: invalid value encountered in scalar multiply\n",
      "  net_benefit = tn/(len(y_true)) - (fn/(len(y_true)) * omega)\n",
      "/var/folders/d4/chxwf4hs5kq7ttsp56s64z65mjk3qj/T/ipykernel_77408/1058678223.py:15: RuntimeWarning: invalid value encountered in scalar multiply\n",
      "  net_benefit = tn/(len(y_true)) - (fn/(len(y_true)) * omega)\n",
      "/var/folders/d4/chxwf4hs5kq7ttsp56s64z65mjk3qj/T/ipykernel_77408/1058678223.py:15: RuntimeWarning: invalid value encountered in scalar multiply\n",
      "  net_benefit = tn/(len(y_true)) - (fn/(len(y_true)) * omega)\n",
      "/var/folders/d4/chxwf4hs5kq7ttsp56s64z65mjk3qj/T/ipykernel_77408/1058678223.py:15: RuntimeWarning: invalid value encountered in scalar multiply\n",
      "  net_benefit = tn/(len(y_true)) - (fn/(len(y_true)) * omega)\n",
      "/var/folders/d4/chxwf4hs5kq7ttsp56s64z65mjk3qj/T/ipykernel_77408/1058678223.py:15: RuntimeWarning: invalid value encountered in scalar multiply\n",
      "  net_benefit = tn/(len(y_true)) - (fn/(len(y_true)) * omega)\n",
      "/var/folders/d4/chxwf4hs5kq7ttsp56s64z65mjk3qj/T/ipykernel_77408/1058678223.py:15: RuntimeWarning: invalid value encountered in scalar multiply\n",
      "  net_benefit = tn/(len(y_true)) - (fn/(len(y_true)) * omega)\n",
      "/var/folders/d4/chxwf4hs5kq7ttsp56s64z65mjk3qj/T/ipykernel_77408/1058678223.py:15: RuntimeWarning: invalid value encountered in scalar multiply\n",
      "  net_benefit = tn/(len(y_true)) - (fn/(len(y_true)) * omega)\n"
     ]
    },
    {
     "name": "stdout",
     "output_type": "stream",
     "text": [
      "17\n"
     ]
    },
    {
     "name": "stderr",
     "output_type": "stream",
     "text": [
      "/var/folders/d4/chxwf4hs5kq7ttsp56s64z65mjk3qj/T/ipykernel_77408/1954518231.py:52: RuntimeWarning: divide by zero encountered in divide\n",
      "  net_benefit_by_omega_week_period, optimal_threshold_by_omega = find_net_benefit_min_negatives(y_pred_proba, y_test_full, 1/omega_sequences, threshold_sequence)\n",
      "/var/folders/d4/chxwf4hs5kq7ttsp56s64z65mjk3qj/T/ipykernel_77408/1058678223.py:15: RuntimeWarning: invalid value encountered in scalar multiply\n",
      "  net_benefit = tn/(len(y_true)) - (fn/(len(y_true)) * omega)\n",
      "/var/folders/d4/chxwf4hs5kq7ttsp56s64z65mjk3qj/T/ipykernel_77408/1058678223.py:15: RuntimeWarning: invalid value encountered in scalar multiply\n",
      "  net_benefit = tn/(len(y_true)) - (fn/(len(y_true)) * omega)\n",
      "/var/folders/d4/chxwf4hs5kq7ttsp56s64z65mjk3qj/T/ipykernel_77408/1058678223.py:15: RuntimeWarning: invalid value encountered in scalar multiply\n",
      "  net_benefit = tn/(len(y_true)) - (fn/(len(y_true)) * omega)\n",
      "/var/folders/d4/chxwf4hs5kq7ttsp56s64z65mjk3qj/T/ipykernel_77408/1058678223.py:15: RuntimeWarning: invalid value encountered in scalar multiply\n",
      "  net_benefit = tn/(len(y_true)) - (fn/(len(y_true)) * omega)\n",
      "/var/folders/d4/chxwf4hs5kq7ttsp56s64z65mjk3qj/T/ipykernel_77408/1058678223.py:15: RuntimeWarning: invalid value encountered in scalar multiply\n",
      "  net_benefit = tn/(len(y_true)) - (fn/(len(y_true)) * omega)\n",
      "/var/folders/d4/chxwf4hs5kq7ttsp56s64z65mjk3qj/T/ipykernel_77408/1058678223.py:15: RuntimeWarning: invalid value encountered in scalar multiply\n",
      "  net_benefit = tn/(len(y_true)) - (fn/(len(y_true)) * omega)\n",
      "/var/folders/d4/chxwf4hs5kq7ttsp56s64z65mjk3qj/T/ipykernel_77408/1058678223.py:15: RuntimeWarning: invalid value encountered in scalar multiply\n",
      "  net_benefit = tn/(len(y_true)) - (fn/(len(y_true)) * omega)\n",
      "/var/folders/d4/chxwf4hs5kq7ttsp56s64z65mjk3qj/T/ipykernel_77408/1058678223.py:15: RuntimeWarning: invalid value encountered in scalar multiply\n",
      "  net_benefit = tn/(len(y_true)) - (fn/(len(y_true)) * omega)\n",
      "/var/folders/d4/chxwf4hs5kq7ttsp56s64z65mjk3qj/T/ipykernel_77408/1058678223.py:15: RuntimeWarning: invalid value encountered in scalar multiply\n",
      "  net_benefit = tn/(len(y_true)) - (fn/(len(y_true)) * omega)\n"
     ]
    },
    {
     "name": "stdout",
     "output_type": "stream",
     "text": [
      "18\n"
     ]
    },
    {
     "name": "stderr",
     "output_type": "stream",
     "text": [
      "/var/folders/d4/chxwf4hs5kq7ttsp56s64z65mjk3qj/T/ipykernel_77408/1954518231.py:52: RuntimeWarning: divide by zero encountered in divide\n",
      "  net_benefit_by_omega_week_period, optimal_threshold_by_omega = find_net_benefit_min_negatives(y_pred_proba, y_test_full, 1/omega_sequences, threshold_sequence)\n",
      "/var/folders/d4/chxwf4hs5kq7ttsp56s64z65mjk3qj/T/ipykernel_77408/1058678223.py:15: RuntimeWarning: invalid value encountered in scalar multiply\n",
      "  net_benefit = tn/(len(y_true)) - (fn/(len(y_true)) * omega)\n",
      "/var/folders/d4/chxwf4hs5kq7ttsp56s64z65mjk3qj/T/ipykernel_77408/1058678223.py:15: RuntimeWarning: invalid value encountered in scalar multiply\n",
      "  net_benefit = tn/(len(y_true)) - (fn/(len(y_true)) * omega)\n",
      "/var/folders/d4/chxwf4hs5kq7ttsp56s64z65mjk3qj/T/ipykernel_77408/1058678223.py:15: RuntimeWarning: invalid value encountered in scalar multiply\n",
      "  net_benefit = tn/(len(y_true)) - (fn/(len(y_true)) * omega)\n",
      "/var/folders/d4/chxwf4hs5kq7ttsp56s64z65mjk3qj/T/ipykernel_77408/1058678223.py:15: RuntimeWarning: invalid value encountered in scalar multiply\n",
      "  net_benefit = tn/(len(y_true)) - (fn/(len(y_true)) * omega)\n",
      "/var/folders/d4/chxwf4hs5kq7ttsp56s64z65mjk3qj/T/ipykernel_77408/1058678223.py:15: RuntimeWarning: invalid value encountered in scalar multiply\n",
      "  net_benefit = tn/(len(y_true)) - (fn/(len(y_true)) * omega)\n",
      "/var/folders/d4/chxwf4hs5kq7ttsp56s64z65mjk3qj/T/ipykernel_77408/1058678223.py:15: RuntimeWarning: invalid value encountered in scalar multiply\n",
      "  net_benefit = tn/(len(y_true)) - (fn/(len(y_true)) * omega)\n",
      "/var/folders/d4/chxwf4hs5kq7ttsp56s64z65mjk3qj/T/ipykernel_77408/1058678223.py:15: RuntimeWarning: invalid value encountered in scalar multiply\n",
      "  net_benefit = tn/(len(y_true)) - (fn/(len(y_true)) * omega)\n",
      "/var/folders/d4/chxwf4hs5kq7ttsp56s64z65mjk3qj/T/ipykernel_77408/1058678223.py:15: RuntimeWarning: invalid value encountered in scalar multiply\n",
      "  net_benefit = tn/(len(y_true)) - (fn/(len(y_true)) * omega)\n",
      "/var/folders/d4/chxwf4hs5kq7ttsp56s64z65mjk3qj/T/ipykernel_77408/1058678223.py:15: RuntimeWarning: invalid value encountered in scalar multiply\n",
      "  net_benefit = tn/(len(y_true)) - (fn/(len(y_true)) * omega)\n",
      "/var/folders/d4/chxwf4hs5kq7ttsp56s64z65mjk3qj/T/ipykernel_77408/1058678223.py:15: RuntimeWarning: invalid value encountered in scalar multiply\n",
      "  net_benefit = tn/(len(y_true)) - (fn/(len(y_true)) * omega)\n",
      "/var/folders/d4/chxwf4hs5kq7ttsp56s64z65mjk3qj/T/ipykernel_77408/1058678223.py:15: RuntimeWarning: invalid value encountered in scalar multiply\n",
      "  net_benefit = tn/(len(y_true)) - (fn/(len(y_true)) * omega)\n",
      "/var/folders/d4/chxwf4hs5kq7ttsp56s64z65mjk3qj/T/ipykernel_77408/1058678223.py:15: RuntimeWarning: invalid value encountered in scalar multiply\n",
      "  net_benefit = tn/(len(y_true)) - (fn/(len(y_true)) * omega)\n"
     ]
    },
    {
     "name": "stdout",
     "output_type": "stream",
     "text": [
      "19\n"
     ]
    },
    {
     "name": "stderr",
     "output_type": "stream",
     "text": [
      "/var/folders/d4/chxwf4hs5kq7ttsp56s64z65mjk3qj/T/ipykernel_77408/1954518231.py:52: RuntimeWarning: divide by zero encountered in divide\n",
      "  net_benefit_by_omega_week_period, optimal_threshold_by_omega = find_net_benefit_min_negatives(y_pred_proba, y_test_full, 1/omega_sequences, threshold_sequence)\n",
      "/var/folders/d4/chxwf4hs5kq7ttsp56s64z65mjk3qj/T/ipykernel_77408/1058678223.py:15: RuntimeWarning: invalid value encountered in scalar multiply\n",
      "  net_benefit = tn/(len(y_true)) - (fn/(len(y_true)) * omega)\n",
      "/var/folders/d4/chxwf4hs5kq7ttsp56s64z65mjk3qj/T/ipykernel_77408/1058678223.py:15: RuntimeWarning: invalid value encountered in scalar multiply\n",
      "  net_benefit = tn/(len(y_true)) - (fn/(len(y_true)) * omega)\n",
      "/var/folders/d4/chxwf4hs5kq7ttsp56s64z65mjk3qj/T/ipykernel_77408/1058678223.py:15: RuntimeWarning: invalid value encountered in scalar multiply\n",
      "  net_benefit = tn/(len(y_true)) - (fn/(len(y_true)) * omega)\n",
      "/var/folders/d4/chxwf4hs5kq7ttsp56s64z65mjk3qj/T/ipykernel_77408/1058678223.py:15: RuntimeWarning: invalid value encountered in scalar multiply\n",
      "  net_benefit = tn/(len(y_true)) - (fn/(len(y_true)) * omega)\n",
      "/var/folders/d4/chxwf4hs5kq7ttsp56s64z65mjk3qj/T/ipykernel_77408/1058678223.py:15: RuntimeWarning: invalid value encountered in scalar multiply\n",
      "  net_benefit = tn/(len(y_true)) - (fn/(len(y_true)) * omega)\n",
      "/var/folders/d4/chxwf4hs5kq7ttsp56s64z65mjk3qj/T/ipykernel_77408/1058678223.py:15: RuntimeWarning: invalid value encountered in scalar multiply\n",
      "  net_benefit = tn/(len(y_true)) - (fn/(len(y_true)) * omega)\n",
      "/var/folders/d4/chxwf4hs5kq7ttsp56s64z65mjk3qj/T/ipykernel_77408/1058678223.py:15: RuntimeWarning: invalid value encountered in scalar multiply\n",
      "  net_benefit = tn/(len(y_true)) - (fn/(len(y_true)) * omega)\n",
      "/var/folders/d4/chxwf4hs5kq7ttsp56s64z65mjk3qj/T/ipykernel_77408/1058678223.py:15: RuntimeWarning: invalid value encountered in scalar multiply\n",
      "  net_benefit = tn/(len(y_true)) - (fn/(len(y_true)) * omega)\n",
      "/var/folders/d4/chxwf4hs5kq7ttsp56s64z65mjk3qj/T/ipykernel_77408/1058678223.py:15: RuntimeWarning: invalid value encountered in scalar multiply\n",
      "  net_benefit = tn/(len(y_true)) - (fn/(len(y_true)) * omega)\n",
      "/var/folders/d4/chxwf4hs5kq7ttsp56s64z65mjk3qj/T/ipykernel_77408/1058678223.py:15: RuntimeWarning: invalid value encountered in scalar multiply\n",
      "  net_benefit = tn/(len(y_true)) - (fn/(len(y_true)) * omega)\n",
      "/var/folders/d4/chxwf4hs5kq7ttsp56s64z65mjk3qj/T/ipykernel_77408/1058678223.py:15: RuntimeWarning: invalid value encountered in scalar multiply\n",
      "  net_benefit = tn/(len(y_true)) - (fn/(len(y_true)) * omega)\n",
      "/var/folders/d4/chxwf4hs5kq7ttsp56s64z65mjk3qj/T/ipykernel_77408/1058678223.py:15: RuntimeWarning: invalid value encountered in scalar multiply\n",
      "  net_benefit = tn/(len(y_true)) - (fn/(len(y_true)) * omega)\n"
     ]
    },
    {
     "name": "stdout",
     "output_type": "stream",
     "text": [
      "20\n"
     ]
    },
    {
     "name": "stderr",
     "output_type": "stream",
     "text": [
      "/var/folders/d4/chxwf4hs5kq7ttsp56s64z65mjk3qj/T/ipykernel_77408/1954518231.py:52: RuntimeWarning: divide by zero encountered in divide\n",
      "  net_benefit_by_omega_week_period, optimal_threshold_by_omega = find_net_benefit_min_negatives(y_pred_proba, y_test_full, 1/omega_sequences, threshold_sequence)\n",
      "/var/folders/d4/chxwf4hs5kq7ttsp56s64z65mjk3qj/T/ipykernel_77408/1058678223.py:15: RuntimeWarning: invalid value encountered in scalar multiply\n",
      "  net_benefit = tn/(len(y_true)) - (fn/(len(y_true)) * omega)\n",
      "/var/folders/d4/chxwf4hs5kq7ttsp56s64z65mjk3qj/T/ipykernel_77408/1058678223.py:15: RuntimeWarning: invalid value encountered in scalar multiply\n",
      "  net_benefit = tn/(len(y_true)) - (fn/(len(y_true)) * omega)\n",
      "/var/folders/d4/chxwf4hs5kq7ttsp56s64z65mjk3qj/T/ipykernel_77408/1058678223.py:15: RuntimeWarning: invalid value encountered in scalar multiply\n",
      "  net_benefit = tn/(len(y_true)) - (fn/(len(y_true)) * omega)\n",
      "/var/folders/d4/chxwf4hs5kq7ttsp56s64z65mjk3qj/T/ipykernel_77408/1058678223.py:15: RuntimeWarning: invalid value encountered in scalar multiply\n",
      "  net_benefit = tn/(len(y_true)) - (fn/(len(y_true)) * omega)\n",
      "/var/folders/d4/chxwf4hs5kq7ttsp56s64z65mjk3qj/T/ipykernel_77408/1058678223.py:15: RuntimeWarning: invalid value encountered in scalar multiply\n",
      "  net_benefit = tn/(len(y_true)) - (fn/(len(y_true)) * omega)\n",
      "/var/folders/d4/chxwf4hs5kq7ttsp56s64z65mjk3qj/T/ipykernel_77408/1058678223.py:15: RuntimeWarning: invalid value encountered in scalar multiply\n",
      "  net_benefit = tn/(len(y_true)) - (fn/(len(y_true)) * omega)\n",
      "/var/folders/d4/chxwf4hs5kq7ttsp56s64z65mjk3qj/T/ipykernel_77408/1058678223.py:15: RuntimeWarning: invalid value encountered in scalar multiply\n",
      "  net_benefit = tn/(len(y_true)) - (fn/(len(y_true)) * omega)\n",
      "/var/folders/d4/chxwf4hs5kq7ttsp56s64z65mjk3qj/T/ipykernel_77408/1058678223.py:15: RuntimeWarning: invalid value encountered in scalar multiply\n",
      "  net_benefit = tn/(len(y_true)) - (fn/(len(y_true)) * omega)\n",
      "/var/folders/d4/chxwf4hs5kq7ttsp56s64z65mjk3qj/T/ipykernel_77408/1058678223.py:15: RuntimeWarning: invalid value encountered in scalar multiply\n",
      "  net_benefit = tn/(len(y_true)) - (fn/(len(y_true)) * omega)\n",
      "/var/folders/d4/chxwf4hs5kq7ttsp56s64z65mjk3qj/T/ipykernel_77408/1058678223.py:15: RuntimeWarning: invalid value encountered in scalar multiply\n",
      "  net_benefit = tn/(len(y_true)) - (fn/(len(y_true)) * omega)\n",
      "/var/folders/d4/chxwf4hs5kq7ttsp56s64z65mjk3qj/T/ipykernel_77408/1058678223.py:15: RuntimeWarning: invalid value encountered in scalar multiply\n",
      "  net_benefit = tn/(len(y_true)) - (fn/(len(y_true)) * omega)\n"
     ]
    },
    {
     "name": "stdout",
     "output_type": "stream",
     "text": [
      "21\n"
     ]
    },
    {
     "name": "stderr",
     "output_type": "stream",
     "text": [
      "/var/folders/d4/chxwf4hs5kq7ttsp56s64z65mjk3qj/T/ipykernel_77408/1954518231.py:52: RuntimeWarning: divide by zero encountered in divide\n",
      "  net_benefit_by_omega_week_period, optimal_threshold_by_omega = find_net_benefit_min_negatives(y_pred_proba, y_test_full, 1/omega_sequences, threshold_sequence)\n",
      "/var/folders/d4/chxwf4hs5kq7ttsp56s64z65mjk3qj/T/ipykernel_77408/1058678223.py:15: RuntimeWarning: invalid value encountered in scalar multiply\n",
      "  net_benefit = tn/(len(y_true)) - (fn/(len(y_true)) * omega)\n",
      "/var/folders/d4/chxwf4hs5kq7ttsp56s64z65mjk3qj/T/ipykernel_77408/1058678223.py:15: RuntimeWarning: invalid value encountered in scalar multiply\n",
      "  net_benefit = tn/(len(y_true)) - (fn/(len(y_true)) * omega)\n",
      "/var/folders/d4/chxwf4hs5kq7ttsp56s64z65mjk3qj/T/ipykernel_77408/1058678223.py:15: RuntimeWarning: invalid value encountered in scalar multiply\n",
      "  net_benefit = tn/(len(y_true)) - (fn/(len(y_true)) * omega)\n",
      "/var/folders/d4/chxwf4hs5kq7ttsp56s64z65mjk3qj/T/ipykernel_77408/1058678223.py:15: RuntimeWarning: invalid value encountered in scalar multiply\n",
      "  net_benefit = tn/(len(y_true)) - (fn/(len(y_true)) * omega)\n",
      "/var/folders/d4/chxwf4hs5kq7ttsp56s64z65mjk3qj/T/ipykernel_77408/1058678223.py:15: RuntimeWarning: invalid value encountered in scalar multiply\n",
      "  net_benefit = tn/(len(y_true)) - (fn/(len(y_true)) * omega)\n",
      "/var/folders/d4/chxwf4hs5kq7ttsp56s64z65mjk3qj/T/ipykernel_77408/1058678223.py:15: RuntimeWarning: invalid value encountered in scalar multiply\n",
      "  net_benefit = tn/(len(y_true)) - (fn/(len(y_true)) * omega)\n",
      "/var/folders/d4/chxwf4hs5kq7ttsp56s64z65mjk3qj/T/ipykernel_77408/1058678223.py:15: RuntimeWarning: invalid value encountered in scalar multiply\n",
      "  net_benefit = tn/(len(y_true)) - (fn/(len(y_true)) * omega)\n",
      "/var/folders/d4/chxwf4hs5kq7ttsp56s64z65mjk3qj/T/ipykernel_77408/1058678223.py:15: RuntimeWarning: invalid value encountered in scalar multiply\n",
      "  net_benefit = tn/(len(y_true)) - (fn/(len(y_true)) * omega)\n",
      "/var/folders/d4/chxwf4hs5kq7ttsp56s64z65mjk3qj/T/ipykernel_77408/1058678223.py:15: RuntimeWarning: invalid value encountered in scalar multiply\n",
      "  net_benefit = tn/(len(y_true)) - (fn/(len(y_true)) * omega)\n",
      "/var/folders/d4/chxwf4hs5kq7ttsp56s64z65mjk3qj/T/ipykernel_77408/1058678223.py:15: RuntimeWarning: invalid value encountered in scalar multiply\n",
      "  net_benefit = tn/(len(y_true)) - (fn/(len(y_true)) * omega)\n",
      "/var/folders/d4/chxwf4hs5kq7ttsp56s64z65mjk3qj/T/ipykernel_77408/1058678223.py:15: RuntimeWarning: invalid value encountered in scalar multiply\n",
      "  net_benefit = tn/(len(y_true)) - (fn/(len(y_true)) * omega)\n"
     ]
    },
    {
     "name": "stdout",
     "output_type": "stream",
     "text": [
      "22\n"
     ]
    },
    {
     "name": "stderr",
     "output_type": "stream",
     "text": [
      "/var/folders/d4/chxwf4hs5kq7ttsp56s64z65mjk3qj/T/ipykernel_77408/1954518231.py:52: RuntimeWarning: divide by zero encountered in divide\n",
      "  net_benefit_by_omega_week_period, optimal_threshold_by_omega = find_net_benefit_min_negatives(y_pred_proba, y_test_full, 1/omega_sequences, threshold_sequence)\n",
      "/var/folders/d4/chxwf4hs5kq7ttsp56s64z65mjk3qj/T/ipykernel_77408/1058678223.py:15: RuntimeWarning: invalid value encountered in scalar multiply\n",
      "  net_benefit = tn/(len(y_true)) - (fn/(len(y_true)) * omega)\n",
      "/var/folders/d4/chxwf4hs5kq7ttsp56s64z65mjk3qj/T/ipykernel_77408/1058678223.py:15: RuntimeWarning: invalid value encountered in scalar multiply\n",
      "  net_benefit = tn/(len(y_true)) - (fn/(len(y_true)) * omega)\n",
      "/var/folders/d4/chxwf4hs5kq7ttsp56s64z65mjk3qj/T/ipykernel_77408/1058678223.py:15: RuntimeWarning: invalid value encountered in scalar multiply\n",
      "  net_benefit = tn/(len(y_true)) - (fn/(len(y_true)) * omega)\n",
      "/var/folders/d4/chxwf4hs5kq7ttsp56s64z65mjk3qj/T/ipykernel_77408/1058678223.py:15: RuntimeWarning: invalid value encountered in scalar multiply\n",
      "  net_benefit = tn/(len(y_true)) - (fn/(len(y_true)) * omega)\n",
      "/var/folders/d4/chxwf4hs5kq7ttsp56s64z65mjk3qj/T/ipykernel_77408/1058678223.py:15: RuntimeWarning: invalid value encountered in scalar multiply\n",
      "  net_benefit = tn/(len(y_true)) - (fn/(len(y_true)) * omega)\n",
      "/var/folders/d4/chxwf4hs5kq7ttsp56s64z65mjk3qj/T/ipykernel_77408/1058678223.py:15: RuntimeWarning: invalid value encountered in scalar multiply\n",
      "  net_benefit = tn/(len(y_true)) - (fn/(len(y_true)) * omega)\n",
      "/var/folders/d4/chxwf4hs5kq7ttsp56s64z65mjk3qj/T/ipykernel_77408/1058678223.py:15: RuntimeWarning: invalid value encountered in scalar multiply\n",
      "  net_benefit = tn/(len(y_true)) - (fn/(len(y_true)) * omega)\n"
     ]
    },
    {
     "name": "stdout",
     "output_type": "stream",
     "text": [
      "23\n"
     ]
    },
    {
     "name": "stderr",
     "output_type": "stream",
     "text": [
      "/var/folders/d4/chxwf4hs5kq7ttsp56s64z65mjk3qj/T/ipykernel_77408/1954518231.py:52: RuntimeWarning: divide by zero encountered in divide\n",
      "  net_benefit_by_omega_week_period, optimal_threshold_by_omega = find_net_benefit_min_negatives(y_pred_proba, y_test_full, 1/omega_sequences, threshold_sequence)\n",
      "/var/folders/d4/chxwf4hs5kq7ttsp56s64z65mjk3qj/T/ipykernel_77408/1058678223.py:15: RuntimeWarning: invalid value encountered in scalar multiply\n",
      "  net_benefit = tn/(len(y_true)) - (fn/(len(y_true)) * omega)\n",
      "/var/folders/d4/chxwf4hs5kq7ttsp56s64z65mjk3qj/T/ipykernel_77408/1058678223.py:15: RuntimeWarning: invalid value encountered in scalar multiply\n",
      "  net_benefit = tn/(len(y_true)) - (fn/(len(y_true)) * omega)\n",
      "/var/folders/d4/chxwf4hs5kq7ttsp56s64z65mjk3qj/T/ipykernel_77408/1058678223.py:15: RuntimeWarning: invalid value encountered in scalar multiply\n",
      "  net_benefit = tn/(len(y_true)) - (fn/(len(y_true)) * omega)\n",
      "/var/folders/d4/chxwf4hs5kq7ttsp56s64z65mjk3qj/T/ipykernel_77408/1058678223.py:15: RuntimeWarning: invalid value encountered in scalar multiply\n",
      "  net_benefit = tn/(len(y_true)) - (fn/(len(y_true)) * omega)\n",
      "/var/folders/d4/chxwf4hs5kq7ttsp56s64z65mjk3qj/T/ipykernel_77408/1058678223.py:15: RuntimeWarning: invalid value encountered in scalar multiply\n",
      "  net_benefit = tn/(len(y_true)) - (fn/(len(y_true)) * omega)\n",
      "/var/folders/d4/chxwf4hs5kq7ttsp56s64z65mjk3qj/T/ipykernel_77408/1058678223.py:15: RuntimeWarning: invalid value encountered in scalar multiply\n",
      "  net_benefit = tn/(len(y_true)) - (fn/(len(y_true)) * omega)\n",
      "/var/folders/d4/chxwf4hs5kq7ttsp56s64z65mjk3qj/T/ipykernel_77408/1058678223.py:15: RuntimeWarning: invalid value encountered in scalar multiply\n",
      "  net_benefit = tn/(len(y_true)) - (fn/(len(y_true)) * omega)\n",
      "/var/folders/d4/chxwf4hs5kq7ttsp56s64z65mjk3qj/T/ipykernel_77408/1058678223.py:15: RuntimeWarning: invalid value encountered in scalar multiply\n",
      "  net_benefit = tn/(len(y_true)) - (fn/(len(y_true)) * omega)\n",
      "/var/folders/d4/chxwf4hs5kq7ttsp56s64z65mjk3qj/T/ipykernel_77408/1058678223.py:15: RuntimeWarning: invalid value encountered in scalar multiply\n",
      "  net_benefit = tn/(len(y_true)) - (fn/(len(y_true)) * omega)\n",
      "/var/folders/d4/chxwf4hs5kq7ttsp56s64z65mjk3qj/T/ipykernel_77408/1058678223.py:15: RuntimeWarning: invalid value encountered in scalar multiply\n",
      "  net_benefit = tn/(len(y_true)) - (fn/(len(y_true)) * omega)\n"
     ]
    },
    {
     "name": "stdout",
     "output_type": "stream",
     "text": [
      "24\n"
     ]
    },
    {
     "name": "stderr",
     "output_type": "stream",
     "text": [
      "/var/folders/d4/chxwf4hs5kq7ttsp56s64z65mjk3qj/T/ipykernel_77408/1954518231.py:52: RuntimeWarning: divide by zero encountered in divide\n",
      "  net_benefit_by_omega_week_period, optimal_threshold_by_omega = find_net_benefit_min_negatives(y_pred_proba, y_test_full, 1/omega_sequences, threshold_sequence)\n",
      "/var/folders/d4/chxwf4hs5kq7ttsp56s64z65mjk3qj/T/ipykernel_77408/1058678223.py:15: RuntimeWarning: invalid value encountered in scalar multiply\n",
      "  net_benefit = tn/(len(y_true)) - (fn/(len(y_true)) * omega)\n",
      "/var/folders/d4/chxwf4hs5kq7ttsp56s64z65mjk3qj/T/ipykernel_77408/1058678223.py:15: RuntimeWarning: invalid value encountered in scalar multiply\n",
      "  net_benefit = tn/(len(y_true)) - (fn/(len(y_true)) * omega)\n",
      "/var/folders/d4/chxwf4hs5kq7ttsp56s64z65mjk3qj/T/ipykernel_77408/1058678223.py:15: RuntimeWarning: invalid value encountered in scalar multiply\n",
      "  net_benefit = tn/(len(y_true)) - (fn/(len(y_true)) * omega)\n",
      "/var/folders/d4/chxwf4hs5kq7ttsp56s64z65mjk3qj/T/ipykernel_77408/1058678223.py:15: RuntimeWarning: invalid value encountered in scalar multiply\n",
      "  net_benefit = tn/(len(y_true)) - (fn/(len(y_true)) * omega)\n",
      "/var/folders/d4/chxwf4hs5kq7ttsp56s64z65mjk3qj/T/ipykernel_77408/1058678223.py:15: RuntimeWarning: invalid value encountered in scalar multiply\n",
      "  net_benefit = tn/(len(y_true)) - (fn/(len(y_true)) * omega)\n",
      "/var/folders/d4/chxwf4hs5kq7ttsp56s64z65mjk3qj/T/ipykernel_77408/1058678223.py:15: RuntimeWarning: invalid value encountered in scalar multiply\n",
      "  net_benefit = tn/(len(y_true)) - (fn/(len(y_true)) * omega)\n",
      "/var/folders/d4/chxwf4hs5kq7ttsp56s64z65mjk3qj/T/ipykernel_77408/1058678223.py:15: RuntimeWarning: invalid value encountered in scalar multiply\n",
      "  net_benefit = tn/(len(y_true)) - (fn/(len(y_true)) * omega)\n",
      "/var/folders/d4/chxwf4hs5kq7ttsp56s64z65mjk3qj/T/ipykernel_77408/1058678223.py:15: RuntimeWarning: invalid value encountered in scalar multiply\n",
      "  net_benefit = tn/(len(y_true)) - (fn/(len(y_true)) * omega)\n",
      "/var/folders/d4/chxwf4hs5kq7ttsp56s64z65mjk3qj/T/ipykernel_77408/1058678223.py:15: RuntimeWarning: invalid value encountered in scalar multiply\n",
      "  net_benefit = tn/(len(y_true)) - (fn/(len(y_true)) * omega)\n",
      "/var/folders/d4/chxwf4hs5kq7ttsp56s64z65mjk3qj/T/ipykernel_77408/1058678223.py:15: RuntimeWarning: invalid value encountered in scalar multiply\n",
      "  net_benefit = tn/(len(y_true)) - (fn/(len(y_true)) * omega)\n"
     ]
    },
    {
     "name": "stdout",
     "output_type": "stream",
     "text": [
      "25\n"
     ]
    },
    {
     "name": "stderr",
     "output_type": "stream",
     "text": [
      "/var/folders/d4/chxwf4hs5kq7ttsp56s64z65mjk3qj/T/ipykernel_77408/1954518231.py:52: RuntimeWarning: divide by zero encountered in divide\n",
      "  net_benefit_by_omega_week_period, optimal_threshold_by_omega = find_net_benefit_min_negatives(y_pred_proba, y_test_full, 1/omega_sequences, threshold_sequence)\n",
      "/var/folders/d4/chxwf4hs5kq7ttsp56s64z65mjk3qj/T/ipykernel_77408/1058678223.py:15: RuntimeWarning: invalid value encountered in scalar multiply\n",
      "  net_benefit = tn/(len(y_true)) - (fn/(len(y_true)) * omega)\n",
      "/var/folders/d4/chxwf4hs5kq7ttsp56s64z65mjk3qj/T/ipykernel_77408/1058678223.py:15: RuntimeWarning: invalid value encountered in scalar multiply\n",
      "  net_benefit = tn/(len(y_true)) - (fn/(len(y_true)) * omega)\n",
      "/var/folders/d4/chxwf4hs5kq7ttsp56s64z65mjk3qj/T/ipykernel_77408/1058678223.py:15: RuntimeWarning: invalid value encountered in scalar multiply\n",
      "  net_benefit = tn/(len(y_true)) - (fn/(len(y_true)) * omega)\n",
      "/var/folders/d4/chxwf4hs5kq7ttsp56s64z65mjk3qj/T/ipykernel_77408/1058678223.py:15: RuntimeWarning: invalid value encountered in scalar multiply\n",
      "  net_benefit = tn/(len(y_true)) - (fn/(len(y_true)) * omega)\n",
      "/var/folders/d4/chxwf4hs5kq7ttsp56s64z65mjk3qj/T/ipykernel_77408/1058678223.py:15: RuntimeWarning: invalid value encountered in scalar multiply\n",
      "  net_benefit = tn/(len(y_true)) - (fn/(len(y_true)) * omega)\n",
      "/var/folders/d4/chxwf4hs5kq7ttsp56s64z65mjk3qj/T/ipykernel_77408/1058678223.py:15: RuntimeWarning: invalid value encountered in scalar multiply\n",
      "  net_benefit = tn/(len(y_true)) - (fn/(len(y_true)) * omega)\n",
      "/var/folders/d4/chxwf4hs5kq7ttsp56s64z65mjk3qj/T/ipykernel_77408/1058678223.py:15: RuntimeWarning: invalid value encountered in scalar multiply\n",
      "  net_benefit = tn/(len(y_true)) - (fn/(len(y_true)) * omega)\n",
      "/var/folders/d4/chxwf4hs5kq7ttsp56s64z65mjk3qj/T/ipykernel_77408/1058678223.py:15: RuntimeWarning: invalid value encountered in scalar multiply\n",
      "  net_benefit = tn/(len(y_true)) - (fn/(len(y_true)) * omega)\n",
      "/var/folders/d4/chxwf4hs5kq7ttsp56s64z65mjk3qj/T/ipykernel_77408/1058678223.py:15: RuntimeWarning: invalid value encountered in scalar multiply\n",
      "  net_benefit = tn/(len(y_true)) - (fn/(len(y_true)) * omega)\n"
     ]
    },
    {
     "name": "stdout",
     "output_type": "stream",
     "text": [
      "26\n"
     ]
    },
    {
     "name": "stderr",
     "output_type": "stream",
     "text": [
      "/var/folders/d4/chxwf4hs5kq7ttsp56s64z65mjk3qj/T/ipykernel_77408/1954518231.py:52: RuntimeWarning: divide by zero encountered in divide\n",
      "  net_benefit_by_omega_week_period, optimal_threshold_by_omega = find_net_benefit_min_negatives(y_pred_proba, y_test_full, 1/omega_sequences, threshold_sequence)\n",
      "/var/folders/d4/chxwf4hs5kq7ttsp56s64z65mjk3qj/T/ipykernel_77408/1058678223.py:15: RuntimeWarning: invalid value encountered in scalar multiply\n",
      "  net_benefit = tn/(len(y_true)) - (fn/(len(y_true)) * omega)\n",
      "/var/folders/d4/chxwf4hs5kq7ttsp56s64z65mjk3qj/T/ipykernel_77408/1058678223.py:15: RuntimeWarning: invalid value encountered in scalar multiply\n",
      "  net_benefit = tn/(len(y_true)) - (fn/(len(y_true)) * omega)\n",
      "/var/folders/d4/chxwf4hs5kq7ttsp56s64z65mjk3qj/T/ipykernel_77408/1058678223.py:15: RuntimeWarning: invalid value encountered in scalar multiply\n",
      "  net_benefit = tn/(len(y_true)) - (fn/(len(y_true)) * omega)\n",
      "/var/folders/d4/chxwf4hs5kq7ttsp56s64z65mjk3qj/T/ipykernel_77408/1058678223.py:15: RuntimeWarning: invalid value encountered in scalar multiply\n",
      "  net_benefit = tn/(len(y_true)) - (fn/(len(y_true)) * omega)\n",
      "/var/folders/d4/chxwf4hs5kq7ttsp56s64z65mjk3qj/T/ipykernel_77408/1058678223.py:15: RuntimeWarning: invalid value encountered in scalar multiply\n",
      "  net_benefit = tn/(len(y_true)) - (fn/(len(y_true)) * omega)\n",
      "/var/folders/d4/chxwf4hs5kq7ttsp56s64z65mjk3qj/T/ipykernel_77408/1058678223.py:15: RuntimeWarning: invalid value encountered in scalar multiply\n",
      "  net_benefit = tn/(len(y_true)) - (fn/(len(y_true)) * omega)\n",
      "/var/folders/d4/chxwf4hs5kq7ttsp56s64z65mjk3qj/T/ipykernel_77408/1058678223.py:15: RuntimeWarning: invalid value encountered in scalar multiply\n",
      "  net_benefit = tn/(len(y_true)) - (fn/(len(y_true)) * omega)\n",
      "/var/folders/d4/chxwf4hs5kq7ttsp56s64z65mjk3qj/T/ipykernel_77408/1058678223.py:15: RuntimeWarning: invalid value encountered in scalar multiply\n",
      "  net_benefit = tn/(len(y_true)) - (fn/(len(y_true)) * omega)\n",
      "/var/folders/d4/chxwf4hs5kq7ttsp56s64z65mjk3qj/T/ipykernel_77408/1058678223.py:15: RuntimeWarning: invalid value encountered in scalar multiply\n",
      "  net_benefit = tn/(len(y_true)) - (fn/(len(y_true)) * omega)\n"
     ]
    },
    {
     "name": "stdout",
     "output_type": "stream",
     "text": [
      "27\n"
     ]
    },
    {
     "name": "stderr",
     "output_type": "stream",
     "text": [
      "/var/folders/d4/chxwf4hs5kq7ttsp56s64z65mjk3qj/T/ipykernel_77408/1954518231.py:52: RuntimeWarning: divide by zero encountered in divide\n",
      "  net_benefit_by_omega_week_period, optimal_threshold_by_omega = find_net_benefit_min_negatives(y_pred_proba, y_test_full, 1/omega_sequences, threshold_sequence)\n",
      "/var/folders/d4/chxwf4hs5kq7ttsp56s64z65mjk3qj/T/ipykernel_77408/1058678223.py:15: RuntimeWarning: invalid value encountered in scalar multiply\n",
      "  net_benefit = tn/(len(y_true)) - (fn/(len(y_true)) * omega)\n",
      "/var/folders/d4/chxwf4hs5kq7ttsp56s64z65mjk3qj/T/ipykernel_77408/1058678223.py:15: RuntimeWarning: invalid value encountered in scalar multiply\n",
      "  net_benefit = tn/(len(y_true)) - (fn/(len(y_true)) * omega)\n",
      "/var/folders/d4/chxwf4hs5kq7ttsp56s64z65mjk3qj/T/ipykernel_77408/1058678223.py:15: RuntimeWarning: invalid value encountered in scalar multiply\n",
      "  net_benefit = tn/(len(y_true)) - (fn/(len(y_true)) * omega)\n",
      "/var/folders/d4/chxwf4hs5kq7ttsp56s64z65mjk3qj/T/ipykernel_77408/1058678223.py:15: RuntimeWarning: invalid value encountered in scalar multiply\n",
      "  net_benefit = tn/(len(y_true)) - (fn/(len(y_true)) * omega)\n",
      "/var/folders/d4/chxwf4hs5kq7ttsp56s64z65mjk3qj/T/ipykernel_77408/1058678223.py:15: RuntimeWarning: invalid value encountered in scalar multiply\n",
      "  net_benefit = tn/(len(y_true)) - (fn/(len(y_true)) * omega)\n",
      "/var/folders/d4/chxwf4hs5kq7ttsp56s64z65mjk3qj/T/ipykernel_77408/1058678223.py:15: RuntimeWarning: invalid value encountered in scalar multiply\n",
      "  net_benefit = tn/(len(y_true)) - (fn/(len(y_true)) * omega)\n",
      "/var/folders/d4/chxwf4hs5kq7ttsp56s64z65mjk3qj/T/ipykernel_77408/1058678223.py:15: RuntimeWarning: invalid value encountered in scalar multiply\n",
      "  net_benefit = tn/(len(y_true)) - (fn/(len(y_true)) * omega)\n",
      "/var/folders/d4/chxwf4hs5kq7ttsp56s64z65mjk3qj/T/ipykernel_77408/1058678223.py:15: RuntimeWarning: invalid value encountered in scalar multiply\n",
      "  net_benefit = tn/(len(y_true)) - (fn/(len(y_true)) * omega)\n",
      "/var/folders/d4/chxwf4hs5kq7ttsp56s64z65mjk3qj/T/ipykernel_77408/1058678223.py:15: RuntimeWarning: invalid value encountered in scalar multiply\n",
      "  net_benefit = tn/(len(y_true)) - (fn/(len(y_true)) * omega)\n"
     ]
    },
    {
     "name": "stdout",
     "output_type": "stream",
     "text": [
      "28\n"
     ]
    },
    {
     "name": "stderr",
     "output_type": "stream",
     "text": [
      "/var/folders/d4/chxwf4hs5kq7ttsp56s64z65mjk3qj/T/ipykernel_77408/1954518231.py:52: RuntimeWarning: divide by zero encountered in divide\n",
      "  net_benefit_by_omega_week_period, optimal_threshold_by_omega = find_net_benefit_min_negatives(y_pred_proba, y_test_full, 1/omega_sequences, threshold_sequence)\n",
      "/var/folders/d4/chxwf4hs5kq7ttsp56s64z65mjk3qj/T/ipykernel_77408/1058678223.py:15: RuntimeWarning: invalid value encountered in scalar multiply\n",
      "  net_benefit = tn/(len(y_true)) - (fn/(len(y_true)) * omega)\n",
      "/var/folders/d4/chxwf4hs5kq7ttsp56s64z65mjk3qj/T/ipykernel_77408/1058678223.py:15: RuntimeWarning: invalid value encountered in scalar multiply\n",
      "  net_benefit = tn/(len(y_true)) - (fn/(len(y_true)) * omega)\n",
      "/var/folders/d4/chxwf4hs5kq7ttsp56s64z65mjk3qj/T/ipykernel_77408/1058678223.py:15: RuntimeWarning: invalid value encountered in scalar multiply\n",
      "  net_benefit = tn/(len(y_true)) - (fn/(len(y_true)) * omega)\n",
      "/var/folders/d4/chxwf4hs5kq7ttsp56s64z65mjk3qj/T/ipykernel_77408/1058678223.py:15: RuntimeWarning: invalid value encountered in scalar multiply\n",
      "  net_benefit = tn/(len(y_true)) - (fn/(len(y_true)) * omega)\n",
      "/var/folders/d4/chxwf4hs5kq7ttsp56s64z65mjk3qj/T/ipykernel_77408/1058678223.py:15: RuntimeWarning: invalid value encountered in scalar multiply\n",
      "  net_benefit = tn/(len(y_true)) - (fn/(len(y_true)) * omega)\n",
      "/var/folders/d4/chxwf4hs5kq7ttsp56s64z65mjk3qj/T/ipykernel_77408/1058678223.py:15: RuntimeWarning: invalid value encountered in scalar multiply\n",
      "  net_benefit = tn/(len(y_true)) - (fn/(len(y_true)) * omega)\n",
      "/var/folders/d4/chxwf4hs5kq7ttsp56s64z65mjk3qj/T/ipykernel_77408/1058678223.py:15: RuntimeWarning: invalid value encountered in scalar multiply\n",
      "  net_benefit = tn/(len(y_true)) - (fn/(len(y_true)) * omega)\n",
      "/var/folders/d4/chxwf4hs5kq7ttsp56s64z65mjk3qj/T/ipykernel_77408/1058678223.py:15: RuntimeWarning: invalid value encountered in scalar multiply\n",
      "  net_benefit = tn/(len(y_true)) - (fn/(len(y_true)) * omega)\n",
      "/var/folders/d4/chxwf4hs5kq7ttsp56s64z65mjk3qj/T/ipykernel_77408/1058678223.py:15: RuntimeWarning: invalid value encountered in scalar multiply\n",
      "  net_benefit = tn/(len(y_true)) - (fn/(len(y_true)) * omega)\n"
     ]
    },
    {
     "name": "stdout",
     "output_type": "stream",
     "text": [
      "29\n"
     ]
    },
    {
     "name": "stderr",
     "output_type": "stream",
     "text": [
      "/var/folders/d4/chxwf4hs5kq7ttsp56s64z65mjk3qj/T/ipykernel_77408/1954518231.py:52: RuntimeWarning: divide by zero encountered in divide\n",
      "  net_benefit_by_omega_week_period, optimal_threshold_by_omega = find_net_benefit_min_negatives(y_pred_proba, y_test_full, 1/omega_sequences, threshold_sequence)\n",
      "/var/folders/d4/chxwf4hs5kq7ttsp56s64z65mjk3qj/T/ipykernel_77408/1058678223.py:15: RuntimeWarning: invalid value encountered in scalar multiply\n",
      "  net_benefit = tn/(len(y_true)) - (fn/(len(y_true)) * omega)\n",
      "/var/folders/d4/chxwf4hs5kq7ttsp56s64z65mjk3qj/T/ipykernel_77408/1058678223.py:15: RuntimeWarning: invalid value encountered in scalar multiply\n",
      "  net_benefit = tn/(len(y_true)) - (fn/(len(y_true)) * omega)\n",
      "/var/folders/d4/chxwf4hs5kq7ttsp56s64z65mjk3qj/T/ipykernel_77408/1058678223.py:15: RuntimeWarning: invalid value encountered in scalar multiply\n",
      "  net_benefit = tn/(len(y_true)) - (fn/(len(y_true)) * omega)\n",
      "/var/folders/d4/chxwf4hs5kq7ttsp56s64z65mjk3qj/T/ipykernel_77408/1058678223.py:15: RuntimeWarning: invalid value encountered in scalar multiply\n",
      "  net_benefit = tn/(len(y_true)) - (fn/(len(y_true)) * omega)\n",
      "/var/folders/d4/chxwf4hs5kq7ttsp56s64z65mjk3qj/T/ipykernel_77408/1058678223.py:15: RuntimeWarning: invalid value encountered in scalar multiply\n",
      "  net_benefit = tn/(len(y_true)) - (fn/(len(y_true)) * omega)\n",
      "/var/folders/d4/chxwf4hs5kq7ttsp56s64z65mjk3qj/T/ipykernel_77408/1058678223.py:15: RuntimeWarning: invalid value encountered in scalar multiply\n",
      "  net_benefit = tn/(len(y_true)) - (fn/(len(y_true)) * omega)\n",
      "/var/folders/d4/chxwf4hs5kq7ttsp56s64z65mjk3qj/T/ipykernel_77408/1058678223.py:15: RuntimeWarning: invalid value encountered in scalar multiply\n",
      "  net_benefit = tn/(len(y_true)) - (fn/(len(y_true)) * omega)\n",
      "/var/folders/d4/chxwf4hs5kq7ttsp56s64z65mjk3qj/T/ipykernel_77408/1058678223.py:15: RuntimeWarning: invalid value encountered in scalar multiply\n",
      "  net_benefit = tn/(len(y_true)) - (fn/(len(y_true)) * omega)\n",
      "/var/folders/d4/chxwf4hs5kq7ttsp56s64z65mjk3qj/T/ipykernel_77408/1058678223.py:15: RuntimeWarning: invalid value encountered in scalar multiply\n",
      "  net_benefit = tn/(len(y_true)) - (fn/(len(y_true)) * omega)\n"
     ]
    },
    {
     "name": "stdout",
     "output_type": "stream",
     "text": [
      "30\n"
     ]
    },
    {
     "name": "stderr",
     "output_type": "stream",
     "text": [
      "/var/folders/d4/chxwf4hs5kq7ttsp56s64z65mjk3qj/T/ipykernel_77408/1954518231.py:52: RuntimeWarning: divide by zero encountered in divide\n",
      "  net_benefit_by_omega_week_period, optimal_threshold_by_omega = find_net_benefit_min_negatives(y_pred_proba, y_test_full, 1/omega_sequences, threshold_sequence)\n",
      "/var/folders/d4/chxwf4hs5kq7ttsp56s64z65mjk3qj/T/ipykernel_77408/1058678223.py:15: RuntimeWarning: invalid value encountered in scalar multiply\n",
      "  net_benefit = tn/(len(y_true)) - (fn/(len(y_true)) * omega)\n",
      "/var/folders/d4/chxwf4hs5kq7ttsp56s64z65mjk3qj/T/ipykernel_77408/1058678223.py:15: RuntimeWarning: invalid value encountered in scalar multiply\n",
      "  net_benefit = tn/(len(y_true)) - (fn/(len(y_true)) * omega)\n",
      "/var/folders/d4/chxwf4hs5kq7ttsp56s64z65mjk3qj/T/ipykernel_77408/1058678223.py:15: RuntimeWarning: invalid value encountered in scalar multiply\n",
      "  net_benefit = tn/(len(y_true)) - (fn/(len(y_true)) * omega)\n",
      "/var/folders/d4/chxwf4hs5kq7ttsp56s64z65mjk3qj/T/ipykernel_77408/1058678223.py:15: RuntimeWarning: invalid value encountered in scalar multiply\n",
      "  net_benefit = tn/(len(y_true)) - (fn/(len(y_true)) * omega)\n",
      "/var/folders/d4/chxwf4hs5kq7ttsp56s64z65mjk3qj/T/ipykernel_77408/1058678223.py:15: RuntimeWarning: invalid value encountered in scalar multiply\n",
      "  net_benefit = tn/(len(y_true)) - (fn/(len(y_true)) * omega)\n",
      "/var/folders/d4/chxwf4hs5kq7ttsp56s64z65mjk3qj/T/ipykernel_77408/1058678223.py:15: RuntimeWarning: invalid value encountered in scalar multiply\n",
      "  net_benefit = tn/(len(y_true)) - (fn/(len(y_true)) * omega)\n"
     ]
    },
    {
     "name": "stdout",
     "output_type": "stream",
     "text": [
      "31\n"
     ]
    },
    {
     "name": "stderr",
     "output_type": "stream",
     "text": [
      "/var/folders/d4/chxwf4hs5kq7ttsp56s64z65mjk3qj/T/ipykernel_77408/1954518231.py:52: RuntimeWarning: divide by zero encountered in divide\n",
      "  net_benefit_by_omega_week_period, optimal_threshold_by_omega = find_net_benefit_min_negatives(y_pred_proba, y_test_full, 1/omega_sequences, threshold_sequence)\n",
      "/var/folders/d4/chxwf4hs5kq7ttsp56s64z65mjk3qj/T/ipykernel_77408/1058678223.py:15: RuntimeWarning: invalid value encountered in scalar multiply\n",
      "  net_benefit = tn/(len(y_true)) - (fn/(len(y_true)) * omega)\n",
      "/var/folders/d4/chxwf4hs5kq7ttsp56s64z65mjk3qj/T/ipykernel_77408/1058678223.py:15: RuntimeWarning: invalid value encountered in scalar multiply\n",
      "  net_benefit = tn/(len(y_true)) - (fn/(len(y_true)) * omega)\n",
      "/var/folders/d4/chxwf4hs5kq7ttsp56s64z65mjk3qj/T/ipykernel_77408/1058678223.py:15: RuntimeWarning: invalid value encountered in scalar multiply\n",
      "  net_benefit = tn/(len(y_true)) - (fn/(len(y_true)) * omega)\n",
      "/var/folders/d4/chxwf4hs5kq7ttsp56s64z65mjk3qj/T/ipykernel_77408/1058678223.py:15: RuntimeWarning: invalid value encountered in scalar multiply\n",
      "  net_benefit = tn/(len(y_true)) - (fn/(len(y_true)) * omega)\n",
      "/var/folders/d4/chxwf4hs5kq7ttsp56s64z65mjk3qj/T/ipykernel_77408/1058678223.py:15: RuntimeWarning: invalid value encountered in scalar multiply\n",
      "  net_benefit = tn/(len(y_true)) - (fn/(len(y_true)) * omega)\n",
      "/var/folders/d4/chxwf4hs5kq7ttsp56s64z65mjk3qj/T/ipykernel_77408/1058678223.py:15: RuntimeWarning: invalid value encountered in scalar multiply\n",
      "  net_benefit = tn/(len(y_true)) - (fn/(len(y_true)) * omega)\n",
      "/var/folders/d4/chxwf4hs5kq7ttsp56s64z65mjk3qj/T/ipykernel_77408/1058678223.py:15: RuntimeWarning: invalid value encountered in scalar multiply\n",
      "  net_benefit = tn/(len(y_true)) - (fn/(len(y_true)) * omega)\n"
     ]
    },
    {
     "name": "stdout",
     "output_type": "stream",
     "text": [
      "32\n"
     ]
    },
    {
     "name": "stderr",
     "output_type": "stream",
     "text": [
      "/var/folders/d4/chxwf4hs5kq7ttsp56s64z65mjk3qj/T/ipykernel_77408/1954518231.py:52: RuntimeWarning: divide by zero encountered in divide\n",
      "  net_benefit_by_omega_week_period, optimal_threshold_by_omega = find_net_benefit_min_negatives(y_pred_proba, y_test_full, 1/omega_sequences, threshold_sequence)\n",
      "/var/folders/d4/chxwf4hs5kq7ttsp56s64z65mjk3qj/T/ipykernel_77408/1058678223.py:15: RuntimeWarning: invalid value encountered in scalar multiply\n",
      "  net_benefit = tn/(len(y_true)) - (fn/(len(y_true)) * omega)\n",
      "/var/folders/d4/chxwf4hs5kq7ttsp56s64z65mjk3qj/T/ipykernel_77408/1058678223.py:15: RuntimeWarning: invalid value encountered in scalar multiply\n",
      "  net_benefit = tn/(len(y_true)) - (fn/(len(y_true)) * omega)\n",
      "/var/folders/d4/chxwf4hs5kq7ttsp56s64z65mjk3qj/T/ipykernel_77408/1058678223.py:15: RuntimeWarning: invalid value encountered in scalar multiply\n",
      "  net_benefit = tn/(len(y_true)) - (fn/(len(y_true)) * omega)\n",
      "/var/folders/d4/chxwf4hs5kq7ttsp56s64z65mjk3qj/T/ipykernel_77408/1058678223.py:15: RuntimeWarning: invalid value encountered in scalar multiply\n",
      "  net_benefit = tn/(len(y_true)) - (fn/(len(y_true)) * omega)\n",
      "/var/folders/d4/chxwf4hs5kq7ttsp56s64z65mjk3qj/T/ipykernel_77408/1058678223.py:15: RuntimeWarning: invalid value encountered in scalar multiply\n",
      "  net_benefit = tn/(len(y_true)) - (fn/(len(y_true)) * omega)\n",
      "/var/folders/d4/chxwf4hs5kq7ttsp56s64z65mjk3qj/T/ipykernel_77408/1058678223.py:15: RuntimeWarning: invalid value encountered in scalar multiply\n",
      "  net_benefit = tn/(len(y_true)) - (fn/(len(y_true)) * omega)\n",
      "/var/folders/d4/chxwf4hs5kq7ttsp56s64z65mjk3qj/T/ipykernel_77408/1058678223.py:15: RuntimeWarning: invalid value encountered in scalar multiply\n",
      "  net_benefit = tn/(len(y_true)) - (fn/(len(y_true)) * omega)\n"
     ]
    },
    {
     "name": "stdout",
     "output_type": "stream",
     "text": [
      "33\n"
     ]
    },
    {
     "name": "stderr",
     "output_type": "stream",
     "text": [
      "/var/folders/d4/chxwf4hs5kq7ttsp56s64z65mjk3qj/T/ipykernel_77408/1954518231.py:52: RuntimeWarning: divide by zero encountered in divide\n",
      "  net_benefit_by_omega_week_period, optimal_threshold_by_omega = find_net_benefit_min_negatives(y_pred_proba, y_test_full, 1/omega_sequences, threshold_sequence)\n",
      "/var/folders/d4/chxwf4hs5kq7ttsp56s64z65mjk3qj/T/ipykernel_77408/1058678223.py:15: RuntimeWarning: invalid value encountered in scalar multiply\n",
      "  net_benefit = tn/(len(y_true)) - (fn/(len(y_true)) * omega)\n",
      "/var/folders/d4/chxwf4hs5kq7ttsp56s64z65mjk3qj/T/ipykernel_77408/1058678223.py:15: RuntimeWarning: invalid value encountered in scalar multiply\n",
      "  net_benefit = tn/(len(y_true)) - (fn/(len(y_true)) * omega)\n",
      "/var/folders/d4/chxwf4hs5kq7ttsp56s64z65mjk3qj/T/ipykernel_77408/1058678223.py:15: RuntimeWarning: invalid value encountered in scalar multiply\n",
      "  net_benefit = tn/(len(y_true)) - (fn/(len(y_true)) * omega)\n",
      "/var/folders/d4/chxwf4hs5kq7ttsp56s64z65mjk3qj/T/ipykernel_77408/1058678223.py:15: RuntimeWarning: invalid value encountered in scalar multiply\n",
      "  net_benefit = tn/(len(y_true)) - (fn/(len(y_true)) * omega)\n",
      "/var/folders/d4/chxwf4hs5kq7ttsp56s64z65mjk3qj/T/ipykernel_77408/1058678223.py:15: RuntimeWarning: invalid value encountered in scalar multiply\n",
      "  net_benefit = tn/(len(y_true)) - (fn/(len(y_true)) * omega)\n",
      "/var/folders/d4/chxwf4hs5kq7ttsp56s64z65mjk3qj/T/ipykernel_77408/1058678223.py:15: RuntimeWarning: invalid value encountered in scalar multiply\n",
      "  net_benefit = tn/(len(y_true)) - (fn/(len(y_true)) * omega)\n",
      "/var/folders/d4/chxwf4hs5kq7ttsp56s64z65mjk3qj/T/ipykernel_77408/1058678223.py:15: RuntimeWarning: invalid value encountered in scalar multiply\n",
      "  net_benefit = tn/(len(y_true)) - (fn/(len(y_true)) * omega)\n"
     ]
    },
    {
     "name": "stdout",
     "output_type": "stream",
     "text": [
      "34\n"
     ]
    },
    {
     "name": "stderr",
     "output_type": "stream",
     "text": [
      "/var/folders/d4/chxwf4hs5kq7ttsp56s64z65mjk3qj/T/ipykernel_77408/1954518231.py:52: RuntimeWarning: divide by zero encountered in divide\n",
      "  net_benefit_by_omega_week_period, optimal_threshold_by_omega = find_net_benefit_min_negatives(y_pred_proba, y_test_full, 1/omega_sequences, threshold_sequence)\n",
      "/var/folders/d4/chxwf4hs5kq7ttsp56s64z65mjk3qj/T/ipykernel_77408/1058678223.py:15: RuntimeWarning: invalid value encountered in scalar multiply\n",
      "  net_benefit = tn/(len(y_true)) - (fn/(len(y_true)) * omega)\n",
      "/var/folders/d4/chxwf4hs5kq7ttsp56s64z65mjk3qj/T/ipykernel_77408/1058678223.py:15: RuntimeWarning: invalid value encountered in scalar multiply\n",
      "  net_benefit = tn/(len(y_true)) - (fn/(len(y_true)) * omega)\n",
      "/var/folders/d4/chxwf4hs5kq7ttsp56s64z65mjk3qj/T/ipykernel_77408/1058678223.py:15: RuntimeWarning: invalid value encountered in scalar multiply\n",
      "  net_benefit = tn/(len(y_true)) - (fn/(len(y_true)) * omega)\n",
      "/var/folders/d4/chxwf4hs5kq7ttsp56s64z65mjk3qj/T/ipykernel_77408/1058678223.py:15: RuntimeWarning: invalid value encountered in scalar multiply\n",
      "  net_benefit = tn/(len(y_true)) - (fn/(len(y_true)) * omega)\n",
      "/var/folders/d4/chxwf4hs5kq7ttsp56s64z65mjk3qj/T/ipykernel_77408/1058678223.py:15: RuntimeWarning: invalid value encountered in scalar multiply\n",
      "  net_benefit = tn/(len(y_true)) - (fn/(len(y_true)) * omega)\n",
      "/var/folders/d4/chxwf4hs5kq7ttsp56s64z65mjk3qj/T/ipykernel_77408/1058678223.py:15: RuntimeWarning: invalid value encountered in scalar multiply\n",
      "  net_benefit = tn/(len(y_true)) - (fn/(len(y_true)) * omega)\n",
      "/var/folders/d4/chxwf4hs5kq7ttsp56s64z65mjk3qj/T/ipykernel_77408/1058678223.py:15: RuntimeWarning: invalid value encountered in scalar multiply\n",
      "  net_benefit = tn/(len(y_true)) - (fn/(len(y_true)) * omega)\n"
     ]
    },
    {
     "name": "stdout",
     "output_type": "stream",
     "text": [
      "35\n"
     ]
    },
    {
     "name": "stderr",
     "output_type": "stream",
     "text": [
      "/var/folders/d4/chxwf4hs5kq7ttsp56s64z65mjk3qj/T/ipykernel_77408/1954518231.py:52: RuntimeWarning: divide by zero encountered in divide\n",
      "  net_benefit_by_omega_week_period, optimal_threshold_by_omega = find_net_benefit_min_negatives(y_pred_proba, y_test_full, 1/omega_sequences, threshold_sequence)\n",
      "/var/folders/d4/chxwf4hs5kq7ttsp56s64z65mjk3qj/T/ipykernel_77408/1058678223.py:15: RuntimeWarning: invalid value encountered in scalar multiply\n",
      "  net_benefit = tn/(len(y_true)) - (fn/(len(y_true)) * omega)\n",
      "/var/folders/d4/chxwf4hs5kq7ttsp56s64z65mjk3qj/T/ipykernel_77408/1058678223.py:15: RuntimeWarning: invalid value encountered in scalar multiply\n",
      "  net_benefit = tn/(len(y_true)) - (fn/(len(y_true)) * omega)\n",
      "/var/folders/d4/chxwf4hs5kq7ttsp56s64z65mjk3qj/T/ipykernel_77408/1058678223.py:15: RuntimeWarning: invalid value encountered in scalar multiply\n",
      "  net_benefit = tn/(len(y_true)) - (fn/(len(y_true)) * omega)\n",
      "/var/folders/d4/chxwf4hs5kq7ttsp56s64z65mjk3qj/T/ipykernel_77408/1058678223.py:15: RuntimeWarning: invalid value encountered in scalar multiply\n",
      "  net_benefit = tn/(len(y_true)) - (fn/(len(y_true)) * omega)\n",
      "/var/folders/d4/chxwf4hs5kq7ttsp56s64z65mjk3qj/T/ipykernel_77408/1058678223.py:15: RuntimeWarning: invalid value encountered in scalar multiply\n",
      "  net_benefit = tn/(len(y_true)) - (fn/(len(y_true)) * omega)\n",
      "/var/folders/d4/chxwf4hs5kq7ttsp56s64z65mjk3qj/T/ipykernel_77408/1058678223.py:15: RuntimeWarning: invalid value encountered in scalar multiply\n",
      "  net_benefit = tn/(len(y_true)) - (fn/(len(y_true)) * omega)\n",
      "/var/folders/d4/chxwf4hs5kq7ttsp56s64z65mjk3qj/T/ipykernel_77408/1058678223.py:15: RuntimeWarning: invalid value encountered in scalar multiply\n",
      "  net_benefit = tn/(len(y_true)) - (fn/(len(y_true)) * omega)\n"
     ]
    },
    {
     "name": "stdout",
     "output_type": "stream",
     "text": [
      "36\n"
     ]
    },
    {
     "name": "stderr",
     "output_type": "stream",
     "text": [
      "/var/folders/d4/chxwf4hs5kq7ttsp56s64z65mjk3qj/T/ipykernel_77408/1954518231.py:52: RuntimeWarning: divide by zero encountered in divide\n",
      "  net_benefit_by_omega_week_period, optimal_threshold_by_omega = find_net_benefit_min_negatives(y_pred_proba, y_test_full, 1/omega_sequences, threshold_sequence)\n",
      "/var/folders/d4/chxwf4hs5kq7ttsp56s64z65mjk3qj/T/ipykernel_77408/1058678223.py:15: RuntimeWarning: invalid value encountered in scalar multiply\n",
      "  net_benefit = tn/(len(y_true)) - (fn/(len(y_true)) * omega)\n",
      "/var/folders/d4/chxwf4hs5kq7ttsp56s64z65mjk3qj/T/ipykernel_77408/1058678223.py:15: RuntimeWarning: invalid value encountered in scalar multiply\n",
      "  net_benefit = tn/(len(y_true)) - (fn/(len(y_true)) * omega)\n",
      "/var/folders/d4/chxwf4hs5kq7ttsp56s64z65mjk3qj/T/ipykernel_77408/1058678223.py:15: RuntimeWarning: invalid value encountered in scalar multiply\n",
      "  net_benefit = tn/(len(y_true)) - (fn/(len(y_true)) * omega)\n",
      "/var/folders/d4/chxwf4hs5kq7ttsp56s64z65mjk3qj/T/ipykernel_77408/1058678223.py:15: RuntimeWarning: invalid value encountered in scalar multiply\n",
      "  net_benefit = tn/(len(y_true)) - (fn/(len(y_true)) * omega)\n",
      "/var/folders/d4/chxwf4hs5kq7ttsp56s64z65mjk3qj/T/ipykernel_77408/1058678223.py:15: RuntimeWarning: invalid value encountered in scalar multiply\n",
      "  net_benefit = tn/(len(y_true)) - (fn/(len(y_true)) * omega)\n",
      "/var/folders/d4/chxwf4hs5kq7ttsp56s64z65mjk3qj/T/ipykernel_77408/1058678223.py:15: RuntimeWarning: invalid value encountered in scalar multiply\n",
      "  net_benefit = tn/(len(y_true)) - (fn/(len(y_true)) * omega)\n",
      "/var/folders/d4/chxwf4hs5kq7ttsp56s64z65mjk3qj/T/ipykernel_77408/1058678223.py:15: RuntimeWarning: invalid value encountered in scalar multiply\n",
      "  net_benefit = tn/(len(y_true)) - (fn/(len(y_true)) * omega)\n"
     ]
    },
    {
     "name": "stdout",
     "output_type": "stream",
     "text": [
      "37\n"
     ]
    },
    {
     "name": "stderr",
     "output_type": "stream",
     "text": [
      "/var/folders/d4/chxwf4hs5kq7ttsp56s64z65mjk3qj/T/ipykernel_77408/1954518231.py:52: RuntimeWarning: divide by zero encountered in divide\n",
      "  net_benefit_by_omega_week_period, optimal_threshold_by_omega = find_net_benefit_min_negatives(y_pred_proba, y_test_full, 1/omega_sequences, threshold_sequence)\n",
      "/var/folders/d4/chxwf4hs5kq7ttsp56s64z65mjk3qj/T/ipykernel_77408/1058678223.py:15: RuntimeWarning: invalid value encountered in scalar multiply\n",
      "  net_benefit = tn/(len(y_true)) - (fn/(len(y_true)) * omega)\n",
      "/var/folders/d4/chxwf4hs5kq7ttsp56s64z65mjk3qj/T/ipykernel_77408/1058678223.py:15: RuntimeWarning: invalid value encountered in scalar multiply\n",
      "  net_benefit = tn/(len(y_true)) - (fn/(len(y_true)) * omega)\n",
      "/var/folders/d4/chxwf4hs5kq7ttsp56s64z65mjk3qj/T/ipykernel_77408/1058678223.py:15: RuntimeWarning: invalid value encountered in scalar multiply\n",
      "  net_benefit = tn/(len(y_true)) - (fn/(len(y_true)) * omega)\n",
      "/var/folders/d4/chxwf4hs5kq7ttsp56s64z65mjk3qj/T/ipykernel_77408/1058678223.py:15: RuntimeWarning: invalid value encountered in scalar multiply\n",
      "  net_benefit = tn/(len(y_true)) - (fn/(len(y_true)) * omega)\n",
      "/var/folders/d4/chxwf4hs5kq7ttsp56s64z65mjk3qj/T/ipykernel_77408/1058678223.py:15: RuntimeWarning: invalid value encountered in scalar multiply\n",
      "  net_benefit = tn/(len(y_true)) - (fn/(len(y_true)) * omega)\n",
      "/var/folders/d4/chxwf4hs5kq7ttsp56s64z65mjk3qj/T/ipykernel_77408/1058678223.py:15: RuntimeWarning: invalid value encountered in scalar multiply\n",
      "  net_benefit = tn/(len(y_true)) - (fn/(len(y_true)) * omega)\n",
      "/var/folders/d4/chxwf4hs5kq7ttsp56s64z65mjk3qj/T/ipykernel_77408/1058678223.py:15: RuntimeWarning: invalid value encountered in scalar multiply\n",
      "  net_benefit = tn/(len(y_true)) - (fn/(len(y_true)) * omega)\n"
     ]
    },
    {
     "name": "stdout",
     "output_type": "stream",
     "text": [
      "38\n"
     ]
    },
    {
     "name": "stderr",
     "output_type": "stream",
     "text": [
      "/var/folders/d4/chxwf4hs5kq7ttsp56s64z65mjk3qj/T/ipykernel_77408/1954518231.py:52: RuntimeWarning: divide by zero encountered in divide\n",
      "  net_benefit_by_omega_week_period, optimal_threshold_by_omega = find_net_benefit_min_negatives(y_pred_proba, y_test_full, 1/omega_sequences, threshold_sequence)\n",
      "/var/folders/d4/chxwf4hs5kq7ttsp56s64z65mjk3qj/T/ipykernel_77408/1058678223.py:15: RuntimeWarning: invalid value encountered in scalar multiply\n",
      "  net_benefit = tn/(len(y_true)) - (fn/(len(y_true)) * omega)\n",
      "/var/folders/d4/chxwf4hs5kq7ttsp56s64z65mjk3qj/T/ipykernel_77408/1058678223.py:15: RuntimeWarning: invalid value encountered in scalar multiply\n",
      "  net_benefit = tn/(len(y_true)) - (fn/(len(y_true)) * omega)\n",
      "/var/folders/d4/chxwf4hs5kq7ttsp56s64z65mjk3qj/T/ipykernel_77408/1058678223.py:15: RuntimeWarning: invalid value encountered in scalar multiply\n",
      "  net_benefit = tn/(len(y_true)) - (fn/(len(y_true)) * omega)\n",
      "/var/folders/d4/chxwf4hs5kq7ttsp56s64z65mjk3qj/T/ipykernel_77408/1058678223.py:15: RuntimeWarning: invalid value encountered in scalar multiply\n",
      "  net_benefit = tn/(len(y_true)) - (fn/(len(y_true)) * omega)\n",
      "/var/folders/d4/chxwf4hs5kq7ttsp56s64z65mjk3qj/T/ipykernel_77408/1058678223.py:15: RuntimeWarning: invalid value encountered in scalar multiply\n",
      "  net_benefit = tn/(len(y_true)) - (fn/(len(y_true)) * omega)\n",
      "/var/folders/d4/chxwf4hs5kq7ttsp56s64z65mjk3qj/T/ipykernel_77408/1058678223.py:15: RuntimeWarning: invalid value encountered in scalar multiply\n",
      "  net_benefit = tn/(len(y_true)) - (fn/(len(y_true)) * omega)\n"
     ]
    },
    {
     "name": "stdout",
     "output_type": "stream",
     "text": [
      "39\n"
     ]
    },
    {
     "name": "stderr",
     "output_type": "stream",
     "text": [
      "/var/folders/d4/chxwf4hs5kq7ttsp56s64z65mjk3qj/T/ipykernel_77408/1954518231.py:52: RuntimeWarning: divide by zero encountered in divide\n",
      "  net_benefit_by_omega_week_period, optimal_threshold_by_omega = find_net_benefit_min_negatives(y_pred_proba, y_test_full, 1/omega_sequences, threshold_sequence)\n",
      "/var/folders/d4/chxwf4hs5kq7ttsp56s64z65mjk3qj/T/ipykernel_77408/1058678223.py:15: RuntimeWarning: invalid value encountered in scalar multiply\n",
      "  net_benefit = tn/(len(y_true)) - (fn/(len(y_true)) * omega)\n",
      "/var/folders/d4/chxwf4hs5kq7ttsp56s64z65mjk3qj/T/ipykernel_77408/1058678223.py:15: RuntimeWarning: invalid value encountered in scalar multiply\n",
      "  net_benefit = tn/(len(y_true)) - (fn/(len(y_true)) * omega)\n",
      "/var/folders/d4/chxwf4hs5kq7ttsp56s64z65mjk3qj/T/ipykernel_77408/1058678223.py:15: RuntimeWarning: invalid value encountered in scalar multiply\n",
      "  net_benefit = tn/(len(y_true)) - (fn/(len(y_true)) * omega)\n",
      "/var/folders/d4/chxwf4hs5kq7ttsp56s64z65mjk3qj/T/ipykernel_77408/1058678223.py:15: RuntimeWarning: invalid value encountered in scalar multiply\n",
      "  net_benefit = tn/(len(y_true)) - (fn/(len(y_true)) * omega)\n",
      "/var/folders/d4/chxwf4hs5kq7ttsp56s64z65mjk3qj/T/ipykernel_77408/1058678223.py:15: RuntimeWarning: invalid value encountered in scalar multiply\n",
      "  net_benefit = tn/(len(y_true)) - (fn/(len(y_true)) * omega)\n",
      "/var/folders/d4/chxwf4hs5kq7ttsp56s64z65mjk3qj/T/ipykernel_77408/1058678223.py:15: RuntimeWarning: invalid value encountered in scalar multiply\n",
      "  net_benefit = tn/(len(y_true)) - (fn/(len(y_true)) * omega)\n",
      "/var/folders/d4/chxwf4hs5kq7ttsp56s64z65mjk3qj/T/ipykernel_77408/1058678223.py:15: RuntimeWarning: invalid value encountered in scalar multiply\n",
      "  net_benefit = tn/(len(y_true)) - (fn/(len(y_true)) * omega)\n"
     ]
    },
    {
     "name": "stdout",
     "output_type": "stream",
     "text": [
      "40\n"
     ]
    },
    {
     "name": "stderr",
     "output_type": "stream",
     "text": [
      "/var/folders/d4/chxwf4hs5kq7ttsp56s64z65mjk3qj/T/ipykernel_77408/1954518231.py:52: RuntimeWarning: divide by zero encountered in divide\n",
      "  net_benefit_by_omega_week_period, optimal_threshold_by_omega = find_net_benefit_min_negatives(y_pred_proba, y_test_full, 1/omega_sequences, threshold_sequence)\n",
      "/var/folders/d4/chxwf4hs5kq7ttsp56s64z65mjk3qj/T/ipykernel_77408/1058678223.py:15: RuntimeWarning: invalid value encountered in scalar multiply\n",
      "  net_benefit = tn/(len(y_true)) - (fn/(len(y_true)) * omega)\n",
      "/var/folders/d4/chxwf4hs5kq7ttsp56s64z65mjk3qj/T/ipykernel_77408/1058678223.py:15: RuntimeWarning: invalid value encountered in scalar multiply\n",
      "  net_benefit = tn/(len(y_true)) - (fn/(len(y_true)) * omega)\n",
      "/var/folders/d4/chxwf4hs5kq7ttsp56s64z65mjk3qj/T/ipykernel_77408/1058678223.py:15: RuntimeWarning: invalid value encountered in scalar multiply\n",
      "  net_benefit = tn/(len(y_true)) - (fn/(len(y_true)) * omega)\n",
      "/var/folders/d4/chxwf4hs5kq7ttsp56s64z65mjk3qj/T/ipykernel_77408/1058678223.py:15: RuntimeWarning: invalid value encountered in scalar multiply\n",
      "  net_benefit = tn/(len(y_true)) - (fn/(len(y_true)) * omega)\n",
      "/var/folders/d4/chxwf4hs5kq7ttsp56s64z65mjk3qj/T/ipykernel_77408/1058678223.py:15: RuntimeWarning: invalid value encountered in scalar multiply\n",
      "  net_benefit = tn/(len(y_true)) - (fn/(len(y_true)) * omega)\n",
      "/var/folders/d4/chxwf4hs5kq7ttsp56s64z65mjk3qj/T/ipykernel_77408/1058678223.py:15: RuntimeWarning: invalid value encountered in scalar multiply\n",
      "  net_benefit = tn/(len(y_true)) - (fn/(len(y_true)) * omega)\n",
      "/var/folders/d4/chxwf4hs5kq7ttsp56s64z65mjk3qj/T/ipykernel_77408/1058678223.py:15: RuntimeWarning: invalid value encountered in scalar multiply\n",
      "  net_benefit = tn/(len(y_true)) - (fn/(len(y_true)) * omega)\n"
     ]
    },
    {
     "name": "stdout",
     "output_type": "stream",
     "text": [
      "41\n"
     ]
    },
    {
     "name": "stderr",
     "output_type": "stream",
     "text": [
      "/var/folders/d4/chxwf4hs5kq7ttsp56s64z65mjk3qj/T/ipykernel_77408/1954518231.py:52: RuntimeWarning: divide by zero encountered in divide\n",
      "  net_benefit_by_omega_week_period, optimal_threshold_by_omega = find_net_benefit_min_negatives(y_pred_proba, y_test_full, 1/omega_sequences, threshold_sequence)\n",
      "/var/folders/d4/chxwf4hs5kq7ttsp56s64z65mjk3qj/T/ipykernel_77408/1058678223.py:15: RuntimeWarning: invalid value encountered in scalar multiply\n",
      "  net_benefit = tn/(len(y_true)) - (fn/(len(y_true)) * omega)\n",
      "/var/folders/d4/chxwf4hs5kq7ttsp56s64z65mjk3qj/T/ipykernel_77408/1058678223.py:15: RuntimeWarning: invalid value encountered in scalar multiply\n",
      "  net_benefit = tn/(len(y_true)) - (fn/(len(y_true)) * omega)\n",
      "/var/folders/d4/chxwf4hs5kq7ttsp56s64z65mjk3qj/T/ipykernel_77408/1058678223.py:15: RuntimeWarning: invalid value encountered in scalar multiply\n",
      "  net_benefit = tn/(len(y_true)) - (fn/(len(y_true)) * omega)\n",
      "/var/folders/d4/chxwf4hs5kq7ttsp56s64z65mjk3qj/T/ipykernel_77408/1058678223.py:15: RuntimeWarning: invalid value encountered in scalar multiply\n",
      "  net_benefit = tn/(len(y_true)) - (fn/(len(y_true)) * omega)\n",
      "/var/folders/d4/chxwf4hs5kq7ttsp56s64z65mjk3qj/T/ipykernel_77408/1058678223.py:15: RuntimeWarning: invalid value encountered in scalar multiply\n",
      "  net_benefit = tn/(len(y_true)) - (fn/(len(y_true)) * omega)\n",
      "/var/folders/d4/chxwf4hs5kq7ttsp56s64z65mjk3qj/T/ipykernel_77408/1058678223.py:15: RuntimeWarning: invalid value encountered in scalar multiply\n",
      "  net_benefit = tn/(len(y_true)) - (fn/(len(y_true)) * omega)\n",
      "/var/folders/d4/chxwf4hs5kq7ttsp56s64z65mjk3qj/T/ipykernel_77408/1058678223.py:15: RuntimeWarning: invalid value encountered in scalar multiply\n",
      "  net_benefit = tn/(len(y_true)) - (fn/(len(y_true)) * omega)\n"
     ]
    },
    {
     "name": "stdout",
     "output_type": "stream",
     "text": [
      "42\n"
     ]
    },
    {
     "name": "stderr",
     "output_type": "stream",
     "text": [
      "/var/folders/d4/chxwf4hs5kq7ttsp56s64z65mjk3qj/T/ipykernel_77408/1954518231.py:52: RuntimeWarning: divide by zero encountered in divide\n",
      "  net_benefit_by_omega_week_period, optimal_threshold_by_omega = find_net_benefit_min_negatives(y_pred_proba, y_test_full, 1/omega_sequences, threshold_sequence)\n",
      "/var/folders/d4/chxwf4hs5kq7ttsp56s64z65mjk3qj/T/ipykernel_77408/1058678223.py:15: RuntimeWarning: invalid value encountered in scalar multiply\n",
      "  net_benefit = tn/(len(y_true)) - (fn/(len(y_true)) * omega)\n",
      "/var/folders/d4/chxwf4hs5kq7ttsp56s64z65mjk3qj/T/ipykernel_77408/1058678223.py:15: RuntimeWarning: invalid value encountered in scalar multiply\n",
      "  net_benefit = tn/(len(y_true)) - (fn/(len(y_true)) * omega)\n",
      "/var/folders/d4/chxwf4hs5kq7ttsp56s64z65mjk3qj/T/ipykernel_77408/1058678223.py:15: RuntimeWarning: invalid value encountered in scalar multiply\n",
      "  net_benefit = tn/(len(y_true)) - (fn/(len(y_true)) * omega)\n",
      "/var/folders/d4/chxwf4hs5kq7ttsp56s64z65mjk3qj/T/ipykernel_77408/1058678223.py:15: RuntimeWarning: invalid value encountered in scalar multiply\n",
      "  net_benefit = tn/(len(y_true)) - (fn/(len(y_true)) * omega)\n",
      "/var/folders/d4/chxwf4hs5kq7ttsp56s64z65mjk3qj/T/ipykernel_77408/1058678223.py:15: RuntimeWarning: invalid value encountered in scalar multiply\n",
      "  net_benefit = tn/(len(y_true)) - (fn/(len(y_true)) * omega)\n",
      "/var/folders/d4/chxwf4hs5kq7ttsp56s64z65mjk3qj/T/ipykernel_77408/1058678223.py:15: RuntimeWarning: invalid value encountered in scalar multiply\n",
      "  net_benefit = tn/(len(y_true)) - (fn/(len(y_true)) * omega)\n",
      "/var/folders/d4/chxwf4hs5kq7ttsp56s64z65mjk3qj/T/ipykernel_77408/1058678223.py:15: RuntimeWarning: invalid value encountered in scalar multiply\n",
      "  net_benefit = tn/(len(y_true)) - (fn/(len(y_true)) * omega)\n"
     ]
    },
    {
     "name": "stdout",
     "output_type": "stream",
     "text": [
      "43\n"
     ]
    },
    {
     "name": "stderr",
     "output_type": "stream",
     "text": [
      "/var/folders/d4/chxwf4hs5kq7ttsp56s64z65mjk3qj/T/ipykernel_77408/1954518231.py:52: RuntimeWarning: divide by zero encountered in divide\n",
      "  net_benefit_by_omega_week_period, optimal_threshold_by_omega = find_net_benefit_min_negatives(y_pred_proba, y_test_full, 1/omega_sequences, threshold_sequence)\n",
      "/var/folders/d4/chxwf4hs5kq7ttsp56s64z65mjk3qj/T/ipykernel_77408/1058678223.py:15: RuntimeWarning: invalid value encountered in scalar multiply\n",
      "  net_benefit = tn/(len(y_true)) - (fn/(len(y_true)) * omega)\n",
      "/var/folders/d4/chxwf4hs5kq7ttsp56s64z65mjk3qj/T/ipykernel_77408/1058678223.py:15: RuntimeWarning: invalid value encountered in scalar multiply\n",
      "  net_benefit = tn/(len(y_true)) - (fn/(len(y_true)) * omega)\n",
      "/var/folders/d4/chxwf4hs5kq7ttsp56s64z65mjk3qj/T/ipykernel_77408/1058678223.py:15: RuntimeWarning: invalid value encountered in scalar multiply\n",
      "  net_benefit = tn/(len(y_true)) - (fn/(len(y_true)) * omega)\n",
      "/var/folders/d4/chxwf4hs5kq7ttsp56s64z65mjk3qj/T/ipykernel_77408/1058678223.py:15: RuntimeWarning: invalid value encountered in scalar multiply\n",
      "  net_benefit = tn/(len(y_true)) - (fn/(len(y_true)) * omega)\n",
      "/var/folders/d4/chxwf4hs5kq7ttsp56s64z65mjk3qj/T/ipykernel_77408/1058678223.py:15: RuntimeWarning: invalid value encountered in scalar multiply\n",
      "  net_benefit = tn/(len(y_true)) - (fn/(len(y_true)) * omega)\n",
      "/var/folders/d4/chxwf4hs5kq7ttsp56s64z65mjk3qj/T/ipykernel_77408/1058678223.py:15: RuntimeWarning: invalid value encountered in scalar multiply\n",
      "  net_benefit = tn/(len(y_true)) - (fn/(len(y_true)) * omega)\n"
     ]
    },
    {
     "name": "stdout",
     "output_type": "stream",
     "text": [
      "44\n"
     ]
    },
    {
     "name": "stderr",
     "output_type": "stream",
     "text": [
      "/var/folders/d4/chxwf4hs5kq7ttsp56s64z65mjk3qj/T/ipykernel_77408/1954518231.py:52: RuntimeWarning: divide by zero encountered in divide\n",
      "  net_benefit_by_omega_week_period, optimal_threshold_by_omega = find_net_benefit_min_negatives(y_pred_proba, y_test_full, 1/omega_sequences, threshold_sequence)\n",
      "/var/folders/d4/chxwf4hs5kq7ttsp56s64z65mjk3qj/T/ipykernel_77408/1058678223.py:15: RuntimeWarning: invalid value encountered in scalar multiply\n",
      "  net_benefit = tn/(len(y_true)) - (fn/(len(y_true)) * omega)\n",
      "/var/folders/d4/chxwf4hs5kq7ttsp56s64z65mjk3qj/T/ipykernel_77408/1058678223.py:15: RuntimeWarning: invalid value encountered in scalar multiply\n",
      "  net_benefit = tn/(len(y_true)) - (fn/(len(y_true)) * omega)\n",
      "/var/folders/d4/chxwf4hs5kq7ttsp56s64z65mjk3qj/T/ipykernel_77408/1058678223.py:15: RuntimeWarning: invalid value encountered in scalar multiply\n",
      "  net_benefit = tn/(len(y_true)) - (fn/(len(y_true)) * omega)\n",
      "/var/folders/d4/chxwf4hs5kq7ttsp56s64z65mjk3qj/T/ipykernel_77408/1058678223.py:15: RuntimeWarning: invalid value encountered in scalar multiply\n",
      "  net_benefit = tn/(len(y_true)) - (fn/(len(y_true)) * omega)\n",
      "/var/folders/d4/chxwf4hs5kq7ttsp56s64z65mjk3qj/T/ipykernel_77408/1058678223.py:15: RuntimeWarning: invalid value encountered in scalar multiply\n",
      "  net_benefit = tn/(len(y_true)) - (fn/(len(y_true)) * omega)\n",
      "/var/folders/d4/chxwf4hs5kq7ttsp56s64z65mjk3qj/T/ipykernel_77408/1058678223.py:15: RuntimeWarning: invalid value encountered in scalar multiply\n",
      "  net_benefit = tn/(len(y_true)) - (fn/(len(y_true)) * omega)\n"
     ]
    },
    {
     "name": "stdout",
     "output_type": "stream",
     "text": [
      "45\n"
     ]
    },
    {
     "name": "stderr",
     "output_type": "stream",
     "text": [
      "/var/folders/d4/chxwf4hs5kq7ttsp56s64z65mjk3qj/T/ipykernel_77408/1954518231.py:52: RuntimeWarning: divide by zero encountered in divide\n",
      "  net_benefit_by_omega_week_period, optimal_threshold_by_omega = find_net_benefit_min_negatives(y_pred_proba, y_test_full, 1/omega_sequences, threshold_sequence)\n",
      "/var/folders/d4/chxwf4hs5kq7ttsp56s64z65mjk3qj/T/ipykernel_77408/1058678223.py:15: RuntimeWarning: invalid value encountered in scalar multiply\n",
      "  net_benefit = tn/(len(y_true)) - (fn/(len(y_true)) * omega)\n",
      "/var/folders/d4/chxwf4hs5kq7ttsp56s64z65mjk3qj/T/ipykernel_77408/1058678223.py:15: RuntimeWarning: invalid value encountered in scalar multiply\n",
      "  net_benefit = tn/(len(y_true)) - (fn/(len(y_true)) * omega)\n",
      "/var/folders/d4/chxwf4hs5kq7ttsp56s64z65mjk3qj/T/ipykernel_77408/1058678223.py:15: RuntimeWarning: invalid value encountered in scalar multiply\n",
      "  net_benefit = tn/(len(y_true)) - (fn/(len(y_true)) * omega)\n",
      "/var/folders/d4/chxwf4hs5kq7ttsp56s64z65mjk3qj/T/ipykernel_77408/1058678223.py:15: RuntimeWarning: invalid value encountered in scalar multiply\n",
      "  net_benefit = tn/(len(y_true)) - (fn/(len(y_true)) * omega)\n",
      "/var/folders/d4/chxwf4hs5kq7ttsp56s64z65mjk3qj/T/ipykernel_77408/1058678223.py:15: RuntimeWarning: invalid value encountered in scalar multiply\n",
      "  net_benefit = tn/(len(y_true)) - (fn/(len(y_true)) * omega)\n",
      "/var/folders/d4/chxwf4hs5kq7ttsp56s64z65mjk3qj/T/ipykernel_77408/1058678223.py:15: RuntimeWarning: invalid value encountered in scalar multiply\n",
      "  net_benefit = tn/(len(y_true)) - (fn/(len(y_true)) * omega)\n"
     ]
    },
    {
     "name": "stdout",
     "output_type": "stream",
     "text": [
      "46\n"
     ]
    },
    {
     "name": "stderr",
     "output_type": "stream",
     "text": [
      "/var/folders/d4/chxwf4hs5kq7ttsp56s64z65mjk3qj/T/ipykernel_77408/1954518231.py:52: RuntimeWarning: divide by zero encountered in divide\n",
      "  net_benefit_by_omega_week_period, optimal_threshold_by_omega = find_net_benefit_min_negatives(y_pred_proba, y_test_full, 1/omega_sequences, threshold_sequence)\n",
      "/var/folders/d4/chxwf4hs5kq7ttsp56s64z65mjk3qj/T/ipykernel_77408/1058678223.py:15: RuntimeWarning: invalid value encountered in scalar multiply\n",
      "  net_benefit = tn/(len(y_true)) - (fn/(len(y_true)) * omega)\n",
      "/var/folders/d4/chxwf4hs5kq7ttsp56s64z65mjk3qj/T/ipykernel_77408/1058678223.py:15: RuntimeWarning: invalid value encountered in scalar multiply\n",
      "  net_benefit = tn/(len(y_true)) - (fn/(len(y_true)) * omega)\n",
      "/var/folders/d4/chxwf4hs5kq7ttsp56s64z65mjk3qj/T/ipykernel_77408/1058678223.py:15: RuntimeWarning: invalid value encountered in scalar multiply\n",
      "  net_benefit = tn/(len(y_true)) - (fn/(len(y_true)) * omega)\n",
      "/var/folders/d4/chxwf4hs5kq7ttsp56s64z65mjk3qj/T/ipykernel_77408/1058678223.py:15: RuntimeWarning: invalid value encountered in scalar multiply\n",
      "  net_benefit = tn/(len(y_true)) - (fn/(len(y_true)) * omega)\n",
      "/var/folders/d4/chxwf4hs5kq7ttsp56s64z65mjk3qj/T/ipykernel_77408/1058678223.py:15: RuntimeWarning: invalid value encountered in scalar multiply\n",
      "  net_benefit = tn/(len(y_true)) - (fn/(len(y_true)) * omega)\n",
      "/var/folders/d4/chxwf4hs5kq7ttsp56s64z65mjk3qj/T/ipykernel_77408/1058678223.py:15: RuntimeWarning: invalid value encountered in scalar multiply\n",
      "  net_benefit = tn/(len(y_true)) - (fn/(len(y_true)) * omega)\n"
     ]
    },
    {
     "name": "stdout",
     "output_type": "stream",
     "text": [
      "47\n"
     ]
    },
    {
     "name": "stderr",
     "output_type": "stream",
     "text": [
      "/var/folders/d4/chxwf4hs5kq7ttsp56s64z65mjk3qj/T/ipykernel_77408/1954518231.py:52: RuntimeWarning: divide by zero encountered in divide\n",
      "  net_benefit_by_omega_week_period, optimal_threshold_by_omega = find_net_benefit_min_negatives(y_pred_proba, y_test_full, 1/omega_sequences, threshold_sequence)\n",
      "/var/folders/d4/chxwf4hs5kq7ttsp56s64z65mjk3qj/T/ipykernel_77408/1058678223.py:15: RuntimeWarning: invalid value encountered in scalar multiply\n",
      "  net_benefit = tn/(len(y_true)) - (fn/(len(y_true)) * omega)\n",
      "/var/folders/d4/chxwf4hs5kq7ttsp56s64z65mjk3qj/T/ipykernel_77408/1058678223.py:15: RuntimeWarning: invalid value encountered in scalar multiply\n",
      "  net_benefit = tn/(len(y_true)) - (fn/(len(y_true)) * omega)\n",
      "/var/folders/d4/chxwf4hs5kq7ttsp56s64z65mjk3qj/T/ipykernel_77408/1058678223.py:15: RuntimeWarning: invalid value encountered in scalar multiply\n",
      "  net_benefit = tn/(len(y_true)) - (fn/(len(y_true)) * omega)\n",
      "/var/folders/d4/chxwf4hs5kq7ttsp56s64z65mjk3qj/T/ipykernel_77408/1058678223.py:15: RuntimeWarning: invalid value encountered in scalar multiply\n",
      "  net_benefit = tn/(len(y_true)) - (fn/(len(y_true)) * omega)\n",
      "/var/folders/d4/chxwf4hs5kq7ttsp56s64z65mjk3qj/T/ipykernel_77408/1058678223.py:15: RuntimeWarning: invalid value encountered in scalar multiply\n",
      "  net_benefit = tn/(len(y_true)) - (fn/(len(y_true)) * omega)\n",
      "/var/folders/d4/chxwf4hs5kq7ttsp56s64z65mjk3qj/T/ipykernel_77408/1058678223.py:15: RuntimeWarning: invalid value encountered in scalar multiply\n",
      "  net_benefit = tn/(len(y_true)) - (fn/(len(y_true)) * omega)\n",
      "/var/folders/d4/chxwf4hs5kq7ttsp56s64z65mjk3qj/T/ipykernel_77408/1058678223.py:15: RuntimeWarning: invalid value encountered in scalar multiply\n",
      "  net_benefit = tn/(len(y_true)) - (fn/(len(y_true)) * omega)\n",
      "/var/folders/d4/chxwf4hs5kq7ttsp56s64z65mjk3qj/T/ipykernel_77408/1058678223.py:15: RuntimeWarning: invalid value encountered in scalar multiply\n",
      "  net_benefit = tn/(len(y_true)) - (fn/(len(y_true)) * omega)\n",
      "/var/folders/d4/chxwf4hs5kq7ttsp56s64z65mjk3qj/T/ipykernel_77408/1058678223.py:15: RuntimeWarning: invalid value encountered in scalar multiply\n",
      "  net_benefit = tn/(len(y_true)) - (fn/(len(y_true)) * omega)\n",
      "/var/folders/d4/chxwf4hs5kq7ttsp56s64z65mjk3qj/T/ipykernel_77408/1058678223.py:15: RuntimeWarning: invalid value encountered in scalar multiply\n",
      "  net_benefit = tn/(len(y_true)) - (fn/(len(y_true)) * omega)\n"
     ]
    },
    {
     "name": "stdout",
     "output_type": "stream",
     "text": [
      "48\n"
     ]
    },
    {
     "name": "stderr",
     "output_type": "stream",
     "text": [
      "/var/folders/d4/chxwf4hs5kq7ttsp56s64z65mjk3qj/T/ipykernel_77408/1954518231.py:52: RuntimeWarning: divide by zero encountered in divide\n",
      "  net_benefit_by_omega_week_period, optimal_threshold_by_omega = find_net_benefit_min_negatives(y_pred_proba, y_test_full, 1/omega_sequences, threshold_sequence)\n",
      "/var/folders/d4/chxwf4hs5kq7ttsp56s64z65mjk3qj/T/ipykernel_77408/1058678223.py:15: RuntimeWarning: invalid value encountered in scalar multiply\n",
      "  net_benefit = tn/(len(y_true)) - (fn/(len(y_true)) * omega)\n",
      "/var/folders/d4/chxwf4hs5kq7ttsp56s64z65mjk3qj/T/ipykernel_77408/1058678223.py:15: RuntimeWarning: invalid value encountered in scalar multiply\n",
      "  net_benefit = tn/(len(y_true)) - (fn/(len(y_true)) * omega)\n",
      "/var/folders/d4/chxwf4hs5kq7ttsp56s64z65mjk3qj/T/ipykernel_77408/1058678223.py:15: RuntimeWarning: invalid value encountered in scalar multiply\n",
      "  net_benefit = tn/(len(y_true)) - (fn/(len(y_true)) * omega)\n",
      "/var/folders/d4/chxwf4hs5kq7ttsp56s64z65mjk3qj/T/ipykernel_77408/1058678223.py:15: RuntimeWarning: invalid value encountered in scalar multiply\n",
      "  net_benefit = tn/(len(y_true)) - (fn/(len(y_true)) * omega)\n",
      "/var/folders/d4/chxwf4hs5kq7ttsp56s64z65mjk3qj/T/ipykernel_77408/1058678223.py:15: RuntimeWarning: invalid value encountered in scalar multiply\n",
      "  net_benefit = tn/(len(y_true)) - (fn/(len(y_true)) * omega)\n",
      "/var/folders/d4/chxwf4hs5kq7ttsp56s64z65mjk3qj/T/ipykernel_77408/1058678223.py:15: RuntimeWarning: invalid value encountered in scalar multiply\n",
      "  net_benefit = tn/(len(y_true)) - (fn/(len(y_true)) * omega)\n"
     ]
    },
    {
     "name": "stdout",
     "output_type": "stream",
     "text": [
      "49\n"
     ]
    },
    {
     "name": "stderr",
     "output_type": "stream",
     "text": [
      "/var/folders/d4/chxwf4hs5kq7ttsp56s64z65mjk3qj/T/ipykernel_77408/1954518231.py:52: RuntimeWarning: divide by zero encountered in divide\n",
      "  net_benefit_by_omega_week_period, optimal_threshold_by_omega = find_net_benefit_min_negatives(y_pred_proba, y_test_full, 1/omega_sequences, threshold_sequence)\n",
      "/var/folders/d4/chxwf4hs5kq7ttsp56s64z65mjk3qj/T/ipykernel_77408/1058678223.py:15: RuntimeWarning: invalid value encountered in scalar multiply\n",
      "  net_benefit = tn/(len(y_true)) - (fn/(len(y_true)) * omega)\n",
      "/var/folders/d4/chxwf4hs5kq7ttsp56s64z65mjk3qj/T/ipykernel_77408/1058678223.py:15: RuntimeWarning: invalid value encountered in scalar multiply\n",
      "  net_benefit = tn/(len(y_true)) - (fn/(len(y_true)) * omega)\n",
      "/var/folders/d4/chxwf4hs5kq7ttsp56s64z65mjk3qj/T/ipykernel_77408/1058678223.py:15: RuntimeWarning: invalid value encountered in scalar multiply\n",
      "  net_benefit = tn/(len(y_true)) - (fn/(len(y_true)) * omega)\n",
      "/var/folders/d4/chxwf4hs5kq7ttsp56s64z65mjk3qj/T/ipykernel_77408/1058678223.py:15: RuntimeWarning: invalid value encountered in scalar multiply\n",
      "  net_benefit = tn/(len(y_true)) - (fn/(len(y_true)) * omega)\n",
      "/var/folders/d4/chxwf4hs5kq7ttsp56s64z65mjk3qj/T/ipykernel_77408/1058678223.py:15: RuntimeWarning: invalid value encountered in scalar multiply\n",
      "  net_benefit = tn/(len(y_true)) - (fn/(len(y_true)) * omega)\n",
      "/var/folders/d4/chxwf4hs5kq7ttsp56s64z65mjk3qj/T/ipykernel_77408/1058678223.py:15: RuntimeWarning: invalid value encountered in scalar multiply\n",
      "  net_benefit = tn/(len(y_true)) - (fn/(len(y_true)) * omega)\n",
      "/var/folders/d4/chxwf4hs5kq7ttsp56s64z65mjk3qj/T/ipykernel_77408/1058678223.py:15: RuntimeWarning: invalid value encountered in scalar multiply\n",
      "  net_benefit = tn/(len(y_true)) - (fn/(len(y_true)) * omega)\n",
      "/var/folders/d4/chxwf4hs5kq7ttsp56s64z65mjk3qj/T/ipykernel_77408/1058678223.py:15: RuntimeWarning: invalid value encountered in scalar multiply\n",
      "  net_benefit = tn/(len(y_true)) - (fn/(len(y_true)) * omega)\n",
      "/var/folders/d4/chxwf4hs5kq7ttsp56s64z65mjk3qj/T/ipykernel_77408/1058678223.py:15: RuntimeWarning: invalid value encountered in scalar multiply\n",
      "  net_benefit = tn/(len(y_true)) - (fn/(len(y_true)) * omega)\n",
      "/var/folders/d4/chxwf4hs5kq7ttsp56s64z65mjk3qj/T/ipykernel_77408/1058678223.py:15: RuntimeWarning: invalid value encountered in scalar multiply\n",
      "  net_benefit = tn/(len(y_true)) - (fn/(len(y_true)) * omega)\n",
      "/var/folders/d4/chxwf4hs5kq7ttsp56s64z65mjk3qj/T/ipykernel_77408/1058678223.py:15: RuntimeWarning: invalid value encountered in scalar multiply\n",
      "  net_benefit = tn/(len(y_true)) - (fn/(len(y_true)) * omega)\n"
     ]
    },
    {
     "name": "stdout",
     "output_type": "stream",
     "text": [
      "50\n"
     ]
    },
    {
     "name": "stderr",
     "output_type": "stream",
     "text": [
      "/var/folders/d4/chxwf4hs5kq7ttsp56s64z65mjk3qj/T/ipykernel_77408/1954518231.py:52: RuntimeWarning: divide by zero encountered in divide\n",
      "  net_benefit_by_omega_week_period, optimal_threshold_by_omega = find_net_benefit_min_negatives(y_pred_proba, y_test_full, 1/omega_sequences, threshold_sequence)\n",
      "/var/folders/d4/chxwf4hs5kq7ttsp56s64z65mjk3qj/T/ipykernel_77408/1058678223.py:15: RuntimeWarning: invalid value encountered in scalar multiply\n",
      "  net_benefit = tn/(len(y_true)) - (fn/(len(y_true)) * omega)\n",
      "/var/folders/d4/chxwf4hs5kq7ttsp56s64z65mjk3qj/T/ipykernel_77408/1058678223.py:15: RuntimeWarning: invalid value encountered in scalar multiply\n",
      "  net_benefit = tn/(len(y_true)) - (fn/(len(y_true)) * omega)\n",
      "/var/folders/d4/chxwf4hs5kq7ttsp56s64z65mjk3qj/T/ipykernel_77408/1058678223.py:15: RuntimeWarning: invalid value encountered in scalar multiply\n",
      "  net_benefit = tn/(len(y_true)) - (fn/(len(y_true)) * omega)\n",
      "/var/folders/d4/chxwf4hs5kq7ttsp56s64z65mjk3qj/T/ipykernel_77408/1058678223.py:15: RuntimeWarning: invalid value encountered in scalar multiply\n",
      "  net_benefit = tn/(len(y_true)) - (fn/(len(y_true)) * omega)\n",
      "/var/folders/d4/chxwf4hs5kq7ttsp56s64z65mjk3qj/T/ipykernel_77408/1058678223.py:15: RuntimeWarning: invalid value encountered in scalar multiply\n",
      "  net_benefit = tn/(len(y_true)) - (fn/(len(y_true)) * omega)\n",
      "/var/folders/d4/chxwf4hs5kq7ttsp56s64z65mjk3qj/T/ipykernel_77408/1058678223.py:15: RuntimeWarning: invalid value encountered in scalar multiply\n",
      "  net_benefit = tn/(len(y_true)) - (fn/(len(y_true)) * omega)\n",
      "/var/folders/d4/chxwf4hs5kq7ttsp56s64z65mjk3qj/T/ipykernel_77408/1058678223.py:15: RuntimeWarning: invalid value encountered in scalar multiply\n",
      "  net_benefit = tn/(len(y_true)) - (fn/(len(y_true)) * omega)\n",
      "/var/folders/d4/chxwf4hs5kq7ttsp56s64z65mjk3qj/T/ipykernel_77408/1058678223.py:15: RuntimeWarning: invalid value encountered in scalar multiply\n",
      "  net_benefit = tn/(len(y_true)) - (fn/(len(y_true)) * omega)\n",
      "/var/folders/d4/chxwf4hs5kq7ttsp56s64z65mjk3qj/T/ipykernel_77408/1058678223.py:15: RuntimeWarning: invalid value encountered in scalar multiply\n",
      "  net_benefit = tn/(len(y_true)) - (fn/(len(y_true)) * omega)\n",
      "/var/folders/d4/chxwf4hs5kq7ttsp56s64z65mjk3qj/T/ipykernel_77408/1058678223.py:15: RuntimeWarning: invalid value encountered in scalar multiply\n",
      "  net_benefit = tn/(len(y_true)) - (fn/(len(y_true)) * omega)\n",
      "/var/folders/d4/chxwf4hs5kq7ttsp56s64z65mjk3qj/T/ipykernel_77408/1058678223.py:15: RuntimeWarning: invalid value encountered in scalar multiply\n",
      "  net_benefit = tn/(len(y_true)) - (fn/(len(y_true)) * omega)\n"
     ]
    },
    {
     "name": "stdout",
     "output_type": "stream",
     "text": [
      "51\n"
     ]
    },
    {
     "name": "stderr",
     "output_type": "stream",
     "text": [
      "/var/folders/d4/chxwf4hs5kq7ttsp56s64z65mjk3qj/T/ipykernel_77408/1954518231.py:52: RuntimeWarning: divide by zero encountered in divide\n",
      "  net_benefit_by_omega_week_period, optimal_threshold_by_omega = find_net_benefit_min_negatives(y_pred_proba, y_test_full, 1/omega_sequences, threshold_sequence)\n",
      "/var/folders/d4/chxwf4hs5kq7ttsp56s64z65mjk3qj/T/ipykernel_77408/1058678223.py:15: RuntimeWarning: invalid value encountered in scalar multiply\n",
      "  net_benefit = tn/(len(y_true)) - (fn/(len(y_true)) * omega)\n",
      "/var/folders/d4/chxwf4hs5kq7ttsp56s64z65mjk3qj/T/ipykernel_77408/1058678223.py:15: RuntimeWarning: invalid value encountered in scalar multiply\n",
      "  net_benefit = tn/(len(y_true)) - (fn/(len(y_true)) * omega)\n",
      "/var/folders/d4/chxwf4hs5kq7ttsp56s64z65mjk3qj/T/ipykernel_77408/1058678223.py:15: RuntimeWarning: invalid value encountered in scalar multiply\n",
      "  net_benefit = tn/(len(y_true)) - (fn/(len(y_true)) * omega)\n",
      "/var/folders/d4/chxwf4hs5kq7ttsp56s64z65mjk3qj/T/ipykernel_77408/1058678223.py:15: RuntimeWarning: invalid value encountered in scalar multiply\n",
      "  net_benefit = tn/(len(y_true)) - (fn/(len(y_true)) * omega)\n",
      "/var/folders/d4/chxwf4hs5kq7ttsp56s64z65mjk3qj/T/ipykernel_77408/1058678223.py:15: RuntimeWarning: invalid value encountered in scalar multiply\n",
      "  net_benefit = tn/(len(y_true)) - (fn/(len(y_true)) * omega)\n",
      "/var/folders/d4/chxwf4hs5kq7ttsp56s64z65mjk3qj/T/ipykernel_77408/1058678223.py:15: RuntimeWarning: invalid value encountered in scalar multiply\n",
      "  net_benefit = tn/(len(y_true)) - (fn/(len(y_true)) * omega)\n",
      "/var/folders/d4/chxwf4hs5kq7ttsp56s64z65mjk3qj/T/ipykernel_77408/1058678223.py:15: RuntimeWarning: invalid value encountered in scalar multiply\n",
      "  net_benefit = tn/(len(y_true)) - (fn/(len(y_true)) * omega)\n",
      "/var/folders/d4/chxwf4hs5kq7ttsp56s64z65mjk3qj/T/ipykernel_77408/1058678223.py:15: RuntimeWarning: invalid value encountered in scalar multiply\n",
      "  net_benefit = tn/(len(y_true)) - (fn/(len(y_true)) * omega)\n",
      "/var/folders/d4/chxwf4hs5kq7ttsp56s64z65mjk3qj/T/ipykernel_77408/1058678223.py:15: RuntimeWarning: invalid value encountered in scalar multiply\n",
      "  net_benefit = tn/(len(y_true)) - (fn/(len(y_true)) * omega)\n",
      "/var/folders/d4/chxwf4hs5kq7ttsp56s64z65mjk3qj/T/ipykernel_77408/1058678223.py:15: RuntimeWarning: invalid value encountered in scalar multiply\n",
      "  net_benefit = tn/(len(y_true)) - (fn/(len(y_true)) * omega)\n",
      "/var/folders/d4/chxwf4hs5kq7ttsp56s64z65mjk3qj/T/ipykernel_77408/1058678223.py:15: RuntimeWarning: invalid value encountered in scalar multiply\n",
      "  net_benefit = tn/(len(y_true)) - (fn/(len(y_true)) * omega)\n"
     ]
    },
    {
     "name": "stdout",
     "output_type": "stream",
     "text": [
      "52\n"
     ]
    },
    {
     "name": "stderr",
     "output_type": "stream",
     "text": [
      "/var/folders/d4/chxwf4hs5kq7ttsp56s64z65mjk3qj/T/ipykernel_77408/1954518231.py:52: RuntimeWarning: divide by zero encountered in divide\n",
      "  net_benefit_by_omega_week_period, optimal_threshold_by_omega = find_net_benefit_min_negatives(y_pred_proba, y_test_full, 1/omega_sequences, threshold_sequence)\n",
      "/var/folders/d4/chxwf4hs5kq7ttsp56s64z65mjk3qj/T/ipykernel_77408/1058678223.py:15: RuntimeWarning: invalid value encountered in scalar multiply\n",
      "  net_benefit = tn/(len(y_true)) - (fn/(len(y_true)) * omega)\n",
      "/var/folders/d4/chxwf4hs5kq7ttsp56s64z65mjk3qj/T/ipykernel_77408/1058678223.py:15: RuntimeWarning: invalid value encountered in scalar multiply\n",
      "  net_benefit = tn/(len(y_true)) - (fn/(len(y_true)) * omega)\n",
      "/var/folders/d4/chxwf4hs5kq7ttsp56s64z65mjk3qj/T/ipykernel_77408/1058678223.py:15: RuntimeWarning: invalid value encountered in scalar multiply\n",
      "  net_benefit = tn/(len(y_true)) - (fn/(len(y_true)) * omega)\n",
      "/var/folders/d4/chxwf4hs5kq7ttsp56s64z65mjk3qj/T/ipykernel_77408/1058678223.py:15: RuntimeWarning: invalid value encountered in scalar multiply\n",
      "  net_benefit = tn/(len(y_true)) - (fn/(len(y_true)) * omega)\n",
      "/var/folders/d4/chxwf4hs5kq7ttsp56s64z65mjk3qj/T/ipykernel_77408/1058678223.py:15: RuntimeWarning: invalid value encountered in scalar multiply\n",
      "  net_benefit = tn/(len(y_true)) - (fn/(len(y_true)) * omega)\n",
      "/var/folders/d4/chxwf4hs5kq7ttsp56s64z65mjk3qj/T/ipykernel_77408/1058678223.py:15: RuntimeWarning: invalid value encountered in scalar multiply\n",
      "  net_benefit = tn/(len(y_true)) - (fn/(len(y_true)) * omega)\n",
      "/var/folders/d4/chxwf4hs5kq7ttsp56s64z65mjk3qj/T/ipykernel_77408/1058678223.py:15: RuntimeWarning: invalid value encountered in scalar multiply\n",
      "  net_benefit = tn/(len(y_true)) - (fn/(len(y_true)) * omega)\n",
      "/var/folders/d4/chxwf4hs5kq7ttsp56s64z65mjk3qj/T/ipykernel_77408/1058678223.py:15: RuntimeWarning: invalid value encountered in scalar multiply\n",
      "  net_benefit = tn/(len(y_true)) - (fn/(len(y_true)) * omega)\n",
      "/var/folders/d4/chxwf4hs5kq7ttsp56s64z65mjk3qj/T/ipykernel_77408/1058678223.py:15: RuntimeWarning: invalid value encountered in scalar multiply\n",
      "  net_benefit = tn/(len(y_true)) - (fn/(len(y_true)) * omega)\n",
      "/var/folders/d4/chxwf4hs5kq7ttsp56s64z65mjk3qj/T/ipykernel_77408/1058678223.py:15: RuntimeWarning: invalid value encountered in scalar multiply\n",
      "  net_benefit = tn/(len(y_true)) - (fn/(len(y_true)) * omega)\n",
      "/var/folders/d4/chxwf4hs5kq7ttsp56s64z65mjk3qj/T/ipykernel_77408/1058678223.py:15: RuntimeWarning: invalid value encountered in scalar multiply\n",
      "  net_benefit = tn/(len(y_true)) - (fn/(len(y_true)) * omega)\n",
      "/var/folders/d4/chxwf4hs5kq7ttsp56s64z65mjk3qj/T/ipykernel_77408/1058678223.py:15: RuntimeWarning: invalid value encountered in scalar multiply\n",
      "  net_benefit = tn/(len(y_true)) - (fn/(len(y_true)) * omega)\n"
     ]
    },
    {
     "name": "stdout",
     "output_type": "stream",
     "text": [
      "53\n"
     ]
    },
    {
     "name": "stderr",
     "output_type": "stream",
     "text": [
      "/var/folders/d4/chxwf4hs5kq7ttsp56s64z65mjk3qj/T/ipykernel_77408/1954518231.py:52: RuntimeWarning: divide by zero encountered in divide\n",
      "  net_benefit_by_omega_week_period, optimal_threshold_by_omega = find_net_benefit_min_negatives(y_pred_proba, y_test_full, 1/omega_sequences, threshold_sequence)\n",
      "/var/folders/d4/chxwf4hs5kq7ttsp56s64z65mjk3qj/T/ipykernel_77408/1058678223.py:15: RuntimeWarning: invalid value encountered in scalar multiply\n",
      "  net_benefit = tn/(len(y_true)) - (fn/(len(y_true)) * omega)\n",
      "/var/folders/d4/chxwf4hs5kq7ttsp56s64z65mjk3qj/T/ipykernel_77408/1058678223.py:15: RuntimeWarning: invalid value encountered in scalar multiply\n",
      "  net_benefit = tn/(len(y_true)) - (fn/(len(y_true)) * omega)\n",
      "/var/folders/d4/chxwf4hs5kq7ttsp56s64z65mjk3qj/T/ipykernel_77408/1058678223.py:15: RuntimeWarning: invalid value encountered in scalar multiply\n",
      "  net_benefit = tn/(len(y_true)) - (fn/(len(y_true)) * omega)\n",
      "/var/folders/d4/chxwf4hs5kq7ttsp56s64z65mjk3qj/T/ipykernel_77408/1058678223.py:15: RuntimeWarning: invalid value encountered in scalar multiply\n",
      "  net_benefit = tn/(len(y_true)) - (fn/(len(y_true)) * omega)\n",
      "/var/folders/d4/chxwf4hs5kq7ttsp56s64z65mjk3qj/T/ipykernel_77408/1058678223.py:15: RuntimeWarning: invalid value encountered in scalar multiply\n",
      "  net_benefit = tn/(len(y_true)) - (fn/(len(y_true)) * omega)\n",
      "/var/folders/d4/chxwf4hs5kq7ttsp56s64z65mjk3qj/T/ipykernel_77408/1058678223.py:15: RuntimeWarning: invalid value encountered in scalar multiply\n",
      "  net_benefit = tn/(len(y_true)) - (fn/(len(y_true)) * omega)\n",
      "/var/folders/d4/chxwf4hs5kq7ttsp56s64z65mjk3qj/T/ipykernel_77408/1058678223.py:15: RuntimeWarning: invalid value encountered in scalar multiply\n",
      "  net_benefit = tn/(len(y_true)) - (fn/(len(y_true)) * omega)\n"
     ]
    },
    {
     "name": "stdout",
     "output_type": "stream",
     "text": [
      "54\n"
     ]
    },
    {
     "name": "stderr",
     "output_type": "stream",
     "text": [
      "/var/folders/d4/chxwf4hs5kq7ttsp56s64z65mjk3qj/T/ipykernel_77408/1954518231.py:52: RuntimeWarning: divide by zero encountered in divide\n",
      "  net_benefit_by_omega_week_period, optimal_threshold_by_omega = find_net_benefit_min_negatives(y_pred_proba, y_test_full, 1/omega_sequences, threshold_sequence)\n",
      "/var/folders/d4/chxwf4hs5kq7ttsp56s64z65mjk3qj/T/ipykernel_77408/1058678223.py:15: RuntimeWarning: invalid value encountered in scalar multiply\n",
      "  net_benefit = tn/(len(y_true)) - (fn/(len(y_true)) * omega)\n",
      "/var/folders/d4/chxwf4hs5kq7ttsp56s64z65mjk3qj/T/ipykernel_77408/1058678223.py:15: RuntimeWarning: invalid value encountered in scalar multiply\n",
      "  net_benefit = tn/(len(y_true)) - (fn/(len(y_true)) * omega)\n",
      "/var/folders/d4/chxwf4hs5kq7ttsp56s64z65mjk3qj/T/ipykernel_77408/1058678223.py:15: RuntimeWarning: invalid value encountered in scalar multiply\n",
      "  net_benefit = tn/(len(y_true)) - (fn/(len(y_true)) * omega)\n",
      "/var/folders/d4/chxwf4hs5kq7ttsp56s64z65mjk3qj/T/ipykernel_77408/1058678223.py:15: RuntimeWarning: invalid value encountered in scalar multiply\n",
      "  net_benefit = tn/(len(y_true)) - (fn/(len(y_true)) * omega)\n",
      "/var/folders/d4/chxwf4hs5kq7ttsp56s64z65mjk3qj/T/ipykernel_77408/1058678223.py:15: RuntimeWarning: invalid value encountered in scalar multiply\n",
      "  net_benefit = tn/(len(y_true)) - (fn/(len(y_true)) * omega)\n",
      "/var/folders/d4/chxwf4hs5kq7ttsp56s64z65mjk3qj/T/ipykernel_77408/1058678223.py:15: RuntimeWarning: invalid value encountered in scalar multiply\n",
      "  net_benefit = tn/(len(y_true)) - (fn/(len(y_true)) * omega)\n",
      "/var/folders/d4/chxwf4hs5kq7ttsp56s64z65mjk3qj/T/ipykernel_77408/1058678223.py:15: RuntimeWarning: invalid value encountered in scalar multiply\n",
      "  net_benefit = tn/(len(y_true)) - (fn/(len(y_true)) * omega)\n"
     ]
    },
    {
     "name": "stdout",
     "output_type": "stream",
     "text": [
      "55\n"
     ]
    },
    {
     "name": "stderr",
     "output_type": "stream",
     "text": [
      "/var/folders/d4/chxwf4hs5kq7ttsp56s64z65mjk3qj/T/ipykernel_77408/1954518231.py:52: RuntimeWarning: divide by zero encountered in divide\n",
      "  net_benefit_by_omega_week_period, optimal_threshold_by_omega = find_net_benefit_min_negatives(y_pred_proba, y_test_full, 1/omega_sequences, threshold_sequence)\n",
      "/var/folders/d4/chxwf4hs5kq7ttsp56s64z65mjk3qj/T/ipykernel_77408/1058678223.py:15: RuntimeWarning: invalid value encountered in scalar multiply\n",
      "  net_benefit = tn/(len(y_true)) - (fn/(len(y_true)) * omega)\n",
      "/var/folders/d4/chxwf4hs5kq7ttsp56s64z65mjk3qj/T/ipykernel_77408/1058678223.py:15: RuntimeWarning: invalid value encountered in scalar multiply\n",
      "  net_benefit = tn/(len(y_true)) - (fn/(len(y_true)) * omega)\n",
      "/var/folders/d4/chxwf4hs5kq7ttsp56s64z65mjk3qj/T/ipykernel_77408/1058678223.py:15: RuntimeWarning: invalid value encountered in scalar multiply\n",
      "  net_benefit = tn/(len(y_true)) - (fn/(len(y_true)) * omega)\n",
      "/var/folders/d4/chxwf4hs5kq7ttsp56s64z65mjk3qj/T/ipykernel_77408/1058678223.py:15: RuntimeWarning: invalid value encountered in scalar multiply\n",
      "  net_benefit = tn/(len(y_true)) - (fn/(len(y_true)) * omega)\n",
      "/var/folders/d4/chxwf4hs5kq7ttsp56s64z65mjk3qj/T/ipykernel_77408/1058678223.py:15: RuntimeWarning: invalid value encountered in scalar multiply\n",
      "  net_benefit = tn/(len(y_true)) - (fn/(len(y_true)) * omega)\n",
      "/var/folders/d4/chxwf4hs5kq7ttsp56s64z65mjk3qj/T/ipykernel_77408/1058678223.py:15: RuntimeWarning: invalid value encountered in scalar multiply\n",
      "  net_benefit = tn/(len(y_true)) - (fn/(len(y_true)) * omega)\n",
      "/var/folders/d4/chxwf4hs5kq7ttsp56s64z65mjk3qj/T/ipykernel_77408/1058678223.py:15: RuntimeWarning: invalid value encountered in scalar multiply\n",
      "  net_benefit = tn/(len(y_true)) - (fn/(len(y_true)) * omega)\n"
     ]
    },
    {
     "name": "stdout",
     "output_type": "stream",
     "text": [
      "56\n"
     ]
    },
    {
     "name": "stderr",
     "output_type": "stream",
     "text": [
      "/var/folders/d4/chxwf4hs5kq7ttsp56s64z65mjk3qj/T/ipykernel_77408/1954518231.py:52: RuntimeWarning: divide by zero encountered in divide\n",
      "  net_benefit_by_omega_week_period, optimal_threshold_by_omega = find_net_benefit_min_negatives(y_pred_proba, y_test_full, 1/omega_sequences, threshold_sequence)\n",
      "/var/folders/d4/chxwf4hs5kq7ttsp56s64z65mjk3qj/T/ipykernel_77408/1058678223.py:15: RuntimeWarning: invalid value encountered in scalar multiply\n",
      "  net_benefit = tn/(len(y_true)) - (fn/(len(y_true)) * omega)\n",
      "/var/folders/d4/chxwf4hs5kq7ttsp56s64z65mjk3qj/T/ipykernel_77408/1058678223.py:15: RuntimeWarning: invalid value encountered in scalar multiply\n",
      "  net_benefit = tn/(len(y_true)) - (fn/(len(y_true)) * omega)\n",
      "/var/folders/d4/chxwf4hs5kq7ttsp56s64z65mjk3qj/T/ipykernel_77408/1058678223.py:15: RuntimeWarning: invalid value encountered in scalar multiply\n",
      "  net_benefit = tn/(len(y_true)) - (fn/(len(y_true)) * omega)\n",
      "/var/folders/d4/chxwf4hs5kq7ttsp56s64z65mjk3qj/T/ipykernel_77408/1058678223.py:15: RuntimeWarning: invalid value encountered in scalar multiply\n",
      "  net_benefit = tn/(len(y_true)) - (fn/(len(y_true)) * omega)\n",
      "/var/folders/d4/chxwf4hs5kq7ttsp56s64z65mjk3qj/T/ipykernel_77408/1058678223.py:15: RuntimeWarning: invalid value encountered in scalar multiply\n",
      "  net_benefit = tn/(len(y_true)) - (fn/(len(y_true)) * omega)\n",
      "/var/folders/d4/chxwf4hs5kq7ttsp56s64z65mjk3qj/T/ipykernel_77408/1058678223.py:15: RuntimeWarning: invalid value encountered in scalar multiply\n",
      "  net_benefit = tn/(len(y_true)) - (fn/(len(y_true)) * omega)\n",
      "/var/folders/d4/chxwf4hs5kq7ttsp56s64z65mjk3qj/T/ipykernel_77408/1058678223.py:15: RuntimeWarning: invalid value encountered in scalar multiply\n",
      "  net_benefit = tn/(len(y_true)) - (fn/(len(y_true)) * omega)\n"
     ]
    },
    {
     "name": "stdout",
     "output_type": "stream",
     "text": [
      "57\n"
     ]
    },
    {
     "name": "stderr",
     "output_type": "stream",
     "text": [
      "/var/folders/d4/chxwf4hs5kq7ttsp56s64z65mjk3qj/T/ipykernel_77408/1954518231.py:52: RuntimeWarning: divide by zero encountered in divide\n",
      "  net_benefit_by_omega_week_period, optimal_threshold_by_omega = find_net_benefit_min_negatives(y_pred_proba, y_test_full, 1/omega_sequences, threshold_sequence)\n",
      "/var/folders/d4/chxwf4hs5kq7ttsp56s64z65mjk3qj/T/ipykernel_77408/1058678223.py:15: RuntimeWarning: invalid value encountered in scalar multiply\n",
      "  net_benefit = tn/(len(y_true)) - (fn/(len(y_true)) * omega)\n",
      "/var/folders/d4/chxwf4hs5kq7ttsp56s64z65mjk3qj/T/ipykernel_77408/1058678223.py:15: RuntimeWarning: invalid value encountered in scalar multiply\n",
      "  net_benefit = tn/(len(y_true)) - (fn/(len(y_true)) * omega)\n",
      "/var/folders/d4/chxwf4hs5kq7ttsp56s64z65mjk3qj/T/ipykernel_77408/1058678223.py:15: RuntimeWarning: invalid value encountered in scalar multiply\n",
      "  net_benefit = tn/(len(y_true)) - (fn/(len(y_true)) * omega)\n",
      "/var/folders/d4/chxwf4hs5kq7ttsp56s64z65mjk3qj/T/ipykernel_77408/1058678223.py:15: RuntimeWarning: invalid value encountered in scalar multiply\n",
      "  net_benefit = tn/(len(y_true)) - (fn/(len(y_true)) * omega)\n",
      "/var/folders/d4/chxwf4hs5kq7ttsp56s64z65mjk3qj/T/ipykernel_77408/1058678223.py:15: RuntimeWarning: invalid value encountered in scalar multiply\n",
      "  net_benefit = tn/(len(y_true)) - (fn/(len(y_true)) * omega)\n",
      "/var/folders/d4/chxwf4hs5kq7ttsp56s64z65mjk3qj/T/ipykernel_77408/1058678223.py:15: RuntimeWarning: invalid value encountered in scalar multiply\n",
      "  net_benefit = tn/(len(y_true)) - (fn/(len(y_true)) * omega)\n",
      "/var/folders/d4/chxwf4hs5kq7ttsp56s64z65mjk3qj/T/ipykernel_77408/1058678223.py:15: RuntimeWarning: invalid value encountered in scalar multiply\n",
      "  net_benefit = tn/(len(y_true)) - (fn/(len(y_true)) * omega)\n"
     ]
    },
    {
     "name": "stdout",
     "output_type": "stream",
     "text": [
      "58\n"
     ]
    },
    {
     "name": "stderr",
     "output_type": "stream",
     "text": [
      "/var/folders/d4/chxwf4hs5kq7ttsp56s64z65mjk3qj/T/ipykernel_77408/1954518231.py:52: RuntimeWarning: divide by zero encountered in divide\n",
      "  net_benefit_by_omega_week_period, optimal_threshold_by_omega = find_net_benefit_min_negatives(y_pred_proba, y_test_full, 1/omega_sequences, threshold_sequence)\n",
      "/var/folders/d4/chxwf4hs5kq7ttsp56s64z65mjk3qj/T/ipykernel_77408/1058678223.py:15: RuntimeWarning: invalid value encountered in scalar multiply\n",
      "  net_benefit = tn/(len(y_true)) - (fn/(len(y_true)) * omega)\n",
      "/var/folders/d4/chxwf4hs5kq7ttsp56s64z65mjk3qj/T/ipykernel_77408/1058678223.py:15: RuntimeWarning: invalid value encountered in scalar multiply\n",
      "  net_benefit = tn/(len(y_true)) - (fn/(len(y_true)) * omega)\n",
      "/var/folders/d4/chxwf4hs5kq7ttsp56s64z65mjk3qj/T/ipykernel_77408/1058678223.py:15: RuntimeWarning: invalid value encountered in scalar multiply\n",
      "  net_benefit = tn/(len(y_true)) - (fn/(len(y_true)) * omega)\n",
      "/var/folders/d4/chxwf4hs5kq7ttsp56s64z65mjk3qj/T/ipykernel_77408/1058678223.py:15: RuntimeWarning: invalid value encountered in scalar multiply\n",
      "  net_benefit = tn/(len(y_true)) - (fn/(len(y_true)) * omega)\n",
      "/var/folders/d4/chxwf4hs5kq7ttsp56s64z65mjk3qj/T/ipykernel_77408/1058678223.py:15: RuntimeWarning: invalid value encountered in scalar multiply\n",
      "  net_benefit = tn/(len(y_true)) - (fn/(len(y_true)) * omega)\n",
      "/var/folders/d4/chxwf4hs5kq7ttsp56s64z65mjk3qj/T/ipykernel_77408/1058678223.py:15: RuntimeWarning: invalid value encountered in scalar multiply\n",
      "  net_benefit = tn/(len(y_true)) - (fn/(len(y_true)) * omega)\n",
      "/var/folders/d4/chxwf4hs5kq7ttsp56s64z65mjk3qj/T/ipykernel_77408/1058678223.py:15: RuntimeWarning: invalid value encountered in scalar multiply\n",
      "  net_benefit = tn/(len(y_true)) - (fn/(len(y_true)) * omega)\n"
     ]
    },
    {
     "name": "stdout",
     "output_type": "stream",
     "text": [
      "59\n"
     ]
    },
    {
     "name": "stderr",
     "output_type": "stream",
     "text": [
      "/var/folders/d4/chxwf4hs5kq7ttsp56s64z65mjk3qj/T/ipykernel_77408/1954518231.py:52: RuntimeWarning: divide by zero encountered in divide\n",
      "  net_benefit_by_omega_week_period, optimal_threshold_by_omega = find_net_benefit_min_negatives(y_pred_proba, y_test_full, 1/omega_sequences, threshold_sequence)\n",
      "/var/folders/d4/chxwf4hs5kq7ttsp56s64z65mjk3qj/T/ipykernel_77408/1058678223.py:15: RuntimeWarning: invalid value encountered in scalar multiply\n",
      "  net_benefit = tn/(len(y_true)) - (fn/(len(y_true)) * omega)\n",
      "/var/folders/d4/chxwf4hs5kq7ttsp56s64z65mjk3qj/T/ipykernel_77408/1058678223.py:15: RuntimeWarning: invalid value encountered in scalar multiply\n",
      "  net_benefit = tn/(len(y_true)) - (fn/(len(y_true)) * omega)\n",
      "/var/folders/d4/chxwf4hs5kq7ttsp56s64z65mjk3qj/T/ipykernel_77408/1058678223.py:15: RuntimeWarning: invalid value encountered in scalar multiply\n",
      "  net_benefit = tn/(len(y_true)) - (fn/(len(y_true)) * omega)\n",
      "/var/folders/d4/chxwf4hs5kq7ttsp56s64z65mjk3qj/T/ipykernel_77408/1058678223.py:15: RuntimeWarning: invalid value encountered in scalar multiply\n",
      "  net_benefit = tn/(len(y_true)) - (fn/(len(y_true)) * omega)\n",
      "/var/folders/d4/chxwf4hs5kq7ttsp56s64z65mjk3qj/T/ipykernel_77408/1058678223.py:15: RuntimeWarning: invalid value encountered in scalar multiply\n",
      "  net_benefit = tn/(len(y_true)) - (fn/(len(y_true)) * omega)\n",
      "/var/folders/d4/chxwf4hs5kq7ttsp56s64z65mjk3qj/T/ipykernel_77408/1058678223.py:15: RuntimeWarning: invalid value encountered in scalar multiply\n",
      "  net_benefit = tn/(len(y_true)) - (fn/(len(y_true)) * omega)\n",
      "/var/folders/d4/chxwf4hs5kq7ttsp56s64z65mjk3qj/T/ipykernel_77408/1058678223.py:15: RuntimeWarning: invalid value encountered in scalar multiply\n",
      "  net_benefit = tn/(len(y_true)) - (fn/(len(y_true)) * omega)\n",
      "/var/folders/d4/chxwf4hs5kq7ttsp56s64z65mjk3qj/T/ipykernel_77408/1058678223.py:15: RuntimeWarning: invalid value encountered in scalar multiply\n",
      "  net_benefit = tn/(len(y_true)) - (fn/(len(y_true)) * omega)\n",
      "/var/folders/d4/chxwf4hs5kq7ttsp56s64z65mjk3qj/T/ipykernel_77408/1058678223.py:15: RuntimeWarning: invalid value encountered in scalar multiply\n",
      "  net_benefit = tn/(len(y_true)) - (fn/(len(y_true)) * omega)\n",
      "/var/folders/d4/chxwf4hs5kq7ttsp56s64z65mjk3qj/T/ipykernel_77408/1058678223.py:15: RuntimeWarning: invalid value encountered in scalar multiply\n",
      "  net_benefit = tn/(len(y_true)) - (fn/(len(y_true)) * omega)\n",
      "/var/folders/d4/chxwf4hs5kq7ttsp56s64z65mjk3qj/T/ipykernel_77408/1058678223.py:15: RuntimeWarning: invalid value encountered in scalar multiply\n",
      "  net_benefit = tn/(len(y_true)) - (fn/(len(y_true)) * omega)\n",
      "/var/folders/d4/chxwf4hs5kq7ttsp56s64z65mjk3qj/T/ipykernel_77408/1058678223.py:15: RuntimeWarning: invalid value encountered in scalar multiply\n",
      "  net_benefit = tn/(len(y_true)) - (fn/(len(y_true)) * omega)\n"
     ]
    },
    {
     "name": "stdout",
     "output_type": "stream",
     "text": [
      "60\n"
     ]
    },
    {
     "name": "stderr",
     "output_type": "stream",
     "text": [
      "/var/folders/d4/chxwf4hs5kq7ttsp56s64z65mjk3qj/T/ipykernel_77408/1954518231.py:52: RuntimeWarning: divide by zero encountered in divide\n",
      "  net_benefit_by_omega_week_period, optimal_threshold_by_omega = find_net_benefit_min_negatives(y_pred_proba, y_test_full, 1/omega_sequences, threshold_sequence)\n",
      "/var/folders/d4/chxwf4hs5kq7ttsp56s64z65mjk3qj/T/ipykernel_77408/1058678223.py:15: RuntimeWarning: invalid value encountered in scalar multiply\n",
      "  net_benefit = tn/(len(y_true)) - (fn/(len(y_true)) * omega)\n",
      "/var/folders/d4/chxwf4hs5kq7ttsp56s64z65mjk3qj/T/ipykernel_77408/1058678223.py:15: RuntimeWarning: invalid value encountered in scalar multiply\n",
      "  net_benefit = tn/(len(y_true)) - (fn/(len(y_true)) * omega)\n",
      "/var/folders/d4/chxwf4hs5kq7ttsp56s64z65mjk3qj/T/ipykernel_77408/1058678223.py:15: RuntimeWarning: invalid value encountered in scalar multiply\n",
      "  net_benefit = tn/(len(y_true)) - (fn/(len(y_true)) * omega)\n",
      "/var/folders/d4/chxwf4hs5kq7ttsp56s64z65mjk3qj/T/ipykernel_77408/1058678223.py:15: RuntimeWarning: invalid value encountered in scalar multiply\n",
      "  net_benefit = tn/(len(y_true)) - (fn/(len(y_true)) * omega)\n",
      "/var/folders/d4/chxwf4hs5kq7ttsp56s64z65mjk3qj/T/ipykernel_77408/1058678223.py:15: RuntimeWarning: invalid value encountered in scalar multiply\n",
      "  net_benefit = tn/(len(y_true)) - (fn/(len(y_true)) * omega)\n",
      "/var/folders/d4/chxwf4hs5kq7ttsp56s64z65mjk3qj/T/ipykernel_77408/1058678223.py:15: RuntimeWarning: invalid value encountered in scalar multiply\n",
      "  net_benefit = tn/(len(y_true)) - (fn/(len(y_true)) * omega)\n",
      "/var/folders/d4/chxwf4hs5kq7ttsp56s64z65mjk3qj/T/ipykernel_77408/1058678223.py:15: RuntimeWarning: invalid value encountered in scalar multiply\n",
      "  net_benefit = tn/(len(y_true)) - (fn/(len(y_true)) * omega)\n",
      "/var/folders/d4/chxwf4hs5kq7ttsp56s64z65mjk3qj/T/ipykernel_77408/1058678223.py:15: RuntimeWarning: invalid value encountered in scalar multiply\n",
      "  net_benefit = tn/(len(y_true)) - (fn/(len(y_true)) * omega)\n",
      "/var/folders/d4/chxwf4hs5kq7ttsp56s64z65mjk3qj/T/ipykernel_77408/1058678223.py:15: RuntimeWarning: invalid value encountered in scalar multiply\n",
      "  net_benefit = tn/(len(y_true)) - (fn/(len(y_true)) * omega)\n",
      "/var/folders/d4/chxwf4hs5kq7ttsp56s64z65mjk3qj/T/ipykernel_77408/1058678223.py:15: RuntimeWarning: invalid value encountered in scalar multiply\n",
      "  net_benefit = tn/(len(y_true)) - (fn/(len(y_true)) * omega)\n",
      "/var/folders/d4/chxwf4hs5kq7ttsp56s64z65mjk3qj/T/ipykernel_77408/1058678223.py:15: RuntimeWarning: invalid value encountered in scalar multiply\n",
      "  net_benefit = tn/(len(y_true)) - (fn/(len(y_true)) * omega)\n",
      "/var/folders/d4/chxwf4hs5kq7ttsp56s64z65mjk3qj/T/ipykernel_77408/1058678223.py:15: RuntimeWarning: invalid value encountered in scalar multiply\n",
      "  net_benefit = tn/(len(y_true)) - (fn/(len(y_true)) * omega)\n"
     ]
    },
    {
     "name": "stdout",
     "output_type": "stream",
     "text": [
      "61\n"
     ]
    },
    {
     "name": "stderr",
     "output_type": "stream",
     "text": [
      "/var/folders/d4/chxwf4hs5kq7ttsp56s64z65mjk3qj/T/ipykernel_77408/1954518231.py:52: RuntimeWarning: divide by zero encountered in divide\n",
      "  net_benefit_by_omega_week_period, optimal_threshold_by_omega = find_net_benefit_min_negatives(y_pred_proba, y_test_full, 1/omega_sequences, threshold_sequence)\n",
      "/var/folders/d4/chxwf4hs5kq7ttsp56s64z65mjk3qj/T/ipykernel_77408/1058678223.py:15: RuntimeWarning: invalid value encountered in scalar multiply\n",
      "  net_benefit = tn/(len(y_true)) - (fn/(len(y_true)) * omega)\n",
      "/var/folders/d4/chxwf4hs5kq7ttsp56s64z65mjk3qj/T/ipykernel_77408/1058678223.py:15: RuntimeWarning: invalid value encountered in scalar multiply\n",
      "  net_benefit = tn/(len(y_true)) - (fn/(len(y_true)) * omega)\n",
      "/var/folders/d4/chxwf4hs5kq7ttsp56s64z65mjk3qj/T/ipykernel_77408/1058678223.py:15: RuntimeWarning: invalid value encountered in scalar multiply\n",
      "  net_benefit = tn/(len(y_true)) - (fn/(len(y_true)) * omega)\n",
      "/var/folders/d4/chxwf4hs5kq7ttsp56s64z65mjk3qj/T/ipykernel_77408/1058678223.py:15: RuntimeWarning: invalid value encountered in scalar multiply\n",
      "  net_benefit = tn/(len(y_true)) - (fn/(len(y_true)) * omega)\n",
      "/var/folders/d4/chxwf4hs5kq7ttsp56s64z65mjk3qj/T/ipykernel_77408/1058678223.py:15: RuntimeWarning: invalid value encountered in scalar multiply\n",
      "  net_benefit = tn/(len(y_true)) - (fn/(len(y_true)) * omega)\n",
      "/var/folders/d4/chxwf4hs5kq7ttsp56s64z65mjk3qj/T/ipykernel_77408/1058678223.py:15: RuntimeWarning: invalid value encountered in scalar multiply\n",
      "  net_benefit = tn/(len(y_true)) - (fn/(len(y_true)) * omega)\n",
      "/var/folders/d4/chxwf4hs5kq7ttsp56s64z65mjk3qj/T/ipykernel_77408/1058678223.py:15: RuntimeWarning: invalid value encountered in scalar multiply\n",
      "  net_benefit = tn/(len(y_true)) - (fn/(len(y_true)) * omega)\n"
     ]
    },
    {
     "name": "stdout",
     "output_type": "stream",
     "text": [
      "62\n"
     ]
    },
    {
     "name": "stderr",
     "output_type": "stream",
     "text": [
      "/var/folders/d4/chxwf4hs5kq7ttsp56s64z65mjk3qj/T/ipykernel_77408/1954518231.py:52: RuntimeWarning: divide by zero encountered in divide\n",
      "  net_benefit_by_omega_week_period, optimal_threshold_by_omega = find_net_benefit_min_negatives(y_pred_proba, y_test_full, 1/omega_sequences, threshold_sequence)\n",
      "/var/folders/d4/chxwf4hs5kq7ttsp56s64z65mjk3qj/T/ipykernel_77408/1058678223.py:15: RuntimeWarning: invalid value encountered in scalar multiply\n",
      "  net_benefit = tn/(len(y_true)) - (fn/(len(y_true)) * omega)\n",
      "/var/folders/d4/chxwf4hs5kq7ttsp56s64z65mjk3qj/T/ipykernel_77408/1058678223.py:15: RuntimeWarning: invalid value encountered in scalar multiply\n",
      "  net_benefit = tn/(len(y_true)) - (fn/(len(y_true)) * omega)\n",
      "/var/folders/d4/chxwf4hs5kq7ttsp56s64z65mjk3qj/T/ipykernel_77408/1058678223.py:15: RuntimeWarning: invalid value encountered in scalar multiply\n",
      "  net_benefit = tn/(len(y_true)) - (fn/(len(y_true)) * omega)\n",
      "/var/folders/d4/chxwf4hs5kq7ttsp56s64z65mjk3qj/T/ipykernel_77408/1058678223.py:15: RuntimeWarning: invalid value encountered in scalar multiply\n",
      "  net_benefit = tn/(len(y_true)) - (fn/(len(y_true)) * omega)\n",
      "/var/folders/d4/chxwf4hs5kq7ttsp56s64z65mjk3qj/T/ipykernel_77408/1058678223.py:15: RuntimeWarning: invalid value encountered in scalar multiply\n",
      "  net_benefit = tn/(len(y_true)) - (fn/(len(y_true)) * omega)\n",
      "/var/folders/d4/chxwf4hs5kq7ttsp56s64z65mjk3qj/T/ipykernel_77408/1058678223.py:15: RuntimeWarning: invalid value encountered in scalar multiply\n",
      "  net_benefit = tn/(len(y_true)) - (fn/(len(y_true)) * omega)\n",
      "/var/folders/d4/chxwf4hs5kq7ttsp56s64z65mjk3qj/T/ipykernel_77408/1058678223.py:15: RuntimeWarning: invalid value encountered in scalar multiply\n",
      "  net_benefit = tn/(len(y_true)) - (fn/(len(y_true)) * omega)\n",
      "/var/folders/d4/chxwf4hs5kq7ttsp56s64z65mjk3qj/T/ipykernel_77408/1058678223.py:15: RuntimeWarning: invalid value encountered in scalar multiply\n",
      "  net_benefit = tn/(len(y_true)) - (fn/(len(y_true)) * omega)\n",
      "/var/folders/d4/chxwf4hs5kq7ttsp56s64z65mjk3qj/T/ipykernel_77408/1058678223.py:15: RuntimeWarning: invalid value encountered in scalar multiply\n",
      "  net_benefit = tn/(len(y_true)) - (fn/(len(y_true)) * omega)\n",
      "/var/folders/d4/chxwf4hs5kq7ttsp56s64z65mjk3qj/T/ipykernel_77408/1058678223.py:15: RuntimeWarning: invalid value encountered in scalar multiply\n",
      "  net_benefit = tn/(len(y_true)) - (fn/(len(y_true)) * omega)\n",
      "/var/folders/d4/chxwf4hs5kq7ttsp56s64z65mjk3qj/T/ipykernel_77408/1058678223.py:15: RuntimeWarning: invalid value encountered in scalar multiply\n",
      "  net_benefit = tn/(len(y_true)) - (fn/(len(y_true)) * omega)\n"
     ]
    },
    {
     "name": "stdout",
     "output_type": "stream",
     "text": [
      "63\n"
     ]
    },
    {
     "name": "stderr",
     "output_type": "stream",
     "text": [
      "/var/folders/d4/chxwf4hs5kq7ttsp56s64z65mjk3qj/T/ipykernel_77408/1954518231.py:52: RuntimeWarning: divide by zero encountered in divide\n",
      "  net_benefit_by_omega_week_period, optimal_threshold_by_omega = find_net_benefit_min_negatives(y_pred_proba, y_test_full, 1/omega_sequences, threshold_sequence)\n",
      "/var/folders/d4/chxwf4hs5kq7ttsp56s64z65mjk3qj/T/ipykernel_77408/1058678223.py:15: RuntimeWarning: invalid value encountered in scalar multiply\n",
      "  net_benefit = tn/(len(y_true)) - (fn/(len(y_true)) * omega)\n",
      "/var/folders/d4/chxwf4hs5kq7ttsp56s64z65mjk3qj/T/ipykernel_77408/1058678223.py:15: RuntimeWarning: invalid value encountered in scalar multiply\n",
      "  net_benefit = tn/(len(y_true)) - (fn/(len(y_true)) * omega)\n",
      "/var/folders/d4/chxwf4hs5kq7ttsp56s64z65mjk3qj/T/ipykernel_77408/1058678223.py:15: RuntimeWarning: invalid value encountered in scalar multiply\n",
      "  net_benefit = tn/(len(y_true)) - (fn/(len(y_true)) * omega)\n",
      "/var/folders/d4/chxwf4hs5kq7ttsp56s64z65mjk3qj/T/ipykernel_77408/1058678223.py:15: RuntimeWarning: invalid value encountered in scalar multiply\n",
      "  net_benefit = tn/(len(y_true)) - (fn/(len(y_true)) * omega)\n",
      "/var/folders/d4/chxwf4hs5kq7ttsp56s64z65mjk3qj/T/ipykernel_77408/1058678223.py:15: RuntimeWarning: invalid value encountered in scalar multiply\n",
      "  net_benefit = tn/(len(y_true)) - (fn/(len(y_true)) * omega)\n",
      "/var/folders/d4/chxwf4hs5kq7ttsp56s64z65mjk3qj/T/ipykernel_77408/1058678223.py:15: RuntimeWarning: invalid value encountered in scalar multiply\n",
      "  net_benefit = tn/(len(y_true)) - (fn/(len(y_true)) * omega)\n",
      "/var/folders/d4/chxwf4hs5kq7ttsp56s64z65mjk3qj/T/ipykernel_77408/1058678223.py:15: RuntimeWarning: invalid value encountered in scalar multiply\n",
      "  net_benefit = tn/(len(y_true)) - (fn/(len(y_true)) * omega)\n",
      "/var/folders/d4/chxwf4hs5kq7ttsp56s64z65mjk3qj/T/ipykernel_77408/1058678223.py:15: RuntimeWarning: invalid value encountered in scalar multiply\n",
      "  net_benefit = tn/(len(y_true)) - (fn/(len(y_true)) * omega)\n",
      "/var/folders/d4/chxwf4hs5kq7ttsp56s64z65mjk3qj/T/ipykernel_77408/1058678223.py:15: RuntimeWarning: invalid value encountered in scalar multiply\n",
      "  net_benefit = tn/(len(y_true)) - (fn/(len(y_true)) * omega)\n",
      "/var/folders/d4/chxwf4hs5kq7ttsp56s64z65mjk3qj/T/ipykernel_77408/1058678223.py:15: RuntimeWarning: invalid value encountered in scalar multiply\n",
      "  net_benefit = tn/(len(y_true)) - (fn/(len(y_true)) * omega)\n",
      "/var/folders/d4/chxwf4hs5kq7ttsp56s64z65mjk3qj/T/ipykernel_77408/1058678223.py:15: RuntimeWarning: invalid value encountered in scalar multiply\n",
      "  net_benefit = tn/(len(y_true)) - (fn/(len(y_true)) * omega)\n"
     ]
    },
    {
     "name": "stdout",
     "output_type": "stream",
     "text": [
      "64\n"
     ]
    },
    {
     "name": "stderr",
     "output_type": "stream",
     "text": [
      "/var/folders/d4/chxwf4hs5kq7ttsp56s64z65mjk3qj/T/ipykernel_77408/1954518231.py:52: RuntimeWarning: divide by zero encountered in divide\n",
      "  net_benefit_by_omega_week_period, optimal_threshold_by_omega = find_net_benefit_min_negatives(y_pred_proba, y_test_full, 1/omega_sequences, threshold_sequence)\n",
      "/var/folders/d4/chxwf4hs5kq7ttsp56s64z65mjk3qj/T/ipykernel_77408/1058678223.py:15: RuntimeWarning: invalid value encountered in scalar multiply\n",
      "  net_benefit = tn/(len(y_true)) - (fn/(len(y_true)) * omega)\n",
      "/var/folders/d4/chxwf4hs5kq7ttsp56s64z65mjk3qj/T/ipykernel_77408/1058678223.py:15: RuntimeWarning: invalid value encountered in scalar multiply\n",
      "  net_benefit = tn/(len(y_true)) - (fn/(len(y_true)) * omega)\n",
      "/var/folders/d4/chxwf4hs5kq7ttsp56s64z65mjk3qj/T/ipykernel_77408/1058678223.py:15: RuntimeWarning: invalid value encountered in scalar multiply\n",
      "  net_benefit = tn/(len(y_true)) - (fn/(len(y_true)) * omega)\n",
      "/var/folders/d4/chxwf4hs5kq7ttsp56s64z65mjk3qj/T/ipykernel_77408/1058678223.py:15: RuntimeWarning: invalid value encountered in scalar multiply\n",
      "  net_benefit = tn/(len(y_true)) - (fn/(len(y_true)) * omega)\n",
      "/var/folders/d4/chxwf4hs5kq7ttsp56s64z65mjk3qj/T/ipykernel_77408/1058678223.py:15: RuntimeWarning: invalid value encountered in scalar multiply\n",
      "  net_benefit = tn/(len(y_true)) - (fn/(len(y_true)) * omega)\n",
      "/var/folders/d4/chxwf4hs5kq7ttsp56s64z65mjk3qj/T/ipykernel_77408/1058678223.py:15: RuntimeWarning: invalid value encountered in scalar multiply\n",
      "  net_benefit = tn/(len(y_true)) - (fn/(len(y_true)) * omega)\n"
     ]
    },
    {
     "name": "stdout",
     "output_type": "stream",
     "text": [
      "65\n"
     ]
    },
    {
     "name": "stderr",
     "output_type": "stream",
     "text": [
      "/var/folders/d4/chxwf4hs5kq7ttsp56s64z65mjk3qj/T/ipykernel_77408/1954518231.py:52: RuntimeWarning: divide by zero encountered in divide\n",
      "  net_benefit_by_omega_week_period, optimal_threshold_by_omega = find_net_benefit_min_negatives(y_pred_proba, y_test_full, 1/omega_sequences, threshold_sequence)\n",
      "/var/folders/d4/chxwf4hs5kq7ttsp56s64z65mjk3qj/T/ipykernel_77408/1058678223.py:15: RuntimeWarning: invalid value encountered in scalar multiply\n",
      "  net_benefit = tn/(len(y_true)) - (fn/(len(y_true)) * omega)\n",
      "/var/folders/d4/chxwf4hs5kq7ttsp56s64z65mjk3qj/T/ipykernel_77408/1058678223.py:15: RuntimeWarning: invalid value encountered in scalar multiply\n",
      "  net_benefit = tn/(len(y_true)) - (fn/(len(y_true)) * omega)\n",
      "/var/folders/d4/chxwf4hs5kq7ttsp56s64z65mjk3qj/T/ipykernel_77408/1058678223.py:15: RuntimeWarning: invalid value encountered in scalar multiply\n",
      "  net_benefit = tn/(len(y_true)) - (fn/(len(y_true)) * omega)\n",
      "/var/folders/d4/chxwf4hs5kq7ttsp56s64z65mjk3qj/T/ipykernel_77408/1058678223.py:15: RuntimeWarning: invalid value encountered in scalar multiply\n",
      "  net_benefit = tn/(len(y_true)) - (fn/(len(y_true)) * omega)\n",
      "/var/folders/d4/chxwf4hs5kq7ttsp56s64z65mjk3qj/T/ipykernel_77408/1058678223.py:15: RuntimeWarning: invalid value encountered in scalar multiply\n",
      "  net_benefit = tn/(len(y_true)) - (fn/(len(y_true)) * omega)\n",
      "/var/folders/d4/chxwf4hs5kq7ttsp56s64z65mjk3qj/T/ipykernel_77408/1058678223.py:15: RuntimeWarning: invalid value encountered in scalar multiply\n",
      "  net_benefit = tn/(len(y_true)) - (fn/(len(y_true)) * omega)\n",
      "/var/folders/d4/chxwf4hs5kq7ttsp56s64z65mjk3qj/T/ipykernel_77408/1058678223.py:15: RuntimeWarning: invalid value encountered in scalar multiply\n",
      "  net_benefit = tn/(len(y_true)) - (fn/(len(y_true)) * omega)\n",
      "/var/folders/d4/chxwf4hs5kq7ttsp56s64z65mjk3qj/T/ipykernel_77408/1058678223.py:15: RuntimeWarning: invalid value encountered in scalar multiply\n",
      "  net_benefit = tn/(len(y_true)) - (fn/(len(y_true)) * omega)\n"
     ]
    },
    {
     "name": "stdout",
     "output_type": "stream",
     "text": [
      "66\n"
     ]
    },
    {
     "name": "stderr",
     "output_type": "stream",
     "text": [
      "/var/folders/d4/chxwf4hs5kq7ttsp56s64z65mjk3qj/T/ipykernel_77408/1954518231.py:52: RuntimeWarning: divide by zero encountered in divide\n",
      "  net_benefit_by_omega_week_period, optimal_threshold_by_omega = find_net_benefit_min_negatives(y_pred_proba, y_test_full, 1/omega_sequences, threshold_sequence)\n",
      "/var/folders/d4/chxwf4hs5kq7ttsp56s64z65mjk3qj/T/ipykernel_77408/1058678223.py:15: RuntimeWarning: invalid value encountered in scalar multiply\n",
      "  net_benefit = tn/(len(y_true)) - (fn/(len(y_true)) * omega)\n",
      "/var/folders/d4/chxwf4hs5kq7ttsp56s64z65mjk3qj/T/ipykernel_77408/1058678223.py:15: RuntimeWarning: invalid value encountered in scalar multiply\n",
      "  net_benefit = tn/(len(y_true)) - (fn/(len(y_true)) * omega)\n",
      "/var/folders/d4/chxwf4hs5kq7ttsp56s64z65mjk3qj/T/ipykernel_77408/1058678223.py:15: RuntimeWarning: invalid value encountered in scalar multiply\n",
      "  net_benefit = tn/(len(y_true)) - (fn/(len(y_true)) * omega)\n",
      "/var/folders/d4/chxwf4hs5kq7ttsp56s64z65mjk3qj/T/ipykernel_77408/1058678223.py:15: RuntimeWarning: invalid value encountered in scalar multiply\n",
      "  net_benefit = tn/(len(y_true)) - (fn/(len(y_true)) * omega)\n",
      "/var/folders/d4/chxwf4hs5kq7ttsp56s64z65mjk3qj/T/ipykernel_77408/1058678223.py:15: RuntimeWarning: invalid value encountered in scalar multiply\n",
      "  net_benefit = tn/(len(y_true)) - (fn/(len(y_true)) * omega)\n",
      "/var/folders/d4/chxwf4hs5kq7ttsp56s64z65mjk3qj/T/ipykernel_77408/1058678223.py:15: RuntimeWarning: invalid value encountered in scalar multiply\n",
      "  net_benefit = tn/(len(y_true)) - (fn/(len(y_true)) * omega)\n",
      "/var/folders/d4/chxwf4hs5kq7ttsp56s64z65mjk3qj/T/ipykernel_77408/1058678223.py:15: RuntimeWarning: invalid value encountered in scalar multiply\n",
      "  net_benefit = tn/(len(y_true)) - (fn/(len(y_true)) * omega)\n",
      "/var/folders/d4/chxwf4hs5kq7ttsp56s64z65mjk3qj/T/ipykernel_77408/1058678223.py:15: RuntimeWarning: invalid value encountered in scalar multiply\n",
      "  net_benefit = tn/(len(y_true)) - (fn/(len(y_true)) * omega)\n",
      "/var/folders/d4/chxwf4hs5kq7ttsp56s64z65mjk3qj/T/ipykernel_77408/1058678223.py:15: RuntimeWarning: invalid value encountered in scalar multiply\n",
      "  net_benefit = tn/(len(y_true)) - (fn/(len(y_true)) * omega)\n",
      "/var/folders/d4/chxwf4hs5kq7ttsp56s64z65mjk3qj/T/ipykernel_77408/1058678223.py:15: RuntimeWarning: invalid value encountered in scalar multiply\n",
      "  net_benefit = tn/(len(y_true)) - (fn/(len(y_true)) * omega)\n",
      "/var/folders/d4/chxwf4hs5kq7ttsp56s64z65mjk3qj/T/ipykernel_77408/1058678223.py:15: RuntimeWarning: invalid value encountered in scalar multiply\n",
      "  net_benefit = tn/(len(y_true)) - (fn/(len(y_true)) * omega)\n"
     ]
    },
    {
     "name": "stdout",
     "output_type": "stream",
     "text": [
      "67\n"
     ]
    },
    {
     "name": "stderr",
     "output_type": "stream",
     "text": [
      "/var/folders/d4/chxwf4hs5kq7ttsp56s64z65mjk3qj/T/ipykernel_77408/1954518231.py:52: RuntimeWarning: divide by zero encountered in divide\n",
      "  net_benefit_by_omega_week_period, optimal_threshold_by_omega = find_net_benefit_min_negatives(y_pred_proba, y_test_full, 1/omega_sequences, threshold_sequence)\n",
      "/var/folders/d4/chxwf4hs5kq7ttsp56s64z65mjk3qj/T/ipykernel_77408/1058678223.py:15: RuntimeWarning: invalid value encountered in scalar multiply\n",
      "  net_benefit = tn/(len(y_true)) - (fn/(len(y_true)) * omega)\n",
      "/var/folders/d4/chxwf4hs5kq7ttsp56s64z65mjk3qj/T/ipykernel_77408/1058678223.py:15: RuntimeWarning: invalid value encountered in scalar multiply\n",
      "  net_benefit = tn/(len(y_true)) - (fn/(len(y_true)) * omega)\n",
      "/var/folders/d4/chxwf4hs5kq7ttsp56s64z65mjk3qj/T/ipykernel_77408/1058678223.py:15: RuntimeWarning: invalid value encountered in scalar multiply\n",
      "  net_benefit = tn/(len(y_true)) - (fn/(len(y_true)) * omega)\n",
      "/var/folders/d4/chxwf4hs5kq7ttsp56s64z65mjk3qj/T/ipykernel_77408/1058678223.py:15: RuntimeWarning: invalid value encountered in scalar multiply\n",
      "  net_benefit = tn/(len(y_true)) - (fn/(len(y_true)) * omega)\n",
      "/var/folders/d4/chxwf4hs5kq7ttsp56s64z65mjk3qj/T/ipykernel_77408/1058678223.py:15: RuntimeWarning: invalid value encountered in scalar multiply\n",
      "  net_benefit = tn/(len(y_true)) - (fn/(len(y_true)) * omega)\n",
      "/var/folders/d4/chxwf4hs5kq7ttsp56s64z65mjk3qj/T/ipykernel_77408/1058678223.py:15: RuntimeWarning: invalid value encountered in scalar multiply\n",
      "  net_benefit = tn/(len(y_true)) - (fn/(len(y_true)) * omega)\n",
      "/var/folders/d4/chxwf4hs5kq7ttsp56s64z65mjk3qj/T/ipykernel_77408/1058678223.py:15: RuntimeWarning: invalid value encountered in scalar multiply\n",
      "  net_benefit = tn/(len(y_true)) - (fn/(len(y_true)) * omega)\n",
      "/var/folders/d4/chxwf4hs5kq7ttsp56s64z65mjk3qj/T/ipykernel_77408/1058678223.py:15: RuntimeWarning: invalid value encountered in scalar multiply\n",
      "  net_benefit = tn/(len(y_true)) - (fn/(len(y_true)) * omega)\n",
      "/var/folders/d4/chxwf4hs5kq7ttsp56s64z65mjk3qj/T/ipykernel_77408/1058678223.py:15: RuntimeWarning: invalid value encountered in scalar multiply\n",
      "  net_benefit = tn/(len(y_true)) - (fn/(len(y_true)) * omega)\n",
      "/var/folders/d4/chxwf4hs5kq7ttsp56s64z65mjk3qj/T/ipykernel_77408/1058678223.py:15: RuntimeWarning: invalid value encountered in scalar multiply\n",
      "  net_benefit = tn/(len(y_true)) - (fn/(len(y_true)) * omega)\n",
      "/var/folders/d4/chxwf4hs5kq7ttsp56s64z65mjk3qj/T/ipykernel_77408/1058678223.py:15: RuntimeWarning: invalid value encountered in scalar multiply\n",
      "  net_benefit = tn/(len(y_true)) - (fn/(len(y_true)) * omega)\n"
     ]
    },
    {
     "name": "stdout",
     "output_type": "stream",
     "text": [
      "68\n"
     ]
    },
    {
     "name": "stderr",
     "output_type": "stream",
     "text": [
      "/var/folders/d4/chxwf4hs5kq7ttsp56s64z65mjk3qj/T/ipykernel_77408/1954518231.py:52: RuntimeWarning: divide by zero encountered in divide\n",
      "  net_benefit_by_omega_week_period, optimal_threshold_by_omega = find_net_benefit_min_negatives(y_pred_proba, y_test_full, 1/omega_sequences, threshold_sequence)\n",
      "/var/folders/d4/chxwf4hs5kq7ttsp56s64z65mjk3qj/T/ipykernel_77408/1058678223.py:15: RuntimeWarning: invalid value encountered in scalar multiply\n",
      "  net_benefit = tn/(len(y_true)) - (fn/(len(y_true)) * omega)\n",
      "/var/folders/d4/chxwf4hs5kq7ttsp56s64z65mjk3qj/T/ipykernel_77408/1058678223.py:15: RuntimeWarning: invalid value encountered in scalar multiply\n",
      "  net_benefit = tn/(len(y_true)) - (fn/(len(y_true)) * omega)\n",
      "/var/folders/d4/chxwf4hs5kq7ttsp56s64z65mjk3qj/T/ipykernel_77408/1058678223.py:15: RuntimeWarning: invalid value encountered in scalar multiply\n",
      "  net_benefit = tn/(len(y_true)) - (fn/(len(y_true)) * omega)\n",
      "/var/folders/d4/chxwf4hs5kq7ttsp56s64z65mjk3qj/T/ipykernel_77408/1058678223.py:15: RuntimeWarning: invalid value encountered in scalar multiply\n",
      "  net_benefit = tn/(len(y_true)) - (fn/(len(y_true)) * omega)\n",
      "/var/folders/d4/chxwf4hs5kq7ttsp56s64z65mjk3qj/T/ipykernel_77408/1058678223.py:15: RuntimeWarning: invalid value encountered in scalar multiply\n",
      "  net_benefit = tn/(len(y_true)) - (fn/(len(y_true)) * omega)\n",
      "/var/folders/d4/chxwf4hs5kq7ttsp56s64z65mjk3qj/T/ipykernel_77408/1058678223.py:15: RuntimeWarning: invalid value encountered in scalar multiply\n",
      "  net_benefit = tn/(len(y_true)) - (fn/(len(y_true)) * omega)\n"
     ]
    },
    {
     "name": "stdout",
     "output_type": "stream",
     "text": [
      "69\n"
     ]
    },
    {
     "name": "stderr",
     "output_type": "stream",
     "text": [
      "/var/folders/d4/chxwf4hs5kq7ttsp56s64z65mjk3qj/T/ipykernel_77408/1954518231.py:52: RuntimeWarning: divide by zero encountered in divide\n",
      "  net_benefit_by_omega_week_period, optimal_threshold_by_omega = find_net_benefit_min_negatives(y_pred_proba, y_test_full, 1/omega_sequences, threshold_sequence)\n",
      "/var/folders/d4/chxwf4hs5kq7ttsp56s64z65mjk3qj/T/ipykernel_77408/1058678223.py:15: RuntimeWarning: invalid value encountered in scalar multiply\n",
      "  net_benefit = tn/(len(y_true)) - (fn/(len(y_true)) * omega)\n",
      "/var/folders/d4/chxwf4hs5kq7ttsp56s64z65mjk3qj/T/ipykernel_77408/1058678223.py:15: RuntimeWarning: invalid value encountered in scalar multiply\n",
      "  net_benefit = tn/(len(y_true)) - (fn/(len(y_true)) * omega)\n",
      "/var/folders/d4/chxwf4hs5kq7ttsp56s64z65mjk3qj/T/ipykernel_77408/1058678223.py:15: RuntimeWarning: invalid value encountered in scalar multiply\n",
      "  net_benefit = tn/(len(y_true)) - (fn/(len(y_true)) * omega)\n",
      "/var/folders/d4/chxwf4hs5kq7ttsp56s64z65mjk3qj/T/ipykernel_77408/1058678223.py:15: RuntimeWarning: invalid value encountered in scalar multiply\n",
      "  net_benefit = tn/(len(y_true)) - (fn/(len(y_true)) * omega)\n",
      "/var/folders/d4/chxwf4hs5kq7ttsp56s64z65mjk3qj/T/ipykernel_77408/1058678223.py:15: RuntimeWarning: invalid value encountered in scalar multiply\n",
      "  net_benefit = tn/(len(y_true)) - (fn/(len(y_true)) * omega)\n",
      "/var/folders/d4/chxwf4hs5kq7ttsp56s64z65mjk3qj/T/ipykernel_77408/1058678223.py:15: RuntimeWarning: invalid value encountered in scalar multiply\n",
      "  net_benefit = tn/(len(y_true)) - (fn/(len(y_true)) * omega)\n"
     ]
    },
    {
     "name": "stdout",
     "output_type": "stream",
     "text": [
      "70\n"
     ]
    },
    {
     "name": "stderr",
     "output_type": "stream",
     "text": [
      "/var/folders/d4/chxwf4hs5kq7ttsp56s64z65mjk3qj/T/ipykernel_77408/1954518231.py:52: RuntimeWarning: divide by zero encountered in divide\n",
      "  net_benefit_by_omega_week_period, optimal_threshold_by_omega = find_net_benefit_min_negatives(y_pred_proba, y_test_full, 1/omega_sequences, threshold_sequence)\n",
      "/var/folders/d4/chxwf4hs5kq7ttsp56s64z65mjk3qj/T/ipykernel_77408/1058678223.py:15: RuntimeWarning: invalid value encountered in scalar multiply\n",
      "  net_benefit = tn/(len(y_true)) - (fn/(len(y_true)) * omega)\n",
      "/var/folders/d4/chxwf4hs5kq7ttsp56s64z65mjk3qj/T/ipykernel_77408/1058678223.py:15: RuntimeWarning: invalid value encountered in scalar multiply\n",
      "  net_benefit = tn/(len(y_true)) - (fn/(len(y_true)) * omega)\n",
      "/var/folders/d4/chxwf4hs5kq7ttsp56s64z65mjk3qj/T/ipykernel_77408/1058678223.py:15: RuntimeWarning: invalid value encountered in scalar multiply\n",
      "  net_benefit = tn/(len(y_true)) - (fn/(len(y_true)) * omega)\n",
      "/var/folders/d4/chxwf4hs5kq7ttsp56s64z65mjk3qj/T/ipykernel_77408/1058678223.py:15: RuntimeWarning: invalid value encountered in scalar multiply\n",
      "  net_benefit = tn/(len(y_true)) - (fn/(len(y_true)) * omega)\n",
      "/var/folders/d4/chxwf4hs5kq7ttsp56s64z65mjk3qj/T/ipykernel_77408/1058678223.py:15: RuntimeWarning: invalid value encountered in scalar multiply\n",
      "  net_benefit = tn/(len(y_true)) - (fn/(len(y_true)) * omega)\n",
      "/var/folders/d4/chxwf4hs5kq7ttsp56s64z65mjk3qj/T/ipykernel_77408/1058678223.py:15: RuntimeWarning: invalid value encountered in scalar multiply\n",
      "  net_benefit = tn/(len(y_true)) - (fn/(len(y_true)) * omega)\n"
     ]
    },
    {
     "name": "stdout",
     "output_type": "stream",
     "text": [
      "71\n"
     ]
    },
    {
     "name": "stderr",
     "output_type": "stream",
     "text": [
      "/var/folders/d4/chxwf4hs5kq7ttsp56s64z65mjk3qj/T/ipykernel_77408/1954518231.py:52: RuntimeWarning: divide by zero encountered in divide\n",
      "  net_benefit_by_omega_week_period, optimal_threshold_by_omega = find_net_benefit_min_negatives(y_pred_proba, y_test_full, 1/omega_sequences, threshold_sequence)\n",
      "/var/folders/d4/chxwf4hs5kq7ttsp56s64z65mjk3qj/T/ipykernel_77408/1058678223.py:15: RuntimeWarning: invalid value encountered in scalar multiply\n",
      "  net_benefit = tn/(len(y_true)) - (fn/(len(y_true)) * omega)\n",
      "/var/folders/d4/chxwf4hs5kq7ttsp56s64z65mjk3qj/T/ipykernel_77408/1058678223.py:15: RuntimeWarning: invalid value encountered in scalar multiply\n",
      "  net_benefit = tn/(len(y_true)) - (fn/(len(y_true)) * omega)\n",
      "/var/folders/d4/chxwf4hs5kq7ttsp56s64z65mjk3qj/T/ipykernel_77408/1058678223.py:15: RuntimeWarning: invalid value encountered in scalar multiply\n",
      "  net_benefit = tn/(len(y_true)) - (fn/(len(y_true)) * omega)\n",
      "/var/folders/d4/chxwf4hs5kq7ttsp56s64z65mjk3qj/T/ipykernel_77408/1058678223.py:15: RuntimeWarning: invalid value encountered in scalar multiply\n",
      "  net_benefit = tn/(len(y_true)) - (fn/(len(y_true)) * omega)\n",
      "/var/folders/d4/chxwf4hs5kq7ttsp56s64z65mjk3qj/T/ipykernel_77408/1058678223.py:15: RuntimeWarning: invalid value encountered in scalar multiply\n",
      "  net_benefit = tn/(len(y_true)) - (fn/(len(y_true)) * omega)\n",
      "/var/folders/d4/chxwf4hs5kq7ttsp56s64z65mjk3qj/T/ipykernel_77408/1058678223.py:15: RuntimeWarning: invalid value encountered in scalar multiply\n",
      "  net_benefit = tn/(len(y_true)) - (fn/(len(y_true)) * omega)\n",
      "/var/folders/d4/chxwf4hs5kq7ttsp56s64z65mjk3qj/T/ipykernel_77408/1058678223.py:15: RuntimeWarning: invalid value encountered in scalar multiply\n",
      "  net_benefit = tn/(len(y_true)) - (fn/(len(y_true)) * omega)\n",
      "/var/folders/d4/chxwf4hs5kq7ttsp56s64z65mjk3qj/T/ipykernel_77408/1058678223.py:15: RuntimeWarning: invalid value encountered in scalar multiply\n",
      "  net_benefit = tn/(len(y_true)) - (fn/(len(y_true)) * omega)\n",
      "/var/folders/d4/chxwf4hs5kq7ttsp56s64z65mjk3qj/T/ipykernel_77408/1058678223.py:15: RuntimeWarning: invalid value encountered in scalar multiply\n",
      "  net_benefit = tn/(len(y_true)) - (fn/(len(y_true)) * omega)\n",
      "/var/folders/d4/chxwf4hs5kq7ttsp56s64z65mjk3qj/T/ipykernel_77408/1058678223.py:15: RuntimeWarning: invalid value encountered in scalar multiply\n",
      "  net_benefit = tn/(len(y_true)) - (fn/(len(y_true)) * omega)\n",
      "/var/folders/d4/chxwf4hs5kq7ttsp56s64z65mjk3qj/T/ipykernel_77408/1058678223.py:15: RuntimeWarning: invalid value encountered in scalar multiply\n",
      "  net_benefit = tn/(len(y_true)) - (fn/(len(y_true)) * omega)\n"
     ]
    },
    {
     "name": "stdout",
     "output_type": "stream",
     "text": [
      "72\n"
     ]
    },
    {
     "name": "stderr",
     "output_type": "stream",
     "text": [
      "/var/folders/d4/chxwf4hs5kq7ttsp56s64z65mjk3qj/T/ipykernel_77408/1954518231.py:52: RuntimeWarning: divide by zero encountered in divide\n",
      "  net_benefit_by_omega_week_period, optimal_threshold_by_omega = find_net_benefit_min_negatives(y_pred_proba, y_test_full, 1/omega_sequences, threshold_sequence)\n",
      "/var/folders/d4/chxwf4hs5kq7ttsp56s64z65mjk3qj/T/ipykernel_77408/1058678223.py:15: RuntimeWarning: invalid value encountered in scalar multiply\n",
      "  net_benefit = tn/(len(y_true)) - (fn/(len(y_true)) * omega)\n",
      "/var/folders/d4/chxwf4hs5kq7ttsp56s64z65mjk3qj/T/ipykernel_77408/1058678223.py:15: RuntimeWarning: invalid value encountered in scalar multiply\n",
      "  net_benefit = tn/(len(y_true)) - (fn/(len(y_true)) * omega)\n",
      "/var/folders/d4/chxwf4hs5kq7ttsp56s64z65mjk3qj/T/ipykernel_77408/1058678223.py:15: RuntimeWarning: invalid value encountered in scalar multiply\n",
      "  net_benefit = tn/(len(y_true)) - (fn/(len(y_true)) * omega)\n",
      "/var/folders/d4/chxwf4hs5kq7ttsp56s64z65mjk3qj/T/ipykernel_77408/1058678223.py:15: RuntimeWarning: invalid value encountered in scalar multiply\n",
      "  net_benefit = tn/(len(y_true)) - (fn/(len(y_true)) * omega)\n",
      "/var/folders/d4/chxwf4hs5kq7ttsp56s64z65mjk3qj/T/ipykernel_77408/1058678223.py:15: RuntimeWarning: invalid value encountered in scalar multiply\n",
      "  net_benefit = tn/(len(y_true)) - (fn/(len(y_true)) * omega)\n",
      "/var/folders/d4/chxwf4hs5kq7ttsp56s64z65mjk3qj/T/ipykernel_77408/1058678223.py:15: RuntimeWarning: invalid value encountered in scalar multiply\n",
      "  net_benefit = tn/(len(y_true)) - (fn/(len(y_true)) * omega)\n"
     ]
    },
    {
     "name": "stdout",
     "output_type": "stream",
     "text": [
      "73\n"
     ]
    },
    {
     "name": "stderr",
     "output_type": "stream",
     "text": [
      "/var/folders/d4/chxwf4hs5kq7ttsp56s64z65mjk3qj/T/ipykernel_77408/1954518231.py:52: RuntimeWarning: divide by zero encountered in divide\n",
      "  net_benefit_by_omega_week_period, optimal_threshold_by_omega = find_net_benefit_min_negatives(y_pred_proba, y_test_full, 1/omega_sequences, threshold_sequence)\n",
      "/var/folders/d4/chxwf4hs5kq7ttsp56s64z65mjk3qj/T/ipykernel_77408/1058678223.py:15: RuntimeWarning: invalid value encountered in scalar multiply\n",
      "  net_benefit = tn/(len(y_true)) - (fn/(len(y_true)) * omega)\n",
      "/var/folders/d4/chxwf4hs5kq7ttsp56s64z65mjk3qj/T/ipykernel_77408/1058678223.py:15: RuntimeWarning: invalid value encountered in scalar multiply\n",
      "  net_benefit = tn/(len(y_true)) - (fn/(len(y_true)) * omega)\n",
      "/var/folders/d4/chxwf4hs5kq7ttsp56s64z65mjk3qj/T/ipykernel_77408/1058678223.py:15: RuntimeWarning: invalid value encountered in scalar multiply\n",
      "  net_benefit = tn/(len(y_true)) - (fn/(len(y_true)) * omega)\n",
      "/var/folders/d4/chxwf4hs5kq7ttsp56s64z65mjk3qj/T/ipykernel_77408/1058678223.py:15: RuntimeWarning: invalid value encountered in scalar multiply\n",
      "  net_benefit = tn/(len(y_true)) - (fn/(len(y_true)) * omega)\n",
      "/var/folders/d4/chxwf4hs5kq7ttsp56s64z65mjk3qj/T/ipykernel_77408/1058678223.py:15: RuntimeWarning: invalid value encountered in scalar multiply\n",
      "  net_benefit = tn/(len(y_true)) - (fn/(len(y_true)) * omega)\n",
      "/var/folders/d4/chxwf4hs5kq7ttsp56s64z65mjk3qj/T/ipykernel_77408/1058678223.py:15: RuntimeWarning: invalid value encountered in scalar multiply\n",
      "  net_benefit = tn/(len(y_true)) - (fn/(len(y_true)) * omega)\n"
     ]
    },
    {
     "name": "stdout",
     "output_type": "stream",
     "text": [
      "74\n"
     ]
    },
    {
     "name": "stderr",
     "output_type": "stream",
     "text": [
      "/var/folders/d4/chxwf4hs5kq7ttsp56s64z65mjk3qj/T/ipykernel_77408/1954518231.py:52: RuntimeWarning: divide by zero encountered in divide\n",
      "  net_benefit_by_omega_week_period, optimal_threshold_by_omega = find_net_benefit_min_negatives(y_pred_proba, y_test_full, 1/omega_sequences, threshold_sequence)\n",
      "/var/folders/d4/chxwf4hs5kq7ttsp56s64z65mjk3qj/T/ipykernel_77408/1058678223.py:15: RuntimeWarning: invalid value encountered in scalar multiply\n",
      "  net_benefit = tn/(len(y_true)) - (fn/(len(y_true)) * omega)\n",
      "/var/folders/d4/chxwf4hs5kq7ttsp56s64z65mjk3qj/T/ipykernel_77408/1058678223.py:15: RuntimeWarning: invalid value encountered in scalar multiply\n",
      "  net_benefit = tn/(len(y_true)) - (fn/(len(y_true)) * omega)\n",
      "/var/folders/d4/chxwf4hs5kq7ttsp56s64z65mjk3qj/T/ipykernel_77408/1058678223.py:15: RuntimeWarning: invalid value encountered in scalar multiply\n",
      "  net_benefit = tn/(len(y_true)) - (fn/(len(y_true)) * omega)\n",
      "/var/folders/d4/chxwf4hs5kq7ttsp56s64z65mjk3qj/T/ipykernel_77408/1058678223.py:15: RuntimeWarning: invalid value encountered in scalar multiply\n",
      "  net_benefit = tn/(len(y_true)) - (fn/(len(y_true)) * omega)\n",
      "/var/folders/d4/chxwf4hs5kq7ttsp56s64z65mjk3qj/T/ipykernel_77408/1058678223.py:15: RuntimeWarning: invalid value encountered in scalar multiply\n",
      "  net_benefit = tn/(len(y_true)) - (fn/(len(y_true)) * omega)\n",
      "/var/folders/d4/chxwf4hs5kq7ttsp56s64z65mjk3qj/T/ipykernel_77408/1058678223.py:15: RuntimeWarning: invalid value encountered in scalar multiply\n",
      "  net_benefit = tn/(len(y_true)) - (fn/(len(y_true)) * omega)\n",
      "/var/folders/d4/chxwf4hs5kq7ttsp56s64z65mjk3qj/T/ipykernel_77408/1058678223.py:15: RuntimeWarning: invalid value encountered in scalar multiply\n",
      "  net_benefit = tn/(len(y_true)) - (fn/(len(y_true)) * omega)\n",
      "/var/folders/d4/chxwf4hs5kq7ttsp56s64z65mjk3qj/T/ipykernel_77408/1058678223.py:15: RuntimeWarning: invalid value encountered in scalar multiply\n",
      "  net_benefit = tn/(len(y_true)) - (fn/(len(y_true)) * omega)\n",
      "/var/folders/d4/chxwf4hs5kq7ttsp56s64z65mjk3qj/T/ipykernel_77408/1058678223.py:15: RuntimeWarning: invalid value encountered in scalar multiply\n",
      "  net_benefit = tn/(len(y_true)) - (fn/(len(y_true)) * omega)\n",
      "/var/folders/d4/chxwf4hs5kq7ttsp56s64z65mjk3qj/T/ipykernel_77408/1058678223.py:15: RuntimeWarning: invalid value encountered in scalar multiply\n",
      "  net_benefit = tn/(len(y_true)) - (fn/(len(y_true)) * omega)\n",
      "/var/folders/d4/chxwf4hs5kq7ttsp56s64z65mjk3qj/T/ipykernel_77408/1058678223.py:15: RuntimeWarning: invalid value encountered in scalar multiply\n",
      "  net_benefit = tn/(len(y_true)) - (fn/(len(y_true)) * omega)\n"
     ]
    },
    {
     "name": "stdout",
     "output_type": "stream",
     "text": [
      "75\n"
     ]
    },
    {
     "name": "stderr",
     "output_type": "stream",
     "text": [
      "/var/folders/d4/chxwf4hs5kq7ttsp56s64z65mjk3qj/T/ipykernel_77408/1954518231.py:52: RuntimeWarning: divide by zero encountered in divide\n",
      "  net_benefit_by_omega_week_period, optimal_threshold_by_omega = find_net_benefit_min_negatives(y_pred_proba, y_test_full, 1/omega_sequences, threshold_sequence)\n",
      "/var/folders/d4/chxwf4hs5kq7ttsp56s64z65mjk3qj/T/ipykernel_77408/1058678223.py:15: RuntimeWarning: invalid value encountered in scalar multiply\n",
      "  net_benefit = tn/(len(y_true)) - (fn/(len(y_true)) * omega)\n",
      "/var/folders/d4/chxwf4hs5kq7ttsp56s64z65mjk3qj/T/ipykernel_77408/1058678223.py:15: RuntimeWarning: invalid value encountered in scalar multiply\n",
      "  net_benefit = tn/(len(y_true)) - (fn/(len(y_true)) * omega)\n",
      "/var/folders/d4/chxwf4hs5kq7ttsp56s64z65mjk3qj/T/ipykernel_77408/1058678223.py:15: RuntimeWarning: invalid value encountered in scalar multiply\n",
      "  net_benefit = tn/(len(y_true)) - (fn/(len(y_true)) * omega)\n",
      "/var/folders/d4/chxwf4hs5kq7ttsp56s64z65mjk3qj/T/ipykernel_77408/1058678223.py:15: RuntimeWarning: invalid value encountered in scalar multiply\n",
      "  net_benefit = tn/(len(y_true)) - (fn/(len(y_true)) * omega)\n",
      "/var/folders/d4/chxwf4hs5kq7ttsp56s64z65mjk3qj/T/ipykernel_77408/1058678223.py:15: RuntimeWarning: invalid value encountered in scalar multiply\n",
      "  net_benefit = tn/(len(y_true)) - (fn/(len(y_true)) * omega)\n",
      "/var/folders/d4/chxwf4hs5kq7ttsp56s64z65mjk3qj/T/ipykernel_77408/1058678223.py:15: RuntimeWarning: invalid value encountered in scalar multiply\n",
      "  net_benefit = tn/(len(y_true)) - (fn/(len(y_true)) * omega)\n",
      "/var/folders/d4/chxwf4hs5kq7ttsp56s64z65mjk3qj/T/ipykernel_77408/1058678223.py:15: RuntimeWarning: invalid value encountered in scalar multiply\n",
      "  net_benefit = tn/(len(y_true)) - (fn/(len(y_true)) * omega)\n",
      "/var/folders/d4/chxwf4hs5kq7ttsp56s64z65mjk3qj/T/ipykernel_77408/1058678223.py:15: RuntimeWarning: invalid value encountered in scalar multiply\n",
      "  net_benefit = tn/(len(y_true)) - (fn/(len(y_true)) * omega)\n",
      "/var/folders/d4/chxwf4hs5kq7ttsp56s64z65mjk3qj/T/ipykernel_77408/1058678223.py:15: RuntimeWarning: invalid value encountered in scalar multiply\n",
      "  net_benefit = tn/(len(y_true)) - (fn/(len(y_true)) * omega)\n",
      "/var/folders/d4/chxwf4hs5kq7ttsp56s64z65mjk3qj/T/ipykernel_77408/1058678223.py:15: RuntimeWarning: invalid value encountered in scalar multiply\n",
      "  net_benefit = tn/(len(y_true)) - (fn/(len(y_true)) * omega)\n"
     ]
    },
    {
     "name": "stdout",
     "output_type": "stream",
     "text": [
      "76\n"
     ]
    },
    {
     "name": "stderr",
     "output_type": "stream",
     "text": [
      "/var/folders/d4/chxwf4hs5kq7ttsp56s64z65mjk3qj/T/ipykernel_77408/1954518231.py:52: RuntimeWarning: divide by zero encountered in divide\n",
      "  net_benefit_by_omega_week_period, optimal_threshold_by_omega = find_net_benefit_min_negatives(y_pred_proba, y_test_full, 1/omega_sequences, threshold_sequence)\n",
      "/var/folders/d4/chxwf4hs5kq7ttsp56s64z65mjk3qj/T/ipykernel_77408/1058678223.py:15: RuntimeWarning: invalid value encountered in scalar multiply\n",
      "  net_benefit = tn/(len(y_true)) - (fn/(len(y_true)) * omega)\n",
      "/var/folders/d4/chxwf4hs5kq7ttsp56s64z65mjk3qj/T/ipykernel_77408/1058678223.py:15: RuntimeWarning: invalid value encountered in scalar multiply\n",
      "  net_benefit = tn/(len(y_true)) - (fn/(len(y_true)) * omega)\n",
      "/var/folders/d4/chxwf4hs5kq7ttsp56s64z65mjk3qj/T/ipykernel_77408/1058678223.py:15: RuntimeWarning: invalid value encountered in scalar multiply\n",
      "  net_benefit = tn/(len(y_true)) - (fn/(len(y_true)) * omega)\n",
      "/var/folders/d4/chxwf4hs5kq7ttsp56s64z65mjk3qj/T/ipykernel_77408/1058678223.py:15: RuntimeWarning: invalid value encountered in scalar multiply\n",
      "  net_benefit = tn/(len(y_true)) - (fn/(len(y_true)) * omega)\n",
      "/var/folders/d4/chxwf4hs5kq7ttsp56s64z65mjk3qj/T/ipykernel_77408/1058678223.py:15: RuntimeWarning: invalid value encountered in scalar multiply\n",
      "  net_benefit = tn/(len(y_true)) - (fn/(len(y_true)) * omega)\n",
      "/var/folders/d4/chxwf4hs5kq7ttsp56s64z65mjk3qj/T/ipykernel_77408/1058678223.py:15: RuntimeWarning: invalid value encountered in scalar multiply\n",
      "  net_benefit = tn/(len(y_true)) - (fn/(len(y_true)) * omega)\n"
     ]
    },
    {
     "name": "stdout",
     "output_type": "stream",
     "text": [
      "77\n"
     ]
    },
    {
     "name": "stderr",
     "output_type": "stream",
     "text": [
      "/var/folders/d4/chxwf4hs5kq7ttsp56s64z65mjk3qj/T/ipykernel_77408/1954518231.py:52: RuntimeWarning: divide by zero encountered in divide\n",
      "  net_benefit_by_omega_week_period, optimal_threshold_by_omega = find_net_benefit_min_negatives(y_pred_proba, y_test_full, 1/omega_sequences, threshold_sequence)\n",
      "/var/folders/d4/chxwf4hs5kq7ttsp56s64z65mjk3qj/T/ipykernel_77408/1058678223.py:15: RuntimeWarning: invalid value encountered in scalar multiply\n",
      "  net_benefit = tn/(len(y_true)) - (fn/(len(y_true)) * omega)\n",
      "/var/folders/d4/chxwf4hs5kq7ttsp56s64z65mjk3qj/T/ipykernel_77408/1058678223.py:15: RuntimeWarning: invalid value encountered in scalar multiply\n",
      "  net_benefit = tn/(len(y_true)) - (fn/(len(y_true)) * omega)\n",
      "/var/folders/d4/chxwf4hs5kq7ttsp56s64z65mjk3qj/T/ipykernel_77408/1058678223.py:15: RuntimeWarning: invalid value encountered in scalar multiply\n",
      "  net_benefit = tn/(len(y_true)) - (fn/(len(y_true)) * omega)\n",
      "/var/folders/d4/chxwf4hs5kq7ttsp56s64z65mjk3qj/T/ipykernel_77408/1058678223.py:15: RuntimeWarning: invalid value encountered in scalar multiply\n",
      "  net_benefit = tn/(len(y_true)) - (fn/(len(y_true)) * omega)\n",
      "/var/folders/d4/chxwf4hs5kq7ttsp56s64z65mjk3qj/T/ipykernel_77408/1058678223.py:15: RuntimeWarning: invalid value encountered in scalar multiply\n",
      "  net_benefit = tn/(len(y_true)) - (fn/(len(y_true)) * omega)\n",
      "/var/folders/d4/chxwf4hs5kq7ttsp56s64z65mjk3qj/T/ipykernel_77408/1058678223.py:15: RuntimeWarning: invalid value encountered in scalar multiply\n",
      "  net_benefit = tn/(len(y_true)) - (fn/(len(y_true)) * omega)\n"
     ]
    },
    {
     "name": "stdout",
     "output_type": "stream",
     "text": [
      "78\n"
     ]
    },
    {
     "name": "stderr",
     "output_type": "stream",
     "text": [
      "/var/folders/d4/chxwf4hs5kq7ttsp56s64z65mjk3qj/T/ipykernel_77408/1954518231.py:52: RuntimeWarning: divide by zero encountered in divide\n",
      "  net_benefit_by_omega_week_period, optimal_threshold_by_omega = find_net_benefit_min_negatives(y_pred_proba, y_test_full, 1/omega_sequences, threshold_sequence)\n",
      "/var/folders/d4/chxwf4hs5kq7ttsp56s64z65mjk3qj/T/ipykernel_77408/1058678223.py:15: RuntimeWarning: invalid value encountered in scalar multiply\n",
      "  net_benefit = tn/(len(y_true)) - (fn/(len(y_true)) * omega)\n",
      "/var/folders/d4/chxwf4hs5kq7ttsp56s64z65mjk3qj/T/ipykernel_77408/1058678223.py:15: RuntimeWarning: invalid value encountered in scalar multiply\n",
      "  net_benefit = tn/(len(y_true)) - (fn/(len(y_true)) * omega)\n",
      "/var/folders/d4/chxwf4hs5kq7ttsp56s64z65mjk3qj/T/ipykernel_77408/1058678223.py:15: RuntimeWarning: invalid value encountered in scalar multiply\n",
      "  net_benefit = tn/(len(y_true)) - (fn/(len(y_true)) * omega)\n",
      "/var/folders/d4/chxwf4hs5kq7ttsp56s64z65mjk3qj/T/ipykernel_77408/1058678223.py:15: RuntimeWarning: invalid value encountered in scalar multiply\n",
      "  net_benefit = tn/(len(y_true)) - (fn/(len(y_true)) * omega)\n",
      "/var/folders/d4/chxwf4hs5kq7ttsp56s64z65mjk3qj/T/ipykernel_77408/1058678223.py:15: RuntimeWarning: invalid value encountered in scalar multiply\n",
      "  net_benefit = tn/(len(y_true)) - (fn/(len(y_true)) * omega)\n",
      "/var/folders/d4/chxwf4hs5kq7ttsp56s64z65mjk3qj/T/ipykernel_77408/1058678223.py:15: RuntimeWarning: invalid value encountered in scalar multiply\n",
      "  net_benefit = tn/(len(y_true)) - (fn/(len(y_true)) * omega)\n"
     ]
    },
    {
     "name": "stdout",
     "output_type": "stream",
     "text": [
      "79\n"
     ]
    },
    {
     "name": "stderr",
     "output_type": "stream",
     "text": [
      "/var/folders/d4/chxwf4hs5kq7ttsp56s64z65mjk3qj/T/ipykernel_77408/1954518231.py:52: RuntimeWarning: divide by zero encountered in divide\n",
      "  net_benefit_by_omega_week_period, optimal_threshold_by_omega = find_net_benefit_min_negatives(y_pred_proba, y_test_full, 1/omega_sequences, threshold_sequence)\n",
      "/var/folders/d4/chxwf4hs5kq7ttsp56s64z65mjk3qj/T/ipykernel_77408/1058678223.py:15: RuntimeWarning: invalid value encountered in scalar multiply\n",
      "  net_benefit = tn/(len(y_true)) - (fn/(len(y_true)) * omega)\n",
      "/var/folders/d4/chxwf4hs5kq7ttsp56s64z65mjk3qj/T/ipykernel_77408/1058678223.py:15: RuntimeWarning: invalid value encountered in scalar multiply\n",
      "  net_benefit = tn/(len(y_true)) - (fn/(len(y_true)) * omega)\n",
      "/var/folders/d4/chxwf4hs5kq7ttsp56s64z65mjk3qj/T/ipykernel_77408/1058678223.py:15: RuntimeWarning: invalid value encountered in scalar multiply\n",
      "  net_benefit = tn/(len(y_true)) - (fn/(len(y_true)) * omega)\n",
      "/var/folders/d4/chxwf4hs5kq7ttsp56s64z65mjk3qj/T/ipykernel_77408/1058678223.py:15: RuntimeWarning: invalid value encountered in scalar multiply\n",
      "  net_benefit = tn/(len(y_true)) - (fn/(len(y_true)) * omega)\n",
      "/var/folders/d4/chxwf4hs5kq7ttsp56s64z65mjk3qj/T/ipykernel_77408/1058678223.py:15: RuntimeWarning: invalid value encountered in scalar multiply\n",
      "  net_benefit = tn/(len(y_true)) - (fn/(len(y_true)) * omega)\n",
      "/var/folders/d4/chxwf4hs5kq7ttsp56s64z65mjk3qj/T/ipykernel_77408/1058678223.py:15: RuntimeWarning: invalid value encountered in scalar multiply\n",
      "  net_benefit = tn/(len(y_true)) - (fn/(len(y_true)) * omega)\n"
     ]
    },
    {
     "name": "stdout",
     "output_type": "stream",
     "text": [
      "80\n"
     ]
    },
    {
     "name": "stderr",
     "output_type": "stream",
     "text": [
      "/var/folders/d4/chxwf4hs5kq7ttsp56s64z65mjk3qj/T/ipykernel_77408/1954518231.py:52: RuntimeWarning: divide by zero encountered in divide\n",
      "  net_benefit_by_omega_week_period, optimal_threshold_by_omega = find_net_benefit_min_negatives(y_pred_proba, y_test_full, 1/omega_sequences, threshold_sequence)\n",
      "/var/folders/d4/chxwf4hs5kq7ttsp56s64z65mjk3qj/T/ipykernel_77408/1058678223.py:15: RuntimeWarning: invalid value encountered in scalar multiply\n",
      "  net_benefit = tn/(len(y_true)) - (fn/(len(y_true)) * omega)\n",
      "/var/folders/d4/chxwf4hs5kq7ttsp56s64z65mjk3qj/T/ipykernel_77408/1058678223.py:15: RuntimeWarning: invalid value encountered in scalar multiply\n",
      "  net_benefit = tn/(len(y_true)) - (fn/(len(y_true)) * omega)\n",
      "/var/folders/d4/chxwf4hs5kq7ttsp56s64z65mjk3qj/T/ipykernel_77408/1058678223.py:15: RuntimeWarning: invalid value encountered in scalar multiply\n",
      "  net_benefit = tn/(len(y_true)) - (fn/(len(y_true)) * omega)\n",
      "/var/folders/d4/chxwf4hs5kq7ttsp56s64z65mjk3qj/T/ipykernel_77408/1058678223.py:15: RuntimeWarning: invalid value encountered in scalar multiply\n",
      "  net_benefit = tn/(len(y_true)) - (fn/(len(y_true)) * omega)\n",
      "/var/folders/d4/chxwf4hs5kq7ttsp56s64z65mjk3qj/T/ipykernel_77408/1058678223.py:15: RuntimeWarning: invalid value encountered in scalar multiply\n",
      "  net_benefit = tn/(len(y_true)) - (fn/(len(y_true)) * omega)\n",
      "/var/folders/d4/chxwf4hs5kq7ttsp56s64z65mjk3qj/T/ipykernel_77408/1058678223.py:15: RuntimeWarning: invalid value encountered in scalar multiply\n",
      "  net_benefit = tn/(len(y_true)) - (fn/(len(y_true)) * omega)\n",
      "/var/folders/d4/chxwf4hs5kq7ttsp56s64z65mjk3qj/T/ipykernel_77408/1058678223.py:15: RuntimeWarning: invalid value encountered in scalar multiply\n",
      "  net_benefit = tn/(len(y_true)) - (fn/(len(y_true)) * omega)\n",
      "/var/folders/d4/chxwf4hs5kq7ttsp56s64z65mjk3qj/T/ipykernel_77408/1058678223.py:15: RuntimeWarning: invalid value encountered in scalar multiply\n",
      "  net_benefit = tn/(len(y_true)) - (fn/(len(y_true)) * omega)\n",
      "/var/folders/d4/chxwf4hs5kq7ttsp56s64z65mjk3qj/T/ipykernel_77408/1058678223.py:15: RuntimeWarning: invalid value encountered in scalar multiply\n",
      "  net_benefit = tn/(len(y_true)) - (fn/(len(y_true)) * omega)\n",
      "/var/folders/d4/chxwf4hs5kq7ttsp56s64z65mjk3qj/T/ipykernel_77408/1058678223.py:15: RuntimeWarning: invalid value encountered in scalar multiply\n",
      "  net_benefit = tn/(len(y_true)) - (fn/(len(y_true)) * omega)\n"
     ]
    },
    {
     "name": "stdout",
     "output_type": "stream",
     "text": [
      "81\n"
     ]
    },
    {
     "name": "stderr",
     "output_type": "stream",
     "text": [
      "/var/folders/d4/chxwf4hs5kq7ttsp56s64z65mjk3qj/T/ipykernel_77408/1954518231.py:52: RuntimeWarning: divide by zero encountered in divide\n",
      "  net_benefit_by_omega_week_period, optimal_threshold_by_omega = find_net_benefit_min_negatives(y_pred_proba, y_test_full, 1/omega_sequences, threshold_sequence)\n",
      "/var/folders/d4/chxwf4hs5kq7ttsp56s64z65mjk3qj/T/ipykernel_77408/1058678223.py:15: RuntimeWarning: invalid value encountered in scalar multiply\n",
      "  net_benefit = tn/(len(y_true)) - (fn/(len(y_true)) * omega)\n",
      "/var/folders/d4/chxwf4hs5kq7ttsp56s64z65mjk3qj/T/ipykernel_77408/1058678223.py:15: RuntimeWarning: invalid value encountered in scalar multiply\n",
      "  net_benefit = tn/(len(y_true)) - (fn/(len(y_true)) * omega)\n",
      "/var/folders/d4/chxwf4hs5kq7ttsp56s64z65mjk3qj/T/ipykernel_77408/1058678223.py:15: RuntimeWarning: invalid value encountered in scalar multiply\n",
      "  net_benefit = tn/(len(y_true)) - (fn/(len(y_true)) * omega)\n",
      "/var/folders/d4/chxwf4hs5kq7ttsp56s64z65mjk3qj/T/ipykernel_77408/1058678223.py:15: RuntimeWarning: invalid value encountered in scalar multiply\n",
      "  net_benefit = tn/(len(y_true)) - (fn/(len(y_true)) * omega)\n",
      "/var/folders/d4/chxwf4hs5kq7ttsp56s64z65mjk3qj/T/ipykernel_77408/1058678223.py:15: RuntimeWarning: invalid value encountered in scalar multiply\n",
      "  net_benefit = tn/(len(y_true)) - (fn/(len(y_true)) * omega)\n",
      "/var/folders/d4/chxwf4hs5kq7ttsp56s64z65mjk3qj/T/ipykernel_77408/1058678223.py:15: RuntimeWarning: invalid value encountered in scalar multiply\n",
      "  net_benefit = tn/(len(y_true)) - (fn/(len(y_true)) * omega)\n",
      "/var/folders/d4/chxwf4hs5kq7ttsp56s64z65mjk3qj/T/ipykernel_77408/1058678223.py:15: RuntimeWarning: invalid value encountered in scalar multiply\n",
      "  net_benefit = tn/(len(y_true)) - (fn/(len(y_true)) * omega)\n",
      "/var/folders/d4/chxwf4hs5kq7ttsp56s64z65mjk3qj/T/ipykernel_77408/1058678223.py:15: RuntimeWarning: invalid value encountered in scalar multiply\n",
      "  net_benefit = tn/(len(y_true)) - (fn/(len(y_true)) * omega)\n",
      "/var/folders/d4/chxwf4hs5kq7ttsp56s64z65mjk3qj/T/ipykernel_77408/1058678223.py:15: RuntimeWarning: invalid value encountered in scalar multiply\n",
      "  net_benefit = tn/(len(y_true)) - (fn/(len(y_true)) * omega)\n",
      "/var/folders/d4/chxwf4hs5kq7ttsp56s64z65mjk3qj/T/ipykernel_77408/1058678223.py:15: RuntimeWarning: invalid value encountered in scalar multiply\n",
      "  net_benefit = tn/(len(y_true)) - (fn/(len(y_true)) * omega)\n",
      "/var/folders/d4/chxwf4hs5kq7ttsp56s64z65mjk3qj/T/ipykernel_77408/1058678223.py:15: RuntimeWarning: invalid value encountered in scalar multiply\n",
      "  net_benefit = tn/(len(y_true)) - (fn/(len(y_true)) * omega)\n"
     ]
    },
    {
     "name": "stdout",
     "output_type": "stream",
     "text": [
      "82\n"
     ]
    },
    {
     "name": "stderr",
     "output_type": "stream",
     "text": [
      "/var/folders/d4/chxwf4hs5kq7ttsp56s64z65mjk3qj/T/ipykernel_77408/1954518231.py:52: RuntimeWarning: divide by zero encountered in divide\n",
      "  net_benefit_by_omega_week_period, optimal_threshold_by_omega = find_net_benefit_min_negatives(y_pred_proba, y_test_full, 1/omega_sequences, threshold_sequence)\n",
      "/var/folders/d4/chxwf4hs5kq7ttsp56s64z65mjk3qj/T/ipykernel_77408/1058678223.py:15: RuntimeWarning: invalid value encountered in scalar multiply\n",
      "  net_benefit = tn/(len(y_true)) - (fn/(len(y_true)) * omega)\n",
      "/var/folders/d4/chxwf4hs5kq7ttsp56s64z65mjk3qj/T/ipykernel_77408/1058678223.py:15: RuntimeWarning: invalid value encountered in scalar multiply\n",
      "  net_benefit = tn/(len(y_true)) - (fn/(len(y_true)) * omega)\n",
      "/var/folders/d4/chxwf4hs5kq7ttsp56s64z65mjk3qj/T/ipykernel_77408/1058678223.py:15: RuntimeWarning: invalid value encountered in scalar multiply\n",
      "  net_benefit = tn/(len(y_true)) - (fn/(len(y_true)) * omega)\n",
      "/var/folders/d4/chxwf4hs5kq7ttsp56s64z65mjk3qj/T/ipykernel_77408/1058678223.py:15: RuntimeWarning: invalid value encountered in scalar multiply\n",
      "  net_benefit = tn/(len(y_true)) - (fn/(len(y_true)) * omega)\n",
      "/var/folders/d4/chxwf4hs5kq7ttsp56s64z65mjk3qj/T/ipykernel_77408/1058678223.py:15: RuntimeWarning: invalid value encountered in scalar multiply\n",
      "  net_benefit = tn/(len(y_true)) - (fn/(len(y_true)) * omega)\n",
      "/var/folders/d4/chxwf4hs5kq7ttsp56s64z65mjk3qj/T/ipykernel_77408/1058678223.py:15: RuntimeWarning: invalid value encountered in scalar multiply\n",
      "  net_benefit = tn/(len(y_true)) - (fn/(len(y_true)) * omega)\n",
      "/var/folders/d4/chxwf4hs5kq7ttsp56s64z65mjk3qj/T/ipykernel_77408/1058678223.py:15: RuntimeWarning: invalid value encountered in scalar multiply\n",
      "  net_benefit = tn/(len(y_true)) - (fn/(len(y_true)) * omega)\n",
      "/var/folders/d4/chxwf4hs5kq7ttsp56s64z65mjk3qj/T/ipykernel_77408/1058678223.py:15: RuntimeWarning: invalid value encountered in scalar multiply\n",
      "  net_benefit = tn/(len(y_true)) - (fn/(len(y_true)) * omega)\n",
      "/var/folders/d4/chxwf4hs5kq7ttsp56s64z65mjk3qj/T/ipykernel_77408/1058678223.py:15: RuntimeWarning: invalid value encountered in scalar multiply\n",
      "  net_benefit = tn/(len(y_true)) - (fn/(len(y_true)) * omega)\n",
      "/var/folders/d4/chxwf4hs5kq7ttsp56s64z65mjk3qj/T/ipykernel_77408/1058678223.py:15: RuntimeWarning: invalid value encountered in scalar multiply\n",
      "  net_benefit = tn/(len(y_true)) - (fn/(len(y_true)) * omega)\n",
      "/var/folders/d4/chxwf4hs5kq7ttsp56s64z65mjk3qj/T/ipykernel_77408/1058678223.py:15: RuntimeWarning: invalid value encountered in scalar multiply\n",
      "  net_benefit = tn/(len(y_true)) - (fn/(len(y_true)) * omega)\n"
     ]
    },
    {
     "name": "stdout",
     "output_type": "stream",
     "text": [
      "83\n"
     ]
    },
    {
     "name": "stderr",
     "output_type": "stream",
     "text": [
      "/var/folders/d4/chxwf4hs5kq7ttsp56s64z65mjk3qj/T/ipykernel_77408/1954518231.py:52: RuntimeWarning: divide by zero encountered in divide\n",
      "  net_benefit_by_omega_week_period, optimal_threshold_by_omega = find_net_benefit_min_negatives(y_pred_proba, y_test_full, 1/omega_sequences, threshold_sequence)\n",
      "/var/folders/d4/chxwf4hs5kq7ttsp56s64z65mjk3qj/T/ipykernel_77408/1058678223.py:15: RuntimeWarning: invalid value encountered in scalar multiply\n",
      "  net_benefit = tn/(len(y_true)) - (fn/(len(y_true)) * omega)\n",
      "/var/folders/d4/chxwf4hs5kq7ttsp56s64z65mjk3qj/T/ipykernel_77408/1058678223.py:15: RuntimeWarning: invalid value encountered in scalar multiply\n",
      "  net_benefit = tn/(len(y_true)) - (fn/(len(y_true)) * omega)\n",
      "/var/folders/d4/chxwf4hs5kq7ttsp56s64z65mjk3qj/T/ipykernel_77408/1058678223.py:15: RuntimeWarning: invalid value encountered in scalar multiply\n",
      "  net_benefit = tn/(len(y_true)) - (fn/(len(y_true)) * omega)\n",
      "/var/folders/d4/chxwf4hs5kq7ttsp56s64z65mjk3qj/T/ipykernel_77408/1058678223.py:15: RuntimeWarning: invalid value encountered in scalar multiply\n",
      "  net_benefit = tn/(len(y_true)) - (fn/(len(y_true)) * omega)\n",
      "/var/folders/d4/chxwf4hs5kq7ttsp56s64z65mjk3qj/T/ipykernel_77408/1058678223.py:15: RuntimeWarning: invalid value encountered in scalar multiply\n",
      "  net_benefit = tn/(len(y_true)) - (fn/(len(y_true)) * omega)\n",
      "/var/folders/d4/chxwf4hs5kq7ttsp56s64z65mjk3qj/T/ipykernel_77408/1058678223.py:15: RuntimeWarning: invalid value encountered in scalar multiply\n",
      "  net_benefit = tn/(len(y_true)) - (fn/(len(y_true)) * omega)\n"
     ]
    },
    {
     "name": "stdout",
     "output_type": "stream",
     "text": [
      "84\n"
     ]
    },
    {
     "name": "stderr",
     "output_type": "stream",
     "text": [
      "/var/folders/d4/chxwf4hs5kq7ttsp56s64z65mjk3qj/T/ipykernel_77408/1954518231.py:52: RuntimeWarning: divide by zero encountered in divide\n",
      "  net_benefit_by_omega_week_period, optimal_threshold_by_omega = find_net_benefit_min_negatives(y_pred_proba, y_test_full, 1/omega_sequences, threshold_sequence)\n",
      "/var/folders/d4/chxwf4hs5kq7ttsp56s64z65mjk3qj/T/ipykernel_77408/1058678223.py:15: RuntimeWarning: invalid value encountered in scalar multiply\n",
      "  net_benefit = tn/(len(y_true)) - (fn/(len(y_true)) * omega)\n",
      "/var/folders/d4/chxwf4hs5kq7ttsp56s64z65mjk3qj/T/ipykernel_77408/1058678223.py:15: RuntimeWarning: invalid value encountered in scalar multiply\n",
      "  net_benefit = tn/(len(y_true)) - (fn/(len(y_true)) * omega)\n",
      "/var/folders/d4/chxwf4hs5kq7ttsp56s64z65mjk3qj/T/ipykernel_77408/1058678223.py:15: RuntimeWarning: invalid value encountered in scalar multiply\n",
      "  net_benefit = tn/(len(y_true)) - (fn/(len(y_true)) * omega)\n",
      "/var/folders/d4/chxwf4hs5kq7ttsp56s64z65mjk3qj/T/ipykernel_77408/1058678223.py:15: RuntimeWarning: invalid value encountered in scalar multiply\n",
      "  net_benefit = tn/(len(y_true)) - (fn/(len(y_true)) * omega)\n",
      "/var/folders/d4/chxwf4hs5kq7ttsp56s64z65mjk3qj/T/ipykernel_77408/1058678223.py:15: RuntimeWarning: invalid value encountered in scalar multiply\n",
      "  net_benefit = tn/(len(y_true)) - (fn/(len(y_true)) * omega)\n",
      "/var/folders/d4/chxwf4hs5kq7ttsp56s64z65mjk3qj/T/ipykernel_77408/1058678223.py:15: RuntimeWarning: invalid value encountered in scalar multiply\n",
      "  net_benefit = tn/(len(y_true)) - (fn/(len(y_true)) * omega)\n"
     ]
    },
    {
     "name": "stdout",
     "output_type": "stream",
     "text": [
      "85\n"
     ]
    },
    {
     "name": "stderr",
     "output_type": "stream",
     "text": [
      "/var/folders/d4/chxwf4hs5kq7ttsp56s64z65mjk3qj/T/ipykernel_77408/1954518231.py:52: RuntimeWarning: divide by zero encountered in divide\n",
      "  net_benefit_by_omega_week_period, optimal_threshold_by_omega = find_net_benefit_min_negatives(y_pred_proba, y_test_full, 1/omega_sequences, threshold_sequence)\n",
      "/var/folders/d4/chxwf4hs5kq7ttsp56s64z65mjk3qj/T/ipykernel_77408/1058678223.py:15: RuntimeWarning: invalid value encountered in scalar multiply\n",
      "  net_benefit = tn/(len(y_true)) - (fn/(len(y_true)) * omega)\n",
      "/var/folders/d4/chxwf4hs5kq7ttsp56s64z65mjk3qj/T/ipykernel_77408/1058678223.py:15: RuntimeWarning: invalid value encountered in scalar multiply\n",
      "  net_benefit = tn/(len(y_true)) - (fn/(len(y_true)) * omega)\n",
      "/var/folders/d4/chxwf4hs5kq7ttsp56s64z65mjk3qj/T/ipykernel_77408/1058678223.py:15: RuntimeWarning: invalid value encountered in scalar multiply\n",
      "  net_benefit = tn/(len(y_true)) - (fn/(len(y_true)) * omega)\n",
      "/var/folders/d4/chxwf4hs5kq7ttsp56s64z65mjk3qj/T/ipykernel_77408/1058678223.py:15: RuntimeWarning: invalid value encountered in scalar multiply\n",
      "  net_benefit = tn/(len(y_true)) - (fn/(len(y_true)) * omega)\n",
      "/var/folders/d4/chxwf4hs5kq7ttsp56s64z65mjk3qj/T/ipykernel_77408/1058678223.py:15: RuntimeWarning: invalid value encountered in scalar multiply\n",
      "  net_benefit = tn/(len(y_true)) - (fn/(len(y_true)) * omega)\n",
      "/var/folders/d4/chxwf4hs5kq7ttsp56s64z65mjk3qj/T/ipykernel_77408/1058678223.py:15: RuntimeWarning: invalid value encountered in scalar multiply\n",
      "  net_benefit = tn/(len(y_true)) - (fn/(len(y_true)) * omega)\n"
     ]
    },
    {
     "name": "stdout",
     "output_type": "stream",
     "text": [
      "86\n"
     ]
    },
    {
     "name": "stderr",
     "output_type": "stream",
     "text": [
      "/var/folders/d4/chxwf4hs5kq7ttsp56s64z65mjk3qj/T/ipykernel_77408/1954518231.py:52: RuntimeWarning: divide by zero encountered in divide\n",
      "  net_benefit_by_omega_week_period, optimal_threshold_by_omega = find_net_benefit_min_negatives(y_pred_proba, y_test_full, 1/omega_sequences, threshold_sequence)\n",
      "/var/folders/d4/chxwf4hs5kq7ttsp56s64z65mjk3qj/T/ipykernel_77408/1058678223.py:15: RuntimeWarning: invalid value encountered in scalar multiply\n",
      "  net_benefit = tn/(len(y_true)) - (fn/(len(y_true)) * omega)\n",
      "/var/folders/d4/chxwf4hs5kq7ttsp56s64z65mjk3qj/T/ipykernel_77408/1058678223.py:15: RuntimeWarning: invalid value encountered in scalar multiply\n",
      "  net_benefit = tn/(len(y_true)) - (fn/(len(y_true)) * omega)\n",
      "/var/folders/d4/chxwf4hs5kq7ttsp56s64z65mjk3qj/T/ipykernel_77408/1058678223.py:15: RuntimeWarning: invalid value encountered in scalar multiply\n",
      "  net_benefit = tn/(len(y_true)) - (fn/(len(y_true)) * omega)\n",
      "/var/folders/d4/chxwf4hs5kq7ttsp56s64z65mjk3qj/T/ipykernel_77408/1058678223.py:15: RuntimeWarning: invalid value encountered in scalar multiply\n",
      "  net_benefit = tn/(len(y_true)) - (fn/(len(y_true)) * omega)\n",
      "/var/folders/d4/chxwf4hs5kq7ttsp56s64z65mjk3qj/T/ipykernel_77408/1058678223.py:15: RuntimeWarning: invalid value encountered in scalar multiply\n",
      "  net_benefit = tn/(len(y_true)) - (fn/(len(y_true)) * omega)\n",
      "/var/folders/d4/chxwf4hs5kq7ttsp56s64z65mjk3qj/T/ipykernel_77408/1058678223.py:15: RuntimeWarning: invalid value encountered in scalar multiply\n",
      "  net_benefit = tn/(len(y_true)) - (fn/(len(y_true)) * omega)\n"
     ]
    },
    {
     "name": "stdout",
     "output_type": "stream",
     "text": [
      "87\n"
     ]
    },
    {
     "name": "stderr",
     "output_type": "stream",
     "text": [
      "/var/folders/d4/chxwf4hs5kq7ttsp56s64z65mjk3qj/T/ipykernel_77408/1954518231.py:52: RuntimeWarning: divide by zero encountered in divide\n",
      "  net_benefit_by_omega_week_period, optimal_threshold_by_omega = find_net_benefit_min_negatives(y_pred_proba, y_test_full, 1/omega_sequences, threshold_sequence)\n",
      "/var/folders/d4/chxwf4hs5kq7ttsp56s64z65mjk3qj/T/ipykernel_77408/1058678223.py:15: RuntimeWarning: invalid value encountered in scalar multiply\n",
      "  net_benefit = tn/(len(y_true)) - (fn/(len(y_true)) * omega)\n",
      "/var/folders/d4/chxwf4hs5kq7ttsp56s64z65mjk3qj/T/ipykernel_77408/1058678223.py:15: RuntimeWarning: invalid value encountered in scalar multiply\n",
      "  net_benefit = tn/(len(y_true)) - (fn/(len(y_true)) * omega)\n",
      "/var/folders/d4/chxwf4hs5kq7ttsp56s64z65mjk3qj/T/ipykernel_77408/1058678223.py:15: RuntimeWarning: invalid value encountered in scalar multiply\n",
      "  net_benefit = tn/(len(y_true)) - (fn/(len(y_true)) * omega)\n",
      "/var/folders/d4/chxwf4hs5kq7ttsp56s64z65mjk3qj/T/ipykernel_77408/1058678223.py:15: RuntimeWarning: invalid value encountered in scalar multiply\n",
      "  net_benefit = tn/(len(y_true)) - (fn/(len(y_true)) * omega)\n",
      "/var/folders/d4/chxwf4hs5kq7ttsp56s64z65mjk3qj/T/ipykernel_77408/1058678223.py:15: RuntimeWarning: invalid value encountered in scalar multiply\n",
      "  net_benefit = tn/(len(y_true)) - (fn/(len(y_true)) * omega)\n",
      "/var/folders/d4/chxwf4hs5kq7ttsp56s64z65mjk3qj/T/ipykernel_77408/1058678223.py:15: RuntimeWarning: invalid value encountered in scalar multiply\n",
      "  net_benefit = tn/(len(y_true)) - (fn/(len(y_true)) * omega)\n"
     ]
    },
    {
     "name": "stdout",
     "output_type": "stream",
     "text": [
      "88\n"
     ]
    },
    {
     "name": "stderr",
     "output_type": "stream",
     "text": [
      "/var/folders/d4/chxwf4hs5kq7ttsp56s64z65mjk3qj/T/ipykernel_77408/1954518231.py:52: RuntimeWarning: divide by zero encountered in divide\n",
      "  net_benefit_by_omega_week_period, optimal_threshold_by_omega = find_net_benefit_min_negatives(y_pred_proba, y_test_full, 1/omega_sequences, threshold_sequence)\n",
      "/var/folders/d4/chxwf4hs5kq7ttsp56s64z65mjk3qj/T/ipykernel_77408/1058678223.py:15: RuntimeWarning: invalid value encountered in scalar multiply\n",
      "  net_benefit = tn/(len(y_true)) - (fn/(len(y_true)) * omega)\n",
      "/var/folders/d4/chxwf4hs5kq7ttsp56s64z65mjk3qj/T/ipykernel_77408/1058678223.py:15: RuntimeWarning: invalid value encountered in scalar multiply\n",
      "  net_benefit = tn/(len(y_true)) - (fn/(len(y_true)) * omega)\n",
      "/var/folders/d4/chxwf4hs5kq7ttsp56s64z65mjk3qj/T/ipykernel_77408/1058678223.py:15: RuntimeWarning: invalid value encountered in scalar multiply\n",
      "  net_benefit = tn/(len(y_true)) - (fn/(len(y_true)) * omega)\n",
      "/var/folders/d4/chxwf4hs5kq7ttsp56s64z65mjk3qj/T/ipykernel_77408/1058678223.py:15: RuntimeWarning: invalid value encountered in scalar multiply\n",
      "  net_benefit = tn/(len(y_true)) - (fn/(len(y_true)) * omega)\n",
      "/var/folders/d4/chxwf4hs5kq7ttsp56s64z65mjk3qj/T/ipykernel_77408/1058678223.py:15: RuntimeWarning: invalid value encountered in scalar multiply\n",
      "  net_benefit = tn/(len(y_true)) - (fn/(len(y_true)) * omega)\n",
      "/var/folders/d4/chxwf4hs5kq7ttsp56s64z65mjk3qj/T/ipykernel_77408/1058678223.py:15: RuntimeWarning: invalid value encountered in scalar multiply\n",
      "  net_benefit = tn/(len(y_true)) - (fn/(len(y_true)) * omega)\n"
     ]
    },
    {
     "name": "stdout",
     "output_type": "stream",
     "text": [
      "89\n"
     ]
    },
    {
     "name": "stderr",
     "output_type": "stream",
     "text": [
      "/var/folders/d4/chxwf4hs5kq7ttsp56s64z65mjk3qj/T/ipykernel_77408/1954518231.py:52: RuntimeWarning: divide by zero encountered in divide\n",
      "  net_benefit_by_omega_week_period, optimal_threshold_by_omega = find_net_benefit_min_negatives(y_pred_proba, y_test_full, 1/omega_sequences, threshold_sequence)\n",
      "/var/folders/d4/chxwf4hs5kq7ttsp56s64z65mjk3qj/T/ipykernel_77408/1058678223.py:15: RuntimeWarning: invalid value encountered in scalar multiply\n",
      "  net_benefit = tn/(len(y_true)) - (fn/(len(y_true)) * omega)\n",
      "/var/folders/d4/chxwf4hs5kq7ttsp56s64z65mjk3qj/T/ipykernel_77408/1058678223.py:15: RuntimeWarning: invalid value encountered in scalar multiply\n",
      "  net_benefit = tn/(len(y_true)) - (fn/(len(y_true)) * omega)\n",
      "/var/folders/d4/chxwf4hs5kq7ttsp56s64z65mjk3qj/T/ipykernel_77408/1058678223.py:15: RuntimeWarning: invalid value encountered in scalar multiply\n",
      "  net_benefit = tn/(len(y_true)) - (fn/(len(y_true)) * omega)\n",
      "/var/folders/d4/chxwf4hs5kq7ttsp56s64z65mjk3qj/T/ipykernel_77408/1058678223.py:15: RuntimeWarning: invalid value encountered in scalar multiply\n",
      "  net_benefit = tn/(len(y_true)) - (fn/(len(y_true)) * omega)\n",
      "/var/folders/d4/chxwf4hs5kq7ttsp56s64z65mjk3qj/T/ipykernel_77408/1058678223.py:15: RuntimeWarning: invalid value encountered in scalar multiply\n",
      "  net_benefit = tn/(len(y_true)) - (fn/(len(y_true)) * omega)\n",
      "/var/folders/d4/chxwf4hs5kq7ttsp56s64z65mjk3qj/T/ipykernel_77408/1058678223.py:15: RuntimeWarning: invalid value encountered in scalar multiply\n",
      "  net_benefit = tn/(len(y_true)) - (fn/(len(y_true)) * omega)\n"
     ]
    },
    {
     "name": "stdout",
     "output_type": "stream",
     "text": [
      "90\n"
     ]
    },
    {
     "name": "stderr",
     "output_type": "stream",
     "text": [
      "/var/folders/d4/chxwf4hs5kq7ttsp56s64z65mjk3qj/T/ipykernel_77408/1954518231.py:52: RuntimeWarning: divide by zero encountered in divide\n",
      "  net_benefit_by_omega_week_period, optimal_threshold_by_omega = find_net_benefit_min_negatives(y_pred_proba, y_test_full, 1/omega_sequences, threshold_sequence)\n",
      "/var/folders/d4/chxwf4hs5kq7ttsp56s64z65mjk3qj/T/ipykernel_77408/1058678223.py:15: RuntimeWarning: invalid value encountered in scalar multiply\n",
      "  net_benefit = tn/(len(y_true)) - (fn/(len(y_true)) * omega)\n",
      "/var/folders/d4/chxwf4hs5kq7ttsp56s64z65mjk3qj/T/ipykernel_77408/1058678223.py:15: RuntimeWarning: invalid value encountered in scalar multiply\n",
      "  net_benefit = tn/(len(y_true)) - (fn/(len(y_true)) * omega)\n",
      "/var/folders/d4/chxwf4hs5kq7ttsp56s64z65mjk3qj/T/ipykernel_77408/1058678223.py:15: RuntimeWarning: invalid value encountered in scalar multiply\n",
      "  net_benefit = tn/(len(y_true)) - (fn/(len(y_true)) * omega)\n",
      "/var/folders/d4/chxwf4hs5kq7ttsp56s64z65mjk3qj/T/ipykernel_77408/1058678223.py:15: RuntimeWarning: invalid value encountered in scalar multiply\n",
      "  net_benefit = tn/(len(y_true)) - (fn/(len(y_true)) * omega)\n",
      "/var/folders/d4/chxwf4hs5kq7ttsp56s64z65mjk3qj/T/ipykernel_77408/1058678223.py:15: RuntimeWarning: invalid value encountered in scalar multiply\n",
      "  net_benefit = tn/(len(y_true)) - (fn/(len(y_true)) * omega)\n",
      "/var/folders/d4/chxwf4hs5kq7ttsp56s64z65mjk3qj/T/ipykernel_77408/1058678223.py:15: RuntimeWarning: invalid value encountered in scalar multiply\n",
      "  net_benefit = tn/(len(y_true)) - (fn/(len(y_true)) * omega)\n",
      "/var/folders/d4/chxwf4hs5kq7ttsp56s64z65mjk3qj/T/ipykernel_77408/1058678223.py:15: RuntimeWarning: invalid value encountered in scalar multiply\n",
      "  net_benefit = tn/(len(y_true)) - (fn/(len(y_true)) * omega)\n",
      "/var/folders/d4/chxwf4hs5kq7ttsp56s64z65mjk3qj/T/ipykernel_77408/1058678223.py:15: RuntimeWarning: invalid value encountered in scalar multiply\n",
      "  net_benefit = tn/(len(y_true)) - (fn/(len(y_true)) * omega)\n",
      "/var/folders/d4/chxwf4hs5kq7ttsp56s64z65mjk3qj/T/ipykernel_77408/1058678223.py:15: RuntimeWarning: invalid value encountered in scalar multiply\n",
      "  net_benefit = tn/(len(y_true)) - (fn/(len(y_true)) * omega)\n",
      "/var/folders/d4/chxwf4hs5kq7ttsp56s64z65mjk3qj/T/ipykernel_77408/1058678223.py:15: RuntimeWarning: invalid value encountered in scalar multiply\n",
      "  net_benefit = tn/(len(y_true)) - (fn/(len(y_true)) * omega)\n"
     ]
    },
    {
     "name": "stdout",
     "output_type": "stream",
     "text": [
      "91\n"
     ]
    },
    {
     "name": "stderr",
     "output_type": "stream",
     "text": [
      "/var/folders/d4/chxwf4hs5kq7ttsp56s64z65mjk3qj/T/ipykernel_77408/1954518231.py:52: RuntimeWarning: divide by zero encountered in divide\n",
      "  net_benefit_by_omega_week_period, optimal_threshold_by_omega = find_net_benefit_min_negatives(y_pred_proba, y_test_full, 1/omega_sequences, threshold_sequence)\n",
      "/var/folders/d4/chxwf4hs5kq7ttsp56s64z65mjk3qj/T/ipykernel_77408/1058678223.py:15: RuntimeWarning: invalid value encountered in scalar multiply\n",
      "  net_benefit = tn/(len(y_true)) - (fn/(len(y_true)) * omega)\n",
      "/var/folders/d4/chxwf4hs5kq7ttsp56s64z65mjk3qj/T/ipykernel_77408/1058678223.py:15: RuntimeWarning: invalid value encountered in scalar multiply\n",
      "  net_benefit = tn/(len(y_true)) - (fn/(len(y_true)) * omega)\n",
      "/var/folders/d4/chxwf4hs5kq7ttsp56s64z65mjk3qj/T/ipykernel_77408/1058678223.py:15: RuntimeWarning: invalid value encountered in scalar multiply\n",
      "  net_benefit = tn/(len(y_true)) - (fn/(len(y_true)) * omega)\n",
      "/var/folders/d4/chxwf4hs5kq7ttsp56s64z65mjk3qj/T/ipykernel_77408/1058678223.py:15: RuntimeWarning: invalid value encountered in scalar multiply\n",
      "  net_benefit = tn/(len(y_true)) - (fn/(len(y_true)) * omega)\n",
      "/var/folders/d4/chxwf4hs5kq7ttsp56s64z65mjk3qj/T/ipykernel_77408/1058678223.py:15: RuntimeWarning: invalid value encountered in scalar multiply\n",
      "  net_benefit = tn/(len(y_true)) - (fn/(len(y_true)) * omega)\n",
      "/var/folders/d4/chxwf4hs5kq7ttsp56s64z65mjk3qj/T/ipykernel_77408/1058678223.py:15: RuntimeWarning: invalid value encountered in scalar multiply\n",
      "  net_benefit = tn/(len(y_true)) - (fn/(len(y_true)) * omega)\n",
      "/var/folders/d4/chxwf4hs5kq7ttsp56s64z65mjk3qj/T/ipykernel_77408/1058678223.py:15: RuntimeWarning: invalid value encountered in scalar multiply\n",
      "  net_benefit = tn/(len(y_true)) - (fn/(len(y_true)) * omega)\n",
      "/var/folders/d4/chxwf4hs5kq7ttsp56s64z65mjk3qj/T/ipykernel_77408/1058678223.py:15: RuntimeWarning: invalid value encountered in scalar multiply\n",
      "  net_benefit = tn/(len(y_true)) - (fn/(len(y_true)) * omega)\n",
      "/var/folders/d4/chxwf4hs5kq7ttsp56s64z65mjk3qj/T/ipykernel_77408/1058678223.py:15: RuntimeWarning: invalid value encountered in scalar multiply\n",
      "  net_benefit = tn/(len(y_true)) - (fn/(len(y_true)) * omega)\n",
      "/var/folders/d4/chxwf4hs5kq7ttsp56s64z65mjk3qj/T/ipykernel_77408/1058678223.py:15: RuntimeWarning: invalid value encountered in scalar multiply\n",
      "  net_benefit = tn/(len(y_true)) - (fn/(len(y_true)) * omega)\n"
     ]
    },
    {
     "name": "stdout",
     "output_type": "stream",
     "text": [
      "92\n"
     ]
    },
    {
     "name": "stderr",
     "output_type": "stream",
     "text": [
      "/var/folders/d4/chxwf4hs5kq7ttsp56s64z65mjk3qj/T/ipykernel_77408/1954518231.py:52: RuntimeWarning: divide by zero encountered in divide\n",
      "  net_benefit_by_omega_week_period, optimal_threshold_by_omega = find_net_benefit_min_negatives(y_pred_proba, y_test_full, 1/omega_sequences, threshold_sequence)\n",
      "/var/folders/d4/chxwf4hs5kq7ttsp56s64z65mjk3qj/T/ipykernel_77408/1058678223.py:15: RuntimeWarning: invalid value encountered in scalar multiply\n",
      "  net_benefit = tn/(len(y_true)) - (fn/(len(y_true)) * omega)\n",
      "/var/folders/d4/chxwf4hs5kq7ttsp56s64z65mjk3qj/T/ipykernel_77408/1058678223.py:15: RuntimeWarning: invalid value encountered in scalar multiply\n",
      "  net_benefit = tn/(len(y_true)) - (fn/(len(y_true)) * omega)\n",
      "/var/folders/d4/chxwf4hs5kq7ttsp56s64z65mjk3qj/T/ipykernel_77408/1058678223.py:15: RuntimeWarning: invalid value encountered in scalar multiply\n",
      "  net_benefit = tn/(len(y_true)) - (fn/(len(y_true)) * omega)\n",
      "/var/folders/d4/chxwf4hs5kq7ttsp56s64z65mjk3qj/T/ipykernel_77408/1058678223.py:15: RuntimeWarning: invalid value encountered in scalar multiply\n",
      "  net_benefit = tn/(len(y_true)) - (fn/(len(y_true)) * omega)\n",
      "/var/folders/d4/chxwf4hs5kq7ttsp56s64z65mjk3qj/T/ipykernel_77408/1058678223.py:15: RuntimeWarning: invalid value encountered in scalar multiply\n",
      "  net_benefit = tn/(len(y_true)) - (fn/(len(y_true)) * omega)\n",
      "/var/folders/d4/chxwf4hs5kq7ttsp56s64z65mjk3qj/T/ipykernel_77408/1058678223.py:15: RuntimeWarning: invalid value encountered in scalar multiply\n",
      "  net_benefit = tn/(len(y_true)) - (fn/(len(y_true)) * omega)\n",
      "/var/folders/d4/chxwf4hs5kq7ttsp56s64z65mjk3qj/T/ipykernel_77408/1058678223.py:15: RuntimeWarning: invalid value encountered in scalar multiply\n",
      "  net_benefit = tn/(len(y_true)) - (fn/(len(y_true)) * omega)\n",
      "/var/folders/d4/chxwf4hs5kq7ttsp56s64z65mjk3qj/T/ipykernel_77408/1058678223.py:15: RuntimeWarning: invalid value encountered in scalar multiply\n",
      "  net_benefit = tn/(len(y_true)) - (fn/(len(y_true)) * omega)\n",
      "/var/folders/d4/chxwf4hs5kq7ttsp56s64z65mjk3qj/T/ipykernel_77408/1058678223.py:15: RuntimeWarning: invalid value encountered in scalar multiply\n",
      "  net_benefit = tn/(len(y_true)) - (fn/(len(y_true)) * omega)\n",
      "/var/folders/d4/chxwf4hs5kq7ttsp56s64z65mjk3qj/T/ipykernel_77408/1058678223.py:15: RuntimeWarning: invalid value encountered in scalar multiply\n",
      "  net_benefit = tn/(len(y_true)) - (fn/(len(y_true)) * omega)\n"
     ]
    },
    {
     "name": "stdout",
     "output_type": "stream",
     "text": [
      "93\n"
     ]
    },
    {
     "name": "stderr",
     "output_type": "stream",
     "text": [
      "/var/folders/d4/chxwf4hs5kq7ttsp56s64z65mjk3qj/T/ipykernel_77408/1954518231.py:52: RuntimeWarning: divide by zero encountered in divide\n",
      "  net_benefit_by_omega_week_period, optimal_threshold_by_omega = find_net_benefit_min_negatives(y_pred_proba, y_test_full, 1/omega_sequences, threshold_sequence)\n",
      "/var/folders/d4/chxwf4hs5kq7ttsp56s64z65mjk3qj/T/ipykernel_77408/1058678223.py:15: RuntimeWarning: invalid value encountered in scalar multiply\n",
      "  net_benefit = tn/(len(y_true)) - (fn/(len(y_true)) * omega)\n",
      "/var/folders/d4/chxwf4hs5kq7ttsp56s64z65mjk3qj/T/ipykernel_77408/1058678223.py:15: RuntimeWarning: invalid value encountered in scalar multiply\n",
      "  net_benefit = tn/(len(y_true)) - (fn/(len(y_true)) * omega)\n",
      "/var/folders/d4/chxwf4hs5kq7ttsp56s64z65mjk3qj/T/ipykernel_77408/1058678223.py:15: RuntimeWarning: invalid value encountered in scalar multiply\n",
      "  net_benefit = tn/(len(y_true)) - (fn/(len(y_true)) * omega)\n",
      "/var/folders/d4/chxwf4hs5kq7ttsp56s64z65mjk3qj/T/ipykernel_77408/1058678223.py:15: RuntimeWarning: invalid value encountered in scalar multiply\n",
      "  net_benefit = tn/(len(y_true)) - (fn/(len(y_true)) * omega)\n",
      "/var/folders/d4/chxwf4hs5kq7ttsp56s64z65mjk3qj/T/ipykernel_77408/1058678223.py:15: RuntimeWarning: invalid value encountered in scalar multiply\n",
      "  net_benefit = tn/(len(y_true)) - (fn/(len(y_true)) * omega)\n",
      "/var/folders/d4/chxwf4hs5kq7ttsp56s64z65mjk3qj/T/ipykernel_77408/1058678223.py:15: RuntimeWarning: invalid value encountered in scalar multiply\n",
      "  net_benefit = tn/(len(y_true)) - (fn/(len(y_true)) * omega)\n",
      "/var/folders/d4/chxwf4hs5kq7ttsp56s64z65mjk3qj/T/ipykernel_77408/1058678223.py:15: RuntimeWarning: invalid value encountered in scalar multiply\n",
      "  net_benefit = tn/(len(y_true)) - (fn/(len(y_true)) * omega)\n",
      "/var/folders/d4/chxwf4hs5kq7ttsp56s64z65mjk3qj/T/ipykernel_77408/1058678223.py:15: RuntimeWarning: invalid value encountered in scalar multiply\n",
      "  net_benefit = tn/(len(y_true)) - (fn/(len(y_true)) * omega)\n",
      "/var/folders/d4/chxwf4hs5kq7ttsp56s64z65mjk3qj/T/ipykernel_77408/1058678223.py:15: RuntimeWarning: invalid value encountered in scalar multiply\n",
      "  net_benefit = tn/(len(y_true)) - (fn/(len(y_true)) * omega)\n",
      "/var/folders/d4/chxwf4hs5kq7ttsp56s64z65mjk3qj/T/ipykernel_77408/1058678223.py:15: RuntimeWarning: invalid value encountered in scalar multiply\n",
      "  net_benefit = tn/(len(y_true)) - (fn/(len(y_true)) * omega)\n"
     ]
    },
    {
     "name": "stdout",
     "output_type": "stream",
     "text": [
      "94\n"
     ]
    },
    {
     "name": "stderr",
     "output_type": "stream",
     "text": [
      "/var/folders/d4/chxwf4hs5kq7ttsp56s64z65mjk3qj/T/ipykernel_77408/1954518231.py:52: RuntimeWarning: divide by zero encountered in divide\n",
      "  net_benefit_by_omega_week_period, optimal_threshold_by_omega = find_net_benefit_min_negatives(y_pred_proba, y_test_full, 1/omega_sequences, threshold_sequence)\n",
      "/var/folders/d4/chxwf4hs5kq7ttsp56s64z65mjk3qj/T/ipykernel_77408/1058678223.py:15: RuntimeWarning: invalid value encountered in scalar multiply\n",
      "  net_benefit = tn/(len(y_true)) - (fn/(len(y_true)) * omega)\n",
      "/var/folders/d4/chxwf4hs5kq7ttsp56s64z65mjk3qj/T/ipykernel_77408/1058678223.py:15: RuntimeWarning: invalid value encountered in scalar multiply\n",
      "  net_benefit = tn/(len(y_true)) - (fn/(len(y_true)) * omega)\n",
      "/var/folders/d4/chxwf4hs5kq7ttsp56s64z65mjk3qj/T/ipykernel_77408/1058678223.py:15: RuntimeWarning: invalid value encountered in scalar multiply\n",
      "  net_benefit = tn/(len(y_true)) - (fn/(len(y_true)) * omega)\n",
      "/var/folders/d4/chxwf4hs5kq7ttsp56s64z65mjk3qj/T/ipykernel_77408/1058678223.py:15: RuntimeWarning: invalid value encountered in scalar multiply\n",
      "  net_benefit = tn/(len(y_true)) - (fn/(len(y_true)) * omega)\n",
      "/var/folders/d4/chxwf4hs5kq7ttsp56s64z65mjk3qj/T/ipykernel_77408/1058678223.py:15: RuntimeWarning: invalid value encountered in scalar multiply\n",
      "  net_benefit = tn/(len(y_true)) - (fn/(len(y_true)) * omega)\n",
      "/var/folders/d4/chxwf4hs5kq7ttsp56s64z65mjk3qj/T/ipykernel_77408/1058678223.py:15: RuntimeWarning: invalid value encountered in scalar multiply\n",
      "  net_benefit = tn/(len(y_true)) - (fn/(len(y_true)) * omega)\n",
      "/var/folders/d4/chxwf4hs5kq7ttsp56s64z65mjk3qj/T/ipykernel_77408/1058678223.py:15: RuntimeWarning: invalid value encountered in scalar multiply\n",
      "  net_benefit = tn/(len(y_true)) - (fn/(len(y_true)) * omega)\n",
      "/var/folders/d4/chxwf4hs5kq7ttsp56s64z65mjk3qj/T/ipykernel_77408/1058678223.py:15: RuntimeWarning: invalid value encountered in scalar multiply\n",
      "  net_benefit = tn/(len(y_true)) - (fn/(len(y_true)) * omega)\n",
      "/var/folders/d4/chxwf4hs5kq7ttsp56s64z65mjk3qj/T/ipykernel_77408/1058678223.py:15: RuntimeWarning: invalid value encountered in scalar multiply\n",
      "  net_benefit = tn/(len(y_true)) - (fn/(len(y_true)) * omega)\n",
      "/var/folders/d4/chxwf4hs5kq7ttsp56s64z65mjk3qj/T/ipykernel_77408/1058678223.py:15: RuntimeWarning: invalid value encountered in scalar multiply\n",
      "  net_benefit = tn/(len(y_true)) - (fn/(len(y_true)) * omega)\n"
     ]
    },
    {
     "name": "stdout",
     "output_type": "stream",
     "text": [
      "95\n"
     ]
    },
    {
     "name": "stderr",
     "output_type": "stream",
     "text": [
      "/var/folders/d4/chxwf4hs5kq7ttsp56s64z65mjk3qj/T/ipykernel_77408/1954518231.py:52: RuntimeWarning: divide by zero encountered in divide\n",
      "  net_benefit_by_omega_week_period, optimal_threshold_by_omega = find_net_benefit_min_negatives(y_pred_proba, y_test_full, 1/omega_sequences, threshold_sequence)\n",
      "/var/folders/d4/chxwf4hs5kq7ttsp56s64z65mjk3qj/T/ipykernel_77408/1058678223.py:15: RuntimeWarning: invalid value encountered in scalar multiply\n",
      "  net_benefit = tn/(len(y_true)) - (fn/(len(y_true)) * omega)\n",
      "/var/folders/d4/chxwf4hs5kq7ttsp56s64z65mjk3qj/T/ipykernel_77408/1058678223.py:15: RuntimeWarning: invalid value encountered in scalar multiply\n",
      "  net_benefit = tn/(len(y_true)) - (fn/(len(y_true)) * omega)\n",
      "/var/folders/d4/chxwf4hs5kq7ttsp56s64z65mjk3qj/T/ipykernel_77408/1058678223.py:15: RuntimeWarning: invalid value encountered in scalar multiply\n",
      "  net_benefit = tn/(len(y_true)) - (fn/(len(y_true)) * omega)\n",
      "/var/folders/d4/chxwf4hs5kq7ttsp56s64z65mjk3qj/T/ipykernel_77408/1058678223.py:15: RuntimeWarning: invalid value encountered in scalar multiply\n",
      "  net_benefit = tn/(len(y_true)) - (fn/(len(y_true)) * omega)\n",
      "/var/folders/d4/chxwf4hs5kq7ttsp56s64z65mjk3qj/T/ipykernel_77408/1058678223.py:15: RuntimeWarning: invalid value encountered in scalar multiply\n",
      "  net_benefit = tn/(len(y_true)) - (fn/(len(y_true)) * omega)\n",
      "/var/folders/d4/chxwf4hs5kq7ttsp56s64z65mjk3qj/T/ipykernel_77408/1058678223.py:15: RuntimeWarning: invalid value encountered in scalar multiply\n",
      "  net_benefit = tn/(len(y_true)) - (fn/(len(y_true)) * omega)\n",
      "/var/folders/d4/chxwf4hs5kq7ttsp56s64z65mjk3qj/T/ipykernel_77408/1058678223.py:15: RuntimeWarning: invalid value encountered in scalar multiply\n",
      "  net_benefit = tn/(len(y_true)) - (fn/(len(y_true)) * omega)\n",
      "/var/folders/d4/chxwf4hs5kq7ttsp56s64z65mjk3qj/T/ipykernel_77408/1058678223.py:15: RuntimeWarning: invalid value encountered in scalar multiply\n",
      "  net_benefit = tn/(len(y_true)) - (fn/(len(y_true)) * omega)\n",
      "/var/folders/d4/chxwf4hs5kq7ttsp56s64z65mjk3qj/T/ipykernel_77408/1058678223.py:15: RuntimeWarning: invalid value encountered in scalar multiply\n",
      "  net_benefit = tn/(len(y_true)) - (fn/(len(y_true)) * omega)\n",
      "/var/folders/d4/chxwf4hs5kq7ttsp56s64z65mjk3qj/T/ipykernel_77408/1058678223.py:15: RuntimeWarning: invalid value encountered in scalar multiply\n",
      "  net_benefit = tn/(len(y_true)) - (fn/(len(y_true)) * omega)\n",
      "/var/folders/d4/chxwf4hs5kq7ttsp56s64z65mjk3qj/T/ipykernel_77408/1058678223.py:15: RuntimeWarning: invalid value encountered in scalar multiply\n",
      "  net_benefit = tn/(len(y_true)) - (fn/(len(y_true)) * omega)\n"
     ]
    },
    {
     "name": "stdout",
     "output_type": "stream",
     "text": [
      "96\n"
     ]
    },
    {
     "name": "stderr",
     "output_type": "stream",
     "text": [
      "/var/folders/d4/chxwf4hs5kq7ttsp56s64z65mjk3qj/T/ipykernel_77408/1954518231.py:52: RuntimeWarning: divide by zero encountered in divide\n",
      "  net_benefit_by_omega_week_period, optimal_threshold_by_omega = find_net_benefit_min_negatives(y_pred_proba, y_test_full, 1/omega_sequences, threshold_sequence)\n",
      "/var/folders/d4/chxwf4hs5kq7ttsp56s64z65mjk3qj/T/ipykernel_77408/1058678223.py:15: RuntimeWarning: invalid value encountered in scalar multiply\n",
      "  net_benefit = tn/(len(y_true)) - (fn/(len(y_true)) * omega)\n",
      "/var/folders/d4/chxwf4hs5kq7ttsp56s64z65mjk3qj/T/ipykernel_77408/1058678223.py:15: RuntimeWarning: invalid value encountered in scalar multiply\n",
      "  net_benefit = tn/(len(y_true)) - (fn/(len(y_true)) * omega)\n",
      "/var/folders/d4/chxwf4hs5kq7ttsp56s64z65mjk3qj/T/ipykernel_77408/1058678223.py:15: RuntimeWarning: invalid value encountered in scalar multiply\n",
      "  net_benefit = tn/(len(y_true)) - (fn/(len(y_true)) * omega)\n",
      "/var/folders/d4/chxwf4hs5kq7ttsp56s64z65mjk3qj/T/ipykernel_77408/1058678223.py:15: RuntimeWarning: invalid value encountered in scalar multiply\n",
      "  net_benefit = tn/(len(y_true)) - (fn/(len(y_true)) * omega)\n",
      "/var/folders/d4/chxwf4hs5kq7ttsp56s64z65mjk3qj/T/ipykernel_77408/1058678223.py:15: RuntimeWarning: invalid value encountered in scalar multiply\n",
      "  net_benefit = tn/(len(y_true)) - (fn/(len(y_true)) * omega)\n",
      "/var/folders/d4/chxwf4hs5kq7ttsp56s64z65mjk3qj/T/ipykernel_77408/1058678223.py:15: RuntimeWarning: invalid value encountered in scalar multiply\n",
      "  net_benefit = tn/(len(y_true)) - (fn/(len(y_true)) * omega)\n",
      "/var/folders/d4/chxwf4hs5kq7ttsp56s64z65mjk3qj/T/ipykernel_77408/1058678223.py:15: RuntimeWarning: invalid value encountered in scalar multiply\n",
      "  net_benefit = tn/(len(y_true)) - (fn/(len(y_true)) * omega)\n",
      "/var/folders/d4/chxwf4hs5kq7ttsp56s64z65mjk3qj/T/ipykernel_77408/1058678223.py:15: RuntimeWarning: invalid value encountered in scalar multiply\n",
      "  net_benefit = tn/(len(y_true)) - (fn/(len(y_true)) * omega)\n",
      "/var/folders/d4/chxwf4hs5kq7ttsp56s64z65mjk3qj/T/ipykernel_77408/1058678223.py:15: RuntimeWarning: invalid value encountered in scalar multiply\n",
      "  net_benefit = tn/(len(y_true)) - (fn/(len(y_true)) * omega)\n",
      "/var/folders/d4/chxwf4hs5kq7ttsp56s64z65mjk3qj/T/ipykernel_77408/1058678223.py:15: RuntimeWarning: invalid value encountered in scalar multiply\n",
      "  net_benefit = tn/(len(y_true)) - (fn/(len(y_true)) * omega)\n",
      "/var/folders/d4/chxwf4hs5kq7ttsp56s64z65mjk3qj/T/ipykernel_77408/1058678223.py:15: RuntimeWarning: invalid value encountered in scalar multiply\n",
      "  net_benefit = tn/(len(y_true)) - (fn/(len(y_true)) * omega)\n"
     ]
    },
    {
     "name": "stdout",
     "output_type": "stream",
     "text": [
      "97\n"
     ]
    },
    {
     "name": "stderr",
     "output_type": "stream",
     "text": [
      "/var/folders/d4/chxwf4hs5kq7ttsp56s64z65mjk3qj/T/ipykernel_77408/1954518231.py:52: RuntimeWarning: divide by zero encountered in divide\n",
      "  net_benefit_by_omega_week_period, optimal_threshold_by_omega = find_net_benefit_min_negatives(y_pred_proba, y_test_full, 1/omega_sequences, threshold_sequence)\n",
      "/var/folders/d4/chxwf4hs5kq7ttsp56s64z65mjk3qj/T/ipykernel_77408/1058678223.py:15: RuntimeWarning: invalid value encountered in scalar multiply\n",
      "  net_benefit = tn/(len(y_true)) - (fn/(len(y_true)) * omega)\n",
      "/var/folders/d4/chxwf4hs5kq7ttsp56s64z65mjk3qj/T/ipykernel_77408/1058678223.py:15: RuntimeWarning: invalid value encountered in scalar multiply\n",
      "  net_benefit = tn/(len(y_true)) - (fn/(len(y_true)) * omega)\n",
      "/var/folders/d4/chxwf4hs5kq7ttsp56s64z65mjk3qj/T/ipykernel_77408/1058678223.py:15: RuntimeWarning: invalid value encountered in scalar multiply\n",
      "  net_benefit = tn/(len(y_true)) - (fn/(len(y_true)) * omega)\n",
      "/var/folders/d4/chxwf4hs5kq7ttsp56s64z65mjk3qj/T/ipykernel_77408/1058678223.py:15: RuntimeWarning: invalid value encountered in scalar multiply\n",
      "  net_benefit = tn/(len(y_true)) - (fn/(len(y_true)) * omega)\n",
      "/var/folders/d4/chxwf4hs5kq7ttsp56s64z65mjk3qj/T/ipykernel_77408/1058678223.py:15: RuntimeWarning: invalid value encountered in scalar multiply\n",
      "  net_benefit = tn/(len(y_true)) - (fn/(len(y_true)) * omega)\n",
      "/var/folders/d4/chxwf4hs5kq7ttsp56s64z65mjk3qj/T/ipykernel_77408/1058678223.py:15: RuntimeWarning: invalid value encountered in scalar multiply\n",
      "  net_benefit = tn/(len(y_true)) - (fn/(len(y_true)) * omega)\n",
      "/var/folders/d4/chxwf4hs5kq7ttsp56s64z65mjk3qj/T/ipykernel_77408/1058678223.py:15: RuntimeWarning: invalid value encountered in scalar multiply\n",
      "  net_benefit = tn/(len(y_true)) - (fn/(len(y_true)) * omega)\n",
      "/var/folders/d4/chxwf4hs5kq7ttsp56s64z65mjk3qj/T/ipykernel_77408/1058678223.py:15: RuntimeWarning: invalid value encountered in scalar multiply\n",
      "  net_benefit = tn/(len(y_true)) - (fn/(len(y_true)) * omega)\n",
      "/var/folders/d4/chxwf4hs5kq7ttsp56s64z65mjk3qj/T/ipykernel_77408/1058678223.py:15: RuntimeWarning: invalid value encountered in scalar multiply\n",
      "  net_benefit = tn/(len(y_true)) - (fn/(len(y_true)) * omega)\n",
      "/var/folders/d4/chxwf4hs5kq7ttsp56s64z65mjk3qj/T/ipykernel_77408/1058678223.py:15: RuntimeWarning: invalid value encountered in scalar multiply\n",
      "  net_benefit = tn/(len(y_true)) - (fn/(len(y_true)) * omega)\n",
      "/var/folders/d4/chxwf4hs5kq7ttsp56s64z65mjk3qj/T/ipykernel_77408/1058678223.py:15: RuntimeWarning: invalid value encountered in scalar multiply\n",
      "  net_benefit = tn/(len(y_true)) - (fn/(len(y_true)) * omega)\n"
     ]
    },
    {
     "name": "stdout",
     "output_type": "stream",
     "text": [
      "98\n"
     ]
    },
    {
     "name": "stderr",
     "output_type": "stream",
     "text": [
      "/var/folders/d4/chxwf4hs5kq7ttsp56s64z65mjk3qj/T/ipykernel_77408/1954518231.py:52: RuntimeWarning: divide by zero encountered in divide\n",
      "  net_benefit_by_omega_week_period, optimal_threshold_by_omega = find_net_benefit_min_negatives(y_pred_proba, y_test_full, 1/omega_sequences, threshold_sequence)\n",
      "/var/folders/d4/chxwf4hs5kq7ttsp56s64z65mjk3qj/T/ipykernel_77408/1058678223.py:15: RuntimeWarning: invalid value encountered in scalar multiply\n",
      "  net_benefit = tn/(len(y_true)) - (fn/(len(y_true)) * omega)\n",
      "/var/folders/d4/chxwf4hs5kq7ttsp56s64z65mjk3qj/T/ipykernel_77408/1058678223.py:15: RuntimeWarning: invalid value encountered in scalar multiply\n",
      "  net_benefit = tn/(len(y_true)) - (fn/(len(y_true)) * omega)\n",
      "/var/folders/d4/chxwf4hs5kq7ttsp56s64z65mjk3qj/T/ipykernel_77408/1058678223.py:15: RuntimeWarning: invalid value encountered in scalar multiply\n",
      "  net_benefit = tn/(len(y_true)) - (fn/(len(y_true)) * omega)\n",
      "/var/folders/d4/chxwf4hs5kq7ttsp56s64z65mjk3qj/T/ipykernel_77408/1058678223.py:15: RuntimeWarning: invalid value encountered in scalar multiply\n",
      "  net_benefit = tn/(len(y_true)) - (fn/(len(y_true)) * omega)\n",
      "/var/folders/d4/chxwf4hs5kq7ttsp56s64z65mjk3qj/T/ipykernel_77408/1058678223.py:15: RuntimeWarning: invalid value encountered in scalar multiply\n",
      "  net_benefit = tn/(len(y_true)) - (fn/(len(y_true)) * omega)\n",
      "/var/folders/d4/chxwf4hs5kq7ttsp56s64z65mjk3qj/T/ipykernel_77408/1058678223.py:15: RuntimeWarning: invalid value encountered in scalar multiply\n",
      "  net_benefit = tn/(len(y_true)) - (fn/(len(y_true)) * omega)\n",
      "/var/folders/d4/chxwf4hs5kq7ttsp56s64z65mjk3qj/T/ipykernel_77408/1058678223.py:15: RuntimeWarning: invalid value encountered in scalar multiply\n",
      "  net_benefit = tn/(len(y_true)) - (fn/(len(y_true)) * omega)\n",
      "/var/folders/d4/chxwf4hs5kq7ttsp56s64z65mjk3qj/T/ipykernel_77408/1058678223.py:15: RuntimeWarning: invalid value encountered in scalar multiply\n",
      "  net_benefit = tn/(len(y_true)) - (fn/(len(y_true)) * omega)\n",
      "/var/folders/d4/chxwf4hs5kq7ttsp56s64z65mjk3qj/T/ipykernel_77408/1058678223.py:15: RuntimeWarning: invalid value encountered in scalar multiply\n",
      "  net_benefit = tn/(len(y_true)) - (fn/(len(y_true)) * omega)\n",
      "/var/folders/d4/chxwf4hs5kq7ttsp56s64z65mjk3qj/T/ipykernel_77408/1058678223.py:15: RuntimeWarning: invalid value encountered in scalar multiply\n",
      "  net_benefit = tn/(len(y_true)) - (fn/(len(y_true)) * omega)\n",
      "/var/folders/d4/chxwf4hs5kq7ttsp56s64z65mjk3qj/T/ipykernel_77408/1058678223.py:15: RuntimeWarning: invalid value encountered in scalar multiply\n",
      "  net_benefit = tn/(len(y_true)) - (fn/(len(y_true)) * omega)\n"
     ]
    },
    {
     "name": "stdout",
     "output_type": "stream",
     "text": [
      "99\n"
     ]
    },
    {
     "name": "stderr",
     "output_type": "stream",
     "text": [
      "/var/folders/d4/chxwf4hs5kq7ttsp56s64z65mjk3qj/T/ipykernel_77408/1954518231.py:52: RuntimeWarning: divide by zero encountered in divide\n",
      "  net_benefit_by_omega_week_period, optimal_threshold_by_omega = find_net_benefit_min_negatives(y_pred_proba, y_test_full, 1/omega_sequences, threshold_sequence)\n",
      "/var/folders/d4/chxwf4hs5kq7ttsp56s64z65mjk3qj/T/ipykernel_77408/1058678223.py:15: RuntimeWarning: invalid value encountered in scalar multiply\n",
      "  net_benefit = tn/(len(y_true)) - (fn/(len(y_true)) * omega)\n",
      "/var/folders/d4/chxwf4hs5kq7ttsp56s64z65mjk3qj/T/ipykernel_77408/1058678223.py:15: RuntimeWarning: invalid value encountered in scalar multiply\n",
      "  net_benefit = tn/(len(y_true)) - (fn/(len(y_true)) * omega)\n",
      "/var/folders/d4/chxwf4hs5kq7ttsp56s64z65mjk3qj/T/ipykernel_77408/1058678223.py:15: RuntimeWarning: invalid value encountered in scalar multiply\n",
      "  net_benefit = tn/(len(y_true)) - (fn/(len(y_true)) * omega)\n",
      "/var/folders/d4/chxwf4hs5kq7ttsp56s64z65mjk3qj/T/ipykernel_77408/1058678223.py:15: RuntimeWarning: invalid value encountered in scalar multiply\n",
      "  net_benefit = tn/(len(y_true)) - (fn/(len(y_true)) * omega)\n",
      "/var/folders/d4/chxwf4hs5kq7ttsp56s64z65mjk3qj/T/ipykernel_77408/1058678223.py:15: RuntimeWarning: invalid value encountered in scalar multiply\n",
      "  net_benefit = tn/(len(y_true)) - (fn/(len(y_true)) * omega)\n",
      "/var/folders/d4/chxwf4hs5kq7ttsp56s64z65mjk3qj/T/ipykernel_77408/1058678223.py:15: RuntimeWarning: invalid value encountered in scalar multiply\n",
      "  net_benefit = tn/(len(y_true)) - (fn/(len(y_true)) * omega)\n",
      "/var/folders/d4/chxwf4hs5kq7ttsp56s64z65mjk3qj/T/ipykernel_77408/1058678223.py:15: RuntimeWarning: invalid value encountered in scalar multiply\n",
      "  net_benefit = tn/(len(y_true)) - (fn/(len(y_true)) * omega)\n",
      "/var/folders/d4/chxwf4hs5kq7ttsp56s64z65mjk3qj/T/ipykernel_77408/1058678223.py:15: RuntimeWarning: invalid value encountered in scalar multiply\n",
      "  net_benefit = tn/(len(y_true)) - (fn/(len(y_true)) * omega)\n",
      "/var/folders/d4/chxwf4hs5kq7ttsp56s64z65mjk3qj/T/ipykernel_77408/1058678223.py:15: RuntimeWarning: invalid value encountered in scalar multiply\n",
      "  net_benefit = tn/(len(y_true)) - (fn/(len(y_true)) * omega)\n",
      "/var/folders/d4/chxwf4hs5kq7ttsp56s64z65mjk3qj/T/ipykernel_77408/1058678223.py:15: RuntimeWarning: invalid value encountered in scalar multiply\n",
      "  net_benefit = tn/(len(y_true)) - (fn/(len(y_true)) * omega)\n",
      "/var/folders/d4/chxwf4hs5kq7ttsp56s64z65mjk3qj/T/ipykernel_77408/1058678223.py:15: RuntimeWarning: invalid value encountered in scalar multiply\n",
      "  net_benefit = tn/(len(y_true)) - (fn/(len(y_true)) * omega)\n"
     ]
    },
    {
     "name": "stdout",
     "output_type": "stream",
     "text": [
      "100\n"
     ]
    },
    {
     "name": "stderr",
     "output_type": "stream",
     "text": [
      "/var/folders/d4/chxwf4hs5kq7ttsp56s64z65mjk3qj/T/ipykernel_77408/1954518231.py:52: RuntimeWarning: divide by zero encountered in divide\n",
      "  net_benefit_by_omega_week_period, optimal_threshold_by_omega = find_net_benefit_min_negatives(y_pred_proba, y_test_full, 1/omega_sequences, threshold_sequence)\n",
      "/var/folders/d4/chxwf4hs5kq7ttsp56s64z65mjk3qj/T/ipykernel_77408/1058678223.py:15: RuntimeWarning: invalid value encountered in scalar multiply\n",
      "  net_benefit = tn/(len(y_true)) - (fn/(len(y_true)) * omega)\n",
      "/var/folders/d4/chxwf4hs5kq7ttsp56s64z65mjk3qj/T/ipykernel_77408/1058678223.py:15: RuntimeWarning: invalid value encountered in scalar multiply\n",
      "  net_benefit = tn/(len(y_true)) - (fn/(len(y_true)) * omega)\n",
      "/var/folders/d4/chxwf4hs5kq7ttsp56s64z65mjk3qj/T/ipykernel_77408/1058678223.py:15: RuntimeWarning: invalid value encountered in scalar multiply\n",
      "  net_benefit = tn/(len(y_true)) - (fn/(len(y_true)) * omega)\n",
      "/var/folders/d4/chxwf4hs5kq7ttsp56s64z65mjk3qj/T/ipykernel_77408/1058678223.py:15: RuntimeWarning: invalid value encountered in scalar multiply\n",
      "  net_benefit = tn/(len(y_true)) - (fn/(len(y_true)) * omega)\n",
      "/var/folders/d4/chxwf4hs5kq7ttsp56s64z65mjk3qj/T/ipykernel_77408/1058678223.py:15: RuntimeWarning: invalid value encountered in scalar multiply\n",
      "  net_benefit = tn/(len(y_true)) - (fn/(len(y_true)) * omega)\n",
      "/var/folders/d4/chxwf4hs5kq7ttsp56s64z65mjk3qj/T/ipykernel_77408/1058678223.py:15: RuntimeWarning: invalid value encountered in scalar multiply\n",
      "  net_benefit = tn/(len(y_true)) - (fn/(len(y_true)) * omega)\n",
      "/var/folders/d4/chxwf4hs5kq7ttsp56s64z65mjk3qj/T/ipykernel_77408/1058678223.py:15: RuntimeWarning: invalid value encountered in scalar multiply\n",
      "  net_benefit = tn/(len(y_true)) - (fn/(len(y_true)) * omega)\n",
      "/var/folders/d4/chxwf4hs5kq7ttsp56s64z65mjk3qj/T/ipykernel_77408/1058678223.py:15: RuntimeWarning: invalid value encountered in scalar multiply\n",
      "  net_benefit = tn/(len(y_true)) - (fn/(len(y_true)) * omega)\n",
      "/var/folders/d4/chxwf4hs5kq7ttsp56s64z65mjk3qj/T/ipykernel_77408/1058678223.py:15: RuntimeWarning: invalid value encountered in scalar multiply\n",
      "  net_benefit = tn/(len(y_true)) - (fn/(len(y_true)) * omega)\n",
      "/var/folders/d4/chxwf4hs5kq7ttsp56s64z65mjk3qj/T/ipykernel_77408/1058678223.py:15: RuntimeWarning: invalid value encountered in scalar multiply\n",
      "  net_benefit = tn/(len(y_true)) - (fn/(len(y_true)) * omega)\n",
      "/var/folders/d4/chxwf4hs5kq7ttsp56s64z65mjk3qj/T/ipykernel_77408/1058678223.py:15: RuntimeWarning: invalid value encountered in scalar multiply\n",
      "  net_benefit = tn/(len(y_true)) - (fn/(len(y_true)) * omega)\n"
     ]
    },
    {
     "name": "stdout",
     "output_type": "stream",
     "text": [
      "101\n"
     ]
    },
    {
     "name": "stderr",
     "output_type": "stream",
     "text": [
      "/var/folders/d4/chxwf4hs5kq7ttsp56s64z65mjk3qj/T/ipykernel_77408/1954518231.py:52: RuntimeWarning: divide by zero encountered in divide\n",
      "  net_benefit_by_omega_week_period, optimal_threshold_by_omega = find_net_benefit_min_negatives(y_pred_proba, y_test_full, 1/omega_sequences, threshold_sequence)\n",
      "/var/folders/d4/chxwf4hs5kq7ttsp56s64z65mjk3qj/T/ipykernel_77408/1058678223.py:15: RuntimeWarning: invalid value encountered in scalar multiply\n",
      "  net_benefit = tn/(len(y_true)) - (fn/(len(y_true)) * omega)\n",
      "/var/folders/d4/chxwf4hs5kq7ttsp56s64z65mjk3qj/T/ipykernel_77408/1058678223.py:15: RuntimeWarning: invalid value encountered in scalar multiply\n",
      "  net_benefit = tn/(len(y_true)) - (fn/(len(y_true)) * omega)\n",
      "/var/folders/d4/chxwf4hs5kq7ttsp56s64z65mjk3qj/T/ipykernel_77408/1058678223.py:15: RuntimeWarning: invalid value encountered in scalar multiply\n",
      "  net_benefit = tn/(len(y_true)) - (fn/(len(y_true)) * omega)\n",
      "/var/folders/d4/chxwf4hs5kq7ttsp56s64z65mjk3qj/T/ipykernel_77408/1058678223.py:15: RuntimeWarning: invalid value encountered in scalar multiply\n",
      "  net_benefit = tn/(len(y_true)) - (fn/(len(y_true)) * omega)\n",
      "/var/folders/d4/chxwf4hs5kq7ttsp56s64z65mjk3qj/T/ipykernel_77408/1058678223.py:15: RuntimeWarning: invalid value encountered in scalar multiply\n",
      "  net_benefit = tn/(len(y_true)) - (fn/(len(y_true)) * omega)\n",
      "/var/folders/d4/chxwf4hs5kq7ttsp56s64z65mjk3qj/T/ipykernel_77408/1058678223.py:15: RuntimeWarning: invalid value encountered in scalar multiply\n",
      "  net_benefit = tn/(len(y_true)) - (fn/(len(y_true)) * omega)\n",
      "/var/folders/d4/chxwf4hs5kq7ttsp56s64z65mjk3qj/T/ipykernel_77408/1058678223.py:15: RuntimeWarning: invalid value encountered in scalar multiply\n",
      "  net_benefit = tn/(len(y_true)) - (fn/(len(y_true)) * omega)\n"
     ]
    },
    {
     "name": "stdout",
     "output_type": "stream",
     "text": [
      "102\n"
     ]
    },
    {
     "name": "stderr",
     "output_type": "stream",
     "text": [
      "/var/folders/d4/chxwf4hs5kq7ttsp56s64z65mjk3qj/T/ipykernel_77408/1954518231.py:52: RuntimeWarning: divide by zero encountered in divide\n",
      "  net_benefit_by_omega_week_period, optimal_threshold_by_omega = find_net_benefit_min_negatives(y_pred_proba, y_test_full, 1/omega_sequences, threshold_sequence)\n",
      "/var/folders/d4/chxwf4hs5kq7ttsp56s64z65mjk3qj/T/ipykernel_77408/1058678223.py:15: RuntimeWarning: invalid value encountered in scalar multiply\n",
      "  net_benefit = tn/(len(y_true)) - (fn/(len(y_true)) * omega)\n",
      "/var/folders/d4/chxwf4hs5kq7ttsp56s64z65mjk3qj/T/ipykernel_77408/1058678223.py:15: RuntimeWarning: invalid value encountered in scalar multiply\n",
      "  net_benefit = tn/(len(y_true)) - (fn/(len(y_true)) * omega)\n",
      "/var/folders/d4/chxwf4hs5kq7ttsp56s64z65mjk3qj/T/ipykernel_77408/1058678223.py:15: RuntimeWarning: invalid value encountered in scalar multiply\n",
      "  net_benefit = tn/(len(y_true)) - (fn/(len(y_true)) * omega)\n",
      "/var/folders/d4/chxwf4hs5kq7ttsp56s64z65mjk3qj/T/ipykernel_77408/1058678223.py:15: RuntimeWarning: invalid value encountered in scalar multiply\n",
      "  net_benefit = tn/(len(y_true)) - (fn/(len(y_true)) * omega)\n",
      "/var/folders/d4/chxwf4hs5kq7ttsp56s64z65mjk3qj/T/ipykernel_77408/1058678223.py:15: RuntimeWarning: invalid value encountered in scalar multiply\n",
      "  net_benefit = tn/(len(y_true)) - (fn/(len(y_true)) * omega)\n",
      "/var/folders/d4/chxwf4hs5kq7ttsp56s64z65mjk3qj/T/ipykernel_77408/1058678223.py:15: RuntimeWarning: invalid value encountered in scalar multiply\n",
      "  net_benefit = tn/(len(y_true)) - (fn/(len(y_true)) * omega)\n",
      "/var/folders/d4/chxwf4hs5kq7ttsp56s64z65mjk3qj/T/ipykernel_77408/1058678223.py:15: RuntimeWarning: invalid value encountered in scalar multiply\n",
      "  net_benefit = tn/(len(y_true)) - (fn/(len(y_true)) * omega)\n"
     ]
    },
    {
     "name": "stdout",
     "output_type": "stream",
     "text": [
      "103\n"
     ]
    },
    {
     "name": "stderr",
     "output_type": "stream",
     "text": [
      "/var/folders/d4/chxwf4hs5kq7ttsp56s64z65mjk3qj/T/ipykernel_77408/1954518231.py:52: RuntimeWarning: divide by zero encountered in divide\n",
      "  net_benefit_by_omega_week_period, optimal_threshold_by_omega = find_net_benefit_min_negatives(y_pred_proba, y_test_full, 1/omega_sequences, threshold_sequence)\n",
      "/var/folders/d4/chxwf4hs5kq7ttsp56s64z65mjk3qj/T/ipykernel_77408/1058678223.py:15: RuntimeWarning: invalid value encountered in scalar multiply\n",
      "  net_benefit = tn/(len(y_true)) - (fn/(len(y_true)) * omega)\n",
      "/var/folders/d4/chxwf4hs5kq7ttsp56s64z65mjk3qj/T/ipykernel_77408/1058678223.py:15: RuntimeWarning: invalid value encountered in scalar multiply\n",
      "  net_benefit = tn/(len(y_true)) - (fn/(len(y_true)) * omega)\n",
      "/var/folders/d4/chxwf4hs5kq7ttsp56s64z65mjk3qj/T/ipykernel_77408/1058678223.py:15: RuntimeWarning: invalid value encountered in scalar multiply\n",
      "  net_benefit = tn/(len(y_true)) - (fn/(len(y_true)) * omega)\n",
      "/var/folders/d4/chxwf4hs5kq7ttsp56s64z65mjk3qj/T/ipykernel_77408/1058678223.py:15: RuntimeWarning: invalid value encountered in scalar multiply\n",
      "  net_benefit = tn/(len(y_true)) - (fn/(len(y_true)) * omega)\n",
      "/var/folders/d4/chxwf4hs5kq7ttsp56s64z65mjk3qj/T/ipykernel_77408/1058678223.py:15: RuntimeWarning: invalid value encountered in scalar multiply\n",
      "  net_benefit = tn/(len(y_true)) - (fn/(len(y_true)) * omega)\n",
      "/var/folders/d4/chxwf4hs5kq7ttsp56s64z65mjk3qj/T/ipykernel_77408/1058678223.py:15: RuntimeWarning: invalid value encountered in scalar multiply\n",
      "  net_benefit = tn/(len(y_true)) - (fn/(len(y_true)) * omega)\n",
      "/var/folders/d4/chxwf4hs5kq7ttsp56s64z65mjk3qj/T/ipykernel_77408/1058678223.py:15: RuntimeWarning: invalid value encountered in scalar multiply\n",
      "  net_benefit = tn/(len(y_true)) - (fn/(len(y_true)) * omega)\n"
     ]
    },
    {
     "name": "stdout",
     "output_type": "stream",
     "text": [
      "104\n"
     ]
    },
    {
     "name": "stderr",
     "output_type": "stream",
     "text": [
      "/var/folders/d4/chxwf4hs5kq7ttsp56s64z65mjk3qj/T/ipykernel_77408/1954518231.py:52: RuntimeWarning: divide by zero encountered in divide\n",
      "  net_benefit_by_omega_week_period, optimal_threshold_by_omega = find_net_benefit_min_negatives(y_pred_proba, y_test_full, 1/omega_sequences, threshold_sequence)\n",
      "/var/folders/d4/chxwf4hs5kq7ttsp56s64z65mjk3qj/T/ipykernel_77408/1058678223.py:15: RuntimeWarning: invalid value encountered in scalar multiply\n",
      "  net_benefit = tn/(len(y_true)) - (fn/(len(y_true)) * omega)\n",
      "/var/folders/d4/chxwf4hs5kq7ttsp56s64z65mjk3qj/T/ipykernel_77408/1058678223.py:15: RuntimeWarning: invalid value encountered in scalar multiply\n",
      "  net_benefit = tn/(len(y_true)) - (fn/(len(y_true)) * omega)\n",
      "/var/folders/d4/chxwf4hs5kq7ttsp56s64z65mjk3qj/T/ipykernel_77408/1058678223.py:15: RuntimeWarning: invalid value encountered in scalar multiply\n",
      "  net_benefit = tn/(len(y_true)) - (fn/(len(y_true)) * omega)\n",
      "/var/folders/d4/chxwf4hs5kq7ttsp56s64z65mjk3qj/T/ipykernel_77408/1058678223.py:15: RuntimeWarning: invalid value encountered in scalar multiply\n",
      "  net_benefit = tn/(len(y_true)) - (fn/(len(y_true)) * omega)\n",
      "/var/folders/d4/chxwf4hs5kq7ttsp56s64z65mjk3qj/T/ipykernel_77408/1058678223.py:15: RuntimeWarning: invalid value encountered in scalar multiply\n",
      "  net_benefit = tn/(len(y_true)) - (fn/(len(y_true)) * omega)\n",
      "/var/folders/d4/chxwf4hs5kq7ttsp56s64z65mjk3qj/T/ipykernel_77408/1058678223.py:15: RuntimeWarning: invalid value encountered in scalar multiply\n",
      "  net_benefit = tn/(len(y_true)) - (fn/(len(y_true)) * omega)\n",
      "/var/folders/d4/chxwf4hs5kq7ttsp56s64z65mjk3qj/T/ipykernel_77408/1058678223.py:15: RuntimeWarning: invalid value encountered in scalar multiply\n",
      "  net_benefit = tn/(len(y_true)) - (fn/(len(y_true)) * omega)\n"
     ]
    },
    {
     "name": "stdout",
     "output_type": "stream",
     "text": [
      "105\n"
     ]
    },
    {
     "name": "stderr",
     "output_type": "stream",
     "text": [
      "/var/folders/d4/chxwf4hs5kq7ttsp56s64z65mjk3qj/T/ipykernel_77408/1954518231.py:52: RuntimeWarning: divide by zero encountered in divide\n",
      "  net_benefit_by_omega_week_period, optimal_threshold_by_omega = find_net_benefit_min_negatives(y_pred_proba, y_test_full, 1/omega_sequences, threshold_sequence)\n",
      "/var/folders/d4/chxwf4hs5kq7ttsp56s64z65mjk3qj/T/ipykernel_77408/1058678223.py:15: RuntimeWarning: invalid value encountered in scalar multiply\n",
      "  net_benefit = tn/(len(y_true)) - (fn/(len(y_true)) * omega)\n",
      "/var/folders/d4/chxwf4hs5kq7ttsp56s64z65mjk3qj/T/ipykernel_77408/1058678223.py:15: RuntimeWarning: invalid value encountered in scalar multiply\n",
      "  net_benefit = tn/(len(y_true)) - (fn/(len(y_true)) * omega)\n",
      "/var/folders/d4/chxwf4hs5kq7ttsp56s64z65mjk3qj/T/ipykernel_77408/1058678223.py:15: RuntimeWarning: invalid value encountered in scalar multiply\n",
      "  net_benefit = tn/(len(y_true)) - (fn/(len(y_true)) * omega)\n",
      "/var/folders/d4/chxwf4hs5kq7ttsp56s64z65mjk3qj/T/ipykernel_77408/1058678223.py:15: RuntimeWarning: invalid value encountered in scalar multiply\n",
      "  net_benefit = tn/(len(y_true)) - (fn/(len(y_true)) * omega)\n",
      "/var/folders/d4/chxwf4hs5kq7ttsp56s64z65mjk3qj/T/ipykernel_77408/1058678223.py:15: RuntimeWarning: invalid value encountered in scalar multiply\n",
      "  net_benefit = tn/(len(y_true)) - (fn/(len(y_true)) * omega)\n",
      "/var/folders/d4/chxwf4hs5kq7ttsp56s64z65mjk3qj/T/ipykernel_77408/1058678223.py:15: RuntimeWarning: invalid value encountered in scalar multiply\n",
      "  net_benefit = tn/(len(y_true)) - (fn/(len(y_true)) * omega)\n",
      "/var/folders/d4/chxwf4hs5kq7ttsp56s64z65mjk3qj/T/ipykernel_77408/1058678223.py:15: RuntimeWarning: invalid value encountered in scalar multiply\n",
      "  net_benefit = tn/(len(y_true)) - (fn/(len(y_true)) * omega)\n"
     ]
    },
    {
     "name": "stdout",
     "output_type": "stream",
     "text": [
      "106\n"
     ]
    },
    {
     "name": "stderr",
     "output_type": "stream",
     "text": [
      "/var/folders/d4/chxwf4hs5kq7ttsp56s64z65mjk3qj/T/ipykernel_77408/1954518231.py:52: RuntimeWarning: divide by zero encountered in divide\n",
      "  net_benefit_by_omega_week_period, optimal_threshold_by_omega = find_net_benefit_min_negatives(y_pred_proba, y_test_full, 1/omega_sequences, threshold_sequence)\n",
      "/var/folders/d4/chxwf4hs5kq7ttsp56s64z65mjk3qj/T/ipykernel_77408/1058678223.py:15: RuntimeWarning: invalid value encountered in scalar multiply\n",
      "  net_benefit = tn/(len(y_true)) - (fn/(len(y_true)) * omega)\n",
      "/var/folders/d4/chxwf4hs5kq7ttsp56s64z65mjk3qj/T/ipykernel_77408/1058678223.py:15: RuntimeWarning: invalid value encountered in scalar multiply\n",
      "  net_benefit = tn/(len(y_true)) - (fn/(len(y_true)) * omega)\n",
      "/var/folders/d4/chxwf4hs5kq7ttsp56s64z65mjk3qj/T/ipykernel_77408/1058678223.py:15: RuntimeWarning: invalid value encountered in scalar multiply\n",
      "  net_benefit = tn/(len(y_true)) - (fn/(len(y_true)) * omega)\n",
      "/var/folders/d4/chxwf4hs5kq7ttsp56s64z65mjk3qj/T/ipykernel_77408/1058678223.py:15: RuntimeWarning: invalid value encountered in scalar multiply\n",
      "  net_benefit = tn/(len(y_true)) - (fn/(len(y_true)) * omega)\n",
      "/var/folders/d4/chxwf4hs5kq7ttsp56s64z65mjk3qj/T/ipykernel_77408/1058678223.py:15: RuntimeWarning: invalid value encountered in scalar multiply\n",
      "  net_benefit = tn/(len(y_true)) - (fn/(len(y_true)) * omega)\n",
      "/var/folders/d4/chxwf4hs5kq7ttsp56s64z65mjk3qj/T/ipykernel_77408/1058678223.py:15: RuntimeWarning: invalid value encountered in scalar multiply\n",
      "  net_benefit = tn/(len(y_true)) - (fn/(len(y_true)) * omega)\n",
      "/var/folders/d4/chxwf4hs5kq7ttsp56s64z65mjk3qj/T/ipykernel_77408/1058678223.py:15: RuntimeWarning: invalid value encountered in scalar multiply\n",
      "  net_benefit = tn/(len(y_true)) - (fn/(len(y_true)) * omega)\n",
      "/var/folders/d4/chxwf4hs5kq7ttsp56s64z65mjk3qj/T/ipykernel_77408/1058678223.py:15: RuntimeWarning: invalid value encountered in scalar multiply\n",
      "  net_benefit = tn/(len(y_true)) - (fn/(len(y_true)) * omega)\n",
      "/var/folders/d4/chxwf4hs5kq7ttsp56s64z65mjk3qj/T/ipykernel_77408/1058678223.py:15: RuntimeWarning: invalid value encountered in scalar multiply\n",
      "  net_benefit = tn/(len(y_true)) - (fn/(len(y_true)) * omega)\n",
      "/var/folders/d4/chxwf4hs5kq7ttsp56s64z65mjk3qj/T/ipykernel_77408/1058678223.py:15: RuntimeWarning: invalid value encountered in scalar multiply\n",
      "  net_benefit = tn/(len(y_true)) - (fn/(len(y_true)) * omega)\n",
      "/var/folders/d4/chxwf4hs5kq7ttsp56s64z65mjk3qj/T/ipykernel_77408/1058678223.py:15: RuntimeWarning: invalid value encountered in scalar multiply\n",
      "  net_benefit = tn/(len(y_true)) - (fn/(len(y_true)) * omega)\n"
     ]
    },
    {
     "name": "stdout",
     "output_type": "stream",
     "text": [
      "107\n"
     ]
    },
    {
     "name": "stderr",
     "output_type": "stream",
     "text": [
      "/var/folders/d4/chxwf4hs5kq7ttsp56s64z65mjk3qj/T/ipykernel_77408/1954518231.py:52: RuntimeWarning: divide by zero encountered in divide\n",
      "  net_benefit_by_omega_week_period, optimal_threshold_by_omega = find_net_benefit_min_negatives(y_pred_proba, y_test_full, 1/omega_sequences, threshold_sequence)\n",
      "/var/folders/d4/chxwf4hs5kq7ttsp56s64z65mjk3qj/T/ipykernel_77408/1058678223.py:15: RuntimeWarning: invalid value encountered in scalar multiply\n",
      "  net_benefit = tn/(len(y_true)) - (fn/(len(y_true)) * omega)\n",
      "/var/folders/d4/chxwf4hs5kq7ttsp56s64z65mjk3qj/T/ipykernel_77408/1058678223.py:15: RuntimeWarning: invalid value encountered in scalar multiply\n",
      "  net_benefit = tn/(len(y_true)) - (fn/(len(y_true)) * omega)\n",
      "/var/folders/d4/chxwf4hs5kq7ttsp56s64z65mjk3qj/T/ipykernel_77408/1058678223.py:15: RuntimeWarning: invalid value encountered in scalar multiply\n",
      "  net_benefit = tn/(len(y_true)) - (fn/(len(y_true)) * omega)\n",
      "/var/folders/d4/chxwf4hs5kq7ttsp56s64z65mjk3qj/T/ipykernel_77408/1058678223.py:15: RuntimeWarning: invalid value encountered in scalar multiply\n",
      "  net_benefit = tn/(len(y_true)) - (fn/(len(y_true)) * omega)\n",
      "/var/folders/d4/chxwf4hs5kq7ttsp56s64z65mjk3qj/T/ipykernel_77408/1058678223.py:15: RuntimeWarning: invalid value encountered in scalar multiply\n",
      "  net_benefit = tn/(len(y_true)) - (fn/(len(y_true)) * omega)\n",
      "/var/folders/d4/chxwf4hs5kq7ttsp56s64z65mjk3qj/T/ipykernel_77408/1058678223.py:15: RuntimeWarning: invalid value encountered in scalar multiply\n",
      "  net_benefit = tn/(len(y_true)) - (fn/(len(y_true)) * omega)\n",
      "/var/folders/d4/chxwf4hs5kq7ttsp56s64z65mjk3qj/T/ipykernel_77408/1058678223.py:15: RuntimeWarning: invalid value encountered in scalar multiply\n",
      "  net_benefit = tn/(len(y_true)) - (fn/(len(y_true)) * omega)\n",
      "/var/folders/d4/chxwf4hs5kq7ttsp56s64z65mjk3qj/T/ipykernel_77408/1058678223.py:15: RuntimeWarning: invalid value encountered in scalar multiply\n",
      "  net_benefit = tn/(len(y_true)) - (fn/(len(y_true)) * omega)\n"
     ]
    },
    {
     "name": "stdout",
     "output_type": "stream",
     "text": [
      "108\n"
     ]
    },
    {
     "name": "stderr",
     "output_type": "stream",
     "text": [
      "/var/folders/d4/chxwf4hs5kq7ttsp56s64z65mjk3qj/T/ipykernel_77408/1954518231.py:52: RuntimeWarning: divide by zero encountered in divide\n",
      "  net_benefit_by_omega_week_period, optimal_threshold_by_omega = find_net_benefit_min_negatives(y_pred_proba, y_test_full, 1/omega_sequences, threshold_sequence)\n",
      "/var/folders/d4/chxwf4hs5kq7ttsp56s64z65mjk3qj/T/ipykernel_77408/1058678223.py:15: RuntimeWarning: invalid value encountered in scalar multiply\n",
      "  net_benefit = tn/(len(y_true)) - (fn/(len(y_true)) * omega)\n",
      "/var/folders/d4/chxwf4hs5kq7ttsp56s64z65mjk3qj/T/ipykernel_77408/1058678223.py:15: RuntimeWarning: invalid value encountered in scalar multiply\n",
      "  net_benefit = tn/(len(y_true)) - (fn/(len(y_true)) * omega)\n",
      "/var/folders/d4/chxwf4hs5kq7ttsp56s64z65mjk3qj/T/ipykernel_77408/1058678223.py:15: RuntimeWarning: invalid value encountered in scalar multiply\n",
      "  net_benefit = tn/(len(y_true)) - (fn/(len(y_true)) * omega)\n",
      "/var/folders/d4/chxwf4hs5kq7ttsp56s64z65mjk3qj/T/ipykernel_77408/1058678223.py:15: RuntimeWarning: invalid value encountered in scalar multiply\n",
      "  net_benefit = tn/(len(y_true)) - (fn/(len(y_true)) * omega)\n",
      "/var/folders/d4/chxwf4hs5kq7ttsp56s64z65mjk3qj/T/ipykernel_77408/1058678223.py:15: RuntimeWarning: invalid value encountered in scalar multiply\n",
      "  net_benefit = tn/(len(y_true)) - (fn/(len(y_true)) * omega)\n",
      "/var/folders/d4/chxwf4hs5kq7ttsp56s64z65mjk3qj/T/ipykernel_77408/1058678223.py:15: RuntimeWarning: invalid value encountered in scalar multiply\n",
      "  net_benefit = tn/(len(y_true)) - (fn/(len(y_true)) * omega)\n",
      "/var/folders/d4/chxwf4hs5kq7ttsp56s64z65mjk3qj/T/ipykernel_77408/1058678223.py:15: RuntimeWarning: invalid value encountered in scalar multiply\n",
      "  net_benefit = tn/(len(y_true)) - (fn/(len(y_true)) * omega)\n"
     ]
    },
    {
     "name": "stdout",
     "output_type": "stream",
     "text": [
      "109\n"
     ]
    },
    {
     "name": "stderr",
     "output_type": "stream",
     "text": [
      "/var/folders/d4/chxwf4hs5kq7ttsp56s64z65mjk3qj/T/ipykernel_77408/1954518231.py:52: RuntimeWarning: divide by zero encountered in divide\n",
      "  net_benefit_by_omega_week_period, optimal_threshold_by_omega = find_net_benefit_min_negatives(y_pred_proba, y_test_full, 1/omega_sequences, threshold_sequence)\n",
      "/var/folders/d4/chxwf4hs5kq7ttsp56s64z65mjk3qj/T/ipykernel_77408/1058678223.py:15: RuntimeWarning: invalid value encountered in scalar multiply\n",
      "  net_benefit = tn/(len(y_true)) - (fn/(len(y_true)) * omega)\n",
      "/var/folders/d4/chxwf4hs5kq7ttsp56s64z65mjk3qj/T/ipykernel_77408/1058678223.py:15: RuntimeWarning: invalid value encountered in scalar multiply\n",
      "  net_benefit = tn/(len(y_true)) - (fn/(len(y_true)) * omega)\n",
      "/var/folders/d4/chxwf4hs5kq7ttsp56s64z65mjk3qj/T/ipykernel_77408/1058678223.py:15: RuntimeWarning: invalid value encountered in scalar multiply\n",
      "  net_benefit = tn/(len(y_true)) - (fn/(len(y_true)) * omega)\n",
      "/var/folders/d4/chxwf4hs5kq7ttsp56s64z65mjk3qj/T/ipykernel_77408/1058678223.py:15: RuntimeWarning: invalid value encountered in scalar multiply\n",
      "  net_benefit = tn/(len(y_true)) - (fn/(len(y_true)) * omega)\n",
      "/var/folders/d4/chxwf4hs5kq7ttsp56s64z65mjk3qj/T/ipykernel_77408/1058678223.py:15: RuntimeWarning: invalid value encountered in scalar multiply\n",
      "  net_benefit = tn/(len(y_true)) - (fn/(len(y_true)) * omega)\n",
      "/var/folders/d4/chxwf4hs5kq7ttsp56s64z65mjk3qj/T/ipykernel_77408/1058678223.py:15: RuntimeWarning: invalid value encountered in scalar multiply\n",
      "  net_benefit = tn/(len(y_true)) - (fn/(len(y_true)) * omega)\n",
      "/var/folders/d4/chxwf4hs5kq7ttsp56s64z65mjk3qj/T/ipykernel_77408/1058678223.py:15: RuntimeWarning: invalid value encountered in scalar multiply\n",
      "  net_benefit = tn/(len(y_true)) - (fn/(len(y_true)) * omega)\n",
      "/var/folders/d4/chxwf4hs5kq7ttsp56s64z65mjk3qj/T/ipykernel_77408/1058678223.py:15: RuntimeWarning: invalid value encountered in scalar multiply\n",
      "  net_benefit = tn/(len(y_true)) - (fn/(len(y_true)) * omega)\n"
     ]
    },
    {
     "name": "stdout",
     "output_type": "stream",
     "text": [
      "110\n"
     ]
    },
    {
     "name": "stderr",
     "output_type": "stream",
     "text": [
      "/var/folders/d4/chxwf4hs5kq7ttsp56s64z65mjk3qj/T/ipykernel_77408/1954518231.py:52: RuntimeWarning: divide by zero encountered in divide\n",
      "  net_benefit_by_omega_week_period, optimal_threshold_by_omega = find_net_benefit_min_negatives(y_pred_proba, y_test_full, 1/omega_sequences, threshold_sequence)\n",
      "/var/folders/d4/chxwf4hs5kq7ttsp56s64z65mjk3qj/T/ipykernel_77408/1058678223.py:15: RuntimeWarning: invalid value encountered in scalar multiply\n",
      "  net_benefit = tn/(len(y_true)) - (fn/(len(y_true)) * omega)\n",
      "/var/folders/d4/chxwf4hs5kq7ttsp56s64z65mjk3qj/T/ipykernel_77408/1058678223.py:15: RuntimeWarning: invalid value encountered in scalar multiply\n",
      "  net_benefit = tn/(len(y_true)) - (fn/(len(y_true)) * omega)\n",
      "/var/folders/d4/chxwf4hs5kq7ttsp56s64z65mjk3qj/T/ipykernel_77408/1058678223.py:15: RuntimeWarning: invalid value encountered in scalar multiply\n",
      "  net_benefit = tn/(len(y_true)) - (fn/(len(y_true)) * omega)\n",
      "/var/folders/d4/chxwf4hs5kq7ttsp56s64z65mjk3qj/T/ipykernel_77408/1058678223.py:15: RuntimeWarning: invalid value encountered in scalar multiply\n",
      "  net_benefit = tn/(len(y_true)) - (fn/(len(y_true)) * omega)\n",
      "/var/folders/d4/chxwf4hs5kq7ttsp56s64z65mjk3qj/T/ipykernel_77408/1058678223.py:15: RuntimeWarning: invalid value encountered in scalar multiply\n",
      "  net_benefit = tn/(len(y_true)) - (fn/(len(y_true)) * omega)\n",
      "/var/folders/d4/chxwf4hs5kq7ttsp56s64z65mjk3qj/T/ipykernel_77408/1058678223.py:15: RuntimeWarning: invalid value encountered in scalar multiply\n",
      "  net_benefit = tn/(len(y_true)) - (fn/(len(y_true)) * omega)\n",
      "/var/folders/d4/chxwf4hs5kq7ttsp56s64z65mjk3qj/T/ipykernel_77408/1058678223.py:15: RuntimeWarning: invalid value encountered in scalar multiply\n",
      "  net_benefit = tn/(len(y_true)) - (fn/(len(y_true)) * omega)\n"
     ]
    },
    {
     "name": "stdout",
     "output_type": "stream",
     "text": [
      "111\n"
     ]
    },
    {
     "name": "stderr",
     "output_type": "stream",
     "text": [
      "/var/folders/d4/chxwf4hs5kq7ttsp56s64z65mjk3qj/T/ipykernel_77408/1954518231.py:52: RuntimeWarning: divide by zero encountered in divide\n",
      "  net_benefit_by_omega_week_period, optimal_threshold_by_omega = find_net_benefit_min_negatives(y_pred_proba, y_test_full, 1/omega_sequences, threshold_sequence)\n",
      "/var/folders/d4/chxwf4hs5kq7ttsp56s64z65mjk3qj/T/ipykernel_77408/1058678223.py:15: RuntimeWarning: invalid value encountered in scalar multiply\n",
      "  net_benefit = tn/(len(y_true)) - (fn/(len(y_true)) * omega)\n",
      "/var/folders/d4/chxwf4hs5kq7ttsp56s64z65mjk3qj/T/ipykernel_77408/1058678223.py:15: RuntimeWarning: invalid value encountered in scalar multiply\n",
      "  net_benefit = tn/(len(y_true)) - (fn/(len(y_true)) * omega)\n",
      "/var/folders/d4/chxwf4hs5kq7ttsp56s64z65mjk3qj/T/ipykernel_77408/1058678223.py:15: RuntimeWarning: invalid value encountered in scalar multiply\n",
      "  net_benefit = tn/(len(y_true)) - (fn/(len(y_true)) * omega)\n",
      "/var/folders/d4/chxwf4hs5kq7ttsp56s64z65mjk3qj/T/ipykernel_77408/1058678223.py:15: RuntimeWarning: invalid value encountered in scalar multiply\n",
      "  net_benefit = tn/(len(y_true)) - (fn/(len(y_true)) * omega)\n",
      "/var/folders/d4/chxwf4hs5kq7ttsp56s64z65mjk3qj/T/ipykernel_77408/1058678223.py:15: RuntimeWarning: invalid value encountered in scalar multiply\n",
      "  net_benefit = tn/(len(y_true)) - (fn/(len(y_true)) * omega)\n",
      "/var/folders/d4/chxwf4hs5kq7ttsp56s64z65mjk3qj/T/ipykernel_77408/1058678223.py:15: RuntimeWarning: invalid value encountered in scalar multiply\n",
      "  net_benefit = tn/(len(y_true)) - (fn/(len(y_true)) * omega)\n",
      "/var/folders/d4/chxwf4hs5kq7ttsp56s64z65mjk3qj/T/ipykernel_77408/1058678223.py:15: RuntimeWarning: invalid value encountered in scalar multiply\n",
      "  net_benefit = tn/(len(y_true)) - (fn/(len(y_true)) * omega)\n",
      "/var/folders/d4/chxwf4hs5kq7ttsp56s64z65mjk3qj/T/ipykernel_77408/1058678223.py:15: RuntimeWarning: invalid value encountered in scalar multiply\n",
      "  net_benefit = tn/(len(y_true)) - (fn/(len(y_true)) * omega)\n"
     ]
    },
    {
     "name": "stdout",
     "output_type": "stream",
     "text": [
      "112\n"
     ]
    },
    {
     "name": "stderr",
     "output_type": "stream",
     "text": [
      "/var/folders/d4/chxwf4hs5kq7ttsp56s64z65mjk3qj/T/ipykernel_77408/1954518231.py:52: RuntimeWarning: divide by zero encountered in divide\n",
      "  net_benefit_by_omega_week_period, optimal_threshold_by_omega = find_net_benefit_min_negatives(y_pred_proba, y_test_full, 1/omega_sequences, threshold_sequence)\n",
      "/var/folders/d4/chxwf4hs5kq7ttsp56s64z65mjk3qj/T/ipykernel_77408/1058678223.py:15: RuntimeWarning: invalid value encountered in scalar multiply\n",
      "  net_benefit = tn/(len(y_true)) - (fn/(len(y_true)) * omega)\n",
      "/var/folders/d4/chxwf4hs5kq7ttsp56s64z65mjk3qj/T/ipykernel_77408/1058678223.py:15: RuntimeWarning: invalid value encountered in scalar multiply\n",
      "  net_benefit = tn/(len(y_true)) - (fn/(len(y_true)) * omega)\n",
      "/var/folders/d4/chxwf4hs5kq7ttsp56s64z65mjk3qj/T/ipykernel_77408/1058678223.py:15: RuntimeWarning: invalid value encountered in scalar multiply\n",
      "  net_benefit = tn/(len(y_true)) - (fn/(len(y_true)) * omega)\n",
      "/var/folders/d4/chxwf4hs5kq7ttsp56s64z65mjk3qj/T/ipykernel_77408/1058678223.py:15: RuntimeWarning: invalid value encountered in scalar multiply\n",
      "  net_benefit = tn/(len(y_true)) - (fn/(len(y_true)) * omega)\n",
      "/var/folders/d4/chxwf4hs5kq7ttsp56s64z65mjk3qj/T/ipykernel_77408/1058678223.py:15: RuntimeWarning: invalid value encountered in scalar multiply\n",
      "  net_benefit = tn/(len(y_true)) - (fn/(len(y_true)) * omega)\n",
      "/var/folders/d4/chxwf4hs5kq7ttsp56s64z65mjk3qj/T/ipykernel_77408/1058678223.py:15: RuntimeWarning: invalid value encountered in scalar multiply\n",
      "  net_benefit = tn/(len(y_true)) - (fn/(len(y_true)) * omega)\n",
      "/var/folders/d4/chxwf4hs5kq7ttsp56s64z65mjk3qj/T/ipykernel_77408/1058678223.py:15: RuntimeWarning: invalid value encountered in scalar multiply\n",
      "  net_benefit = tn/(len(y_true)) - (fn/(len(y_true)) * omega)\n",
      "/var/folders/d4/chxwf4hs5kq7ttsp56s64z65mjk3qj/T/ipykernel_77408/1058678223.py:15: RuntimeWarning: invalid value encountered in scalar multiply\n",
      "  net_benefit = tn/(len(y_true)) - (fn/(len(y_true)) * omega)\n"
     ]
    },
    {
     "name": "stdout",
     "output_type": "stream",
     "text": [
      "113\n"
     ]
    },
    {
     "name": "stderr",
     "output_type": "stream",
     "text": [
      "/var/folders/d4/chxwf4hs5kq7ttsp56s64z65mjk3qj/T/ipykernel_77408/1954518231.py:52: RuntimeWarning: divide by zero encountered in divide\n",
      "  net_benefit_by_omega_week_period, optimal_threshold_by_omega = find_net_benefit_min_negatives(y_pred_proba, y_test_full, 1/omega_sequences, threshold_sequence)\n",
      "/var/folders/d4/chxwf4hs5kq7ttsp56s64z65mjk3qj/T/ipykernel_77408/1058678223.py:15: RuntimeWarning: invalid value encountered in scalar multiply\n",
      "  net_benefit = tn/(len(y_true)) - (fn/(len(y_true)) * omega)\n",
      "/var/folders/d4/chxwf4hs5kq7ttsp56s64z65mjk3qj/T/ipykernel_77408/1058678223.py:15: RuntimeWarning: invalid value encountered in scalar multiply\n",
      "  net_benefit = tn/(len(y_true)) - (fn/(len(y_true)) * omega)\n",
      "/var/folders/d4/chxwf4hs5kq7ttsp56s64z65mjk3qj/T/ipykernel_77408/1058678223.py:15: RuntimeWarning: invalid value encountered in scalar multiply\n",
      "  net_benefit = tn/(len(y_true)) - (fn/(len(y_true)) * omega)\n",
      "/var/folders/d4/chxwf4hs5kq7ttsp56s64z65mjk3qj/T/ipykernel_77408/1058678223.py:15: RuntimeWarning: invalid value encountered in scalar multiply\n",
      "  net_benefit = tn/(len(y_true)) - (fn/(len(y_true)) * omega)\n",
      "/var/folders/d4/chxwf4hs5kq7ttsp56s64z65mjk3qj/T/ipykernel_77408/1058678223.py:15: RuntimeWarning: invalid value encountered in scalar multiply\n",
      "  net_benefit = tn/(len(y_true)) - (fn/(len(y_true)) * omega)\n",
      "/var/folders/d4/chxwf4hs5kq7ttsp56s64z65mjk3qj/T/ipykernel_77408/1058678223.py:15: RuntimeWarning: invalid value encountered in scalar multiply\n",
      "  net_benefit = tn/(len(y_true)) - (fn/(len(y_true)) * omega)\n",
      "/var/folders/d4/chxwf4hs5kq7ttsp56s64z65mjk3qj/T/ipykernel_77408/1058678223.py:15: RuntimeWarning: invalid value encountered in scalar multiply\n",
      "  net_benefit = tn/(len(y_true)) - (fn/(len(y_true)) * omega)\n",
      "/var/folders/d4/chxwf4hs5kq7ttsp56s64z65mjk3qj/T/ipykernel_77408/1058678223.py:15: RuntimeWarning: invalid value encountered in scalar multiply\n",
      "  net_benefit = tn/(len(y_true)) - (fn/(len(y_true)) * omega)\n"
     ]
    },
    {
     "name": "stdout",
     "output_type": "stream",
     "text": [
      "114\n"
     ]
    },
    {
     "name": "stderr",
     "output_type": "stream",
     "text": [
      "/var/folders/d4/chxwf4hs5kq7ttsp56s64z65mjk3qj/T/ipykernel_77408/1954518231.py:52: RuntimeWarning: divide by zero encountered in divide\n",
      "  net_benefit_by_omega_week_period, optimal_threshold_by_omega = find_net_benefit_min_negatives(y_pred_proba, y_test_full, 1/omega_sequences, threshold_sequence)\n",
      "/var/folders/d4/chxwf4hs5kq7ttsp56s64z65mjk3qj/T/ipykernel_77408/1058678223.py:15: RuntimeWarning: invalid value encountered in scalar multiply\n",
      "  net_benefit = tn/(len(y_true)) - (fn/(len(y_true)) * omega)\n",
      "/var/folders/d4/chxwf4hs5kq7ttsp56s64z65mjk3qj/T/ipykernel_77408/1058678223.py:15: RuntimeWarning: invalid value encountered in scalar multiply\n",
      "  net_benefit = tn/(len(y_true)) - (fn/(len(y_true)) * omega)\n",
      "/var/folders/d4/chxwf4hs5kq7ttsp56s64z65mjk3qj/T/ipykernel_77408/1058678223.py:15: RuntimeWarning: invalid value encountered in scalar multiply\n",
      "  net_benefit = tn/(len(y_true)) - (fn/(len(y_true)) * omega)\n",
      "/var/folders/d4/chxwf4hs5kq7ttsp56s64z65mjk3qj/T/ipykernel_77408/1058678223.py:15: RuntimeWarning: invalid value encountered in scalar multiply\n",
      "  net_benefit = tn/(len(y_true)) - (fn/(len(y_true)) * omega)\n",
      "/var/folders/d4/chxwf4hs5kq7ttsp56s64z65mjk3qj/T/ipykernel_77408/1058678223.py:15: RuntimeWarning: invalid value encountered in scalar multiply\n",
      "  net_benefit = tn/(len(y_true)) - (fn/(len(y_true)) * omega)\n",
      "/var/folders/d4/chxwf4hs5kq7ttsp56s64z65mjk3qj/T/ipykernel_77408/1058678223.py:15: RuntimeWarning: invalid value encountered in scalar multiply\n",
      "  net_benefit = tn/(len(y_true)) - (fn/(len(y_true)) * omega)\n",
      "/var/folders/d4/chxwf4hs5kq7ttsp56s64z65mjk3qj/T/ipykernel_77408/1058678223.py:15: RuntimeWarning: invalid value encountered in scalar multiply\n",
      "  net_benefit = tn/(len(y_true)) - (fn/(len(y_true)) * omega)\n",
      "/var/folders/d4/chxwf4hs5kq7ttsp56s64z65mjk3qj/T/ipykernel_77408/1058678223.py:15: RuntimeWarning: invalid value encountered in scalar multiply\n",
      "  net_benefit = tn/(len(y_true)) - (fn/(len(y_true)) * omega)\n"
     ]
    },
    {
     "name": "stdout",
     "output_type": "stream",
     "text": [
      "115\n"
     ]
    },
    {
     "name": "stderr",
     "output_type": "stream",
     "text": [
      "/var/folders/d4/chxwf4hs5kq7ttsp56s64z65mjk3qj/T/ipykernel_77408/1954518231.py:52: RuntimeWarning: divide by zero encountered in divide\n",
      "  net_benefit_by_omega_week_period, optimal_threshold_by_omega = find_net_benefit_min_negatives(y_pred_proba, y_test_full, 1/omega_sequences, threshold_sequence)\n",
      "/var/folders/d4/chxwf4hs5kq7ttsp56s64z65mjk3qj/T/ipykernel_77408/1058678223.py:15: RuntimeWarning: invalid value encountered in scalar multiply\n",
      "  net_benefit = tn/(len(y_true)) - (fn/(len(y_true)) * omega)\n",
      "/var/folders/d4/chxwf4hs5kq7ttsp56s64z65mjk3qj/T/ipykernel_77408/1058678223.py:15: RuntimeWarning: invalid value encountered in scalar multiply\n",
      "  net_benefit = tn/(len(y_true)) - (fn/(len(y_true)) * omega)\n",
      "/var/folders/d4/chxwf4hs5kq7ttsp56s64z65mjk3qj/T/ipykernel_77408/1058678223.py:15: RuntimeWarning: invalid value encountered in scalar multiply\n",
      "  net_benefit = tn/(len(y_true)) - (fn/(len(y_true)) * omega)\n",
      "/var/folders/d4/chxwf4hs5kq7ttsp56s64z65mjk3qj/T/ipykernel_77408/1058678223.py:15: RuntimeWarning: invalid value encountered in scalar multiply\n",
      "  net_benefit = tn/(len(y_true)) - (fn/(len(y_true)) * omega)\n",
      "/var/folders/d4/chxwf4hs5kq7ttsp56s64z65mjk3qj/T/ipykernel_77408/1058678223.py:15: RuntimeWarning: invalid value encountered in scalar multiply\n",
      "  net_benefit = tn/(len(y_true)) - (fn/(len(y_true)) * omega)\n",
      "/var/folders/d4/chxwf4hs5kq7ttsp56s64z65mjk3qj/T/ipykernel_77408/1058678223.py:15: RuntimeWarning: invalid value encountered in scalar multiply\n",
      "  net_benefit = tn/(len(y_true)) - (fn/(len(y_true)) * omega)\n",
      "/var/folders/d4/chxwf4hs5kq7ttsp56s64z65mjk3qj/T/ipykernel_77408/1058678223.py:15: RuntimeWarning: invalid value encountered in scalar multiply\n",
      "  net_benefit = tn/(len(y_true)) - (fn/(len(y_true)) * omega)\n",
      "/var/folders/d4/chxwf4hs5kq7ttsp56s64z65mjk3qj/T/ipykernel_77408/1058678223.py:15: RuntimeWarning: invalid value encountered in scalar multiply\n",
      "  net_benefit = tn/(len(y_true)) - (fn/(len(y_true)) * omega)\n"
     ]
    },
    {
     "name": "stdout",
     "output_type": "stream",
     "text": [
      "116\n"
     ]
    },
    {
     "name": "stderr",
     "output_type": "stream",
     "text": [
      "/var/folders/d4/chxwf4hs5kq7ttsp56s64z65mjk3qj/T/ipykernel_77408/1954518231.py:52: RuntimeWarning: divide by zero encountered in divide\n",
      "  net_benefit_by_omega_week_period, optimal_threshold_by_omega = find_net_benefit_min_negatives(y_pred_proba, y_test_full, 1/omega_sequences, threshold_sequence)\n",
      "/var/folders/d4/chxwf4hs5kq7ttsp56s64z65mjk3qj/T/ipykernel_77408/1058678223.py:15: RuntimeWarning: invalid value encountered in scalar multiply\n",
      "  net_benefit = tn/(len(y_true)) - (fn/(len(y_true)) * omega)\n",
      "/var/folders/d4/chxwf4hs5kq7ttsp56s64z65mjk3qj/T/ipykernel_77408/1058678223.py:15: RuntimeWarning: invalid value encountered in scalar multiply\n",
      "  net_benefit = tn/(len(y_true)) - (fn/(len(y_true)) * omega)\n",
      "/var/folders/d4/chxwf4hs5kq7ttsp56s64z65mjk3qj/T/ipykernel_77408/1058678223.py:15: RuntimeWarning: invalid value encountered in scalar multiply\n",
      "  net_benefit = tn/(len(y_true)) - (fn/(len(y_true)) * omega)\n",
      "/var/folders/d4/chxwf4hs5kq7ttsp56s64z65mjk3qj/T/ipykernel_77408/1058678223.py:15: RuntimeWarning: invalid value encountered in scalar multiply\n",
      "  net_benefit = tn/(len(y_true)) - (fn/(len(y_true)) * omega)\n",
      "/var/folders/d4/chxwf4hs5kq7ttsp56s64z65mjk3qj/T/ipykernel_77408/1058678223.py:15: RuntimeWarning: invalid value encountered in scalar multiply\n",
      "  net_benefit = tn/(len(y_true)) - (fn/(len(y_true)) * omega)\n",
      "/var/folders/d4/chxwf4hs5kq7ttsp56s64z65mjk3qj/T/ipykernel_77408/1058678223.py:15: RuntimeWarning: invalid value encountered in scalar multiply\n",
      "  net_benefit = tn/(len(y_true)) - (fn/(len(y_true)) * omega)\n",
      "/var/folders/d4/chxwf4hs5kq7ttsp56s64z65mjk3qj/T/ipykernel_77408/1058678223.py:15: RuntimeWarning: invalid value encountered in scalar multiply\n",
      "  net_benefit = tn/(len(y_true)) - (fn/(len(y_true)) * omega)\n",
      "/var/folders/d4/chxwf4hs5kq7ttsp56s64z65mjk3qj/T/ipykernel_77408/1058678223.py:15: RuntimeWarning: invalid value encountered in scalar multiply\n",
      "  net_benefit = tn/(len(y_true)) - (fn/(len(y_true)) * omega)\n"
     ]
    },
    {
     "name": "stdout",
     "output_type": "stream",
     "text": [
      "117\n"
     ]
    },
    {
     "name": "stderr",
     "output_type": "stream",
     "text": [
      "/var/folders/d4/chxwf4hs5kq7ttsp56s64z65mjk3qj/T/ipykernel_77408/1954518231.py:52: RuntimeWarning: divide by zero encountered in divide\n",
      "  net_benefit_by_omega_week_period, optimal_threshold_by_omega = find_net_benefit_min_negatives(y_pred_proba, y_test_full, 1/omega_sequences, threshold_sequence)\n",
      "/var/folders/d4/chxwf4hs5kq7ttsp56s64z65mjk3qj/T/ipykernel_77408/1058678223.py:15: RuntimeWarning: invalid value encountered in scalar multiply\n",
      "  net_benefit = tn/(len(y_true)) - (fn/(len(y_true)) * omega)\n",
      "/var/folders/d4/chxwf4hs5kq7ttsp56s64z65mjk3qj/T/ipykernel_77408/1058678223.py:15: RuntimeWarning: invalid value encountered in scalar multiply\n",
      "  net_benefit = tn/(len(y_true)) - (fn/(len(y_true)) * omega)\n",
      "/var/folders/d4/chxwf4hs5kq7ttsp56s64z65mjk3qj/T/ipykernel_77408/1058678223.py:15: RuntimeWarning: invalid value encountered in scalar multiply\n",
      "  net_benefit = tn/(len(y_true)) - (fn/(len(y_true)) * omega)\n",
      "/var/folders/d4/chxwf4hs5kq7ttsp56s64z65mjk3qj/T/ipykernel_77408/1058678223.py:15: RuntimeWarning: invalid value encountered in scalar multiply\n",
      "  net_benefit = tn/(len(y_true)) - (fn/(len(y_true)) * omega)\n",
      "/var/folders/d4/chxwf4hs5kq7ttsp56s64z65mjk3qj/T/ipykernel_77408/1058678223.py:15: RuntimeWarning: invalid value encountered in scalar multiply\n",
      "  net_benefit = tn/(len(y_true)) - (fn/(len(y_true)) * omega)\n",
      "/var/folders/d4/chxwf4hs5kq7ttsp56s64z65mjk3qj/T/ipykernel_77408/1058678223.py:15: RuntimeWarning: invalid value encountered in scalar multiply\n",
      "  net_benefit = tn/(len(y_true)) - (fn/(len(y_true)) * omega)\n",
      "/var/folders/d4/chxwf4hs5kq7ttsp56s64z65mjk3qj/T/ipykernel_77408/1058678223.py:15: RuntimeWarning: invalid value encountered in scalar multiply\n",
      "  net_benefit = tn/(len(y_true)) - (fn/(len(y_true)) * omega)\n",
      "/var/folders/d4/chxwf4hs5kq7ttsp56s64z65mjk3qj/T/ipykernel_77408/1058678223.py:15: RuntimeWarning: invalid value encountered in scalar multiply\n",
      "  net_benefit = tn/(len(y_true)) - (fn/(len(y_true)) * omega)\n"
     ]
    }
   ],
   "source": [
    "net_benefit_by_omega_p_full_period = {}\n",
    "threshold_by_omega_p_full_period = {}\n",
    "\n",
    "net_benefit_by_model_omega_p_period_naive = {}\n",
    "threshold_by_model_omega_p_period_naive = {}\n",
    "\n",
    "\n",
    "net_benefit_by_omega_p_full_period_min_negative = {}\n",
    "threshold_by_omega_p_full_period_min_negative = {}\n",
    "\n",
    "net_benefit_by_model_omega_p_period_naive_min_negative = {}\n",
    "threshold_by_model_omega_p_period_naive_min_negative = {}\n",
    "\n",
    "net_benefit_by_omega_p_full_period_combined = {}\n",
    "threshold_by_omega_p_full_period_min_combined = {}\n",
    "\n",
    "net_benefit_by_model_omega_p_period_naive_combined = {}\n",
    "threshold_by_model_omega_p_period_naive_combined = {}\n",
    "tp_omega_p_period_naive_combined = {}\n",
    "fp_omega_p_period_naive_combined = {}\n",
    "tn_omega_p_period_naive_combined = {}\n",
    "fn_omega_p_period_naive_combined = {}\n",
    "\n",
    "tp_omega_p_naive_combined = {}\n",
    "fp_omega_p_naive_combined = {}\n",
    "tn_omega_p_naive_combined = {}\n",
    "fn_omega_p_naive_combined = {}\n",
    "\n",
    "weeks_to_predict = range(1, 123 - size_of_test_dataset - 3 - train_weeks_for_initial_model)\n",
    "\n",
    "for prediction_week in weeks_to_predict:\n",
    "        print(prediction_week)\n",
    "        # Full model\n",
    "        model_name_to_load = \"Full_model_smaller_hyperparameters\" + time_period + \"_\" + str(prediction_week) + \".sav\"\n",
    "        clf_full_period = pickle.load(open(model_name_to_load, 'rb'))\n",
    "\n",
    "\n",
    "        X_train_full, y_train_full, weights_full, missing_data_train_HSA = prep_training_test_data(HSA_weekly_data_no_cases_no_deaths, no_weeks=range(1, int(prediction_week + train_weeks_for_initial_model) + 1), weeks_in_future=3, geography='HSA_ID', weight_col='weight', keep_output=keep_output)\n",
    "        \n",
    "        X_test_full, y_test_full, weights_test_full, missing_data_test_HSA = prep_training_test_data(HSA_weekly_data_no_cases_no_deaths, no_weeks=range(int(prediction_week + train_weeks_for_initial_model) + 1, int(prediction_week + train_weeks_for_initial_model + size_of_test_dataset) + 1), weeks_in_future=3, geography='HSA_ID', weight_col='weight', keep_output=keep_output)\n",
    "        weights_full_period = weights_full[0].to_numpy()\n",
    "\n",
    "        clf_full_period.fit(X_train_full, y_train_full, sample_weight=weights_full_period)\n",
    "\n",
    "        # Make predictions on the test set\n",
    "        y_pred = clf_full_period.predict(X_test_full)\n",
    "\n",
    "        y_pred_proba = clf_full_period.predict_proba(X_test_full)\n",
    "        net_benefit_by_omega_week_period, optimal_threshold_by_omega = find_net_benefit(y_pred_proba, y_test_full, omega_sequences, threshold_sequence)\n",
    "        net_benefit_by_omega_p_full_period.__setitem__(prediction_week, net_benefit_by_omega_week_period)  \n",
    "        threshold_by_omega_p_full_period.__setitem__(prediction_week, optimal_threshold_by_omega)  \n",
    "        net_benefit_by_omega_week_period, optimal_threshold_by_omega = find_net_benefit_min_negatives(y_pred_proba, y_test_full, 1/omega_sequences, threshold_sequence)\n",
    "        net_benefit_by_omega_p_full_period_min_negative.__setitem__(prediction_week, net_benefit_by_omega_week_period)  \n",
    "        \n",
    "        net_benefit_by_omega_week_period, optimal_threshold_by_omega, tp_by_omega, fp_by_omega, tn_by_omega, fn_by_omega = find_net_benefit_balance_all(y_pred_proba, y_test_full, omega_sequences, threshold_sequence)\n",
    "        net_benefit_by_omega_p_full_period_combined.__setitem__(prediction_week, net_benefit_by_omega_week_period)\n",
    "        tp_omega_p_period_naive_combined.__setitem__(prediction_week, tp_by_omega)\n",
    "        fp_omega_p_period_naive_combined.__setitem__(prediction_week, fp_by_omega)\n",
    "        tn_omega_p_period_naive_combined.__setitem__(prediction_week, tn_by_omega)\n",
    "        fn_omega_p_period_naive_combined.__setitem__(prediction_week, fn_by_omega)\n",
    "\n",
    "\n",
    "        # Naive model \n",
    "        X_train_naive, y_train_naive, weights_naive, missing_data_train_HSA = prep_training_test_data(naive_data, no_weeks=range(1, int(prediction_week + train_weeks_for_initial_model) + 1), weeks_in_future=3, geography='HSA_ID', weight_col='weight', keep_output=keep_output)\n",
    "        \n",
    "        X_test_naive, y_test_naive, weights_test_naive, missing_data_test_HSA = prep_training_test_data(naive_data, no_weeks=range(int(prediction_week + train_weeks_for_initial_model) + 1, int(prediction_week + train_weeks_for_initial_model + size_of_test_dataset) + 1), weeks_in_future=3, geography='HSA_ID', weight_col='weight', keep_output=keep_output)\n",
    "        weights_naive = weights_naive[0].to_numpy()\n",
    "        # no hyperparameter tuning as is the same irrespective of hyperparameters\n",
    "        clf_naive = DecisionTreeClassifier( random_state=10, class_weight='balanced')\n",
    "        clf_naive.fit(X_train_naive, y_train_naive, sample_weight=weights_naive)\n",
    "\n",
    "        # Make predictions on the test set\n",
    "        y_pred = clf_naive.predict(X_test_naive)\n",
    "        y_pred_proba = clf_naive.predict_proba(X_test_naive)\n",
    "\n",
    "        # Evaluate the accuracy of the model\n",
    "\n",
    "        net_benefit_by_omega_week_period_naive, optimal_threshold_by_omega = find_net_benefit(y_pred_proba, y_test_naive, omega_sequences, threshold_sequence)\n",
    "        net_benefit_by_model_omega_p_period_naive.__setitem__(prediction_week, net_benefit_by_omega_week_period_naive)\n",
    "        threshold_by_model_omega_p_period_naive.__setitem__(prediction_week, optimal_threshold_by_omega)\n",
    "\n",
    "        net_benefit_by_omega_week_period_naive, optimal_threshold_by_omega = find_net_benefit_min_negatives(y_pred_proba, y_test_naive, omega_sequences, threshold_sequence)\n",
    "        net_benefit_by_model_omega_p_period_naive_min_negative.__setitem__(prediction_week, net_benefit_by_omega_week_period_naive)\n",
    "\n",
    "        net_benefit_by_omega_week_period_naive, optimal_threshold_by_omega, tp_by_omega, fp_by_omega, tn_by_omega, fn_by_omega= find_net_benefit_balance_all(y_pred_proba, y_test_naive, omega_sequences, threshold_sequence)\n",
    "        net_benefit_by_model_omega_p_period_naive_combined.__setitem__(prediction_week, net_benefit_by_omega_week_period_naive)\n",
    "\n",
    "        tp_omega_p_naive_combined.__setitem__(prediction_week, tp_by_omega)\n",
    "        fp_omega_p_naive_combined.__setitem__(prediction_week, fp_by_omega)\n",
    "        tn_omega_p_naive_combined.__setitem__(prediction_week, tn_by_omega)\n",
    "        fn_omega_p_naive_combined.__setitem__(prediction_week, fn_by_omega)"
   ]
  },
  {
   "cell_type": "code",
   "execution_count": 21,
   "metadata": {},
   "outputs": [
    {
     "name": "stderr",
     "output_type": "stream",
     "text": [
      "/var/folders/d4/chxwf4hs5kq7ttsp56s64z65mjk3qj/T/ipykernel_77408/1789392147.py:21: PerformanceWarning: DataFrame is highly fragmented.  This is usually the result of calling `frame.insert` many times, which has poor performance.  Consider joining all columns at once using pd.concat(axis=1) instead. To get a de-fragmented frame, use `newframe = frame.copy()`\n",
      "  heatmap_data_omega[week] = weekly_data\n",
      "/var/folders/d4/chxwf4hs5kq7ttsp56s64z65mjk3qj/T/ipykernel_77408/1789392147.py:21: PerformanceWarning: DataFrame is highly fragmented.  This is usually the result of calling `frame.insert` many times, which has poor performance.  Consider joining all columns at once using pd.concat(axis=1) instead. To get a de-fragmented frame, use `newframe = frame.copy()`\n",
      "  heatmap_data_omega[week] = weekly_data\n"
     ]
    }
   ],
   "source": [
    "net_benefit_by_omega_p_full_period_min_negative_flipped = get_heatmap_data_for_omega_optimal_threshold(net_benefit_by_omega_p_full_period_min_negative, weeks_to_predict)\n",
    "net_benefit_by_omega_p_full_period_flipped = get_heatmap_data_for_omega_optimal_threshold(net_benefit_by_omega_p_full_period, weeks_to_predict)"
   ]
  },
  {
   "cell_type": "code",
   "execution_count": 22,
   "metadata": {},
   "outputs": [
    {
     "data": {
      "text/plain": [
       "<Axes: >"
      ]
     },
     "execution_count": 22,
     "metadata": {},
     "output_type": "execute_result"
    },
    {
     "data": {
      "image/png": "[encoded data removed]",
      "text/plain": [
       "<Figure size 640x480 with 2 Axes>"
      ]
     },
     "metadata": {},
     "output_type": "display_data"
    }
   ],
   "source": [
    "sns.heatmap(net_benefit_by_omega_p_full_period_min_negative_flipped, annot=False, cmap='PiYG', cbar_kws = dict(use_gridspec=True,location=\"top\"))\n"
   ]
  },
  {
   "cell_type": "code",
   "execution_count": null,
   "metadata": {},
   "outputs": [],
   "source": [
    "gain_NB_full_vs_naive = calculate_gain_data(net_benefit_by_model_omega_p_period_naive, net_benefit_by_omega_p_full_period, omega_sequences, weeks_to_predict)\n",
    "gain_NB_full_vs_naive_min_negative = calculate_gain_data(net_benefit_by_model_omega_p_period_naive_min_negative, net_benefit_by_omega_p_full_period_min_negative, omega_sequences, weeks_to_predict)\n"
   ]
  },
  {
   "attachments": {},
   "cell_type": "markdown",
   "metadata": {},
   "source": [
    "Combined metric"
   ]
  },
  {
   "cell_type": "code",
   "execution_count": 23,
   "metadata": {},
   "outputs": [
    {
     "name": "stderr",
     "output_type": "stream",
     "text": [
      "/var/folders/d4/chxwf4hs5kq7ttsp56s64z65mjk3qj/T/ipykernel_77408/1789392147.py:21: PerformanceWarning: DataFrame is highly fragmented.  This is usually the result of calling `frame.insert` many times, which has poor performance.  Consider joining all columns at once using pd.concat(axis=1) instead. To get a de-fragmented frame, use `newframe = frame.copy()`\n",
      "  heatmap_data_omega[week] = weekly_data\n"
     ]
    }
   ],
   "source": [
    "net_benefit_by_omega_p_full_period_combined_flipped = get_heatmap_data_for_omega_optimal_threshold(net_benefit_by_omega_p_full_period_combined, weeks_to_predict)\n"
   ]
  },
  {
   "cell_type": "code",
   "execution_count": 28,
   "metadata": {},
   "outputs": [
    {
     "name": "stderr",
     "output_type": "stream",
     "text": [
      "/var/folders/d4/chxwf4hs5kq7ttsp56s64z65mjk3qj/T/ipykernel_77408/1789392147.py:21: PerformanceWarning: DataFrame is highly fragmented.  This is usually the result of calling `frame.insert` many times, which has poor performance.  Consider joining all columns at once using pd.concat(axis=1) instead. To get a de-fragmented frame, use `newframe = frame.copy()`\n",
      "  heatmap_data_omega[week] = weekly_data\n",
      "/var/folders/d4/chxwf4hs5kq7ttsp56s64z65mjk3qj/T/ipykernel_77408/1789392147.py:21: PerformanceWarning: DataFrame is highly fragmented.  This is usually the result of calling `frame.insert` many times, which has poor performance.  Consider joining all columns at once using pd.concat(axis=1) instead. To get a de-fragmented frame, use `newframe = frame.copy()`\n",
      "  heatmap_data_omega[week] = weekly_data\n",
      "/var/folders/d4/chxwf4hs5kq7ttsp56s64z65mjk3qj/T/ipykernel_77408/1789392147.py:32: PerformanceWarning: DataFrame is highly fragmented.  This is usually the result of calling `frame.insert` many times, which has poor performance.  Consider joining all columns at once using pd.concat(axis=1) instead. To get a de-fragmented frame, use `newframe = frame.copy()`\n",
      "  gain_data['threshold_sequences'] = threshold_sequences\n"
     ]
    },
    {
     "data": {
      "image/png": "[encoded data removed]",
      "text/plain": [
       "<Figure size 1700x750 with 6 Axes>"
      ]
     },
     "metadata": {},
     "output_type": "display_data"
    }
   ],
   "source": [
    "fig, axes = plt.subplots(1, 2, figsize=(17, 7.5), sharey = 'all', sharex = 'all')\n",
    "axes.ravel()\n",
    "gain_NB_full_vs_naive_combined = calculate_gain_data(net_benefit_by_model_omega_p_period_naive_combined, net_benefit_by_omega_p_full_period_combined, omega_sequences, weeks_to_predict)\n",
    "\n",
    "\n",
    "sns.heatmap(gain_NB_full_vs_naive, annot=False, cmap='PiYG', ax = axes[0], cbar_kws = dict(use_gridspec=True,location=\"top\"), vmin=-0.5, vmax=0.5)\n",
    "axes[0].invert_yaxis()\n",
    "ax2 = axes[0].twinx()\n",
    "sns.lineplot(x=weeks_to_predict, y=percent_exceed_capacity[0:len(weeks_to_predict)], ax=ax2,  color = 'black', linestyle = '--')\n",
    "#ax2.set_ylabel('Percent exceeding hospital capacity', fontsize=14, **hfont)\n",
    "ax2.tick_params(axis='y', which='major', labelsize=14)\n",
    "\n",
    "sns.heatmap(gain_NB_full_vs_naive_combined, annot=False, cmap='PiYG',  ax = axes[1], cbar_kws = dict(use_gridspec=True,location=\"top\"), vmin=-0.5, vmax=0.5)\n",
    "axes[1].invert_yaxis()\n",
    "ax2 = axes[1].twinx()\n",
    "\n",
    "sns.lineplot(x=weeks_to_predict, y=percent_exceed_capacity[0:len(weeks_to_predict)], ax=ax2,  color = 'black', linestyle = '--')\n",
    "ax2.set_ylabel('Percent exceeding hospital capacity', fontsize=14, **hfont)\n",
    "\n",
    "y_ticks = range(0, 401, 40)\n",
    "axes[0].set_yticks(y_ticks)  # Set the positions\n",
    "y_labels = [omega_sequences[y] for y in y_ticks]\n",
    "y_labels = [round(label, 2) for label in y_labels]\n",
    "axes[0].set_yticklabels(y_labels,fontsize=14, **hfont)  # Set the labels\n",
    "\n",
    "axes[0].set_xticks(range(0, 120, 10))\n",
    "x_labels = range(0, 120, 10)\n",
    "axes[0].set_xticklabels(x_labels, rotation=45, fontsize=14, **hfont)\n",
    "axes[1].set_xticks(range(0, 120, 10))\n",
    "x_labels = range(0, 120, 10)\n",
    "axes[1].set_xticklabels(x_labels, rotation=45, fontsize=14, **hfont)\n",
    "\n",
    "axes[0].set_xlabel('Weeks after 2020-07-15', fontsize=18, **hfont)\n",
    "axes[1].set_xlabel('Weeks after 2020-07-15', fontsize=18, **hfont)\n",
    "axes[0].set_ylabel(\"Penalty \", fontsize=18, **hfont)\n",
    "axes[1].set_ylabel(\"Penalty \", fontsize=18, **hfont)\n",
    "add_labels_to_subplots(axes, hfont, 1.01, 24);\n",
    "ax2.tick_params(axis='y', which='major', labelsize=14)\n",
    "\n",
    "plt.tight_layout()\n",
    "add_labels_to_subplots(axes, hfont, 1.01, 24);\n",
    "plt.savefig(f'/Users/rem76/Documents/COVID_projections/Exact_analysis/Graphs/Net_benefit_removed_naive_expanding_train_models_exact_{size_of_test_dataset}_week_NB_combined_NB_grid_search.png', dpi = 300)"
   ]
  },
  {
   "cell_type": "code",
   "execution_count": 29,
   "metadata": {},
   "outputs": [],
   "source": [
    "gain_NB_full_vs_naive_combined.to_csv('/Users/rem76/Documents/COVID_projections/Exact_analysis/gain_NB_removed_vs_naive_combined_smaller_hyperparameters.csv')\n",
    "gain_NB_full_vs_naive.to_csv('/Users/rem76/Documents/COVID_projections/Exact_analysis/gain_NB_removed_vs_naive_smaller_hyperparameters.csv')"
   ]
  }
 ],
 "metadata": {
  "kernelspec": {
   "display_name": "COVID_forecasting",
   "language": "python",
   "name": "python3"
  },
  "language_info": {
   "codemirror_mode": {
    "name": "ipython",
    "version": 3
   },
   "file_extension": ".py",
   "mimetype": "text/x-python",
   "name": "python",
   "nbconvert_exporter": "python",
   "pygments_lexer": "ipython3",
   "version": "3.11.3"
  },
  "orig_nbformat": 4,
  "vscode": {
   "interpreter": {
    "hash": "a72d884e172d11118bfdfb578e108fb6b63a679c74d3d7d2f9d493a9a72737c0"
   }
  }
 },
 "nbformat": 4,
 "nbformat_minor": 2
}
