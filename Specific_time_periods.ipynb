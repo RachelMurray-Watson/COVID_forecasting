{
 "cells": [
  {
   "attachments": {},
   "cell_type": "markdown",
   "metadata": {},
   "source": [
    "# Look at specific waves of the pandemic"
   ]
  },
  {
   "cell_type": "code",
   "execution_count": 44,
   "metadata": {},
   "outputs": [],
   "source": [
    "#%reset\n",
    "import matplotlib.pyplot as plt\n",
    "import pandas as pd\n",
    "import numpy as np\n",
    "from sklearn import tree\n",
    "from sklearn.tree import DecisionTreeClassifier, plot_tree\n",
    "from sklearn.metrics import accuracy_score, confusion_matrix,roc_curve\n",
    "from num2words import num2words\n",
    "from sklearn.model_selection import RandomizedSearchCV, cross_val_score, KFold, RepeatedStratifiedKFold\n",
    "from sklearn.metrics import f1_score, matthews_corrcoef, roc_auc_score\n",
    "import word2number\n",
    "from word2number import w2n\n",
    "from sklearn.tree import DecisionTreeClassifier\n",
    "from Functions import add_labels_to_subplots, merge_and_rename_data, pivot_data_by_HSA, create_column_names, create_collated_weekly_data, add_changes_by_week, calculate_metrics, merge_and_rename_data, add_changes_by_week, determine_covid_outcome_indicator, prep_training_test_data_period, prep_training_test_data, prep_training_test_data_shifted, cross_validation_leave_geo_out\n",
    "import random\n",
    "import sklearn.metrics \n",
    "\n",
    "#from Functions import add_labels_to_subplots, merge_and_rename_data, pivot_data_by_HSA, create_column_names, create_collated_weekly_data, add_changes_by_week, prep_training_test_data_period, prep_training_test_data, calculate_ppv_npv, merge_and_rename_data, add_changes_by_week, determine_covid_outcome_indicator\n",
    "hfont = {'fontname':'Helvetica'}\n",
    "\n",
    "#oversample = RandomOverSampler(sampling_strategy = 0.5,random_state=10) #need for neural network and random forest\n",
    "import pickle\n"
   ]
  },
  {
   "cell_type": "code",
   "execution_count": 45,
   "metadata": {},
   "outputs": [
    {
     "name": "stderr",
     "output_type": "stream",
     "text": [
      "/var/folders/d4/chxwf4hs5kq7ttsp56s64z65mjk3qj/T/ipykernel_31008/448745239.py:1: DtypeWarning: Columns (41,43,44,45,46,50,51) have mixed types. Specify dtype option on import or set low_memory=False.\n",
      "  data_by_HSA = pd.read_csv('/Users/rem76/Documents/COVID_projections/hsa_time_data_all_dates.csv')\n"
     ]
    }
   ],
   "source": [
    "data_by_HSA = pd.read_csv('/Users/rem76/Documents/COVID_projections/hsa_time_data_all_dates.csv')\n",
    "data_by_HSA['health_service_area_number']\n",
    "data_by_HSA['health_service_area']\n",
    "#data_by_HSA['HSA_ID'] = data_by_HSA['health_service_area_number'].astype(str) + '' + data_by_HSA['health_service_area'].apply(lambda x: x.split()[0])\n",
    "data_by_HSA.rename(columns={'health_service_area_number': 'HSA_ID'}, inplace=True)\n",
    "\n",
    "data_by_HSA['beds_over_15_100k'] = (data_by_HSA['beds_weekly'] > 15)*1\n",
    "\n",
    "# remove HSAs that have missing data in specific columns\n",
    "\n",
    "data_by_HSA = data_by_HSA.dropna(subset=['admits_weekly', 'deaths_weekly', 'cases_weekly', 'icu_weekly', 'beds_weekly', 'perc_covid'])\n",
    "\n",
    "data_by_HSA['date'] = pd.to_datetime(data_by_HSA['date'])\n"
   ]
  },
  {
   "attachments": {},
   "cell_type": "markdown",
   "metadata": {},
   "source": [
    "# CDC classifier period \n",
    "March 1st 2021 - Jan 24th 2022"
   ]
  },
  {
   "attachments": {},
   "cell_type": "markdown",
   "metadata": {},
   "source": [
    "Only using the CDC classifier features"
   ]
  },
  {
   "cell_type": "code",
   "execution_count": 100,
   "metadata": {},
   "outputs": [],
   "source": [
    "start_date = pd.to_datetime('2021-03-01')\n",
    "end_date = pd.to_datetime('2022-01-24')\n",
    "data_by_HSA_CDC_dates = data_by_HSA[(data_by_HSA['date'] >= start_date) & (data_by_HSA['date'] <= end_date)]\n",
    "\n",
    "for i, week in enumerate(data_by_HSA_CDC_dates['date'].unique()):\n",
    "    data_by_HSA_CDC_dates.loc[data_by_HSA_CDC_dates['date'] == week, 'week'] = i"
   ]
  },
  {
   "cell_type": "code",
   "execution_count": 101,
   "metadata": {},
   "outputs": [],
   "source": [
    "## pivot\n",
    "data_by_HSA_CDC_dates_cases = pivot_data_by_HSA(data_by_HSA_CDC_dates, 'week', 'HSA_ID', 'cases_weekly')\n",
    "data_by_HSA_CDC_dates_admissions = pivot_data_by_HSA(data_by_HSA_CDC_dates, 'week', 'HSA_ID', 'admits_weekly')\n",
    "data_by_HSA_CDC_dates_percent_beds = pivot_data_by_HSA(data_by_HSA_CDC_dates, 'week', 'HSA_ID', 'perc_covid')\n",
    "data_by_HSA_CDC_dates_over_15_100k = pivot_data_by_HSA(data_by_HSA_CDC_dates, 'week', 'HSA_ID', 'beds_over_15_100k')\n",
    "\n",
    "## merge (incl outcome)\n",
    "data_by_HSA_CDC_dates_cases_admits = merge_and_rename_data(data_by_HSA_CDC_dates_cases, data_by_HSA_CDC_dates_admissions,'week','cases', 'admits')\n",
    "\n",
    "data_by_HSA_CDC_dates_admits_perc_outcome = merge_and_rename_data(data_by_HSA_CDC_dates_percent_beds, data_by_HSA_CDC_dates_over_15_100k,'week','perc_covid', 'beds_over_15_100k')\n",
    "data_by_HSA_CDC_dates_cases_admits_perc_outcome= pd.merge(data_by_HSA_CDC_dates_cases_admits, data_by_HSA_CDC_dates_admits_perc_outcome, on='week')\n",
    "\n",
    "data_by_HSA_CDC_dates_cases_admits_perc_outcome = data_by_HSA_CDC_dates_cases_admits_perc_outcome.reset_index()\n",
    "data_by_HSA_CDC_dates_cases_admits_perc_outcome.columns = data_by_HSA_CDC_dates_cases_admits_perc_outcome.columns.str.replace(',', '')\n",
    "\n",
    "## collate weekly data\n",
    "categories_for_subsetting = ['cases', 'admits','perc_covid', 'beds_over_15_100k']\n",
    "num_of_weeks = len(data_by_HSA_CDC_dates_cases_admits_perc_outcome)\n",
    "column_names = create_column_names(categories_for_subsetting, num_of_weeks)\n",
    "\n",
    "all_HSA_ID_weekly_data = create_collated_weekly_data(data_by_HSA_CDC_dates_cases_admits_perc_outcome, data_by_HSA_CDC_dates, categories_for_subsetting, 'HSA_ID', column_names)\n",
    "\n",
    "weights_df = data_by_HSA[data_by_HSA['HSA_ID'].isin(all_HSA_ID_weekly_data['HSA_ID'])][['HSA_ID','weight_alt']]\n",
    "weights_df = weights_df.rename(columns={'HSA_ID': 'HSA_ID', 'weight_alt':'weight'})\n",
    "weights_df = weights_df.drop_duplicates()\n",
    "weights_df['weight'].unique()\n",
    "all_HSA_ID_weekly_data = all_HSA_ID_weekly_data.join(weights_df['weight'])"
   ]
  },
  {
   "cell_type": "code",
   "execution_count": 102,
   "metadata": {},
   "outputs": [],
   "source": [
    "X_train, y_train, weights, missing_data_train_HSA = prep_training_test_data(all_HSA_ID_weekly_data,   no_weeks = range(1, int(num_of_weeks*2/3) + 1), weeks_in_future = 3,  geography = 'HSA_ID', weight_col = 'weight', keep_output = False)\n",
    "\n",
    "X_test, y_test, weights_test, missing_data_test_HSA = prep_training_test_data(all_HSA_ID_weekly_data,   no_weeks = range(int(num_of_weeks*2/3) + 1, num_of_weeks-2), weeks_in_future = 3,  geography = 'HSA_ID',  weight_col = 'weight', keep_output = False)\n",
    "weights = weights[0].to_numpy()"
   ]
  },
  {
   "attachments": {},
   "cell_type": "markdown",
   "metadata": {},
   "source": [
    "# CDC Classifier A"
   ]
  },
  {
   "cell_type": "code",
   "execution_count": 49,
   "metadata": {},
   "outputs": [],
   "source": [
    "no_iterations = 10  \n",
    "geography_column = 'HSA_ID'  \n",
    "geo_split = 0.9  \n",
    "time_period = 'exact'  # Choose 'period', 'exact', or 'shifted'\n",
    "no_weeks_train =  range(1, int(num_of_weeks*2/3) + 1)  # First 6 months initially \n",
    "no_weeks_test = range(int(num_of_weeks*2/3) + 1, num_of_weeks -2)  # Next three months\n",
    "weeks_in_future = 3 \n",
    "weight_col = 'weight'  \n",
    "keep_output = False  \n",
    "no_iterations_param = 100  # Replace with the number of iterations for RandomizedSearchCV\n",
    "param_grid = {\n",
    "    'criterion': ['gini', 'entropy'],\n",
    "    'max_depth': np.arange(2, 5, 1),\n",
    "    'min_samples_split': np.arange(200, 2000, 50), #[100, 200, 300, 400, 500], #np.arange(50, 200),\n",
    "    'min_samples_leaf':  np.arange(200, 2000, 50)} #100, 200, 300, 400, 500], #np.arange(500, 200)\n",
    "    #'ccp_alpha': np.arange(0.0001, 0.0035, 0.0001) }\n",
    "\n",
    "# Create the Decision Tree classifier\n",
    "cv = RepeatedStratifiedKFold(n_splits=10,  n_repeats=10,random_state=1) ## 10-fold cross validations"
   ]
  },
  {
   "cell_type": "code",
   "execution_count": null,
   "metadata": {},
   "outputs": [],
   "source": [
    "\n",
    "# Create the Decision Tree classifier\n",
    "cv = RepeatedStratifiedKFold(n_splits=10,  n_repeats=10,random_state=1) ## 10-fold cross validations\n",
    "\n",
    "clf = DecisionTreeClassifier(random_state=10, class_weight='balanced')\n",
    "\n",
    "# Perform Randomized Search with 10-fold cross-validation\n",
    "\n",
    "best_params = cross_validation_leave_geo_out(all_HSA_ID_weekly_data, geography_column = geography_column, geo_split = geo_split, no_iterations = no_iterations, cv = cv, classifier = clf, param_grid = param_grid, no_iterations_param = no_iterations_param, no_weeks_train = no_weeks_train,no_weeks_test = no_weeks_test, weeks_in_future = weeks_in_future, weight_col = weight_col, keep_output = keep_output, time_period = time_period)\n",
    "# Create the Decision Tree classifier with the best hyperparameters\n",
    "clf = DecisionTreeClassifier(**best_params, random_state=10, class_weight='balanced')\n",
    "\n",
    "# Train the decision tree classifier\n",
    "clf.fit(X_train, y_train[0],  sample_weight = weights)\n",
    "\n",
    "# Make predictions on the test set\n",
    "y_pred = clf.predict(X_test)\n",
    "y_pred_proba = clf.predict_proba(X_test)\n",
    "\n",
    "# Evaluate the accuracy of the model\n",
    "accuracy = accuracy_score(y_test, y_pred)\n",
    "ROC = roc_auc_score(y_test[0], y_pred_proba[:,1])\n",
    "MCC = (matthews_corrcoef(y_test, y_pred) + 1)/2\n",
    "\n",
    "print(\"Accuracy:\", accuracy)\n",
    "print(\"auROC:\", ROC)\n",
    "\n",
    "print(confusion_matrix(y_test, y_pred))\n",
    "plot_tree(clf,feature_names=['Cases', 'Admits','Percent Covid'], class_names=['Below', 'Above'], filled=True, impurity=False, proportion=False, rounded=True, precision=3)\n"
   ]
  },
  {
   "cell_type": "code",
   "execution_count": 103,
   "metadata": {},
   "outputs": [],
   "source": [
    "#model_name = f\"CDC_classifier_auroc_{ROC:.4f}_CDC_period.sav\"\n",
    "#pickle.dump(clf, open(model_name, 'wb'))\n",
    "CDC_Classifier_A = pickle.load(open('/Users/rem76/Documents/COVID_projections/COVID_forecasting/Best_models_123_classifier/CDC_classifier_auroc_0.7603_CDC_period.sav', 'rb'))"
   ]
  },
  {
   "cell_type": "code",
   "execution_count": 106,
   "metadata": {},
   "outputs": [
    {
     "name": "stdout",
     "output_type": "stream",
     "text": [
      "Accuracy: 0.9\n",
      "auROC: 0.7602994430565424\n",
      "MCC: 0.6824450307729893\n",
      "[[ 348  296]\n",
      " [ 744 9012]]\n"
     ]
    }
   ],
   "source": [
    "CDC_Classifier_A.fit(X_train, y_train[0],  sample_weight = weights)\n",
    "\n",
    "# Make predictions on the test set\n",
    "y_pred_Classifier_A = CDC_Classifier_A.predict(X_test)\n",
    "y_pred_proba_Classifier_A = CDC_Classifier_A.predict_proba(X_test)\n",
    "\n",
    "# Evaluate the accuracy of the model\n",
    "accuracy = accuracy_score(y_test, y_pred_Classifier_A)\n",
    "ROC = roc_auc_score(y_test[0], y_pred_proba_Classifier_A[:,1])\n",
    "MCC = (matthews_corrcoef(y_test, y_pred_Classifier_A) + 1)/2\n",
    "\n",
    "print(\"Accuracy:\", accuracy)\n",
    "print(\"auROC:\", ROC)\n",
    "print(\"MCC:\", MCC)\n",
    "print(confusion_matrix(y_test, y_pred_Classifier_A))"
   ]
  },
  {
   "cell_type": "code",
   "execution_count": null,
   "metadata": {},
   "outputs": [
    {
     "name": "stderr",
     "output_type": "stream",
     "text": [
      "/var/folders/d4/chxwf4hs5kq7ttsp56s64z65mjk3qj/T/ipykernel_16495/2721498185.py:5: PerformanceWarning: DataFrame is highly fragmented.  This is usually the result of calling `frame.insert` many times, which has poor performance.  Consider joining all columns at once using pd.concat(axis=1) instead. To get a de-fragmented frame, use `newframe = frame.copy()`\n",
      "  heatmap_data_full_period[week] = weekly_data\n"
     ]
    }
   ],
   "source": [
    "heatmap_data_full_period = pd.DataFrame()\n",
    "for week in range( 1, weeks_to_predict[-1],1 ):\n",
    "        weekly_data = accuracy_p_full_period[week]\n",
    "        weekly_data = weekly_data[::-1]\n",
    "        heatmap_data_full_period[week] = weekly_data"
   ]
  },
  {
   "attachments": {},
   "cell_type": "markdown",
   "metadata": {},
   "source": [
    "# CDC outcomes"
   ]
  },
  {
   "cell_type": "code",
   "execution_count": 60,
   "metadata": {},
   "outputs": [],
   "source": [
    "CDC_predictions_levels = pd.DataFrame(index=data_by_HSA_CDC_dates_cases_admits_perc_outcome['week'])\n",
    "indicators, actual_outcome, weights, missing_data_train_HSA = prep_training_test_data(all_HSA_ID_weekly_data,  no_weeks = range(1, 45), weeks_in_future = 3,  geography = 'HSA_ID', weight_col = 'weight', keep_output = False)\n",
    "weights = weights[0].to_numpy()\n",
    "for idx, row in indicators.iterrows():\n",
    "    outcome = determine_covid_outcome_indicator(row[1], row[2], row[3])\n",
    "    CDC_predictions_levels.at[idx, 0] = outcome"
   ]
  },
  {
   "cell_type": "code",
   "execution_count": 61,
   "metadata": {},
   "outputs": [
    {
     "name": "stdout",
     "output_type": "stream",
     "text": [
      "Percentage High and 1: 95.84%\n",
      "Percentage Medium and 1: 87.20%\n",
      "Percentage Low and 1: 70.99%\n"
     ]
    },
    {
     "name": "stderr",
     "output_type": "stream",
     "text": [
      "/var/folders/d4/chxwf4hs5kq7ttsp56s64z65mjk3qj/T/ipykernel_31008/1410080619.py:6: FutureWarning: Calling float on a single element Series is deprecated and will raise a TypeError in the future. Use float(ser.iloc[0]) instead\n",
      "  print(\"Percentage High and 1: {:.2f}%\".format(float(percentage_high_and_1)))\n",
      "/var/folders/d4/chxwf4hs5kq7ttsp56s64z65mjk3qj/T/ipykernel_31008/1410080619.py:14: FutureWarning: Calling float on a single element Series is deprecated and will raise a TypeError in the future. Use float(ser.iloc[0]) instead\n",
      "  print(\"Percentage Medium and 1: {:.2f}%\".format(float(percentage_med_and_1)))\n",
      "/var/folders/d4/chxwf4hs5kq7ttsp56s64z65mjk3qj/T/ipykernel_31008/1410080619.py:21: FutureWarning: Calling float on a single element Series is deprecated and will raise a TypeError in the future. Use float(ser.iloc[0]) instead\n",
      "  print(\"Percentage Low and 1: {:.2f}%\".format(float(percentage_low_and_1)))\n"
     ]
    }
   ],
   "source": [
    "\n",
    "# Calculate the percentage of cases where the predicted CDC risk level is 'High' and actual outcome is 1\n",
    "sum_high_and_1 = np.sum((CDC_predictions_levels == 'High') & (actual_outcome == 1))\n",
    "sum_high_and_0 = np.sum((CDC_predictions_levels == 'High') & (actual_outcome == 0))\n",
    "total_high_predictions = np.sum(CDC_predictions_levels == 'High')\n",
    "percentage_high_and_1 = (sum_high_and_1 / total_high_predictions) * 100\n",
    "print(\"Percentage High and 1: {:.2f}%\".format(float(percentage_high_and_1)))\n",
    "\n",
    "# Calculate the percentage of cases where the predicted CDC risk level is 'Medium' and actual outcome is 1\n",
    "sum_med_and_1 = np.sum((CDC_predictions_levels == 'Medium') & (actual_outcome == 1))\n",
    "sum_med_and_0 = np.sum((CDC_predictions_levels == 'Medium') & (actual_outcome == 0))\n",
    "\n",
    "total_med_predictions = np.sum(CDC_predictions_levels == 'Medium')\n",
    "percentage_med_and_1 = (sum_med_and_1 / total_med_predictions) * 100\n",
    "print(\"Percentage Medium and 1: {:.2f}%\".format(float(percentage_med_and_1)))\n",
    "\n",
    "# Calculate the percentage of cases where the predicted CDC risk level is 'Low' and actual outcome is 1\n",
    "sum_low_and_1 = np.sum((CDC_predictions_levels == 'Low') & (actual_outcome == 1))\n",
    "sum_low_and_0 = np.sum((CDC_predictions_levels == 'Low') & (actual_outcome == 0))\n",
    "total_low_predictions = np.sum(CDC_predictions_levels == 'Low')\n",
    "percentage_low_and_1 = (sum_low_and_1 / total_low_predictions) * 100\n",
    "print(\"Percentage Low and 1: {:.2f}%\".format(float(percentage_low_and_1)))"
   ]
  },
  {
   "cell_type": "code",
   "execution_count": 62,
   "metadata": {},
   "outputs": [],
   "source": [
    "replacement_map = {'Low': 0, 'Medium': 0, 'High': 1}\n",
    "\n",
    "# Replace values in the 'CDC_predictions_levels' column\n",
    "CDC_predictions_levels_binary = CDC_predictions_levels[0].replace(replacement_map)\n"
   ]
  },
  {
   "cell_type": "code",
   "execution_count": 63,
   "metadata": {},
   "outputs": [],
   "source": [
    "# Calculate the True Positive Rate (Sensitivity) and False Positive Rate for different levels\n",
    "tpr_high = sum_high_and_1 / total_high_predictions\n",
    "fpr_high = (total_high_predictions - sum_high_and_1) / total_high_predictions\n",
    "\n",
    "tpr_med = (total_med_predictions - sum_med_and_1) / total_med_predictions\n",
    "fpr_med = sum_med_and_1 / total_med_predictions\n",
    "\n",
    "tpr_low = (total_low_predictions - sum_low_and_1) / total_low_predictions\n",
    "fpr_low = sum_low_and_1 / total_low_predictions\n",
    "\n",
    "# Create ROC curve points\n",
    "roc_points = [(fpr_low, tpr_low), (fpr_med, tpr_med), (fpr_high, tpr_high)]\n",
    "\n",
    "# Calculate AUROC score\n",
    "auroc_score = roc_auc_score(actual_outcome, CDC_predictions_levels_binary)\n"
   ]
  },
  {
   "cell_type": "code",
   "execution_count": 131,
   "metadata": {},
   "outputs": [
    {
     "data": {
      "text/plain": [
       "<matplotlib.legend.Legend at 0x176987550>"
      ]
     },
     "execution_count": 131,
     "metadata": {},
     "output_type": "execute_result"
    },
    {
     "data": {
      "text/plain": [
       "<Figure size 800x600 with 0 Axes>"
      ]
     },
     "metadata": {},
     "output_type": "display_data"
    },
    {
     "data": {
      "image/png": "[encoded data removed]",
      "text/plain": [
       "<Figure size 800x600 with 1 Axes>"
      ]
     },
     "metadata": {},
     "output_type": "display_data"
    }
   ],
   "source": [
    "\n",
    "# Plot the ROC curve\n",
    "plt.figure(figsize=(8, 6))\n",
    "fpr, tpr, thresholds = roc_curve(actual_outcome, CDC_predictions_levels_binary)\n",
    "\n",
    "# Plot the ROC curve\n",
    "plt.figure(figsize=(8, 6))\n",
    "plt.plot([0, 1], [0, 1], 'k--', label='Random Guessing')  # Plot the diagonal line representing random guessing\n",
    "plt.plot(fpr, tpr, label=f'AUC = {auroc_score:.2f}')  # Plot the ROC curve\n",
    "plt.xlabel('False Positive Rate (FPR)')\n",
    "plt.ylabel('True Positive Rate (TPR)')\n",
    "plt.title('Receiver Operating Characteristic (ROC) Curve')\n",
    "plt.legend(['Random Guessing', f'AUC = {auroc_score:.2f}'])\n"
   ]
  },
  {
   "cell_type": "code",
   "execution_count": 111,
   "metadata": {},
   "outputs": [
    {
     "data": {
      "text/plain": [
       "0.6631454936040726"
      ]
     },
     "execution_count": 111,
     "metadata": {},
     "output_type": "execute_result"
    }
   ],
   "source": [
    "auroc_score"
   ]
  },
  {
   "cell_type": "code",
   "execution_count": 64,
   "metadata": {},
   "outputs": [],
   "source": [
    "TP_CDC_Classifier = sum_high_and_1\n",
    "FP_CDC_Classifier = sum_med_and_1 + sum_low_and_1\n",
    "TN_CDC_CLassifier = sum_med_and_0 + sum_low_and_0\n",
    "FN_CDC_Classifier  = sum_high_and_0"
   ]
  },
  {
   "attachments": {},
   "cell_type": "markdown",
   "metadata": {},
   "source": [
    "# Naive classifier for this period"
   ]
  },
  {
   "cell_type": "code",
   "execution_count": 71,
   "metadata": {},
   "outputs": [],
   "source": [
    "X_train, y_train, weights, missing_data_train_HSA = prep_training_test_data(all_HSA_ID_weekly_data,   no_weeks = range(1, int(num_of_weeks*2/3) + 1), weeks_in_future = 3,  geography = 'HSA_ID', weight_col = 'weight', keep_output = True)\n",
    "\n",
    "X_test, y_test, weights_test, missing_data_test_HSA = prep_training_test_data(all_HSA_ID_weekly_data,   no_weeks = range(int(num_of_weeks*2/3) + 1, num_of_weeks-2), weeks_in_future = 3,  geography = 'HSA_ID',  weight_col = 'weight', keep_output = True)\n",
    "weights = weights[0].to_numpy()\n",
    "X_train_naive = X_train.iloc[:, -1].values.reshape(-1, 1)\n",
    "X_test_naive = X_test.iloc[:, -1].values.reshape(-1, 1)"
   ]
  },
  {
   "cell_type": "code",
   "execution_count": 74,
   "metadata": {},
   "outputs": [
    {
     "name": "stdout",
     "output_type": "stream",
     "text": [
      "MCC: 0.7145570051904345\n",
      "Accuracy: 0.931923076923077\n",
      "auROC: 0.7200652441307022\n"
     ]
    }
   ],
   "source": [
    "# Create the Decision Tree classifier\n",
    "cv = RepeatedStratifiedKFold(n_splits=10,  n_repeats=10,random_state=1) ## 10-fold cross validations\n",
    "\n",
    "clf = DecisionTreeClassifier(random_state=10, class_weight='balanced')\n",
    "\n",
    "# Perform Randomized Search with 10-fold cross-validation\n",
    "random_search = RandomizedSearchCV(clf, param_grid, n_iter=50, cv=cv, random_state=10)\n",
    "random_search.fit(X_train_naive, y_train, sample_weight = weights)\n",
    "\n",
    "best_params = random_search.best_params_\n",
    "\n",
    "# Create the Decision Tree classifier with the best hyperparameters\n",
    "clf = DecisionTreeClassifier(**best_params, random_state=10, class_weight='balanced')\n",
    "\n",
    "# Train the decision tree classifier\n",
    "clf.fit(X_train_naive, y_train[0],  sample_weight = weights)\n",
    "\n",
    "# Make predictions on the test set\n",
    "y_pred = clf.predict(X_test_naive)\n",
    "y_pred_proba_naive = clf.predict_proba(X_test_naive)\n",
    "\n",
    "# Evaluate the accuracy of the model\n",
    "accuracy = accuracy_score(y_test, y_pred)\n",
    "ROC = roc_auc_score(y_test[0], y_pred_proba_naive[:,1])\n",
    "MCC = (matthews_corrcoef(y_test, y_pred) + 1)/2\n",
    "\n",
    "print(\"MCC:\", MCC)\n",
    "print(\"Accuracy:\", accuracy)\n",
    "print(\"auROC:\", ROC)\n"
   ]
  },
  {
   "attachments": {},
   "cell_type": "markdown",
   "metadata": {},
   "source": [
    "# Classifier B"
   ]
  },
  {
   "cell_type": "code",
   "execution_count": 75,
   "metadata": {},
   "outputs": [],
   "source": [
    "X_train, y_train, weights, missing_data_train_HSA = prep_training_test_data(all_HSA_ID_weekly_data,   no_weeks = range(1, int(num_of_weeks*2/3) + 1), weeks_in_future = 3,  geography = 'HSA_ID', weight_col = 'weight', keep_output = True)\n",
    "\n",
    "X_test, y_test, weights_test, missing_data_test_HSA = prep_training_test_data(all_HSA_ID_weekly_data,   no_weeks = range(int(num_of_weeks*2/3) + 1, num_of_weeks-2), weeks_in_future = 3,  geography = 'HSA_ID',  weight_col = 'weight', keep_output = True)"
   ]
  },
  {
   "cell_type": "code",
   "execution_count": 76,
   "metadata": {},
   "outputs": [],
   "source": [
    "weights = weights[0]"
   ]
  },
  {
   "cell_type": "code",
   "execution_count": null,
   "metadata": {},
   "outputs": [],
   "source": [
    "# Create the Decision Tree classifier\n",
    "cv = RepeatedStratifiedKFold(n_splits=10,  n_repeats=10,random_state=1) ## 10-fold cross validations\n",
    "\n",
    "clf = DecisionTreeClassifier(random_state=10, class_weight='balanced')\n",
    "\n",
    "# Perform Randomized Search with 10-fold cross-validation\n",
    "\n",
    "best_params = cross_validation_leave_geo_out(all_HSA_ID_weekly_data, geography_column = geography_column, geo_split = geo_split, no_iterations = no_iterations, cv = cv, classifier = clf, param_grid = param_grid, no_iterations_param = no_iterations_param, no_weeks_train = no_weeks_train,no_weeks_test = no_weeks_test, weeks_in_future = weeks_in_future, weight_col = weight_col, keep_output = keep_output, time_period = time_period)\n",
    "# Create the Decision Tree classifier with the best hyperparameters\n",
    "clf = DecisionTreeClassifier(**best_params, random_state=10, class_weight='balanced')\n",
    "\n",
    "# Train the decision tree classifier\n",
    "clf.fit(X_train, y_train[0],  sample_weight = weights)\n",
    "\n",
    "# Make predictions on the test set\n",
    "y_pred = clf.predict(X_test)\n",
    "y_pred_proba = clf.predict_proba(X_test)\n",
    "\n",
    "# Evaluate the accuracy of the model\n",
    "accuracy = accuracy_score(y_test, y_pred)\n",
    "ROC = roc_auc_score(y_test[0], y_pred_proba[:,1])\n",
    "MCC = (matthews_corrcoef(y_test, y_pred) + 1)/2\n",
    "\n",
    "print(\"MCC:\", MCC)\n",
    "print(\"Accuracy:\", accuracy)\n",
    "print(\"auROC:\", ROC)\n",
    "\n",
    "print(confusion_matrix(y_test, y_pred))\n",
    "plot_tree(clf,feature_names=['Cases', 'Admits','Percent Covid'], class_names=['Below', 'Above'], filled=True, impurity=False, proportion=False, rounded=True, precision=3)"
   ]
  },
  {
   "cell_type": "code",
   "execution_count": 34,
   "metadata": {},
   "outputs": [
    {
     "name": "stdout",
     "output_type": "stream",
     "text": [
      "MCC: 0.7145570051904345\n",
      "Accuracy: 0.931923076923077\n",
      "auROC: 0.7975111350492388\n",
      "[[ 308  336]\n",
      " [ 372 9384]]\n"
     ]
    },
    {
     "data": {
      "text/plain": [
       "[Text(0.5, 0.8333333333333334, 'Current capacity <= 0.5\\nsamples = 24800\\nvalue = [15.442, 15.442]\\nclass = Above'),\n",
       " Text(0.25, 0.5, 'Percent Covid <= 0.001\\nsamples = 5851\\nvalue = [9.874, 1.883]\\nclass = Below'),\n",
       " Text(0.125, 0.16666666666666666, 'samples = 3507\\nvalue = [6.996, 0.824]\\nclass = Below'),\n",
       " Text(0.375, 0.16666666666666666, 'samples = 2344\\nvalue = [2.878, 1.059]\\nclass = Below'),\n",
       " Text(0.75, 0.5, 'Percent Covid <= 0.037\\nsamples = 18949\\nvalue = [5.569, 13.559]\\nclass = Above'),\n",
       " Text(0.625, 0.16666666666666666, 'samples = 7938\\nvalue = [4.22, 5.147]\\nclass = Above'),\n",
       " Text(0.875, 0.16666666666666666, 'samples = 11011\\nvalue = [1.348, 8.412]\\nclass = Above')]"
      ]
     },
     "execution_count": 34,
     "metadata": {},
     "output_type": "execute_result"
    },
    {
     "data": {
      "image/png": "[encoded data removed]",
      "text/plain": [
       "<Figure size 640x480 with 1 Axes>"
      ]
     },
     "metadata": {},
     "output_type": "display_data"
    }
   ],
   "source": [
    "\n",
    "# Train the decision tree classifier\n",
    "clf.fit(X_train, y_train[0],  sample_weight = weights)\n",
    "\n",
    "# Make predictions on the test set\n",
    "y_pred = clf.predict(X_test)\n",
    "y_pred_proba = clf.predict_proba(X_test)\n",
    "\n",
    "# Evaluate the accuracy of the model\n",
    "accuracy = accuracy_score(y_test, y_pred)\n",
    "ROC = roc_auc_score(y_test[0], y_pred_proba[:,1])\n",
    "MCC = (matthews_corrcoef(y_test, y_pred) + 1)/2\n",
    "\n",
    "print(\"MCC:\", MCC)\n",
    "print(\"Accuracy:\", accuracy)\n",
    "print(\"auROC:\", ROC)\n",
    "\n",
    "print(confusion_matrix(y_test, y_pred))\n",
    "plot_tree(clf,feature_names=['Cases', 'Admits','Percent Covid', 'Current capacity'], class_names=['Below', 'Above'], filled=True, impurity=False, proportion=False, rounded=True, precision=3)"
   ]
  },
  {
   "cell_type": "code",
   "execution_count": 35,
   "metadata": {},
   "outputs": [],
   "source": [
    "model_name = f\"CDC_classifier_auroc_{ROC:.4f}_CDC_period_B.sav\"\n",
    "pickle.dump(clf, open(model_name, 'wb'))"
   ]
  },
  {
   "cell_type": "code",
   "execution_count": 77,
   "metadata": {},
   "outputs": [],
   "source": [
    "CDC_Classifier_B = pickle.load(open('/Users/rem76/Documents/COVID_projections/COVID_forecasting/Best_models_123_classifier/CDC_classifier_auroc_0.7975_CDC_period_B.sav', 'rb'))\n",
    "# Train the decision tree classifier\n",
    "CDC_Classifier_B.fit(X_train, y_train[0],  sample_weight = weights)\n",
    "\n",
    "# Make predictions on the test set\n",
    "y_pred = CDC_Classifier_B.predict(X_test)\n",
    "y_pred_proba_Classifier_B = CDC_Classifier_B.predict_proba(X_test)"
   ]
  },
  {
   "attachments": {},
   "cell_type": "markdown",
   "metadata": {},
   "source": [
    "## Full classifier "
   ]
  },
  {
   "attachments": {},
   "cell_type": "markdown",
   "metadata": {},
   "source": [
    "# Full classifier"
   ]
  },
  {
   "cell_type": "code",
   "execution_count": 108,
   "metadata": {},
   "outputs": [
    {
     "name": "stderr",
     "output_type": "stream",
     "text": [
      "/Users/rem76/Documents/COVID_projections/COVID_forecasting/Functions.py:360: PerformanceWarning: DataFrame is highly fragmented.  This is usually the result of calling `frame.insert` many times, which has poor performance.  Consider joining all columns at once using pd.concat(axis=1) instead. To get a de-fragmented frame, use `newframe = frame.copy()`\n",
      "  weekly_data_frame.insert(column_index + 1, new_column_name, diff)\n",
      "/Users/rem76/Documents/COVID_projections/COVID_forecasting/Functions.py:360: PerformanceWarning: DataFrame is highly fragmented.  This is usually the result of calling `frame.insert` many times, which has poor performance.  Consider joining all columns at once using pd.concat(axis=1) instead. To get a de-fragmented frame, use `newframe = frame.copy()`\n",
      "  weekly_data_frame.insert(column_index + 1, new_column_name, diff)\n",
      "/Users/rem76/Documents/COVID_projections/COVID_forecasting/Functions.py:360: PerformanceWarning: DataFrame is highly fragmented.  This is usually the result of calling `frame.insert` many times, which has poor performance.  Consider joining all columns at once using pd.concat(axis=1) instead. To get a de-fragmented frame, use `newframe = frame.copy()`\n",
      "  weekly_data_frame.insert(column_index + 1, new_column_name, diff)\n",
      "/Users/rem76/Documents/COVID_projections/COVID_forecasting/Functions.py:360: PerformanceWarning: DataFrame is highly fragmented.  This is usually the result of calling `frame.insert` many times, which has poor performance.  Consider joining all columns at once using pd.concat(axis=1) instead. To get a de-fragmented frame, use `newframe = frame.copy()`\n",
      "  weekly_data_frame.insert(column_index + 1, new_column_name, diff)\n",
      "/Users/rem76/Documents/COVID_projections/COVID_forecasting/Functions.py:360: PerformanceWarning: DataFrame is highly fragmented.  This is usually the result of calling `frame.insert` many times, which has poor performance.  Consider joining all columns at once using pd.concat(axis=1) instead. To get a de-fragmented frame, use `newframe = frame.copy()`\n",
      "  weekly_data_frame.insert(column_index + 1, new_column_name, diff)\n",
      "/Users/rem76/Documents/COVID_projections/COVID_forecasting/Functions.py:360: PerformanceWarning: DataFrame is highly fragmented.  This is usually the result of calling `frame.insert` many times, which has poor performance.  Consider joining all columns at once using pd.concat(axis=1) instead. To get a de-fragmented frame, use `newframe = frame.copy()`\n",
      "  weekly_data_frame.insert(column_index + 1, new_column_name, diff)\n",
      "/Users/rem76/Documents/COVID_projections/COVID_forecasting/Functions.py:360: PerformanceWarning: DataFrame is highly fragmented.  This is usually the result of calling `frame.insert` many times, which has poor performance.  Consider joining all columns at once using pd.concat(axis=1) instead. To get a de-fragmented frame, use `newframe = frame.copy()`\n",
      "  weekly_data_frame.insert(column_index + 1, new_column_name, diff)\n",
      "/Users/rem76/Documents/COVID_projections/COVID_forecasting/Functions.py:360: PerformanceWarning: DataFrame is highly fragmented.  This is usually the result of calling `frame.insert` many times, which has poor performance.  Consider joining all columns at once using pd.concat(axis=1) instead. To get a de-fragmented frame, use `newframe = frame.copy()`\n",
      "  weekly_data_frame.insert(column_index + 1, new_column_name, diff)\n",
      "/Users/rem76/Documents/COVID_projections/COVID_forecasting/Functions.py:360: PerformanceWarning: DataFrame is highly fragmented.  This is usually the result of calling `frame.insert` many times, which has poor performance.  Consider joining all columns at once using pd.concat(axis=1) instead. To get a de-fragmented frame, use `newframe = frame.copy()`\n",
      "  weekly_data_frame.insert(column_index + 1, new_column_name, diff)\n",
      "/Users/rem76/Documents/COVID_projections/COVID_forecasting/Functions.py:360: PerformanceWarning: DataFrame is highly fragmented.  This is usually the result of calling `frame.insert` many times, which has poor performance.  Consider joining all columns at once using pd.concat(axis=1) instead. To get a de-fragmented frame, use `newframe = frame.copy()`\n",
      "  weekly_data_frame.insert(column_index + 1, new_column_name, diff)\n",
      "/Users/rem76/Documents/COVID_projections/COVID_forecasting/Functions.py:360: PerformanceWarning: DataFrame is highly fragmented.  This is usually the result of calling `frame.insert` many times, which has poor performance.  Consider joining all columns at once using pd.concat(axis=1) instead. To get a de-fragmented frame, use `newframe = frame.copy()`\n",
      "  weekly_data_frame.insert(column_index + 1, new_column_name, diff)\n",
      "/Users/rem76/Documents/COVID_projections/COVID_forecasting/Functions.py:360: PerformanceWarning: DataFrame is highly fragmented.  This is usually the result of calling `frame.insert` many times, which has poor performance.  Consider joining all columns at once using pd.concat(axis=1) instead. To get a de-fragmented frame, use `newframe = frame.copy()`\n",
      "  weekly_data_frame.insert(column_index + 1, new_column_name, diff)\n",
      "/Users/rem76/Documents/COVID_projections/COVID_forecasting/Functions.py:360: PerformanceWarning: DataFrame is highly fragmented.  This is usually the result of calling `frame.insert` many times, which has poor performance.  Consider joining all columns at once using pd.concat(axis=1) instead. To get a de-fragmented frame, use `newframe = frame.copy()`\n",
      "  weekly_data_frame.insert(column_index + 1, new_column_name, diff)\n",
      "/Users/rem76/Documents/COVID_projections/COVID_forecasting/Functions.py:360: PerformanceWarning: DataFrame is highly fragmented.  This is usually the result of calling `frame.insert` many times, which has poor performance.  Consider joining all columns at once using pd.concat(axis=1) instead. To get a de-fragmented frame, use `newframe = frame.copy()`\n",
      "  weekly_data_frame.insert(column_index + 1, new_column_name, diff)\n",
      "/Users/rem76/Documents/COVID_projections/COVID_forecasting/Functions.py:360: PerformanceWarning: DataFrame is highly fragmented.  This is usually the result of calling `frame.insert` many times, which has poor performance.  Consider joining all columns at once using pd.concat(axis=1) instead. To get a de-fragmented frame, use `newframe = frame.copy()`\n",
      "  weekly_data_frame.insert(column_index + 1, new_column_name, diff)\n",
      "/Users/rem76/Documents/COVID_projections/COVID_forecasting/Functions.py:360: PerformanceWarning: DataFrame is highly fragmented.  This is usually the result of calling `frame.insert` many times, which has poor performance.  Consider joining all columns at once using pd.concat(axis=1) instead. To get a de-fragmented frame, use `newframe = frame.copy()`\n",
      "  weekly_data_frame.insert(column_index + 1, new_column_name, diff)\n",
      "/Users/rem76/Documents/COVID_projections/COVID_forecasting/Functions.py:360: PerformanceWarning: DataFrame is highly fragmented.  This is usually the result of calling `frame.insert` many times, which has poor performance.  Consider joining all columns at once using pd.concat(axis=1) instead. To get a de-fragmented frame, use `newframe = frame.copy()`\n",
      "  weekly_data_frame.insert(column_index + 1, new_column_name, diff)\n",
      "/Users/rem76/Documents/COVID_projections/COVID_forecasting/Functions.py:360: PerformanceWarning: DataFrame is highly fragmented.  This is usually the result of calling `frame.insert` many times, which has poor performance.  Consider joining all columns at once using pd.concat(axis=1) instead. To get a de-fragmented frame, use `newframe = frame.copy()`\n",
      "  weekly_data_frame.insert(column_index + 1, new_column_name, diff)\n",
      "/Users/rem76/Documents/COVID_projections/COVID_forecasting/Functions.py:360: PerformanceWarning: DataFrame is highly fragmented.  This is usually the result of calling `frame.insert` many times, which has poor performance.  Consider joining all columns at once using pd.concat(axis=1) instead. To get a de-fragmented frame, use `newframe = frame.copy()`\n",
      "  weekly_data_frame.insert(column_index + 1, new_column_name, diff)\n",
      "/Users/rem76/Documents/COVID_projections/COVID_forecasting/Functions.py:360: PerformanceWarning: DataFrame is highly fragmented.  This is usually the result of calling `frame.insert` many times, which has poor performance.  Consider joining all columns at once using pd.concat(axis=1) instead. To get a de-fragmented frame, use `newframe = frame.copy()`\n",
      "  weekly_data_frame.insert(column_index + 1, new_column_name, diff)\n",
      "/Users/rem76/Documents/COVID_projections/COVID_forecasting/Functions.py:360: PerformanceWarning: DataFrame is highly fragmented.  This is usually the result of calling `frame.insert` many times, which has poor performance.  Consider joining all columns at once using pd.concat(axis=1) instead. To get a de-fragmented frame, use `newframe = frame.copy()`\n",
      "  weekly_data_frame.insert(column_index + 1, new_column_name, diff)\n",
      "/Users/rem76/Documents/COVID_projections/COVID_forecasting/Functions.py:360: PerformanceWarning: DataFrame is highly fragmented.  This is usually the result of calling `frame.insert` many times, which has poor performance.  Consider joining all columns at once using pd.concat(axis=1) instead. To get a de-fragmented frame, use `newframe = frame.copy()`\n",
      "  weekly_data_frame.insert(column_index + 1, new_column_name, diff)\n",
      "/Users/rem76/Documents/COVID_projections/COVID_forecasting/Functions.py:360: PerformanceWarning: DataFrame is highly fragmented.  This is usually the result of calling `frame.insert` many times, which has poor performance.  Consider joining all columns at once using pd.concat(axis=1) instead. To get a de-fragmented frame, use `newframe = frame.copy()`\n",
      "  weekly_data_frame.insert(column_index + 1, new_column_name, diff)\n",
      "/Users/rem76/Documents/COVID_projections/COVID_forecasting/Functions.py:360: PerformanceWarning: DataFrame is highly fragmented.  This is usually the result of calling `frame.insert` many times, which has poor performance.  Consider joining all columns at once using pd.concat(axis=1) instead. To get a de-fragmented frame, use `newframe = frame.copy()`\n",
      "  weekly_data_frame.insert(column_index + 1, new_column_name, diff)\n",
      "/Users/rem76/Documents/COVID_projections/COVID_forecasting/Functions.py:360: PerformanceWarning: DataFrame is highly fragmented.  This is usually the result of calling `frame.insert` many times, which has poor performance.  Consider joining all columns at once using pd.concat(axis=1) instead. To get a de-fragmented frame, use `newframe = frame.copy()`\n",
      "  weekly_data_frame.insert(column_index + 1, new_column_name, diff)\n",
      "/Users/rem76/Documents/COVID_projections/COVID_forecasting/Functions.py:360: PerformanceWarning: DataFrame is highly fragmented.  This is usually the result of calling `frame.insert` many times, which has poor performance.  Consider joining all columns at once using pd.concat(axis=1) instead. To get a de-fragmented frame, use `newframe = frame.copy()`\n",
      "  weekly_data_frame.insert(column_index + 1, new_column_name, diff)\n",
      "/Users/rem76/Documents/COVID_projections/COVID_forecasting/Functions.py:360: PerformanceWarning: DataFrame is highly fragmented.  This is usually the result of calling `frame.insert` many times, which has poor performance.  Consider joining all columns at once using pd.concat(axis=1) instead. To get a de-fragmented frame, use `newframe = frame.copy()`\n",
      "  weekly_data_frame.insert(column_index + 1, new_column_name, diff)\n",
      "/Users/rem76/Documents/COVID_projections/COVID_forecasting/Functions.py:360: PerformanceWarning: DataFrame is highly fragmented.  This is usually the result of calling `frame.insert` many times, which has poor performance.  Consider joining all columns at once using pd.concat(axis=1) instead. To get a de-fragmented frame, use `newframe = frame.copy()`\n",
      "  weekly_data_frame.insert(column_index + 1, new_column_name, diff)\n",
      "/Users/rem76/Documents/COVID_projections/COVID_forecasting/Functions.py:360: PerformanceWarning: DataFrame is highly fragmented.  This is usually the result of calling `frame.insert` many times, which has poor performance.  Consider joining all columns at once using pd.concat(axis=1) instead. To get a de-fragmented frame, use `newframe = frame.copy()`\n",
      "  weekly_data_frame.insert(column_index + 1, new_column_name, diff)\n",
      "/Users/rem76/Documents/COVID_projections/COVID_forecasting/Functions.py:360: PerformanceWarning: DataFrame is highly fragmented.  This is usually the result of calling `frame.insert` many times, which has poor performance.  Consider joining all columns at once using pd.concat(axis=1) instead. To get a de-fragmented frame, use `newframe = frame.copy()`\n",
      "  weekly_data_frame.insert(column_index + 1, new_column_name, diff)\n",
      "/Users/rem76/Documents/COVID_projections/COVID_forecasting/Functions.py:360: PerformanceWarning: DataFrame is highly fragmented.  This is usually the result of calling `frame.insert` many times, which has poor performance.  Consider joining all columns at once using pd.concat(axis=1) instead. To get a de-fragmented frame, use `newframe = frame.copy()`\n",
      "  weekly_data_frame.insert(column_index + 1, new_column_name, diff)\n",
      "/Users/rem76/Documents/COVID_projections/COVID_forecasting/Functions.py:360: PerformanceWarning: DataFrame is highly fragmented.  This is usually the result of calling `frame.insert` many times, which has poor performance.  Consider joining all columns at once using pd.concat(axis=1) instead. To get a de-fragmented frame, use `newframe = frame.copy()`\n",
      "  weekly_data_frame.insert(column_index + 1, new_column_name, diff)\n",
      "/Users/rem76/Documents/COVID_projections/COVID_forecasting/Functions.py:360: PerformanceWarning: DataFrame is highly fragmented.  This is usually the result of calling `frame.insert` many times, which has poor performance.  Consider joining all columns at once using pd.concat(axis=1) instead. To get a de-fragmented frame, use `newframe = frame.copy()`\n",
      "  weekly_data_frame.insert(column_index + 1, new_column_name, diff)\n",
      "/Users/rem76/Documents/COVID_projections/COVID_forecasting/Functions.py:360: PerformanceWarning: DataFrame is highly fragmented.  This is usually the result of calling `frame.insert` many times, which has poor performance.  Consider joining all columns at once using pd.concat(axis=1) instead. To get a de-fragmented frame, use `newframe = frame.copy()`\n",
      "  weekly_data_frame.insert(column_index + 1, new_column_name, diff)\n",
      "/Users/rem76/Documents/COVID_projections/COVID_forecasting/Functions.py:360: PerformanceWarning: DataFrame is highly fragmented.  This is usually the result of calling `frame.insert` many times, which has poor performance.  Consider joining all columns at once using pd.concat(axis=1) instead. To get a de-fragmented frame, use `newframe = frame.copy()`\n",
      "  weekly_data_frame.insert(column_index + 1, new_column_name, diff)\n",
      "/Users/rem76/Documents/COVID_projections/COVID_forecasting/Functions.py:360: PerformanceWarning: DataFrame is highly fragmented.  This is usually the result of calling `frame.insert` many times, which has poor performance.  Consider joining all columns at once using pd.concat(axis=1) instead. To get a de-fragmented frame, use `newframe = frame.copy()`\n",
      "  weekly_data_frame.insert(column_index + 1, new_column_name, diff)\n",
      "/Users/rem76/Documents/COVID_projections/COVID_forecasting/Functions.py:360: PerformanceWarning: DataFrame is highly fragmented.  This is usually the result of calling `frame.insert` many times, which has poor performance.  Consider joining all columns at once using pd.concat(axis=1) instead. To get a de-fragmented frame, use `newframe = frame.copy()`\n",
      "  weekly_data_frame.insert(column_index + 1, new_column_name, diff)\n",
      "/Users/rem76/Documents/COVID_projections/COVID_forecasting/Functions.py:360: PerformanceWarning: DataFrame is highly fragmented.  This is usually the result of calling `frame.insert` many times, which has poor performance.  Consider joining all columns at once using pd.concat(axis=1) instead. To get a de-fragmented frame, use `newframe = frame.copy()`\n",
      "  weekly_data_frame.insert(column_index + 1, new_column_name, diff)\n",
      "/Users/rem76/Documents/COVID_projections/COVID_forecasting/Functions.py:360: PerformanceWarning: DataFrame is highly fragmented.  This is usually the result of calling `frame.insert` many times, which has poor performance.  Consider joining all columns at once using pd.concat(axis=1) instead. To get a de-fragmented frame, use `newframe = frame.copy()`\n",
      "  weekly_data_frame.insert(column_index + 1, new_column_name, diff)\n",
      "/Users/rem76/Documents/COVID_projections/COVID_forecasting/Functions.py:360: PerformanceWarning: DataFrame is highly fragmented.  This is usually the result of calling `frame.insert` many times, which has poor performance.  Consider joining all columns at once using pd.concat(axis=1) instead. To get a de-fragmented frame, use `newframe = frame.copy()`\n",
      "  weekly_data_frame.insert(column_index + 1, new_column_name, diff)\n",
      "/Users/rem76/Documents/COVID_projections/COVID_forecasting/Functions.py:360: PerformanceWarning: DataFrame is highly fragmented.  This is usually the result of calling `frame.insert` many times, which has poor performance.  Consider joining all columns at once using pd.concat(axis=1) instead. To get a de-fragmented frame, use `newframe = frame.copy()`\n",
      "  weekly_data_frame.insert(column_index + 1, new_column_name, diff)\n",
      "/Users/rem76/Documents/COVID_projections/COVID_forecasting/Functions.py:360: PerformanceWarning: DataFrame is highly fragmented.  This is usually the result of calling `frame.insert` many times, which has poor performance.  Consider joining all columns at once using pd.concat(axis=1) instead. To get a de-fragmented frame, use `newframe = frame.copy()`\n",
      "  weekly_data_frame.insert(column_index + 1, new_column_name, diff)\n",
      "/Users/rem76/Documents/COVID_projections/COVID_forecasting/Functions.py:360: PerformanceWarning: DataFrame is highly fragmented.  This is usually the result of calling `frame.insert` many times, which has poor performance.  Consider joining all columns at once using pd.concat(axis=1) instead. To get a de-fragmented frame, use `newframe = frame.copy()`\n",
      "  weekly_data_frame.insert(column_index + 1, new_column_name, diff)\n",
      "/Users/rem76/Documents/COVID_projections/COVID_forecasting/Functions.py:360: PerformanceWarning: DataFrame is highly fragmented.  This is usually the result of calling `frame.insert` many times, which has poor performance.  Consider joining all columns at once using pd.concat(axis=1) instead. To get a de-fragmented frame, use `newframe = frame.copy()`\n",
      "  weekly_data_frame.insert(column_index + 1, new_column_name, diff)\n",
      "/Users/rem76/Documents/COVID_projections/COVID_forecasting/Functions.py:360: PerformanceWarning: DataFrame is highly fragmented.  This is usually the result of calling `frame.insert` many times, which has poor performance.  Consider joining all columns at once using pd.concat(axis=1) instead. To get a de-fragmented frame, use `newframe = frame.copy()`\n",
      "  weekly_data_frame.insert(column_index + 1, new_column_name, diff)\n",
      "/Users/rem76/Documents/COVID_projections/COVID_forecasting/Functions.py:360: PerformanceWarning: DataFrame is highly fragmented.  This is usually the result of calling `frame.insert` many times, which has poor performance.  Consider joining all columns at once using pd.concat(axis=1) instead. To get a de-fragmented frame, use `newframe = frame.copy()`\n",
      "  weekly_data_frame.insert(column_index + 1, new_column_name, diff)\n",
      "/Users/rem76/Documents/COVID_projections/COVID_forecasting/Functions.py:360: PerformanceWarning: DataFrame is highly fragmented.  This is usually the result of calling `frame.insert` many times, which has poor performance.  Consider joining all columns at once using pd.concat(axis=1) instead. To get a de-fragmented frame, use `newframe = frame.copy()`\n",
      "  weekly_data_frame.insert(column_index + 1, new_column_name, diff)\n",
      "/Users/rem76/Documents/COVID_projections/COVID_forecasting/Functions.py:360: PerformanceWarning: DataFrame is highly fragmented.  This is usually the result of calling `frame.insert` many times, which has poor performance.  Consider joining all columns at once using pd.concat(axis=1) instead. To get a de-fragmented frame, use `newframe = frame.copy()`\n",
      "  weekly_data_frame.insert(column_index + 1, new_column_name, diff)\n",
      "/Users/rem76/Documents/COVID_projections/COVID_forecasting/Functions.py:360: PerformanceWarning: DataFrame is highly fragmented.  This is usually the result of calling `frame.insert` many times, which has poor performance.  Consider joining all columns at once using pd.concat(axis=1) instead. To get a de-fragmented frame, use `newframe = frame.copy()`\n",
      "  weekly_data_frame.insert(column_index + 1, new_column_name, diff)\n",
      "/Users/rem76/Documents/COVID_projections/COVID_forecasting/Functions.py:360: PerformanceWarning: DataFrame is highly fragmented.  This is usually the result of calling `frame.insert` many times, which has poor performance.  Consider joining all columns at once using pd.concat(axis=1) instead. To get a de-fragmented frame, use `newframe = frame.copy()`\n",
      "  weekly_data_frame.insert(column_index + 1, new_column_name, diff)\n",
      "/Users/rem76/Documents/COVID_projections/COVID_forecasting/Functions.py:360: PerformanceWarning: DataFrame is highly fragmented.  This is usually the result of calling `frame.insert` many times, which has poor performance.  Consider joining all columns at once using pd.concat(axis=1) instead. To get a de-fragmented frame, use `newframe = frame.copy()`\n",
      "  weekly_data_frame.insert(column_index + 1, new_column_name, diff)\n",
      "/Users/rem76/Documents/COVID_projections/COVID_forecasting/Functions.py:360: PerformanceWarning: DataFrame is highly fragmented.  This is usually the result of calling `frame.insert` many times, which has poor performance.  Consider joining all columns at once using pd.concat(axis=1) instead. To get a de-fragmented frame, use `newframe = frame.copy()`\n",
      "  weekly_data_frame.insert(column_index + 1, new_column_name, diff)\n",
      "/Users/rem76/Documents/COVID_projections/COVID_forecasting/Functions.py:360: PerformanceWarning: DataFrame is highly fragmented.  This is usually the result of calling `frame.insert` many times, which has poor performance.  Consider joining all columns at once using pd.concat(axis=1) instead. To get a de-fragmented frame, use `newframe = frame.copy()`\n",
      "  weekly_data_frame.insert(column_index + 1, new_column_name, diff)\n",
      "/Users/rem76/Documents/COVID_projections/COVID_forecasting/Functions.py:360: PerformanceWarning: DataFrame is highly fragmented.  This is usually the result of calling `frame.insert` many times, which has poor performance.  Consider joining all columns at once using pd.concat(axis=1) instead. To get a de-fragmented frame, use `newframe = frame.copy()`\n",
      "  weekly_data_frame.insert(column_index + 1, new_column_name, diff)\n",
      "/Users/rem76/Documents/COVID_projections/COVID_forecasting/Functions.py:360: PerformanceWarning: DataFrame is highly fragmented.  This is usually the result of calling `frame.insert` many times, which has poor performance.  Consider joining all columns at once using pd.concat(axis=1) instead. To get a de-fragmented frame, use `newframe = frame.copy()`\n",
      "  weekly_data_frame.insert(column_index + 1, new_column_name, diff)\n",
      "/Users/rem76/Documents/COVID_projections/COVID_forecasting/Functions.py:360: PerformanceWarning: DataFrame is highly fragmented.  This is usually the result of calling `frame.insert` many times, which has poor performance.  Consider joining all columns at once using pd.concat(axis=1) instead. To get a de-fragmented frame, use `newframe = frame.copy()`\n",
      "  weekly_data_frame.insert(column_index + 1, new_column_name, diff)\n",
      "/Users/rem76/Documents/COVID_projections/COVID_forecasting/Functions.py:360: PerformanceWarning: DataFrame is highly fragmented.  This is usually the result of calling `frame.insert` many times, which has poor performance.  Consider joining all columns at once using pd.concat(axis=1) instead. To get a de-fragmented frame, use `newframe = frame.copy()`\n",
      "  weekly_data_frame.insert(column_index + 1, new_column_name, diff)\n",
      "/Users/rem76/Documents/COVID_projections/COVID_forecasting/Functions.py:360: PerformanceWarning: DataFrame is highly fragmented.  This is usually the result of calling `frame.insert` many times, which has poor performance.  Consider joining all columns at once using pd.concat(axis=1) instead. To get a de-fragmented frame, use `newframe = frame.copy()`\n",
      "  weekly_data_frame.insert(column_index + 1, new_column_name, diff)\n",
      "/Users/rem76/Documents/COVID_projections/COVID_forecasting/Functions.py:360: PerformanceWarning: DataFrame is highly fragmented.  This is usually the result of calling `frame.insert` many times, which has poor performance.  Consider joining all columns at once using pd.concat(axis=1) instead. To get a de-fragmented frame, use `newframe = frame.copy()`\n",
      "  weekly_data_frame.insert(column_index + 1, new_column_name, diff)\n",
      "/Users/rem76/Documents/COVID_projections/COVID_forecasting/Functions.py:360: PerformanceWarning: DataFrame is highly fragmented.  This is usually the result of calling `frame.insert` many times, which has poor performance.  Consider joining all columns at once using pd.concat(axis=1) instead. To get a de-fragmented frame, use `newframe = frame.copy()`\n",
      "  weekly_data_frame.insert(column_index + 1, new_column_name, diff)\n",
      "/Users/rem76/Documents/COVID_projections/COVID_forecasting/Functions.py:360: PerformanceWarning: DataFrame is highly fragmented.  This is usually the result of calling `frame.insert` many times, which has poor performance.  Consider joining all columns at once using pd.concat(axis=1) instead. To get a de-fragmented frame, use `newframe = frame.copy()`\n",
      "  weekly_data_frame.insert(column_index + 1, new_column_name, diff)\n",
      "/Users/rem76/Documents/COVID_projections/COVID_forecasting/Functions.py:360: PerformanceWarning: DataFrame is highly fragmented.  This is usually the result of calling `frame.insert` many times, which has poor performance.  Consider joining all columns at once using pd.concat(axis=1) instead. To get a de-fragmented frame, use `newframe = frame.copy()`\n",
      "  weekly_data_frame.insert(column_index + 1, new_column_name, diff)\n",
      "/Users/rem76/Documents/COVID_projections/COVID_forecasting/Functions.py:360: PerformanceWarning: DataFrame is highly fragmented.  This is usually the result of calling `frame.insert` many times, which has poor performance.  Consider joining all columns at once using pd.concat(axis=1) instead. To get a de-fragmented frame, use `newframe = frame.copy()`\n",
      "  weekly_data_frame.insert(column_index + 1, new_column_name, diff)\n",
      "/Users/rem76/Documents/COVID_projections/COVID_forecasting/Functions.py:360: PerformanceWarning: DataFrame is highly fragmented.  This is usually the result of calling `frame.insert` many times, which has poor performance.  Consider joining all columns at once using pd.concat(axis=1) instead. To get a de-fragmented frame, use `newframe = frame.copy()`\n",
      "  weekly_data_frame.insert(column_index + 1, new_column_name, diff)\n",
      "/Users/rem76/Documents/COVID_projections/COVID_forecasting/Functions.py:360: PerformanceWarning: DataFrame is highly fragmented.  This is usually the result of calling `frame.insert` many times, which has poor performance.  Consider joining all columns at once using pd.concat(axis=1) instead. To get a de-fragmented frame, use `newframe = frame.copy()`\n",
      "  weekly_data_frame.insert(column_index + 1, new_column_name, diff)\n",
      "/Users/rem76/Documents/COVID_projections/COVID_forecasting/Functions.py:360: PerformanceWarning: DataFrame is highly fragmented.  This is usually the result of calling `frame.insert` many times, which has poor performance.  Consider joining all columns at once using pd.concat(axis=1) instead. To get a de-fragmented frame, use `newframe = frame.copy()`\n",
      "  weekly_data_frame.insert(column_index + 1, new_column_name, diff)\n",
      "/Users/rem76/Documents/COVID_projections/COVID_forecasting/Functions.py:360: PerformanceWarning: DataFrame is highly fragmented.  This is usually the result of calling `frame.insert` many times, which has poor performance.  Consider joining all columns at once using pd.concat(axis=1) instead. To get a de-fragmented frame, use `newframe = frame.copy()`\n",
      "  weekly_data_frame.insert(column_index + 1, new_column_name, diff)\n",
      "/Users/rem76/Documents/COVID_projections/COVID_forecasting/Functions.py:360: PerformanceWarning: DataFrame is highly fragmented.  This is usually the result of calling `frame.insert` many times, which has poor performance.  Consider joining all columns at once using pd.concat(axis=1) instead. To get a de-fragmented frame, use `newframe = frame.copy()`\n",
      "  weekly_data_frame.insert(column_index + 1, new_column_name, diff)\n",
      "/Users/rem76/Documents/COVID_projections/COVID_forecasting/Functions.py:360: PerformanceWarning: DataFrame is highly fragmented.  This is usually the result of calling `frame.insert` many times, which has poor performance.  Consider joining all columns at once using pd.concat(axis=1) instead. To get a de-fragmented frame, use `newframe = frame.copy()`\n",
      "  weekly_data_frame.insert(column_index + 1, new_column_name, diff)\n",
      "/Users/rem76/Documents/COVID_projections/COVID_forecasting/Functions.py:360: PerformanceWarning: DataFrame is highly fragmented.  This is usually the result of calling `frame.insert` many times, which has poor performance.  Consider joining all columns at once using pd.concat(axis=1) instead. To get a de-fragmented frame, use `newframe = frame.copy()`\n",
      "  weekly_data_frame.insert(column_index + 1, new_column_name, diff)\n",
      "/Users/rem76/Documents/COVID_projections/COVID_forecasting/Functions.py:360: PerformanceWarning: DataFrame is highly fragmented.  This is usually the result of calling `frame.insert` many times, which has poor performance.  Consider joining all columns at once using pd.concat(axis=1) instead. To get a de-fragmented frame, use `newframe = frame.copy()`\n",
      "  weekly_data_frame.insert(column_index + 1, new_column_name, diff)\n",
      "/Users/rem76/Documents/COVID_projections/COVID_forecasting/Functions.py:360: PerformanceWarning: DataFrame is highly fragmented.  This is usually the result of calling `frame.insert` many times, which has poor performance.  Consider joining all columns at once using pd.concat(axis=1) instead. To get a de-fragmented frame, use `newframe = frame.copy()`\n",
      "  weekly_data_frame.insert(column_index + 1, new_column_name, diff)\n",
      "/Users/rem76/Documents/COVID_projections/COVID_forecasting/Functions.py:360: PerformanceWarning: DataFrame is highly fragmented.  This is usually the result of calling `frame.insert` many times, which has poor performance.  Consider joining all columns at once using pd.concat(axis=1) instead. To get a de-fragmented frame, use `newframe = frame.copy()`\n",
      "  weekly_data_frame.insert(column_index + 1, new_column_name, diff)\n",
      "/Users/rem76/Documents/COVID_projections/COVID_forecasting/Functions.py:360: PerformanceWarning: DataFrame is highly fragmented.  This is usually the result of calling `frame.insert` many times, which has poor performance.  Consider joining all columns at once using pd.concat(axis=1) instead. To get a de-fragmented frame, use `newframe = frame.copy()`\n",
      "  weekly_data_frame.insert(column_index + 1, new_column_name, diff)\n",
      "/Users/rem76/Documents/COVID_projections/COVID_forecasting/Functions.py:360: PerformanceWarning: DataFrame is highly fragmented.  This is usually the result of calling `frame.insert` many times, which has poor performance.  Consider joining all columns at once using pd.concat(axis=1) instead. To get a de-fragmented frame, use `newframe = frame.copy()`\n",
      "  weekly_data_frame.insert(column_index + 1, new_column_name, diff)\n",
      "/Users/rem76/Documents/COVID_projections/COVID_forecasting/Functions.py:360: PerformanceWarning: DataFrame is highly fragmented.  This is usually the result of calling `frame.insert` many times, which has poor performance.  Consider joining all columns at once using pd.concat(axis=1) instead. To get a de-fragmented frame, use `newframe = frame.copy()`\n",
      "  weekly_data_frame.insert(column_index + 1, new_column_name, diff)\n",
      "/Users/rem76/Documents/COVID_projections/COVID_forecasting/Functions.py:360: PerformanceWarning: DataFrame is highly fragmented.  This is usually the result of calling `frame.insert` many times, which has poor performance.  Consider joining all columns at once using pd.concat(axis=1) instead. To get a de-fragmented frame, use `newframe = frame.copy()`\n",
      "  weekly_data_frame.insert(column_index + 1, new_column_name, diff)\n",
      "/Users/rem76/Documents/COVID_projections/COVID_forecasting/Functions.py:360: PerformanceWarning: DataFrame is highly fragmented.  This is usually the result of calling `frame.insert` many times, which has poor performance.  Consider joining all columns at once using pd.concat(axis=1) instead. To get a de-fragmented frame, use `newframe = frame.copy()`\n",
      "  weekly_data_frame.insert(column_index + 1, new_column_name, diff)\n",
      "/Users/rem76/Documents/COVID_projections/COVID_forecasting/Functions.py:360: PerformanceWarning: DataFrame is highly fragmented.  This is usually the result of calling `frame.insert` many times, which has poor performance.  Consider joining all columns at once using pd.concat(axis=1) instead. To get a de-fragmented frame, use `newframe = frame.copy()`\n",
      "  weekly_data_frame.insert(column_index + 1, new_column_name, diff)\n",
      "/Users/rem76/Documents/COVID_projections/COVID_forecasting/Functions.py:360: PerformanceWarning: DataFrame is highly fragmented.  This is usually the result of calling `frame.insert` many times, which has poor performance.  Consider joining all columns at once using pd.concat(axis=1) instead. To get a de-fragmented frame, use `newframe = frame.copy()`\n",
      "  weekly_data_frame.insert(column_index + 1, new_column_name, diff)\n",
      "/Users/rem76/Documents/COVID_projections/COVID_forecasting/Functions.py:360: PerformanceWarning: DataFrame is highly fragmented.  This is usually the result of calling `frame.insert` many times, which has poor performance.  Consider joining all columns at once using pd.concat(axis=1) instead. To get a de-fragmented frame, use `newframe = frame.copy()`\n",
      "  weekly_data_frame.insert(column_index + 1, new_column_name, diff)\n",
      "/Users/rem76/Documents/COVID_projections/COVID_forecasting/Functions.py:360: PerformanceWarning: DataFrame is highly fragmented.  This is usually the result of calling `frame.insert` many times, which has poor performance.  Consider joining all columns at once using pd.concat(axis=1) instead. To get a de-fragmented frame, use `newframe = frame.copy()`\n",
      "  weekly_data_frame.insert(column_index + 1, new_column_name, diff)\n",
      "/Users/rem76/Documents/COVID_projections/COVID_forecasting/Functions.py:360: PerformanceWarning: DataFrame is highly fragmented.  This is usually the result of calling `frame.insert` many times, which has poor performance.  Consider joining all columns at once using pd.concat(axis=1) instead. To get a de-fragmented frame, use `newframe = frame.copy()`\n",
      "  weekly_data_frame.insert(column_index + 1, new_column_name, diff)\n",
      "/Users/rem76/Documents/COVID_projections/COVID_forecasting/Functions.py:360: PerformanceWarning: DataFrame is highly fragmented.  This is usually the result of calling `frame.insert` many times, which has poor performance.  Consider joining all columns at once using pd.concat(axis=1) instead. To get a de-fragmented frame, use `newframe = frame.copy()`\n",
      "  weekly_data_frame.insert(column_index + 1, new_column_name, diff)\n",
      "/Users/rem76/Documents/COVID_projections/COVID_forecasting/Functions.py:360: PerformanceWarning: DataFrame is highly fragmented.  This is usually the result of calling `frame.insert` many times, which has poor performance.  Consider joining all columns at once using pd.concat(axis=1) instead. To get a de-fragmented frame, use `newframe = frame.copy()`\n",
      "  weekly_data_frame.insert(column_index + 1, new_column_name, diff)\n",
      "/Users/rem76/Documents/COVID_projections/COVID_forecasting/Functions.py:360: PerformanceWarning: DataFrame is highly fragmented.  This is usually the result of calling `frame.insert` many times, which has poor performance.  Consider joining all columns at once using pd.concat(axis=1) instead. To get a de-fragmented frame, use `newframe = frame.copy()`\n",
      "  weekly_data_frame.insert(column_index + 1, new_column_name, diff)\n",
      "/Users/rem76/Documents/COVID_projections/COVID_forecasting/Functions.py:360: PerformanceWarning: DataFrame is highly fragmented.  This is usually the result of calling `frame.insert` many times, which has poor performance.  Consider joining all columns at once using pd.concat(axis=1) instead. To get a de-fragmented frame, use `newframe = frame.copy()`\n",
      "  weekly_data_frame.insert(column_index + 1, new_column_name, diff)\n",
      "/Users/rem76/Documents/COVID_projections/COVID_forecasting/Functions.py:360: PerformanceWarning: DataFrame is highly fragmented.  This is usually the result of calling `frame.insert` many times, which has poor performance.  Consider joining all columns at once using pd.concat(axis=1) instead. To get a de-fragmented frame, use `newframe = frame.copy()`\n",
      "  weekly_data_frame.insert(column_index + 1, new_column_name, diff)\n",
      "/Users/rem76/Documents/COVID_projections/COVID_forecasting/Functions.py:360: PerformanceWarning: DataFrame is highly fragmented.  This is usually the result of calling `frame.insert` many times, which has poor performance.  Consider joining all columns at once using pd.concat(axis=1) instead. To get a de-fragmented frame, use `newframe = frame.copy()`\n",
      "  weekly_data_frame.insert(column_index + 1, new_column_name, diff)\n",
      "/Users/rem76/Documents/COVID_projections/COVID_forecasting/Functions.py:360: PerformanceWarning: DataFrame is highly fragmented.  This is usually the result of calling `frame.insert` many times, which has poor performance.  Consider joining all columns at once using pd.concat(axis=1) instead. To get a de-fragmented frame, use `newframe = frame.copy()`\n",
      "  weekly_data_frame.insert(column_index + 1, new_column_name, diff)\n",
      "/Users/rem76/Documents/COVID_projections/COVID_forecasting/Functions.py:360: PerformanceWarning: DataFrame is highly fragmented.  This is usually the result of calling `frame.insert` many times, which has poor performance.  Consider joining all columns at once using pd.concat(axis=1) instead. To get a de-fragmented frame, use `newframe = frame.copy()`\n",
      "  weekly_data_frame.insert(column_index + 1, new_column_name, diff)\n",
      "/Users/rem76/Documents/COVID_projections/COVID_forecasting/Functions.py:360: PerformanceWarning: DataFrame is highly fragmented.  This is usually the result of calling `frame.insert` many times, which has poor performance.  Consider joining all columns at once using pd.concat(axis=1) instead. To get a de-fragmented frame, use `newframe = frame.copy()`\n",
      "  weekly_data_frame.insert(column_index + 1, new_column_name, diff)\n",
      "/Users/rem76/Documents/COVID_projections/COVID_forecasting/Functions.py:360: PerformanceWarning: DataFrame is highly fragmented.  This is usually the result of calling `frame.insert` many times, which has poor performance.  Consider joining all columns at once using pd.concat(axis=1) instead. To get a de-fragmented frame, use `newframe = frame.copy()`\n",
      "  weekly_data_frame.insert(column_index + 1, new_column_name, diff)\n",
      "/Users/rem76/Documents/COVID_projections/COVID_forecasting/Functions.py:360: PerformanceWarning: DataFrame is highly fragmented.  This is usually the result of calling `frame.insert` many times, which has poor performance.  Consider joining all columns at once using pd.concat(axis=1) instead. To get a de-fragmented frame, use `newframe = frame.copy()`\n",
      "  weekly_data_frame.insert(column_index + 1, new_column_name, diff)\n",
      "/Users/rem76/Documents/COVID_projections/COVID_forecasting/Functions.py:360: PerformanceWarning: DataFrame is highly fragmented.  This is usually the result of calling `frame.insert` many times, which has poor performance.  Consider joining all columns at once using pd.concat(axis=1) instead. To get a de-fragmented frame, use `newframe = frame.copy()`\n",
      "  weekly_data_frame.insert(column_index + 1, new_column_name, diff)\n",
      "/Users/rem76/Documents/COVID_projections/COVID_forecasting/Functions.py:360: PerformanceWarning: DataFrame is highly fragmented.  This is usually the result of calling `frame.insert` many times, which has poor performance.  Consider joining all columns at once using pd.concat(axis=1) instead. To get a de-fragmented frame, use `newframe = frame.copy()`\n",
      "  weekly_data_frame.insert(column_index + 1, new_column_name, diff)\n",
      "/Users/rem76/Documents/COVID_projections/COVID_forecasting/Functions.py:360: PerformanceWarning: DataFrame is highly fragmented.  This is usually the result of calling `frame.insert` many times, which has poor performance.  Consider joining all columns at once using pd.concat(axis=1) instead. To get a de-fragmented frame, use `newframe = frame.copy()`\n",
      "  weekly_data_frame.insert(column_index + 1, new_column_name, diff)\n",
      "/Users/rem76/Documents/COVID_projections/COVID_forecasting/Functions.py:360: PerformanceWarning: DataFrame is highly fragmented.  This is usually the result of calling `frame.insert` many times, which has poor performance.  Consider joining all columns at once using pd.concat(axis=1) instead. To get a de-fragmented frame, use `newframe = frame.copy()`\n",
      "  weekly_data_frame.insert(column_index + 1, new_column_name, diff)\n",
      "/Users/rem76/Documents/COVID_projections/COVID_forecasting/Functions.py:360: PerformanceWarning: DataFrame is highly fragmented.  This is usually the result of calling `frame.insert` many times, which has poor performance.  Consider joining all columns at once using pd.concat(axis=1) instead. To get a de-fragmented frame, use `newframe = frame.copy()`\n",
      "  weekly_data_frame.insert(column_index + 1, new_column_name, diff)\n",
      "/Users/rem76/Documents/COVID_projections/COVID_forecasting/Functions.py:360: PerformanceWarning: DataFrame is highly fragmented.  This is usually the result of calling `frame.insert` many times, which has poor performance.  Consider joining all columns at once using pd.concat(axis=1) instead. To get a de-fragmented frame, use `newframe = frame.copy()`\n",
      "  weekly_data_frame.insert(column_index + 1, new_column_name, diff)\n",
      "/Users/rem76/Documents/COVID_projections/COVID_forecasting/Functions.py:360: PerformanceWarning: DataFrame is highly fragmented.  This is usually the result of calling `frame.insert` many times, which has poor performance.  Consider joining all columns at once using pd.concat(axis=1) instead. To get a de-fragmented frame, use `newframe = frame.copy()`\n",
      "  weekly_data_frame.insert(column_index + 1, new_column_name, diff)\n",
      "/Users/rem76/Documents/COVID_projections/COVID_forecasting/Functions.py:360: PerformanceWarning: DataFrame is highly fragmented.  This is usually the result of calling `frame.insert` many times, which has poor performance.  Consider joining all columns at once using pd.concat(axis=1) instead. To get a de-fragmented frame, use `newframe = frame.copy()`\n",
      "  weekly_data_frame.insert(column_index + 1, new_column_name, diff)\n",
      "/Users/rem76/Documents/COVID_projections/COVID_forecasting/Functions.py:360: PerformanceWarning: DataFrame is highly fragmented.  This is usually the result of calling `frame.insert` many times, which has poor performance.  Consider joining all columns at once using pd.concat(axis=1) instead. To get a de-fragmented frame, use `newframe = frame.copy()`\n",
      "  weekly_data_frame.insert(column_index + 1, new_column_name, diff)\n",
      "/Users/rem76/Documents/COVID_projections/COVID_forecasting/Functions.py:360: PerformanceWarning: DataFrame is highly fragmented.  This is usually the result of calling `frame.insert` many times, which has poor performance.  Consider joining all columns at once using pd.concat(axis=1) instead. To get a de-fragmented frame, use `newframe = frame.copy()`\n",
      "  weekly_data_frame.insert(column_index + 1, new_column_name, diff)\n",
      "/Users/rem76/Documents/COVID_projections/COVID_forecasting/Functions.py:360: PerformanceWarning: DataFrame is highly fragmented.  This is usually the result of calling `frame.insert` many times, which has poor performance.  Consider joining all columns at once using pd.concat(axis=1) instead. To get a de-fragmented frame, use `newframe = frame.copy()`\n",
      "  weekly_data_frame.insert(column_index + 1, new_column_name, diff)\n",
      "/Users/rem76/Documents/COVID_projections/COVID_forecasting/Functions.py:360: PerformanceWarning: DataFrame is highly fragmented.  This is usually the result of calling `frame.insert` many times, which has poor performance.  Consider joining all columns at once using pd.concat(axis=1) instead. To get a de-fragmented frame, use `newframe = frame.copy()`\n",
      "  weekly_data_frame.insert(column_index + 1, new_column_name, diff)\n",
      "/Users/rem76/Documents/COVID_projections/COVID_forecasting/Functions.py:360: PerformanceWarning: DataFrame is highly fragmented.  This is usually the result of calling `frame.insert` many times, which has poor performance.  Consider joining all columns at once using pd.concat(axis=1) instead. To get a de-fragmented frame, use `newframe = frame.copy()`\n",
      "  weekly_data_frame.insert(column_index + 1, new_column_name, diff)\n",
      "/Users/rem76/Documents/COVID_projections/COVID_forecasting/Functions.py:360: PerformanceWarning: DataFrame is highly fragmented.  This is usually the result of calling `frame.insert` many times, which has poor performance.  Consider joining all columns at once using pd.concat(axis=1) instead. To get a de-fragmented frame, use `newframe = frame.copy()`\n",
      "  weekly_data_frame.insert(column_index + 1, new_column_name, diff)\n",
      "/Users/rem76/Documents/COVID_projections/COVID_forecasting/Functions.py:360: PerformanceWarning: DataFrame is highly fragmented.  This is usually the result of calling `frame.insert` many times, which has poor performance.  Consider joining all columns at once using pd.concat(axis=1) instead. To get a de-fragmented frame, use `newframe = frame.copy()`\n",
      "  weekly_data_frame.insert(column_index + 1, new_column_name, diff)\n",
      "/Users/rem76/Documents/COVID_projections/COVID_forecasting/Functions.py:360: PerformanceWarning: DataFrame is highly fragmented.  This is usually the result of calling `frame.insert` many times, which has poor performance.  Consider joining all columns at once using pd.concat(axis=1) instead. To get a de-fragmented frame, use `newframe = frame.copy()`\n",
      "  weekly_data_frame.insert(column_index + 1, new_column_name, diff)\n",
      "/Users/rem76/Documents/COVID_projections/COVID_forecasting/Functions.py:360: PerformanceWarning: DataFrame is highly fragmented.  This is usually the result of calling `frame.insert` many times, which has poor performance.  Consider joining all columns at once using pd.concat(axis=1) instead. To get a de-fragmented frame, use `newframe = frame.copy()`\n",
      "  weekly_data_frame.insert(column_index + 1, new_column_name, diff)\n",
      "/Users/rem76/Documents/COVID_projections/COVID_forecasting/Functions.py:360: PerformanceWarning: DataFrame is highly fragmented.  This is usually the result of calling `frame.insert` many times, which has poor performance.  Consider joining all columns at once using pd.concat(axis=1) instead. To get a de-fragmented frame, use `newframe = frame.copy()`\n",
      "  weekly_data_frame.insert(column_index + 1, new_column_name, diff)\n",
      "/Users/rem76/Documents/COVID_projections/COVID_forecasting/Functions.py:360: PerformanceWarning: DataFrame is highly fragmented.  This is usually the result of calling `frame.insert` many times, which has poor performance.  Consider joining all columns at once using pd.concat(axis=1) instead. To get a de-fragmented frame, use `newframe = frame.copy()`\n",
      "  weekly_data_frame.insert(column_index + 1, new_column_name, diff)\n",
      "/Users/rem76/Documents/COVID_projections/COVID_forecasting/Functions.py:360: PerformanceWarning: DataFrame is highly fragmented.  This is usually the result of calling `frame.insert` many times, which has poor performance.  Consider joining all columns at once using pd.concat(axis=1) instead. To get a de-fragmented frame, use `newframe = frame.copy()`\n",
      "  weekly_data_frame.insert(column_index + 1, new_column_name, diff)\n",
      "/Users/rem76/Documents/COVID_projections/COVID_forecasting/Functions.py:360: PerformanceWarning: DataFrame is highly fragmented.  This is usually the result of calling `frame.insert` many times, which has poor performance.  Consider joining all columns at once using pd.concat(axis=1) instead. To get a de-fragmented frame, use `newframe = frame.copy()`\n",
      "  weekly_data_frame.insert(column_index + 1, new_column_name, diff)\n",
      "/Users/rem76/Documents/COVID_projections/COVID_forecasting/Functions.py:360: PerformanceWarning: DataFrame is highly fragmented.  This is usually the result of calling `frame.insert` many times, which has poor performance.  Consider joining all columns at once using pd.concat(axis=1) instead. To get a de-fragmented frame, use `newframe = frame.copy()`\n",
      "  weekly_data_frame.insert(column_index + 1, new_column_name, diff)\n",
      "/Users/rem76/Documents/COVID_projections/COVID_forecasting/Functions.py:360: PerformanceWarning: DataFrame is highly fragmented.  This is usually the result of calling `frame.insert` many times, which has poor performance.  Consider joining all columns at once using pd.concat(axis=1) instead. To get a de-fragmented frame, use `newframe = frame.copy()`\n",
      "  weekly_data_frame.insert(column_index + 1, new_column_name, diff)\n",
      "/Users/rem76/Documents/COVID_projections/COVID_forecasting/Functions.py:360: PerformanceWarning: DataFrame is highly fragmented.  This is usually the result of calling `frame.insert` many times, which has poor performance.  Consider joining all columns at once using pd.concat(axis=1) instead. To get a de-fragmented frame, use `newframe = frame.copy()`\n",
      "  weekly_data_frame.insert(column_index + 1, new_column_name, diff)\n",
      "/Users/rem76/Documents/COVID_projections/COVID_forecasting/Functions.py:360: PerformanceWarning: DataFrame is highly fragmented.  This is usually the result of calling `frame.insert` many times, which has poor performance.  Consider joining all columns at once using pd.concat(axis=1) instead. To get a de-fragmented frame, use `newframe = frame.copy()`\n",
      "  weekly_data_frame.insert(column_index + 1, new_column_name, diff)\n",
      "/Users/rem76/Documents/COVID_projections/COVID_forecasting/Functions.py:360: PerformanceWarning: DataFrame is highly fragmented.  This is usually the result of calling `frame.insert` many times, which has poor performance.  Consider joining all columns at once using pd.concat(axis=1) instead. To get a de-fragmented frame, use `newframe = frame.copy()`\n",
      "  weekly_data_frame.insert(column_index + 1, new_column_name, diff)\n",
      "/Users/rem76/Documents/COVID_projections/COVID_forecasting/Functions.py:360: PerformanceWarning: DataFrame is highly fragmented.  This is usually the result of calling `frame.insert` many times, which has poor performance.  Consider joining all columns at once using pd.concat(axis=1) instead. To get a de-fragmented frame, use `newframe = frame.copy()`\n",
      "  weekly_data_frame.insert(column_index + 1, new_column_name, diff)\n",
      "/Users/rem76/Documents/COVID_projections/COVID_forecasting/Functions.py:360: PerformanceWarning: DataFrame is highly fragmented.  This is usually the result of calling `frame.insert` many times, which has poor performance.  Consider joining all columns at once using pd.concat(axis=1) instead. To get a de-fragmented frame, use `newframe = frame.copy()`\n",
      "  weekly_data_frame.insert(column_index + 1, new_column_name, diff)\n",
      "/Users/rem76/Documents/COVID_projections/COVID_forecasting/Functions.py:360: PerformanceWarning: DataFrame is highly fragmented.  This is usually the result of calling `frame.insert` many times, which has poor performance.  Consider joining all columns at once using pd.concat(axis=1) instead. To get a de-fragmented frame, use `newframe = frame.copy()`\n",
      "  weekly_data_frame.insert(column_index + 1, new_column_name, diff)\n",
      "/Users/rem76/Documents/COVID_projections/COVID_forecasting/Functions.py:360: PerformanceWarning: DataFrame is highly fragmented.  This is usually the result of calling `frame.insert` many times, which has poor performance.  Consider joining all columns at once using pd.concat(axis=1) instead. To get a de-fragmented frame, use `newframe = frame.copy()`\n",
      "  weekly_data_frame.insert(column_index + 1, new_column_name, diff)\n",
      "/Users/rem76/Documents/COVID_projections/COVID_forecasting/Functions.py:360: PerformanceWarning: DataFrame is highly fragmented.  This is usually the result of calling `frame.insert` many times, which has poor performance.  Consider joining all columns at once using pd.concat(axis=1) instead. To get a de-fragmented frame, use `newframe = frame.copy()`\n",
      "  weekly_data_frame.insert(column_index + 1, new_column_name, diff)\n",
      "/Users/rem76/Documents/COVID_projections/COVID_forecasting/Functions.py:360: PerformanceWarning: DataFrame is highly fragmented.  This is usually the result of calling `frame.insert` many times, which has poor performance.  Consider joining all columns at once using pd.concat(axis=1) instead. To get a de-fragmented frame, use `newframe = frame.copy()`\n",
      "  weekly_data_frame.insert(column_index + 1, new_column_name, diff)\n",
      "/Users/rem76/Documents/COVID_projections/COVID_forecasting/Functions.py:360: PerformanceWarning: DataFrame is highly fragmented.  This is usually the result of calling `frame.insert` many times, which has poor performance.  Consider joining all columns at once using pd.concat(axis=1) instead. To get a de-fragmented frame, use `newframe = frame.copy()`\n",
      "  weekly_data_frame.insert(column_index + 1, new_column_name, diff)\n",
      "/Users/rem76/Documents/COVID_projections/COVID_forecasting/Functions.py:360: PerformanceWarning: DataFrame is highly fragmented.  This is usually the result of calling `frame.insert` many times, which has poor performance.  Consider joining all columns at once using pd.concat(axis=1) instead. To get a de-fragmented frame, use `newframe = frame.copy()`\n",
      "  weekly_data_frame.insert(column_index + 1, new_column_name, diff)\n",
      "/Users/rem76/Documents/COVID_projections/COVID_forecasting/Functions.py:360: PerformanceWarning: DataFrame is highly fragmented.  This is usually the result of calling `frame.insert` many times, which has poor performance.  Consider joining all columns at once using pd.concat(axis=1) instead. To get a de-fragmented frame, use `newframe = frame.copy()`\n",
      "  weekly_data_frame.insert(column_index + 1, new_column_name, diff)\n",
      "/Users/rem76/Documents/COVID_projections/COVID_forecasting/Functions.py:360: PerformanceWarning: DataFrame is highly fragmented.  This is usually the result of calling `frame.insert` many times, which has poor performance.  Consider joining all columns at once using pd.concat(axis=1) instead. To get a de-fragmented frame, use `newframe = frame.copy()`\n",
      "  weekly_data_frame.insert(column_index + 1, new_column_name, diff)\n",
      "/Users/rem76/Documents/COVID_projections/COVID_forecasting/Functions.py:360: PerformanceWarning: DataFrame is highly fragmented.  This is usually the result of calling `frame.insert` many times, which has poor performance.  Consider joining all columns at once using pd.concat(axis=1) instead. To get a de-fragmented frame, use `newframe = frame.copy()`\n",
      "  weekly_data_frame.insert(column_index + 1, new_column_name, diff)\n",
      "/Users/rem76/Documents/COVID_projections/COVID_forecasting/Functions.py:360: PerformanceWarning: DataFrame is highly fragmented.  This is usually the result of calling `frame.insert` many times, which has poor performance.  Consider joining all columns at once using pd.concat(axis=1) instead. To get a de-fragmented frame, use `newframe = frame.copy()`\n",
      "  weekly_data_frame.insert(column_index + 1, new_column_name, diff)\n",
      "/Users/rem76/Documents/COVID_projections/COVID_forecasting/Functions.py:360: PerformanceWarning: DataFrame is highly fragmented.  This is usually the result of calling `frame.insert` many times, which has poor performance.  Consider joining all columns at once using pd.concat(axis=1) instead. To get a de-fragmented frame, use `newframe = frame.copy()`\n",
      "  weekly_data_frame.insert(column_index + 1, new_column_name, diff)\n",
      "/Users/rem76/Documents/COVID_projections/COVID_forecasting/Functions.py:360: PerformanceWarning: DataFrame is highly fragmented.  This is usually the result of calling `frame.insert` many times, which has poor performance.  Consider joining all columns at once using pd.concat(axis=1) instead. To get a de-fragmented frame, use `newframe = frame.copy()`\n",
      "  weekly_data_frame.insert(column_index + 1, new_column_name, diff)\n",
      "/Users/rem76/Documents/COVID_projections/COVID_forecasting/Functions.py:360: PerformanceWarning: DataFrame is highly fragmented.  This is usually the result of calling `frame.insert` many times, which has poor performance.  Consider joining all columns at once using pd.concat(axis=1) instead. To get a de-fragmented frame, use `newframe = frame.copy()`\n",
      "  weekly_data_frame.insert(column_index + 1, new_column_name, diff)\n",
      "/Users/rem76/Documents/COVID_projections/COVID_forecasting/Functions.py:360: PerformanceWarning: DataFrame is highly fragmented.  This is usually the result of calling `frame.insert` many times, which has poor performance.  Consider joining all columns at once using pd.concat(axis=1) instead. To get a de-fragmented frame, use `newframe = frame.copy()`\n",
      "  weekly_data_frame.insert(column_index + 1, new_column_name, diff)\n",
      "/Users/rem76/Documents/COVID_projections/COVID_forecasting/Functions.py:360: PerformanceWarning: DataFrame is highly fragmented.  This is usually the result of calling `frame.insert` many times, which has poor performance.  Consider joining all columns at once using pd.concat(axis=1) instead. To get a de-fragmented frame, use `newframe = frame.copy()`\n",
      "  weekly_data_frame.insert(column_index + 1, new_column_name, diff)\n",
      "/Users/rem76/Documents/COVID_projections/COVID_forecasting/Functions.py:360: PerformanceWarning: DataFrame is highly fragmented.  This is usually the result of calling `frame.insert` many times, which has poor performance.  Consider joining all columns at once using pd.concat(axis=1) instead. To get a de-fragmented frame, use `newframe = frame.copy()`\n",
      "  weekly_data_frame.insert(column_index + 1, new_column_name, diff)\n",
      "/Users/rem76/Documents/COVID_projections/COVID_forecasting/Functions.py:360: PerformanceWarning: DataFrame is highly fragmented.  This is usually the result of calling `frame.insert` many times, which has poor performance.  Consider joining all columns at once using pd.concat(axis=1) instead. To get a de-fragmented frame, use `newframe = frame.copy()`\n",
      "  weekly_data_frame.insert(column_index + 1, new_column_name, diff)\n",
      "/Users/rem76/Documents/COVID_projections/COVID_forecasting/Functions.py:360: PerformanceWarning: DataFrame is highly fragmented.  This is usually the result of calling `frame.insert` many times, which has poor performance.  Consider joining all columns at once using pd.concat(axis=1) instead. To get a de-fragmented frame, use `newframe = frame.copy()`\n",
      "  weekly_data_frame.insert(column_index + 1, new_column_name, diff)\n",
      "/Users/rem76/Documents/COVID_projections/COVID_forecasting/Functions.py:360: PerformanceWarning: DataFrame is highly fragmented.  This is usually the result of calling `frame.insert` many times, which has poor performance.  Consider joining all columns at once using pd.concat(axis=1) instead. To get a de-fragmented frame, use `newframe = frame.copy()`\n",
      "  weekly_data_frame.insert(column_index + 1, new_column_name, diff)\n",
      "/Users/rem76/Documents/COVID_projections/COVID_forecasting/Functions.py:360: PerformanceWarning: DataFrame is highly fragmented.  This is usually the result of calling `frame.insert` many times, which has poor performance.  Consider joining all columns at once using pd.concat(axis=1) instead. To get a de-fragmented frame, use `newframe = frame.copy()`\n",
      "  weekly_data_frame.insert(column_index + 1, new_column_name, diff)\n",
      "/Users/rem76/Documents/COVID_projections/COVID_forecasting/Functions.py:360: PerformanceWarning: DataFrame is highly fragmented.  This is usually the result of calling `frame.insert` many times, which has poor performance.  Consider joining all columns at once using pd.concat(axis=1) instead. To get a de-fragmented frame, use `newframe = frame.copy()`\n",
      "  weekly_data_frame.insert(column_index + 1, new_column_name, diff)\n",
      "/Users/rem76/Documents/COVID_projections/COVID_forecasting/Functions.py:360: PerformanceWarning: DataFrame is highly fragmented.  This is usually the result of calling `frame.insert` many times, which has poor performance.  Consider joining all columns at once using pd.concat(axis=1) instead. To get a de-fragmented frame, use `newframe = frame.copy()`\n",
      "  weekly_data_frame.insert(column_index + 1, new_column_name, diff)\n",
      "/Users/rem76/Documents/COVID_projections/COVID_forecasting/Functions.py:360: PerformanceWarning: DataFrame is highly fragmented.  This is usually the result of calling `frame.insert` many times, which has poor performance.  Consider joining all columns at once using pd.concat(axis=1) instead. To get a de-fragmented frame, use `newframe = frame.copy()`\n",
      "  weekly_data_frame.insert(column_index + 1, new_column_name, diff)\n",
      "/Users/rem76/Documents/COVID_projections/COVID_forecasting/Functions.py:360: PerformanceWarning: DataFrame is highly fragmented.  This is usually the result of calling `frame.insert` many times, which has poor performance.  Consider joining all columns at once using pd.concat(axis=1) instead. To get a de-fragmented frame, use `newframe = frame.copy()`\n",
      "  weekly_data_frame.insert(column_index + 1, new_column_name, diff)\n",
      "/Users/rem76/Documents/COVID_projections/COVID_forecasting/Functions.py:360: PerformanceWarning: DataFrame is highly fragmented.  This is usually the result of calling `frame.insert` many times, which has poor performance.  Consider joining all columns at once using pd.concat(axis=1) instead. To get a de-fragmented frame, use `newframe = frame.copy()`\n",
      "  weekly_data_frame.insert(column_index + 1, new_column_name, diff)\n",
      "/Users/rem76/Documents/COVID_projections/COVID_forecasting/Functions.py:360: PerformanceWarning: DataFrame is highly fragmented.  This is usually the result of calling `frame.insert` many times, which has poor performance.  Consider joining all columns at once using pd.concat(axis=1) instead. To get a de-fragmented frame, use `newframe = frame.copy()`\n",
      "  weekly_data_frame.insert(column_index + 1, new_column_name, diff)\n",
      "/Users/rem76/Documents/COVID_projections/COVID_forecasting/Functions.py:360: PerformanceWarning: DataFrame is highly fragmented.  This is usually the result of calling `frame.insert` many times, which has poor performance.  Consider joining all columns at once using pd.concat(axis=1) instead. To get a de-fragmented frame, use `newframe = frame.copy()`\n",
      "  weekly_data_frame.insert(column_index + 1, new_column_name, diff)\n",
      "/Users/rem76/Documents/COVID_projections/COVID_forecasting/Functions.py:360: PerformanceWarning: DataFrame is highly fragmented.  This is usually the result of calling `frame.insert` many times, which has poor performance.  Consider joining all columns at once using pd.concat(axis=1) instead. To get a de-fragmented frame, use `newframe = frame.copy()`\n",
      "  weekly_data_frame.insert(column_index + 1, new_column_name, diff)\n",
      "/Users/rem76/Documents/COVID_projections/COVID_forecasting/Functions.py:360: PerformanceWarning: DataFrame is highly fragmented.  This is usually the result of calling `frame.insert` many times, which has poor performance.  Consider joining all columns at once using pd.concat(axis=1) instead. To get a de-fragmented frame, use `newframe = frame.copy()`\n",
      "  weekly_data_frame.insert(column_index + 1, new_column_name, diff)\n",
      "/Users/rem76/Documents/COVID_projections/COVID_forecasting/Functions.py:360: PerformanceWarning: DataFrame is highly fragmented.  This is usually the result of calling `frame.insert` many times, which has poor performance.  Consider joining all columns at once using pd.concat(axis=1) instead. To get a de-fragmented frame, use `newframe = frame.copy()`\n",
      "  weekly_data_frame.insert(column_index + 1, new_column_name, diff)\n",
      "/Users/rem76/Documents/COVID_projections/COVID_forecasting/Functions.py:360: PerformanceWarning: DataFrame is highly fragmented.  This is usually the result of calling `frame.insert` many times, which has poor performance.  Consider joining all columns at once using pd.concat(axis=1) instead. To get a de-fragmented frame, use `newframe = frame.copy()`\n",
      "  weekly_data_frame.insert(column_index + 1, new_column_name, diff)\n",
      "/Users/rem76/Documents/COVID_projections/COVID_forecasting/Functions.py:360: PerformanceWarning: DataFrame is highly fragmented.  This is usually the result of calling `frame.insert` many times, which has poor performance.  Consider joining all columns at once using pd.concat(axis=1) instead. To get a de-fragmented frame, use `newframe = frame.copy()`\n",
      "  weekly_data_frame.insert(column_index + 1, new_column_name, diff)\n",
      "/Users/rem76/Documents/COVID_projections/COVID_forecasting/Functions.py:360: PerformanceWarning: DataFrame is highly fragmented.  This is usually the result of calling `frame.insert` many times, which has poor performance.  Consider joining all columns at once using pd.concat(axis=1) instead. To get a de-fragmented frame, use `newframe = frame.copy()`\n",
      "  weekly_data_frame.insert(column_index + 1, new_column_name, diff)\n",
      "/Users/rem76/Documents/COVID_projections/COVID_forecasting/Functions.py:360: PerformanceWarning: DataFrame is highly fragmented.  This is usually the result of calling `frame.insert` many times, which has poor performance.  Consider joining all columns at once using pd.concat(axis=1) instead. To get a de-fragmented frame, use `newframe = frame.copy()`\n",
      "  weekly_data_frame.insert(column_index + 1, new_column_name, diff)\n",
      "/Users/rem76/Documents/COVID_projections/COVID_forecasting/Functions.py:360: PerformanceWarning: DataFrame is highly fragmented.  This is usually the result of calling `frame.insert` many times, which has poor performance.  Consider joining all columns at once using pd.concat(axis=1) instead. To get a de-fragmented frame, use `newframe = frame.copy()`\n",
      "  weekly_data_frame.insert(column_index + 1, new_column_name, diff)\n",
      "/Users/rem76/Documents/COVID_projections/COVID_forecasting/Functions.py:360: PerformanceWarning: DataFrame is highly fragmented.  This is usually the result of calling `frame.insert` many times, which has poor performance.  Consider joining all columns at once using pd.concat(axis=1) instead. To get a de-fragmented frame, use `newframe = frame.copy()`\n",
      "  weekly_data_frame.insert(column_index + 1, new_column_name, diff)\n",
      "/Users/rem76/Documents/COVID_projections/COVID_forecasting/Functions.py:360: PerformanceWarning: DataFrame is highly fragmented.  This is usually the result of calling `frame.insert` many times, which has poor performance.  Consider joining all columns at once using pd.concat(axis=1) instead. To get a de-fragmented frame, use `newframe = frame.copy()`\n",
      "  weekly_data_frame.insert(column_index + 1, new_column_name, diff)\n",
      "/Users/rem76/Documents/COVID_projections/COVID_forecasting/Functions.py:360: PerformanceWarning: DataFrame is highly fragmented.  This is usually the result of calling `frame.insert` many times, which has poor performance.  Consider joining all columns at once using pd.concat(axis=1) instead. To get a de-fragmented frame, use `newframe = frame.copy()`\n",
      "  weekly_data_frame.insert(column_index + 1, new_column_name, diff)\n",
      "/Users/rem76/Documents/COVID_projections/COVID_forecasting/Functions.py:360: PerformanceWarning: DataFrame is highly fragmented.  This is usually the result of calling `frame.insert` many times, which has poor performance.  Consider joining all columns at once using pd.concat(axis=1) instead. To get a de-fragmented frame, use `newframe = frame.copy()`\n",
      "  weekly_data_frame.insert(column_index + 1, new_column_name, diff)\n",
      "/Users/rem76/Documents/COVID_projections/COVID_forecasting/Functions.py:360: PerformanceWarning: DataFrame is highly fragmented.  This is usually the result of calling `frame.insert` many times, which has poor performance.  Consider joining all columns at once using pd.concat(axis=1) instead. To get a de-fragmented frame, use `newframe = frame.copy()`\n",
      "  weekly_data_frame.insert(column_index + 1, new_column_name, diff)\n",
      "/Users/rem76/Documents/COVID_projections/COVID_forecasting/Functions.py:360: PerformanceWarning: DataFrame is highly fragmented.  This is usually the result of calling `frame.insert` many times, which has poor performance.  Consider joining all columns at once using pd.concat(axis=1) instead. To get a de-fragmented frame, use `newframe = frame.copy()`\n",
      "  weekly_data_frame.insert(column_index + 1, new_column_name, diff)\n",
      "/Users/rem76/Documents/COVID_projections/COVID_forecasting/Functions.py:360: PerformanceWarning: DataFrame is highly fragmented.  This is usually the result of calling `frame.insert` many times, which has poor performance.  Consider joining all columns at once using pd.concat(axis=1) instead. To get a de-fragmented frame, use `newframe = frame.copy()`\n",
      "  weekly_data_frame.insert(column_index + 1, new_column_name, diff)\n",
      "/Users/rem76/Documents/COVID_projections/COVID_forecasting/Functions.py:360: PerformanceWarning: DataFrame is highly fragmented.  This is usually the result of calling `frame.insert` many times, which has poor performance.  Consider joining all columns at once using pd.concat(axis=1) instead. To get a de-fragmented frame, use `newframe = frame.copy()`\n",
      "  weekly_data_frame.insert(column_index + 1, new_column_name, diff)\n",
      "/Users/rem76/Documents/COVID_projections/COVID_forecasting/Functions.py:360: PerformanceWarning: DataFrame is highly fragmented.  This is usually the result of calling `frame.insert` many times, which has poor performance.  Consider joining all columns at once using pd.concat(axis=1) instead. To get a de-fragmented frame, use `newframe = frame.copy()`\n",
      "  weekly_data_frame.insert(column_index + 1, new_column_name, diff)\n",
      "/Users/rem76/Documents/COVID_projections/COVID_forecasting/Functions.py:360: PerformanceWarning: DataFrame is highly fragmented.  This is usually the result of calling `frame.insert` many times, which has poor performance.  Consider joining all columns at once using pd.concat(axis=1) instead. To get a de-fragmented frame, use `newframe = frame.copy()`\n",
      "  weekly_data_frame.insert(column_index + 1, new_column_name, diff)\n",
      "/Users/rem76/Documents/COVID_projections/COVID_forecasting/Functions.py:360: PerformanceWarning: DataFrame is highly fragmented.  This is usually the result of calling `frame.insert` many times, which has poor performance.  Consider joining all columns at once using pd.concat(axis=1) instead. To get a de-fragmented frame, use `newframe = frame.copy()`\n",
      "  weekly_data_frame.insert(column_index + 1, new_column_name, diff)\n",
      "/Users/rem76/Documents/COVID_projections/COVID_forecasting/Functions.py:360: PerformanceWarning: DataFrame is highly fragmented.  This is usually the result of calling `frame.insert` many times, which has poor performance.  Consider joining all columns at once using pd.concat(axis=1) instead. To get a de-fragmented frame, use `newframe = frame.copy()`\n",
      "  weekly_data_frame.insert(column_index + 1, new_column_name, diff)\n",
      "/Users/rem76/Documents/COVID_projections/COVID_forecasting/Functions.py:360: PerformanceWarning: DataFrame is highly fragmented.  This is usually the result of calling `frame.insert` many times, which has poor performance.  Consider joining all columns at once using pd.concat(axis=1) instead. To get a de-fragmented frame, use `newframe = frame.copy()`\n",
      "  weekly_data_frame.insert(column_index + 1, new_column_name, diff)\n",
      "/Users/rem76/Documents/COVID_projections/COVID_forecasting/Functions.py:360: PerformanceWarning: DataFrame is highly fragmented.  This is usually the result of calling `frame.insert` many times, which has poor performance.  Consider joining all columns at once using pd.concat(axis=1) instead. To get a de-fragmented frame, use `newframe = frame.copy()`\n",
      "  weekly_data_frame.insert(column_index + 1, new_column_name, diff)\n",
      "/Users/rem76/Documents/COVID_projections/COVID_forecasting/Functions.py:360: PerformanceWarning: DataFrame is highly fragmented.  This is usually the result of calling `frame.insert` many times, which has poor performance.  Consider joining all columns at once using pd.concat(axis=1) instead. To get a de-fragmented frame, use `newframe = frame.copy()`\n",
      "  weekly_data_frame.insert(column_index + 1, new_column_name, diff)\n",
      "/Users/rem76/Documents/COVID_projections/COVID_forecasting/Functions.py:360: PerformanceWarning: DataFrame is highly fragmented.  This is usually the result of calling `frame.insert` many times, which has poor performance.  Consider joining all columns at once using pd.concat(axis=1) instead. To get a de-fragmented frame, use `newframe = frame.copy()`\n",
      "  weekly_data_frame.insert(column_index + 1, new_column_name, diff)\n",
      "/Users/rem76/Documents/COVID_projections/COVID_forecasting/Functions.py:360: PerformanceWarning: DataFrame is highly fragmented.  This is usually the result of calling `frame.insert` many times, which has poor performance.  Consider joining all columns at once using pd.concat(axis=1) instead. To get a de-fragmented frame, use `newframe = frame.copy()`\n",
      "  weekly_data_frame.insert(column_index + 1, new_column_name, diff)\n",
      "/Users/rem76/Documents/COVID_projections/COVID_forecasting/Functions.py:360: PerformanceWarning: DataFrame is highly fragmented.  This is usually the result of calling `frame.insert` many times, which has poor performance.  Consider joining all columns at once using pd.concat(axis=1) instead. To get a de-fragmented frame, use `newframe = frame.copy()`\n",
      "  weekly_data_frame.insert(column_index + 1, new_column_name, diff)\n",
      "/Users/rem76/Documents/COVID_projections/COVID_forecasting/Functions.py:360: PerformanceWarning: DataFrame is highly fragmented.  This is usually the result of calling `frame.insert` many times, which has poor performance.  Consider joining all columns at once using pd.concat(axis=1) instead. To get a de-fragmented frame, use `newframe = frame.copy()`\n",
      "  weekly_data_frame.insert(column_index + 1, new_column_name, diff)\n",
      "/Users/rem76/Documents/COVID_projections/COVID_forecasting/Functions.py:360: PerformanceWarning: DataFrame is highly fragmented.  This is usually the result of calling `frame.insert` many times, which has poor performance.  Consider joining all columns at once using pd.concat(axis=1) instead. To get a de-fragmented frame, use `newframe = frame.copy()`\n",
      "  weekly_data_frame.insert(column_index + 1, new_column_name, diff)\n",
      "/Users/rem76/Documents/COVID_projections/COVID_forecasting/Functions.py:360: PerformanceWarning: DataFrame is highly fragmented.  This is usually the result of calling `frame.insert` many times, which has poor performance.  Consider joining all columns at once using pd.concat(axis=1) instead. To get a de-fragmented frame, use `newframe = frame.copy()`\n",
      "  weekly_data_frame.insert(column_index + 1, new_column_name, diff)\n",
      "/Users/rem76/Documents/COVID_projections/COVID_forecasting/Functions.py:360: PerformanceWarning: DataFrame is highly fragmented.  This is usually the result of calling `frame.insert` many times, which has poor performance.  Consider joining all columns at once using pd.concat(axis=1) instead. To get a de-fragmented frame, use `newframe = frame.copy()`\n",
      "  weekly_data_frame.insert(column_index + 1, new_column_name, diff)\n",
      "/Users/rem76/Documents/COVID_projections/COVID_forecasting/Functions.py:360: PerformanceWarning: DataFrame is highly fragmented.  This is usually the result of calling `frame.insert` many times, which has poor performance.  Consider joining all columns at once using pd.concat(axis=1) instead. To get a de-fragmented frame, use `newframe = frame.copy()`\n",
      "  weekly_data_frame.insert(column_index + 1, new_column_name, diff)\n",
      "/Users/rem76/Documents/COVID_projections/COVID_forecasting/Functions.py:360: PerformanceWarning: DataFrame is highly fragmented.  This is usually the result of calling `frame.insert` many times, which has poor performance.  Consider joining all columns at once using pd.concat(axis=1) instead. To get a de-fragmented frame, use `newframe = frame.copy()`\n",
      "  weekly_data_frame.insert(column_index + 1, new_column_name, diff)\n",
      "/Users/rem76/Documents/COVID_projections/COVID_forecasting/Functions.py:360: PerformanceWarning: DataFrame is highly fragmented.  This is usually the result of calling `frame.insert` many times, which has poor performance.  Consider joining all columns at once using pd.concat(axis=1) instead. To get a de-fragmented frame, use `newframe = frame.copy()`\n",
      "  weekly_data_frame.insert(column_index + 1, new_column_name, diff)\n",
      "/Users/rem76/Documents/COVID_projections/COVID_forecasting/Functions.py:360: PerformanceWarning: DataFrame is highly fragmented.  This is usually the result of calling `frame.insert` many times, which has poor performance.  Consider joining all columns at once using pd.concat(axis=1) instead. To get a de-fragmented frame, use `newframe = frame.copy()`\n",
      "  weekly_data_frame.insert(column_index + 1, new_column_name, diff)\n"
     ]
    }
   ],
   "source": [
    "for i, week in enumerate(data_by_HSA_CDC_dates['date'].unique()):\n",
    "    data_by_HSA_CDC_dates.loc[data_by_HSA_CDC_dates['date'] == week, 'week'] = i\n",
    "\n",
    "## pivot \n",
    "data_by_HSA_CDC_dates_cases = pivot_data_by_HSA(data_by_HSA_CDC_dates, 'week', 'HSA_ID', 'cases_weekly')\n",
    "data_by_HSA_CDC_dates_deaths = pivot_data_by_HSA(data_by_HSA_CDC_dates, 'week', 'HSA_ID', 'deaths_weekly')\n",
    "data_by_HSA_CDC_dates_admissions = pivot_data_by_HSA(data_by_HSA_CDC_dates, 'week', 'HSA_ID', 'admits_weekly')\n",
    "data_by_HSA_CDC_dates_icu = pivot_data_by_HSA(data_by_HSA_CDC_dates, 'week', 'HSA_ID', 'icu_weekly')\n",
    "data_by_HSA_CDC_dates_beds = pivot_data_by_HSA(data_by_HSA_CDC_dates, 'week', 'HSA_ID', 'beds_weekly')\n",
    "data_by_HSA_CDC_dates_percent_beds = pivot_data_by_HSA(data_by_HSA_CDC_dates, 'week', 'HSA_ID', 'perc_covid')\n",
    "data_by_HSA_CDC_dates_over_15_100k = pivot_data_by_HSA(data_by_HSA_CDC_dates, 'week', 'HSA_ID', 'beds_over_15_100k')\n",
    "\n",
    "## merge \n",
    "data_by_HSA_CDC_dates_cases_deaths = merge_and_rename_data(data_by_HSA_CDC_dates_cases, data_by_HSA_CDC_dates_deaths,'week','cases', 'deaths')\n",
    "data_by_HSA_CDC_dates_admits_icu_weekly = merge_and_rename_data(data_by_HSA_CDC_dates_admissions, data_by_HSA_CDC_dates_icu,'week','admits', 'icu')\n",
    "data_by_HSA_CDC_dates_beds_perc_weekly = merge_and_rename_data(data_by_HSA_CDC_dates_beds, data_by_HSA_CDC_dates_percent_beds,'week','beds', 'perc_covid')\n",
    "data_by_HSA_CDC_dates_cases_deaths_admits_icu = pd.merge(data_by_HSA_CDC_dates_cases_deaths, data_by_HSA_CDC_dates_admits_icu_weekly, on='week')\n",
    "data_by_HSA_CDC_dates_cases_deaths_admits_icu_beds = pd.merge(data_by_HSA_CDC_dates_cases_deaths_admits_icu, data_by_HSA_CDC_dates_beds_perc_weekly, on='week')\n",
    "\n",
    "## add outcome variable \n",
    "old_column_names = data_by_HSA_CDC_dates_over_15_100k.columns\n",
    "new_column_names = [str(col) + '_beds_over_15_100k' for col in old_column_names]\n",
    "new_column_names = dict(zip(old_column_names, new_column_names))\n",
    "data_by_HSA_CDC_dates_over_15_100k.rename(columns=new_column_names, inplace=True)\n",
    "data_by_HSA_CDC_dates_cases_deaths_admits_icu_beds = pd.merge(data_by_HSA_CDC_dates_cases_deaths_admits_icu_beds, data_by_HSA_CDC_dates_over_15_100k, on='week')\n",
    "\n",
    "data_by_HSA_CDC_dates_cases_deaths_admits_icu_beds = data_by_HSA_CDC_dates_cases_deaths_admits_icu_beds.reset_index()\n",
    "data_by_HSA_CDC_dates_cases_deaths_admits_icu_beds.columns = data_by_HSA_CDC_dates_cases_deaths_admits_icu_beds.columns.str.replace(',', '')\n",
    "\n",
    "categories_for_subsetting = ['cases', 'deaths', 'admits', 'icu', 'beds', 'perc_covid', 'beds_over_15_100k']\n",
    "num_of_weeks = len(data_by_HSA_CDC_dates_cases_deaths_admits_icu_beds)\n",
    "column_names = create_column_names(categories_for_subsetting, num_of_weeks)\n",
    "\n",
    "all_HSA_ID_weekly_data = create_collated_weekly_data(data_by_HSA_CDC_dates_cases_deaths_admits_icu_beds, data_by_HSA_CDC_dates, categories_for_subsetting, 'HSA_ID', column_names)\n",
    "\n",
    "all_HSA_ID_weekly_data = add_changes_by_week(all_HSA_ID_weekly_data, \"beds_over_15_100k\")\n",
    "\n",
    "weights_df = data_by_HSA[data_by_HSA['HSA_ID'].isin(all_HSA_ID_weekly_data['HSA_ID'])][['HSA_ID','weight_alt']]\n",
    "weights_df = weights_df.rename(columns={'HSA_ID': 'HSA_ID', 'weight_alt':'weight'})\n",
    "weights_df = weights_df.drop_duplicates()\n",
    "weights_df['weight'].unique()\n",
    "all_HSA_ID_weekly_data_full = all_HSA_ID_weekly_data.join(weights_df['weight'])\n"
   ]
  },
  {
   "cell_type": "code",
   "execution_count": 109,
   "metadata": {},
   "outputs": [],
   "source": [
    "X_train_full, y_train_full, weights_full, missing_data_train_HSA = prep_training_test_data(all_HSA_ID_weekly_data_full,   no_weeks = range(1, int(num_of_weeks*2/3) + 1), weeks_in_future = 3,  geography = 'HSA_ID', weight_col = 'weight', keep_output = True)\n",
    "\n",
    "X_test_full, y_test_full, weights_test, missing_data_test_HSA = prep_training_test_data(all_HSA_ID_weekly_data_full,   no_weeks = range(int(num_of_weeks*2/3) + 1, num_of_weeks-2), weeks_in_future = 3,  geography = 'HSA_ID',  weight_col = 'weight', keep_output = True)\n",
    "weights = weights[0]"
   ]
  },
  {
   "cell_type": "code",
   "execution_count": 82,
   "metadata": {},
   "outputs": [
    {
     "name": "stdout",
     "output_type": "stream",
     "text": [
      "MCC: 0.6936034547948764\n",
      "Accuracy: 0.832482911331472\n",
      "auROC: 0.9090565419479378\n",
      "[[ 526  118]\n",
      " [1622 8121]]\n"
     ]
    }
   ],
   "source": [
    "# Create the Decision Tree classifier\n",
    "cv = RepeatedStratifiedKFold(n_splits=10,  n_repeats=10,random_state=1) ## 10-fold cross validations\n",
    "\n",
    "clf = DecisionTreeClassifier(random_state=10, class_weight='balanced')\n",
    "\n",
    "# Perform Randomized Search with 10-fold cross-validation\n",
    "\n",
    "best_params = cross_validation_leave_geo_out(all_HSA_ID_weekly_data, geography_column = geography_column, geo_split = geo_split, no_iterations = no_iterations, cv = cv, classifier = clf, param_grid = param_grid, no_iterations_param = no_iterations_param, no_weeks_train = no_weeks_train,no_weeks_test = no_weeks_test, weeks_in_future = weeks_in_future, weight_col = weight_col, keep_output = keep_output, time_period = time_period)\n",
    "# Create the Decision Tree classifier with the best hyperparameters\n",
    "clf = DecisionTreeClassifier(**best_params, random_state=10, class_weight='balanced')\n",
    "\n",
    "# Train the decision tree classifier\n",
    "clf.fit(X_train_full, y_train_full[0],  sample_weight = weights)\n",
    "\n",
    "# Make predictions on the test set\n",
    "y_pred = clf.predict(X_test_full)\n",
    "y_pred_proba = clf.predict_proba(X_test_full)\n",
    "\n",
    "# Evaluate the accuracy of the model\n",
    "accuracy = accuracy_score(y_test_full, y_pred)\n",
    "ROC = roc_auc_score(y_test[_full0], y_pred_proba[:,1])\n",
    "MCC = (matthews_corrcoef(y_test_full, y_pred) + 1)/2\n",
    "\n",
    "print(\"MCC:\", MCC)\n",
    "print(\"Accuracy:\", accuracy)\n",
    "print(\"auROC:\", ROC)\n",
    "MCC = (matthews_corrcoef(y_test, y_pred) + 1)/2\n",
    "\n",
    "print(confusion_matrix(y_test, y_pred))"
   ]
  },
  {
   "cell_type": "code",
   "execution_count": 85,
   "metadata": {},
   "outputs": [],
   "source": [
    "model_name = f\"CDC_classifier_auroc_{ROC:.4f}_CDC_period_full.sav\"\n",
    "pickle.dump(clf, open(model_name, 'wb'))"
   ]
  },
  {
   "cell_type": "code",
   "execution_count": 110,
   "metadata": {},
   "outputs": [],
   "source": [
    "full_model = pickle.load(open('/Users/rem76/Documents/COVID_projections/COVID_forecasting/Best_models_123_classifier/CDC_classifier_auroc_0.7975_CDC_period_B.sav', 'rb'))\n",
    "# Train the decision tree classifier\n",
    "full_model.fit(X_train_full, y_train_full[0],  sample_weight = weights)\n",
    "\n",
    "# Make predictions on the test set\n",
    "y_pred = full_model.predict(X_test_full)\n",
    "y_pred_proba_full = full_model.predict_proba(X_test_full)\n"
   ]
  },
  {
   "attachments": {},
   "cell_type": "markdown",
   "metadata": {},
   "source": [
    "# Net Benefit for CDC Classifier"
   ]
  },
  {
   "cell_type": "code",
   "execution_count": 67,
   "metadata": {},
   "outputs": [],
   "source": [
    "def find_net_benefit(y_probabilities, y_true, omega_sequences):   \n",
    "    net_benefit_by_omega = {}\n",
    "    for omega in omega_sequences:\n",
    "        p = omega/(1 + omega)        \n",
    "        y_predict_test = np.where(y_probabilities[:, 1] > p, 1, 0)\n",
    "\n",
    "        tn, fp, fn, tp = confusion_matrix(y_true=y_true, y_pred=y_predict_test).ravel()\n",
    "\n",
    "\n",
    "        net_benefit = tp/(len(y_true)) - (fp/(len(y_true)) * omega)\n",
    "\n",
    "        net_benefit_by_omega[omega] =  net_benefit\n",
    "    return net_benefit_by_omega\n",
    "\n",
    "def get_heatmap_data_for_omega_optimal_threshold(NB_data, weeks_to_predict):\n",
    "        heatmap_data_omega = pd.DataFrame()\n",
    "        \n",
    "        for week in range(1, weeks_to_predict[-1]):\n",
    "                weekly_data = NB_data[week].values()\n",
    "                #weekly_data = list(reversed(weekly_data))\n",
    "                heatmap_data_omega[week] = weekly_data\n",
    "        return heatmap_data_omega\n",
    "def calculate_gain_data(net_benefit_naive, net_benefit_full, threshold_sequences, weeks_to_predict):\n",
    "    # Get heatmap data for the naive and full periods\n",
    "    heatmap_data_naive = get_heatmap_data_for_omega_optimal_threshold(net_benefit_naive, weeks_to_predict)\n",
    "    heatmap_data_full = get_heatmap_data_for_omega_optimal_threshold(net_benefit_full, weeks_to_predict)\n",
    "    \n",
    "    # Calculate gain data\n",
    "    gain_data = heatmap_data_full.subtract(heatmap_data_naive)\n",
    "    \n",
    "    # Add the threshold sequences as an index\n",
    "    gain_data['threshold_sequences'] = threshold_sequences\n",
    "    gain_data.set_index('threshold_sequences', inplace=True)\n",
    "    \n",
    "    return gain_data\n",
    "\n",
    "def find_net_benefit_min_negatives(y_probabilities, y_true, omega_sequences):   \n",
    "    net_benefit_by_omega = {}\n",
    "    for omega in omega_sequences:\n",
    "        p = 1/(1 + omega)        \n",
    "        y_predict_test = np.where(y_probabilities[:, 1] > p, 1, 0)\n",
    "\n",
    "        tn, fp, fn, tp = confusion_matrix(y_true=y_true, y_pred=y_predict_test).ravel()\n",
    "\n",
    "\n",
    "        net_benefit = tn/(len(y_true)) - (fn/(len(y_true)) * omega)\n",
    "\n",
    "        net_benefit_by_omega[omega] =  net_benefit\n",
    "    return net_benefit_by_omega"
   ]
  },
  {
   "cell_type": "code",
   "execution_count": 112,
   "metadata": {},
   "outputs": [
    {
     "name": "stdout",
     "output_type": "stream",
     "text": [
      "{0: 0.938076923076923, 1: 0.8380769230769232, 2: 0.7023076923076923, 3: 0.6804807692307693, 4: 0.6586538461538461, 5: 0.636826923076923, 6: 0.615, 7: 0.593173076923077, 8: 0.0, 9: 0.0}\n",
      "{0: 0.938076923076923, 1: 0.87, 2: 0.8376923076923076, 3: 0.0, 4: 0.0, 5: 0.0, 6: 0.0, 7: 0.0, 8: 0.0, 9: 0.0}\n",
      "{0: 0.938076923076923, 1: 0.87, 2: 0.7242307692307692, 3: 0.7068269230769231, 4: 0.6894230769230769, 5: 0.6720192307692308, 6: 0.6546153846153846, 7: 0.0, 8: 0.0, 9: 0.0}\n",
      "{0: 0.9379994223548667, 1: 0.7353422547415037, 2: 0.7288918840858766, 3: 0.7224415134302493, 4: 0.7159911427746221, 5: 0.7095407721189948, 6: 0.7030904014633677, 7: 0.6966400308077404, 8: 0.6901896601521131, 9: 0.0}\n"
     ]
    }
   ],
   "source": [
    "omega_sequences = range(0, 10, 1)\n",
    "NB_positives_Classifier_A = find_net_benefit(y_pred_proba_Classifier_A, y_test, omega_sequences)\n",
    "print(NB_positives_Classifier_A)\n",
    "NB_negatives_Classifier_A = find_net_benefit_min_negatives(y_pred_proba_Classifier_A, y_test, omega_sequences)\n",
    "\n",
    "NB_positives_naive = find_net_benefit(y_pred_proba_naive, y_test, omega_sequences)\n",
    "NB_negatives_naive = find_net_benefit_min_negatives(y_pred_proba_naive, y_test, omega_sequences)\n",
    "print(NB_positives_naive)\n",
    "\n",
    "NB_positives_Classifier_B = find_net_benefit(y_pred_proba_Classifier_B, y_test, omega_sequences)\n",
    "NB_negatives_Classifier_B = find_net_benefit_min_negatives(y_pred_proba_Classifier_B, y_test, omega_sequences)\n",
    "print(NB_positives_Classifier_B)\n",
    "\n",
    "NB_positives_full = find_net_benefit(y_pred_proba_full, y_test_full, omega_sequences)\n",
    "NB_negatives_full = find_net_benefit_min_negatives(y_pred_proba_full, y_test_full, omega_sequences)\n",
    "print(NB_positives_full)\n",
    "\n",
    "\n",
    "\n"
   ]
  },
  {
   "cell_type": "code",
   "execution_count": null,
   "metadata": {},
   "outputs": [],
   "source": []
  }
 ],
 "metadata": {
  "kernelspec": {
   "display_name": "COVID_forecasting",
   "language": "python",
   "name": "python3"
  },
  "language_info": {
   "codemirror_mode": {
    "name": "ipython",
    "version": 3
   },
   "file_extension": ".py",
   "mimetype": "text/x-python",
   "name": "python",
   "nbconvert_exporter": "python",
   "pygments_lexer": "ipython3",
   "version": "3.11.3"
  },
  "orig_nbformat": 4,
  "vscode": {
   "interpreter": {
    "hash": "a72d884e172d11118bfdfb578e108fb6b63a679c74d3d7d2f9d493a9a72737c0"
   }
  }
 },
 "nbformat": 4,
 "nbformat_minor": 2
}
